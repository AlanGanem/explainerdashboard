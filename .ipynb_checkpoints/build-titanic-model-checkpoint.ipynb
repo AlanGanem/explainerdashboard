{
 "cells": [
  {
   "cell_type": "markdown",
   "metadata": {},
   "source": [
    "# Imports"
   ]
  },
  {
   "cell_type": "code",
   "execution_count": 10,
   "metadata": {
    "ExecuteTime": {
     "end_time": "2019-11-06T08:26:27.821494Z",
     "start_time": "2019-11-06T08:26:21.278069Z"
    }
   },
   "outputs": [
    {
     "name": "stdout",
     "output_type": "stream",
     "text": [
      "The autoreload extension is already loaded. To reload it, use:\n",
      "  %reload_ext autoreload\n"
     ]
    }
   ],
   "source": [
    "%load_ext autoreload\n",
    "%autoreload 0"
   ]
  },
  {
   "cell_type": "code",
   "execution_count": 2,
   "metadata": {
    "ExecuteTime": {
     "end_time": "2019-11-06T08:19:37.485064Z",
     "start_time": "2019-11-06T08:19:37.480063Z"
    }
   },
   "outputs": [],
   "source": [
    "from IPython.core.interactiveshell import InteractiveShell\n",
    "InteractiveShell.ast_node_interactivity = \"all\""
   ]
  },
  {
   "cell_type": "code",
   "execution_count": 3,
   "metadata": {
    "ExecuteTime": {
     "end_time": "2019-11-06T08:19:54.322153Z",
     "start_time": "2019-11-06T08:19:37.487065Z"
    }
   },
   "outputs": [],
   "source": [
    "import pandas as pd\n",
    "from sklearn.ensemble import RandomForestClassifier, RandomForestRegressor\n",
    "from xgboost import XGBClassifier\n",
    "from sklearn.metrics import roc_auc_score, r2_score"
   ]
  },
  {
   "cell_type": "code",
   "execution_count": 4,
   "metadata": {
    "ExecuteTime": {
     "end_time": "2019-11-06T08:20:11.640265Z",
     "start_time": "2019-11-06T08:19:54.328150Z"
    }
   },
   "outputs": [],
   "source": [
    "from explainerdashboard.explainers import *\n",
    "from explainerdashboard.dashboard import *\n"
   ]
  },
  {
   "cell_type": "code",
   "execution_count": 9,
   "metadata": {
    "ExecuteTime": {
     "end_time": "2019-11-06T08:26:21.276155Z",
     "start_time": "2019-11-06T08:26:14.372625Z"
    }
   },
   "outputs": [],
   "source": [
    "from explainerdashboard.datasets import *"
   ]
  },
  {
   "cell_type": "markdown",
   "metadata": {},
   "source": [
    "# RandomForestRegressor"
   ]
  },
  {
   "cell_type": "code",
   "execution_count": 11,
   "metadata": {
    "ExecuteTime": {
     "end_time": "2019-11-06T08:30:57.626872Z",
     "start_time": "2019-11-06T08:26:27.823491Z"
    }
   },
   "outputs": [
    {
     "data": {
      "text/plain": [
       "RandomForestRegressor(bootstrap=True, criterion='mse', max_depth=5,\n",
       "                      max_features='auto', max_leaf_nodes=None,\n",
       "                      min_impurity_decrease=0.0, min_impurity_split=None,\n",
       "                      min_samples_leaf=1, min_samples_split=2,\n",
       "                      min_weight_fraction_leaf=0.0, n_estimators=50,\n",
       "                      n_jobs=None, oob_score=False, random_state=None,\n",
       "                      verbose=0, warm_start=False)"
      ]
     },
     "execution_count": 11,
     "metadata": {},
     "output_type": "execute_result"
    },
    {
     "name": "stdout",
     "output_type": "stream",
     "text": [
      "Calculating shap values...\n",
      "Generating shap TreeExplainer...\n",
      "Calculating predictions...\n",
      "Calculating shap values...\n",
      "Calculating importances...\n",
      "Running Model Explainer on http://localhost:8051\n",
      " * Serving Flask app \"explainerdashboard.dashboards\" (lazy loading)\n",
      " * Environment: production\n",
      "   WARNING: Do not use the development server in a production environment.\n",
      "   Use a production WSGI server instead.\n",
      " * Debug mode: off\n"
     ]
    },
    {
     "name": "stderr",
     "output_type": "stream",
     "text": [
      " * Running on http://127.0.0.1:8051/ (Press CTRL+C to quit)\n",
      "127.0.0.1 - - [06/Nov/2019 09:26:31] \"GET / HTTP/1.1\" 200 -\n",
      "127.0.0.1 - - [06/Nov/2019 09:26:32] \"GET /assets/bootstrap.css?m=1570631369.3376923 HTTP/1.1\" 200 -\n",
      "127.0.0.1 - - [06/Nov/2019 09:26:32] \"GET /assets/stylesheet.css?m=1570631369.7917376 HTTP/1.1\" 200 -\n",
      "127.0.0.1 - - [06/Nov/2019 09:26:32] \"GET /_dash-component-suites/dash_renderer/react@16.v1_2_0m1572872601.8.6.min.js HTTP/1.1\" 200 -\n",
      "127.0.0.1 - - [06/Nov/2019 09:26:32] \"GET /_dash-component-suites/dash_renderer/react-dom@16.v1_2_0m1572872601.8.6.min.js HTTP/1.1\" 200 -\n",
      "127.0.0.1 - - [06/Nov/2019 09:26:32] \"GET /_dash-component-suites/dash_renderer/prop-types@15.v1_2_0m1572872601.7.2.min.js HTTP/1.1\" 200 -\n",
      "127.0.0.1 - - [06/Nov/2019 09:26:32] \"GET /_dash-component-suites/dash_core_components/highlight.v1_4_0m1572872618.pack.js HTTP/1.1\" 200 -\n",
      "127.0.0.1 - - [06/Nov/2019 09:26:33] \"GET /_dash-component-suites/dash_core_components/dash_core_components.v1_4_0m1572872618.min.js HTTP/1.1\" 200 -\n",
      "127.0.0.1 - - [06/Nov/2019 09:26:33] \"GET /_dash-component-suites/dash_bootstrap_components/_components/dash_bootstrap_components.v0_4_0m1555408131.min.js HTTP/1.1\" 200 -\n",
      "127.0.0.1 - - [06/Nov/2019 09:26:33] \"GET /_dash-component-suites/dash_table/bundle.v4_5_0m1572872657.js HTTP/1.1\" 200 -\n",
      "127.0.0.1 - - [06/Nov/2019 09:26:33] \"GET /_dash-component-suites/dash_html_components/dash_html_components.v1_0_1m1572872639.min.js HTTP/1.1\" 200 -\n",
      "127.0.0.1 - - [06/Nov/2019 09:26:34] \"GET /_dash-component-suites/dash_daq/bundle.v0_1_7m1564144129.js HTTP/1.1\" 200 -\n",
      "127.0.0.1 - - [06/Nov/2019 09:26:34] \"GET /_dash-component-suites/dash_renderer/dash_renderer.v1_2_0m1572872601.min.js HTTP/1.1\" 200 -\n",
      "127.0.0.1 - - [06/Nov/2019 09:26:34] \"GET /assets/dash_bootstrap_components.min.js?m=1570631369.3716955 HTTP/1.1\" 200 -\n",
      "127.0.0.1 - - [06/Nov/2019 09:26:34] \"GET /_dash-layout HTTP/1.1\" 200 -\n",
      "127.0.0.1 - - [06/Nov/2019 09:26:34] \"GET /_dash-dependencies HTTP/1.1\" 200 -\n",
      "127.0.0.1 - - [06/Nov/2019 09:26:34] \"GET /_favicon.ico?v=1.5.1 HTTP/1.1\" 200 -\n",
      "127.0.0.1 - - [06/Nov/2019 09:26:35] \"GET /_dash-component-suites/dash_core_components/async~plotlyjs.v1_4_0m1572364822.js HTTP/1.1\" 200 -\n",
      "127.0.0.1 - - [06/Nov/2019 09:26:35] \"GET /_dash-component-suites/dash_core_components/async~graph.v1_4_0m1572364822.js HTTP/1.1\" 200 -\n",
      "127.0.0.1 - - [06/Nov/2019 09:26:48] \"GET /_dash-component-suites/dash_table/async~table.v4_5_0m1572365765.js HTTP/1.1\" 200 -\n",
      "127.0.0.1 - - [06/Nov/2019 09:26:48] \"POST /_dash-update-component HTTP/1.1\" 200 -\n",
      "127.0.0.1 - - [06/Nov/2019 09:26:49] \"POST /_dash-update-component HTTP/1.1\" 204 -\n",
      "127.0.0.1 - - [06/Nov/2019 09:26:49] \"POST /_dash-update-component HTTP/1.1\" 204 -\n",
      "127.0.0.1 - - [06/Nov/2019 09:26:49] \"POST /_dash-update-component HTTP/1.1\" 200 -\n",
      "127.0.0.1 - - [06/Nov/2019 09:26:49] \"POST /_dash-update-component HTTP/1.1\" 204 -\n",
      "127.0.0.1 - - [06/Nov/2019 09:26:49] \"POST /_dash-update-component HTTP/1.1\" 200 -\n",
      "127.0.0.1 - - [06/Nov/2019 09:26:49] \"POST /_dash-update-component HTTP/1.1\" 200 -\n",
      "127.0.0.1 - - [06/Nov/2019 09:26:52] \"POST /_dash-update-component HTTP/1.1\" 200 -\n",
      "127.0.0.1 - - [06/Nov/2019 09:26:52] \"POST /_dash-update-component HTTP/1.1\" 200 -\n",
      "127.0.0.1 - - [06/Nov/2019 09:26:52] \"POST /_dash-update-component HTTP/1.1\" 200 -\n",
      "127.0.0.1 - - [06/Nov/2019 09:26:52] \"POST /_dash-update-component HTTP/1.1\" 200 -\n",
      "127.0.0.1 - - [06/Nov/2019 09:26:55] \"POST /_dash-update-component HTTP/1.1\" 200 -\n",
      "127.0.0.1 - - [06/Nov/2019 09:26:55] \"POST /_dash-update-component HTTP/1.1\" 200 -\n",
      "127.0.0.1 - - [06/Nov/2019 09:27:09] \"POST /_dash-update-component HTTP/1.1\" 200 -\n",
      "127.0.0.1 - - [06/Nov/2019 09:27:10] \"POST /_dash-update-component HTTP/1.1\" 200 -\n",
      "127.0.0.1 - - [06/Nov/2019 09:27:11] \"POST /_dash-update-component HTTP/1.1\" 200 -\n",
      "127.0.0.1 - - [06/Nov/2019 09:27:11] \"POST /_dash-update-component HTTP/1.1\" 200 -\n",
      "127.0.0.1 - - [06/Nov/2019 09:27:11] \"POST /_dash-update-component HTTP/1.1\" 204 -\n",
      "127.0.0.1 - - [06/Nov/2019 09:27:11] \"POST /_dash-update-component HTTP/1.1\" 200 -\n",
      "127.0.0.1 - - [06/Nov/2019 09:27:15] \"POST /_dash-update-component HTTP/1.1\" 200 -\n",
      "127.0.0.1 - - [06/Nov/2019 09:27:16] \"POST /_dash-update-component HTTP/1.1\" 204 -\n",
      "127.0.0.1 - - [06/Nov/2019 09:27:16] \"POST /_dash-update-component HTTP/1.1\" 200 -\n"
     ]
    },
    {
     "name": "stdout",
     "output_type": "stream",
     "text": [
      "Generating shadow trees...\n"
     ]
    },
    {
     "name": "stderr",
     "output_type": "stream",
     "text": [
      "127.0.0.1 - - [06/Nov/2019 09:30:11] \"POST /_dash-update-component HTTP/1.1\" 200 -\n",
      "127.0.0.1 - - [06/Nov/2019 09:30:21] \"POST /_dash-update-component HTTP/1.1\" 200 -\n",
      "127.0.0.1 - - [06/Nov/2019 09:30:21] \"POST /_dash-update-component HTTP/1.1\" 200 -\n",
      "127.0.0.1 - - [06/Nov/2019 09:30:21] \"POST /_dash-update-component HTTP/1.1\" 200 -\n",
      "127.0.0.1 - - [06/Nov/2019 09:30:40] \"POST /_dash-update-component HTTP/1.1\" 200 -\n",
      "127.0.0.1 - - [06/Nov/2019 09:30:41] \"POST /_dash-update-component HTTP/1.1\" 200 -\n",
      "127.0.0.1 - - [06/Nov/2019 09:30:43] \"POST /_dash-update-component HTTP/1.1\" 200 -\n",
      "127.0.0.1 - - [06/Nov/2019 09:30:44] \"POST /_dash-update-component HTTP/1.1\" 200 -\n",
      "127.0.0.1 - - [06/Nov/2019 09:30:45] \"POST /_dash-update-component HTTP/1.1\" 200 -\n",
      "127.0.0.1 - - [06/Nov/2019 09:30:46] \"POST /_dash-update-component HTTP/1.1\" 200 -\n",
      "127.0.0.1 - - [06/Nov/2019 09:30:47] \"POST /_dash-update-component HTTP/1.1\" 200 -\n",
      "127.0.0.1 - - [06/Nov/2019 09:30:47] \"POST /_dash-update-component HTTP/1.1\" 200 -\n",
      "127.0.0.1 - - [06/Nov/2019 09:30:49] \"POST /_dash-update-component HTTP/1.1\" 200 -\n"
     ]
    }
   ],
   "source": [
    "X_train, y_train, X_test, y_test = titanic_fare()\n",
    "train_names, test_names = titanic_names()\n",
    "\n",
    "model = RandomForestRegressor(n_estimators=50, max_depth=5)\n",
    "model.fit(X_train, y_train)\n",
    "\n",
    "explainer = RandomForestBunch(model, X_test, y_test, r2_score, \n",
    "                               cats=['Sex', 'Deck', 'Embarked'],\n",
    "                               idxs=test_names)\n",
    "\n",
    "db = RandomForestDashboard(explainer,\n",
    "                        model_summary=True,\n",
    "                        contributions=True,\n",
    "                        shap_dependence=True,\n",
    "                        shap_interaction=False,\n",
    "                        shadow_trees=True)\n",
    "db.run(8051)"
   ]
  },
  {
   "cell_type": "markdown",
   "metadata": {},
   "source": [
    "# RandomForestClassifier:"
   ]
  },
  {
   "cell_type": "code",
   "execution_count": 12,
   "metadata": {
    "ExecuteTime": {
     "end_time": "2019-11-06T08:31:35.853789Z",
     "start_time": "2019-11-06T08:31:35.727766Z"
    }
   },
   "outputs": [
    {
     "ename": "NameError",
     "evalue": "name 'titanic_survived' is not defined",
     "output_type": "error",
     "traceback": [
      "\u001b[1;31m---------------------------------------------------------------------------\u001b[0m",
      "\u001b[1;31mNameError\u001b[0m                                 Traceback (most recent call last)",
      "\u001b[1;32m<ipython-input-12-e119a315e2cd>\u001b[0m in \u001b[0;36m<module>\u001b[1;34m\u001b[0m\n\u001b[1;32m----> 1\u001b[1;33m \u001b[0mX_train\u001b[0m\u001b[1;33m,\u001b[0m \u001b[0my_train\u001b[0m\u001b[1;33m,\u001b[0m \u001b[0mX_test\u001b[0m\u001b[1;33m,\u001b[0m \u001b[0my_test\u001b[0m \u001b[1;33m=\u001b[0m \u001b[0mtitanic_survived\u001b[0m\u001b[1;33m(\u001b[0m\u001b[1;33m)\u001b[0m\u001b[1;33m\u001b[0m\u001b[1;33m\u001b[0m\u001b[0m\n\u001b[0m\u001b[0;32m      2\u001b[0m \u001b[0mtrain_names\u001b[0m\u001b[1;33m,\u001b[0m \u001b[0mtest_names\u001b[0m \u001b[1;33m=\u001b[0m \u001b[0mtitanic_names\u001b[0m\u001b[1;33m(\u001b[0m\u001b[1;33m)\u001b[0m\u001b[1;33m\u001b[0m\u001b[1;33m\u001b[0m\u001b[0m\n\u001b[0;32m      3\u001b[0m \u001b[1;33m\u001b[0m\u001b[0m\n\u001b[0;32m      4\u001b[0m \u001b[0mmodel\u001b[0m \u001b[1;33m=\u001b[0m \u001b[0mRandomForestClassifier\u001b[0m\u001b[1;33m(\u001b[0m\u001b[0mn_estimators\u001b[0m\u001b[1;33m=\u001b[0m\u001b[1;36m50\u001b[0m\u001b[1;33m,\u001b[0m \u001b[0mmax_depth\u001b[0m\u001b[1;33m=\u001b[0m\u001b[1;36m5\u001b[0m\u001b[1;33m)\u001b[0m\u001b[1;33m\u001b[0m\u001b[1;33m\u001b[0m\u001b[0m\n\u001b[0;32m      5\u001b[0m \u001b[0mmodel\u001b[0m\u001b[1;33m.\u001b[0m\u001b[0mfit\u001b[0m\u001b[1;33m(\u001b[0m\u001b[0mX_train\u001b[0m\u001b[1;33m,\u001b[0m \u001b[0my_train\u001b[0m\u001b[1;33m)\u001b[0m\u001b[1;33m\u001b[0m\u001b[1;33m\u001b[0m\u001b[0m\n",
      "\u001b[1;31mNameError\u001b[0m: name 'titanic_survived' is not defined"
     ]
    }
   ],
   "source": [
    "X_train, y_train, X_test, y_test = titanic_survive()\n",
    "train_names, test_names = titanic_names()\n",
    "\n",
    "model = RandomForestClassifier(n_estimators=50, max_depth=5)\n",
    "model.fit(X_train, y_train)\n",
    "\n",
    "\n",
    "explainer = RandomForestClassifierBunch(model, X_test, y_test, roc_auc_score, \n",
    "                               cats=['Sex', 'Deck', 'Embarked'],\n",
    "                               idxs=test_names, #names of passengers \n",
    "                               labels=['Not survived', 'Survived'])\n",
    "\n",
    "db = RandomForestDashboard(explainer,\n",
    "                        model_summary=True,\n",
    "                        contributions=True,\n",
    "                        shap_dependence=True,\n",
    "                        shap_interaction=False,\n",
    "                        shadow_trees=True)\n",
    "db.run(8052)\n"
   ]
  },
  {
   "cell_type": "code",
   "execution_count": 11,
   "metadata": {
    "ExecuteTime": {
     "end_time": "2019-11-05T15:41:17.557054Z",
     "start_time": "2019-11-05T15:41:09.367477Z"
    }
   },
   "outputs": [
    {
     "data": {
      "text/html": [
       "['Fare', 'Sex', 'Deck', 'PassengerClass', 'Embarked', 'No_of_relatives_on_board', 'Age', 'No_of_parents_plus_children_on_board', 'No_of_siblings_plus_spouses_on_board']"
      ],
      "text/plain": [
       "['Fare',\n",
       " 'Sex',\n",
       " 'Deck',\n",
       " 'PassengerClass',\n",
       " 'Embarked',\n",
       " 'No_of_relatives_on_board',\n",
       " 'Age',\n",
       " 'No_of_parents_plus_children_on_board',\n",
       " 'No_of_siblings_plus_spouses_on_board']"
      ]
     },
     "execution_count": 11,
     "metadata": {},
     "output_type": "execute_result"
    }
   ],
   "source": [
    "explainer.shap_top_interactions('Fare', cats=True)"
   ]
  },
  {
   "cell_type": "code",
   "execution_count": 14,
   "metadata": {
    "ExecuteTime": {
     "end_time": "2019-11-05T15:41:49.144292Z",
     "start_time": "2019-11-05T15:41:49.137286Z"
    }
   },
   "outputs": [
    {
     "data": {
      "text/html": [
       "['Embarked', 'Sex', 'Deck', 'Fare', 'PassengerClass', 'No_of_relatives_on_board', 'Age', 'No_of_parents_plus_children_on_board', 'No_of_siblings_plus_spouses_on_board']"
      ],
      "text/plain": [
       "['Embarked',\n",
       " 'Sex',\n",
       " 'Deck',\n",
       " 'Fare',\n",
       " 'PassengerClass',\n",
       " 'No_of_relatives_on_board',\n",
       " 'Age',\n",
       " 'No_of_parents_plus_children_on_board',\n",
       " 'No_of_siblings_plus_spouses_on_board']"
      ]
     },
     "execution_count": 14,
     "metadata": {},
     "output_type": "execute_result"
    }
   ],
   "source": [
    "explainer.shap_top_interactions('Embarked', cats=True)"
   ]
  },
  {
   "cell_type": "code",
   "execution_count": 52,
   "metadata": {
    "ExecuteTime": {
     "end_time": "2019-11-05T15:28:45.136815Z",
     "start_time": "2019-11-05T15:28:44.618777Z"
    }
   },
   "outputs": [],
   "source": [
    "from sqlalchemy import create_engine\n",
    "import pyodbc\n",
    "import urllib\n",
    "\n",
    "\n",
    "def get_sql_server_connection(database):\n",
    "    conn_str = (\n",
    "        r'Driver=ODBC Driver 13 for SQL Server;'\n",
    "        r'Server=BE04UDB262UWV88\\DMAP;'\n",
    "        + 'Database={};'.format(database) + \n",
    "        r'Trusted_Connection=yes;'\n",
    "        r'MARS_Connection=yes;'\n",
    "    )\n",
    "    quoted_conn_str = urllib.parse.quote_plus(conn_str)\n",
    "    engine = create_engine('mssql+pyodbc:///?odbc_connect={}'\\\n",
    "                                .format(quoted_conn_str))\n",
    "\n",
    "    conn = engine.connect()\n",
    "    return conn\n",
    "\n",
    "con = get_sql_server_connection('DMAP_ANALYSE')"
   ]
  },
  {
   "cell_type": "code",
   "execution_count": 53,
   "metadata": {
    "ExecuteTime": {
     "end_time": "2019-11-05T15:29:22.246453Z",
     "start_time": "2019-11-05T15:29:19.977277Z"
    }
   },
   "outputs": [],
   "source": [
    "explainer.to_sql(con, 'DMAP_ANALYSE.OD', 'TITANIC')"
   ]
  },
  {
   "cell_type": "markdown",
   "metadata": {
    "ExecuteTime": {
     "end_time": "2019-10-23T12:55:48.546580Z",
     "start_time": "2019-10-23T12:55:48.541576Z"
    }
   },
   "source": [
    "# XGBClassifier:"
   ]
  },
  {
   "cell_type": "code",
   "execution_count": 6,
   "metadata": {
    "ExecuteTime": {
     "end_time": "2019-11-05T15:00:25.680557Z",
     "start_time": "2019-11-05T12:20:30.468610Z"
    }
   },
   "outputs": [
    {
     "data": {
      "text/plain": [
       "((691, 22), (691,), (200, 22), (200,))"
      ]
     },
     "execution_count": 6,
     "metadata": {},
     "output_type": "execute_result"
    },
    {
     "data": {
      "text/plain": [
       "XGBClassifier(base_score=0.5, booster='gbtree', colsample_bylevel=1,\n",
       "              colsample_bynode=1, colsample_bytree=1, gamma=0,\n",
       "              learning_rate=0.1, max_delta_step=0, max_depth=3,\n",
       "              min_child_weight=1, missing=None, n_estimators=100, n_jobs=1,\n",
       "              nthread=None, objective='binary:logistic', random_state=0,\n",
       "              reg_alpha=0, reg_lambda=1, scale_pos_weight=1, seed=None,\n",
       "              silent=None, subsample=1, verbosity=1)"
      ]
     },
     "execution_count": 6,
     "metadata": {},
     "output_type": "execute_result"
    },
    {
     "name": "stdout",
     "output_type": "stream",
     "text": [
      "Calculating shap values...\n",
      "Generating shap TreeExplainer...\n",
      "Calculating predictions...\n",
      "Calculating prediction probabilities...\n",
      "Calculating importances...\n",
      "Running Model Explainer on http://localhost:8052\n",
      " * Serving Flask app \"explainerdashboard.dashboards\" (lazy loading)\n",
      " * Environment: production\n",
      "   WARNING: Do not use the development server in a production environment.\n",
      "   Use a production WSGI server instead.\n",
      " * Debug mode: off\n"
     ]
    },
    {
     "name": "stderr",
     "output_type": "stream",
     "text": [
      " * Running on http://127.0.0.1:8052/ (Press CTRL+C to quit)\n",
      "127.0.0.1 - - [05/Nov/2019 13:20:44] \"GET / HTTP/1.1\" 200 -\n",
      "127.0.0.1 - - [05/Nov/2019 13:20:44] \"GET /_dash-dependencies HTTP/1.1\" 200 -\n",
      "127.0.0.1 - - [05/Nov/2019 13:20:44] \"GET /_dash-layout HTTP/1.1\" 200 -\n",
      "127.0.0.1 - - [05/Nov/2019 13:20:50] \"POST /_dash-update-component HTTP/1.1\" 200 -\n",
      "127.0.0.1 - - [05/Nov/2019 13:20:50] \"POST /_dash-update-component HTTP/1.1\" 204 -\n",
      "127.0.0.1 - - [05/Nov/2019 13:20:50] \"POST /_dash-update-component HTTP/1.1\" 200 -\n",
      "127.0.0.1 - - [05/Nov/2019 13:20:51] \"POST /_dash-update-component HTTP/1.1\" 204 -\n",
      "127.0.0.1 - - [05/Nov/2019 13:20:51] \"POST /_dash-update-component HTTP/1.1\" 200 -\n",
      "127.0.0.1 - - [05/Nov/2019 13:20:51] \"POST /_dash-update-component HTTP/1.1\" 200 -\n",
      "127.0.0.1 - - [05/Nov/2019 13:20:53] \"POST /_dash-update-component HTTP/1.1\" 200 -\n",
      "127.0.0.1 - - [05/Nov/2019 13:20:53] \"POST /_dash-update-component HTTP/1.1\" 200 -\n",
      "127.0.0.1 - - [05/Nov/2019 13:20:53] \"POST /_dash-update-component HTTP/1.1\" 200 -\n",
      "127.0.0.1 - - [05/Nov/2019 13:20:53] \"POST /_dash-update-component HTTP/1.1\" 200 -\n",
      "127.0.0.1 - - [05/Nov/2019 13:20:55] \"POST /_dash-update-component HTTP/1.1\" 200 -\n",
      "127.0.0.1 - - [05/Nov/2019 13:20:55] \"POST /_dash-update-component HTTP/1.1\" 200 -\n",
      "127.0.0.1 - - [05/Nov/2019 13:20:59] \"POST /_dash-update-component HTTP/1.1\" 200 -\n",
      "127.0.0.1 - - [05/Nov/2019 13:20:59] \"POST /_dash-update-component HTTP/1.1\" 200 -\n",
      "127.0.0.1 - - [05/Nov/2019 13:21:15] \"POST /_dash-update-component HTTP/1.1\" 200 -\n",
      "127.0.0.1 - - [05/Nov/2019 13:21:22] \"POST /_dash-update-component HTTP/1.1\" 200 -\n",
      "[2019-11-05 13:21:22,828] ERROR in app: Exception on /_dash-update-component [POST]\n",
      "Traceback (most recent call last):\n",
      "  File \"Y:\\OD\\conda\\anaconda\\envs\\python3.7\\lib\\site-packages\\flask\\app.py\", line 2292, in wsgi_app\n",
      "    response = self.full_dispatch_request()\n",
      "  File \"Y:\\OD\\conda\\anaconda\\envs\\python3.7\\lib\\site-packages\\flask\\app.py\", line 1815, in full_dispatch_request\n",
      "    rv = self.handle_user_exception(e)\n",
      "  File \"Y:\\OD\\conda\\anaconda\\envs\\python3.7\\lib\\site-packages\\flask\\app.py\", line 1718, in handle_user_exception\n",
      "    reraise(exc_type, exc_value, tb)\n",
      "  File \"Y:\\OD\\conda\\anaconda\\envs\\python3.7\\lib\\site-packages\\flask\\_compat.py\", line 35, in reraise\n",
      "    raise value\n",
      "  File \"Y:\\OD\\conda\\anaconda\\envs\\python3.7\\lib\\site-packages\\flask\\app.py\", line 1813, in full_dispatch_request\n",
      "    rv = self.dispatch_request()\n",
      "  File \"Y:\\OD\\conda\\anaconda\\envs\\python3.7\\lib\\site-packages\\flask\\app.py\", line 1799, in dispatch_request\n",
      "    return self.view_functions[rule.endpoint](**req.view_args)\n",
      "  File \"Y:\\OD\\conda\\anaconda\\envs\\python3.7\\lib\\site-packages\\dash\\dash.py\", line 1404, in dispatch\n",
      "    response.set_data(self.callback_map[output][\"callback\"](*args))\n",
      "  File \"Y:\\OD\\conda\\anaconda\\envs\\python3.7\\lib\\site-packages\\dash\\dash.py\", line 1284, in add_context\n",
      "    output_value = func(*args, **kwargs)  # %% callback invoked %%\n",
      "  File \"Y:\\OD\\projects\\explainerdashboard\\explainerdashboard\\dashboard_tabs\\shap_dependence_tab.py\", line 131, in update_dependence_graph\n",
      "    col, color_col, highlight_idx=idx, cats=cats)\n",
      "  File \"Y:\\OD\\projects\\explainerdashboard\\explainerdashboard\\explainers.py\", line 453, in plot_shap_dependence\n",
      "    na_fill=self.na_fill)\n",
      "  File \"Y:\\OD\\projects\\explainerdashboard\\explainerdashboard\\explainer_plots.py\", line 185, in plotly_dependence_plot\n",
      "    assert col_name in X.columns.tolist(), f'{col_name} not in X.columns'\n",
      "AssertionError: Sex_female not in X.columns\n",
      "127.0.0.1 - - [05/Nov/2019 13:21:22] \"POST /_dash-update-component HTTP/1.1\" 500 -\n",
      "[2019-11-05 13:21:22,852] ERROR in app: Exception on /_dash-update-component [POST]\n",
      "Traceback (most recent call last):\n",
      "  File \"Y:\\OD\\conda\\anaconda\\envs\\python3.7\\lib\\site-packages\\flask\\app.py\", line 2292, in wsgi_app\n",
      "    response = self.full_dispatch_request()\n",
      "  File \"Y:\\OD\\conda\\anaconda\\envs\\python3.7\\lib\\site-packages\\flask\\app.py\", line 1815, in full_dispatch_request\n",
      "    rv = self.handle_user_exception(e)\n",
      "  File \"Y:\\OD\\conda\\anaconda\\envs\\python3.7\\lib\\site-packages\\flask\\app.py\", line 1718, in handle_user_exception\n",
      "    reraise(exc_type, exc_value, tb)\n",
      "  File \"Y:\\OD\\conda\\anaconda\\envs\\python3.7\\lib\\site-packages\\flask\\_compat.py\", line 35, in reraise\n",
      "    raise value\n",
      "  File \"Y:\\OD\\conda\\anaconda\\envs\\python3.7\\lib\\site-packages\\flask\\app.py\", line 1813, in full_dispatch_request\n",
      "    rv = self.dispatch_request()\n",
      "  File \"Y:\\OD\\conda\\anaconda\\envs\\python3.7\\lib\\site-packages\\flask\\app.py\", line 1799, in dispatch_request\n",
      "    return self.view_functions[rule.endpoint](**req.view_args)\n",
      "  File \"Y:\\OD\\conda\\anaconda\\envs\\python3.7\\lib\\site-packages\\dash\\dash.py\", line 1404, in dispatch\n",
      "    response.set_data(self.callback_map[output][\"callback\"](*args))\n",
      "  File \"Y:\\OD\\conda\\anaconda\\envs\\python3.7\\lib\\site-packages\\dash\\dash.py\", line 1284, in add_context\n",
      "    output_value = func(*args, **kwargs)  # %% callback invoked %%\n",
      "  File \"Y:\\OD\\projects\\explainerdashboard\\explainerdashboard\\dashboard_tabs\\shap_dependence_tab.py\", line 115, in set_color_col_dropdown\n",
      "    sorted_interact_cols = explainer.shap_top_interactions(col, cats=cats)\n",
      "  File \"Y:\\OD\\projects\\explainerdashboard\\explainerdashboard\\explainers.py\", line 266, in shap_top_interactions\n",
      "    col_name, self.shap_values_cats, self.X_cats)\n",
      "  File \"Y:\\OD\\conda\\anaconda\\envs\\python3.7\\lib\\site-packages\\shap\\common.py\", line 305, in approximate_interactions\n",
      "    val_other = X[inds, i][srt].astype(np.float)\n",
      "ValueError: could not convert string to float: 'female'\n",
      "127.0.0.1 - - [05/Nov/2019 13:21:22] \"POST /_dash-update-component HTTP/1.1\" 500 -\n",
      "127.0.0.1 - - [05/Nov/2019 13:21:27] \"POST /_dash-update-component HTTP/1.1\" 200 -\n"
     ]
    },
    {
     "name": "stdout",
     "output_type": "stream",
     "text": [
      "<class 'pandas.core.series.Series'> 200\n"
     ]
    },
    {
     "name": "stderr",
     "output_type": "stream",
     "text": [
      "127.0.0.1 - - [05/Nov/2019 13:21:27] \"POST /_dash-update-component HTTP/1.1\" 200 -\n",
      "[2019-11-05 13:21:27,988] ERROR in app: Exception on /_dash-update-component [POST]\n",
      "Traceback (most recent call last):\n",
      "  File \"Y:\\OD\\conda\\anaconda\\envs\\python3.7\\lib\\site-packages\\flask\\app.py\", line 2292, in wsgi_app\n",
      "    response = self.full_dispatch_request()\n",
      "  File \"Y:\\OD\\conda\\anaconda\\envs\\python3.7\\lib\\site-packages\\flask\\app.py\", line 1815, in full_dispatch_request\n",
      "    rv = self.handle_user_exception(e)\n",
      "  File \"Y:\\OD\\conda\\anaconda\\envs\\python3.7\\lib\\site-packages\\flask\\app.py\", line 1718, in handle_user_exception\n",
      "    reraise(exc_type, exc_value, tb)\n",
      "  File \"Y:\\OD\\conda\\anaconda\\envs\\python3.7\\lib\\site-packages\\flask\\_compat.py\", line 35, in reraise\n",
      "    raise value\n",
      "  File \"Y:\\OD\\conda\\anaconda\\envs\\python3.7\\lib\\site-packages\\flask\\app.py\", line 1813, in full_dispatch_request\n",
      "    rv = self.dispatch_request()\n",
      "  File \"Y:\\OD\\conda\\anaconda\\envs\\python3.7\\lib\\site-packages\\flask\\app.py\", line 1799, in dispatch_request\n",
      "    return self.view_functions[rule.endpoint](**req.view_args)\n",
      "  File \"Y:\\OD\\conda\\anaconda\\envs\\python3.7\\lib\\site-packages\\dash\\dash.py\", line 1404, in dispatch\n",
      "    response.set_data(self.callback_map[output][\"callback\"](*args))\n",
      "  File \"Y:\\OD\\conda\\anaconda\\envs\\python3.7\\lib\\site-packages\\dash\\dash.py\", line 1284, in add_context\n",
      "    output_value = func(*args, **kwargs)  # %% callback invoked %%\n",
      "  File \"Y:\\OD\\projects\\explainerdashboard\\explainerdashboard\\dashboard_tabs\\shap_dependence_tab.py\", line 115, in set_color_col_dropdown\n",
      "    sorted_interact_cols = explainer.shap_top_interactions(col, cats=cats)\n",
      "  File \"Y:\\OD\\projects\\explainerdashboard\\explainerdashboard\\explainers.py\", line 266, in shap_top_interactions\n",
      "    col_name, self.shap_values_cats, self.X_cats)\n",
      "  File \"Y:\\OD\\conda\\anaconda\\envs\\python3.7\\lib\\site-packages\\shap\\common.py\", line 305, in approximate_interactions\n",
      "    val_other = X[inds, i][srt].astype(np.float)\n",
      "ValueError: could not convert string to float: 'female'\n",
      "127.0.0.1 - - [05/Nov/2019 13:21:28] \"POST /_dash-update-component HTTP/1.1\" 500 -\n",
      "127.0.0.1 - - [05/Nov/2019 13:21:30] \"POST /_dash-update-component HTTP/1.1\" 200 -\n"
     ]
    },
    {
     "name": "stdout",
     "output_type": "stream",
     "text": [
      "<class 'pandas.core.series.Series'> 200\n"
     ]
    },
    {
     "name": "stderr",
     "output_type": "stream",
     "text": [
      "127.0.0.1 - - [05/Nov/2019 13:21:31] \"POST /_dash-update-component HTTP/1.1\" 200 -\n",
      "[2019-11-05 13:21:31,168] ERROR in app: Exception on /_dash-update-component [POST]\n",
      "Traceback (most recent call last):\n",
      "  File \"Y:\\OD\\conda\\anaconda\\envs\\python3.7\\lib\\site-packages\\flask\\app.py\", line 2292, in wsgi_app\n",
      "    response = self.full_dispatch_request()\n",
      "  File \"Y:\\OD\\conda\\anaconda\\envs\\python3.7\\lib\\site-packages\\flask\\app.py\", line 1815, in full_dispatch_request\n",
      "    rv = self.handle_user_exception(e)\n",
      "  File \"Y:\\OD\\conda\\anaconda\\envs\\python3.7\\lib\\site-packages\\flask\\app.py\", line 1718, in handle_user_exception\n",
      "    reraise(exc_type, exc_value, tb)\n",
      "  File \"Y:\\OD\\conda\\anaconda\\envs\\python3.7\\lib\\site-packages\\flask\\_compat.py\", line 35, in reraise\n",
      "    raise value\n",
      "  File \"Y:\\OD\\conda\\anaconda\\envs\\python3.7\\lib\\site-packages\\flask\\app.py\", line 1813, in full_dispatch_request\n",
      "    rv = self.dispatch_request()\n",
      "  File \"Y:\\OD\\conda\\anaconda\\envs\\python3.7\\lib\\site-packages\\flask\\app.py\", line 1799, in dispatch_request\n",
      "    return self.view_functions[rule.endpoint](**req.view_args)\n",
      "  File \"Y:\\OD\\conda\\anaconda\\envs\\python3.7\\lib\\site-packages\\dash\\dash.py\", line 1404, in dispatch\n",
      "    response.set_data(self.callback_map[output][\"callback\"](*args))\n",
      "  File \"Y:\\OD\\conda\\anaconda\\envs\\python3.7\\lib\\site-packages\\dash\\dash.py\", line 1284, in add_context\n",
      "    output_value = func(*args, **kwargs)  # %% callback invoked %%\n",
      "  File \"Y:\\OD\\projects\\explainerdashboard\\explainerdashboard\\dashboard_tabs\\shap_dependence_tab.py\", line 115, in set_color_col_dropdown\n",
      "    sorted_interact_cols = explainer.shap_top_interactions(col, cats=cats)\n",
      "  File \"Y:\\OD\\projects\\explainerdashboard\\explainerdashboard\\explainers.py\", line 266, in shap_top_interactions\n",
      "    col_name, self.shap_values_cats, self.X_cats)\n",
      "  File \"Y:\\OD\\conda\\anaconda\\envs\\python3.7\\lib\\site-packages\\shap\\common.py\", line 305, in approximate_interactions\n",
      "    val_other = X[inds, i][srt].astype(np.float)\n",
      "ValueError: could not convert string to float: 'female'\n",
      "127.0.0.1 - - [05/Nov/2019 13:21:31] \"POST /_dash-update-component HTTP/1.1\" 500 -\n",
      "127.0.0.1 - - [05/Nov/2019 13:21:36] \"POST /_dash-update-component HTTP/1.1\" 200 -\n"
     ]
    },
    {
     "name": "stdout",
     "output_type": "stream",
     "text": [
      "<class 'pandas.core.series.Series'> 200\n"
     ]
    },
    {
     "name": "stderr",
     "output_type": "stream",
     "text": [
      "127.0.0.1 - - [05/Nov/2019 13:21:36] \"POST /_dash-update-component HTTP/1.1\" 200 -\n",
      "[2019-11-05 13:21:36,733] ERROR in app: Exception on /_dash-update-component [POST]\n",
      "Traceback (most recent call last):\n",
      "  File \"Y:\\OD\\conda\\anaconda\\envs\\python3.7\\lib\\site-packages\\flask\\app.py\", line 2292, in wsgi_app\n",
      "    response = self.full_dispatch_request()\n",
      "  File \"Y:\\OD\\conda\\anaconda\\envs\\python3.7\\lib\\site-packages\\flask\\app.py\", line 1815, in full_dispatch_request\n",
      "    rv = self.handle_user_exception(e)\n",
      "  File \"Y:\\OD\\conda\\anaconda\\envs\\python3.7\\lib\\site-packages\\flask\\app.py\", line 1718, in handle_user_exception\n",
      "    reraise(exc_type, exc_value, tb)\n",
      "  File \"Y:\\OD\\conda\\anaconda\\envs\\python3.7\\lib\\site-packages\\flask\\_compat.py\", line 35, in reraise\n",
      "    raise value\n",
      "  File \"Y:\\OD\\conda\\anaconda\\envs\\python3.7\\lib\\site-packages\\flask\\app.py\", line 1813, in full_dispatch_request\n",
      "    rv = self.dispatch_request()\n",
      "  File \"Y:\\OD\\conda\\anaconda\\envs\\python3.7\\lib\\site-packages\\flask\\app.py\", line 1799, in dispatch_request\n",
      "    return self.view_functions[rule.endpoint](**req.view_args)\n",
      "  File \"Y:\\OD\\conda\\anaconda\\envs\\python3.7\\lib\\site-packages\\dash\\dash.py\", line 1404, in dispatch\n",
      "    response.set_data(self.callback_map[output][\"callback\"](*args))\n",
      "  File \"Y:\\OD\\conda\\anaconda\\envs\\python3.7\\lib\\site-packages\\dash\\dash.py\", line 1284, in add_context\n",
      "    output_value = func(*args, **kwargs)  # %% callback invoked %%\n",
      "  File \"Y:\\OD\\projects\\explainerdashboard\\explainerdashboard\\dashboard_tabs\\shap_dependence_tab.py\", line 115, in set_color_col_dropdown\n",
      "    sorted_interact_cols = explainer.shap_top_interactions(col, cats=cats)\n",
      "  File \"Y:\\OD\\projects\\explainerdashboard\\explainerdashboard\\explainers.py\", line 266, in shap_top_interactions\n",
      "    col_name, self.shap_values_cats, self.X_cats)\n",
      "  File \"Y:\\OD\\conda\\anaconda\\envs\\python3.7\\lib\\site-packages\\shap\\common.py\", line 305, in approximate_interactions\n",
      "    val_other = X[inds, i][srt].astype(np.float)\n",
      "ValueError: could not convert string to float: 'female'\n",
      "127.0.0.1 - - [05/Nov/2019 13:21:36] \"POST /_dash-update-component HTTP/1.1\" 500 -\n",
      "127.0.0.1 - - [05/Nov/2019 13:21:40] \"POST /_dash-update-component HTTP/1.1\" 200 -\n"
     ]
    },
    {
     "name": "stdout",
     "output_type": "stream",
     "text": [
      "<class 'pandas.core.series.Series'> 200\n"
     ]
    },
    {
     "name": "stderr",
     "output_type": "stream",
     "text": [
      "127.0.0.1 - - [05/Nov/2019 13:21:40] \"[2019-11-05 13:21:40,868] ERROR in app: Exception on /_dash-update-component [POST]\n",
      "Traceback (most recent call last):\n",
      "  File \"Y:\\OD\\conda\\anaconda\\envs\\python3.7\\lib\\site-packages\\flask\\app.py\", line 2292, in wsgi_app\n",
      "    response = self.full_dispatch_request()\n",
      "  File \"Y:\\OD\\conda\\anaconda\\envs\\python3.7\\lib\\site-packages\\flask\\app.py\", line 1815, in full_dispatch_request\n",
      "    rv = self.handle_user_exception(e)\n",
      "  File \"Y:\\OD\\conda\\anaconda\\envs\\python3.7\\lib\\site-packages\\flask\\app.py\", line 1718, in handle_user_exception\n",
      "    reraise(exc_type, exc_value, tb)\n",
      "  File \"Y:\\OD\\conda\\anaconda\\envs\\python3.7\\lib\\site-packages\\flask\\_compat.py\", line 35, in reraise\n",
      "    raise value\n",
      "  File \"Y:\\OD\\conda\\anaconda\\envs\\python3.7\\lib\\site-packages\\flask\\app.py\", line 1813, in full_dispatch_request\n",
      "    rv = self.dispatch_request()\n",
      "  File \"Y:\\OD\\conda\\anaconda\\envs\\python3.7\\lib\\site-packages\\flask\\app.py\", line 1799, in dispatch_request\n",
      "    return self.view_functions[rule.endpoint](**req.view_args)\n",
      "  File \"Y:\\OD\\conda\\anaconda\\envs\\python3.7\\lib\\site-packages\\dash\\dash.py\", line 1404, in dispatch\n",
      "    response.set_data(self.callback_map[output][\"callback\"](*args))\n",
      "  File \"Y:\\OD\\conda\\anaconda\\envs\\python3.7\\lib\\site-packages\\dash\\dash.py\", line 1284, in add_context\n",
      "    output_value = func(*args, **kwargs)  # %% callback invoked %%\n",
      "  File \"Y:\\OD\\projects\\explainerdashboard\\explainerdashboard\\dashboard_tabs\\shap_dependence_tab.py\", line 115, in set_color_col_dropdown\n",
      "    sorted_interact_cols = explainer.shap_top_interactions(col, cats=cats)\n",
      "  File \"Y:\\OD\\projects\\explainerdashboard\\explainerdashboard\\explainers.py\", line 266, in shap_top_interactions\n",
      "    col_name, self.shap_values_cats, self.X_cats)\n",
      "  File \"Y:\\OD\\conda\\anaconda\\envs\\python3.7\\lib\\site-packages\\shap\\common.py\", line 305, in approximate_interactions\n",
      "    val_other = X[inds, i][srt].astype(np.float)\n",
      "ValueError: could not convert string to float: 'male'\n",
      "POST /_dash-update-component HTTP/1.1\" 200 -\n",
      "127.0.0.1 - - [05/Nov/2019 13:21:40] \"POST /_dash-update-component HTTP/1.1\" 500 -\n",
      "127.0.0.1 - - [05/Nov/2019 13:21:45] \"POST /_dash-update-component HTTP/1.1\" 200 -\n"
     ]
    },
    {
     "name": "stdout",
     "output_type": "stream",
     "text": [
      "<class 'pandas.core.series.Series'> 200\n"
     ]
    },
    {
     "name": "stderr",
     "output_type": "stream",
     "text": [
      "127.0.0.1 - - [05/Nov/2019 13:21:46] \"POST /_dash-update-component HTTP/1.1\" 200 -\n",
      "[2019-11-05 13:21:46,630] ERROR in app: Exception on /_dash-update-component [POST]\n",
      "Traceback (most recent call last):\n",
      "  File \"Y:\\OD\\conda\\anaconda\\envs\\python3.7\\lib\\site-packages\\flask\\app.py\", line 2292, in wsgi_app\n",
      "    response = self.full_dispatch_request()\n",
      "  File \"Y:\\OD\\conda\\anaconda\\envs\\python3.7\\lib\\site-packages\\flask\\app.py\", line 1815, in full_dispatch_request\n",
      "    rv = self.handle_user_exception(e)\n",
      "  File \"Y:\\OD\\conda\\anaconda\\envs\\python3.7\\lib\\site-packages\\flask\\app.py\", line 1718, in handle_user_exception\n",
      "    reraise(exc_type, exc_value, tb)\n",
      "  File \"Y:\\OD\\conda\\anaconda\\envs\\python3.7\\lib\\site-packages\\flask\\_compat.py\", line 35, in reraise\n",
      "    raise value\n",
      "  File \"Y:\\OD\\conda\\anaconda\\envs\\python3.7\\lib\\site-packages\\flask\\app.py\", line 1813, in full_dispatch_request\n",
      "    rv = self.dispatch_request()\n",
      "  File \"Y:\\OD\\conda\\anaconda\\envs\\python3.7\\lib\\site-packages\\flask\\app.py\", line 1799, in dispatch_request\n",
      "    return self.view_functions[rule.endpoint](**req.view_args)\n",
      "  File \"Y:\\OD\\conda\\anaconda\\envs\\python3.7\\lib\\site-packages\\dash\\dash.py\", line 1404, in dispatch\n",
      "    response.set_data(self.callback_map[output][\"callback\"](*args))\n",
      "  File \"Y:\\OD\\conda\\anaconda\\envs\\python3.7\\lib\\site-packages\\dash\\dash.py\", line 1284, in add_context\n",
      "    output_value = func(*args, **kwargs)  # %% callback invoked %%\n",
      "  File \"Y:\\OD\\projects\\explainerdashboard\\explainerdashboard\\dashboard_tabs\\shap_dependence_tab.py\", line 115, in set_color_col_dropdown\n",
      "    sorted_interact_cols = explainer.shap_top_interactions(col, cats=cats)\n",
      "  File \"Y:\\OD\\projects\\explainerdashboard\\explainerdashboard\\explainers.py\", line 266, in shap_top_interactions\n",
      "    col_name, self.shap_values_cats, self.X_cats)\n",
      "  File \"Y:\\OD\\conda\\anaconda\\envs\\python3.7\\lib\\site-packages\\shap\\common.py\", line 305, in approximate_interactions\n",
      "    val_other = X[inds, i][srt].astype(np.float)\n",
      "ValueError: could not convert string to float: 'male'\n",
      "127.0.0.1 - - [05/Nov/2019 13:21:46] \"POST /_dash-update-component HTTP/1.1\" 500 -\n",
      "127.0.0.1 - - [05/Nov/2019 13:21:49] \"POST /_dash-update-component HTTP/1.1\" 200 -\n"
     ]
    },
    {
     "name": "stdout",
     "output_type": "stream",
     "text": [
      "<class 'pandas.core.series.Series'> 200\n"
     ]
    },
    {
     "name": "stderr",
     "output_type": "stream",
     "text": [
      "127.0.0.1 - - [05/Nov/2019 13:21:50] \"POST /_dash-update-component HTTP/1.1\" 200 -\n",
      "[2019-11-05 13:21:50,397] ERROR in app: Exception on /_dash-update-component [POST]\n",
      "Traceback (most recent call last):\n",
      "  File \"Y:\\OD\\conda\\anaconda\\envs\\python3.7\\lib\\site-packages\\flask\\app.py\", line 2292, in wsgi_app\n",
      "    response = self.full_dispatch_request()\n",
      "  File \"Y:\\OD\\conda\\anaconda\\envs\\python3.7\\lib\\site-packages\\flask\\app.py\", line 1815, in full_dispatch_request\n",
      "    rv = self.handle_user_exception(e)\n",
      "  File \"Y:\\OD\\conda\\anaconda\\envs\\python3.7\\lib\\site-packages\\flask\\app.py\", line 1718, in handle_user_exception\n",
      "    reraise(exc_type, exc_value, tb)\n",
      "  File \"Y:\\OD\\conda\\anaconda\\envs\\python3.7\\lib\\site-packages\\flask\\_compat.py\", line 35, in reraise\n",
      "    raise value\n",
      "  File \"Y:\\OD\\conda\\anaconda\\envs\\python3.7\\lib\\site-packages\\flask\\app.py\", line 1813, in full_dispatch_request\n",
      "    rv = self.dispatch_request()\n",
      "  File \"Y:\\OD\\conda\\anaconda\\envs\\python3.7\\lib\\site-packages\\flask\\app.py\", line 1799, in dispatch_request\n",
      "    return self.view_functions[rule.endpoint](**req.view_args)\n",
      "  File \"Y:\\OD\\conda\\anaconda\\envs\\python3.7\\lib\\site-packages\\dash\\dash.py\", line 1404, in dispatch\n",
      "    response.set_data(self.callback_map[output][\"callback\"](*args))\n",
      "  File \"Y:\\OD\\conda\\anaconda\\envs\\python3.7\\lib\\site-packages\\dash\\dash.py\", line 1284, in add_context\n",
      "    output_value = func(*args, **kwargs)  # %% callback invoked %%\n",
      "  File \"Y:\\OD\\projects\\explainerdashboard\\explainerdashboard\\dashboard_tabs\\shap_dependence_tab.py\", line 115, in set_color_col_dropdown\n",
      "    sorted_interact_cols = explainer.shap_top_interactions(col, cats=cats)\n",
      "  File \"Y:\\OD\\projects\\explainerdashboard\\explainerdashboard\\explainers.py\", line 266, in shap_top_interactions\n",
      "    col_name, self.shap_values_cats, self.X_cats)\n",
      "  File \"Y:\\OD\\conda\\anaconda\\envs\\python3.7\\lib\\site-packages\\shap\\common.py\", line 305, in approximate_interactions\n",
      "    val_other = X[inds, i][srt].astype(np.float)\n",
      "ValueError: could not convert string to float: 'male'\n",
      "127.0.0.1 - - [05/Nov/2019 13:21:50] \"POST /_dash-update-component HTTP/1.1\" 500 -\n",
      "127.0.0.1 - - [05/Nov/2019 13:21:53] \"POST /_dash-update-component HTTP/1.1\" 200 -\n"
     ]
    },
    {
     "name": "stdout",
     "output_type": "stream",
     "text": [
      "<class 'pandas.core.series.Series'> 200\n"
     ]
    },
    {
     "name": "stderr",
     "output_type": "stream",
     "text": [
      "127.0.0.1 - - [05/Nov/2019 13:21:53] \"POST /_dash-update-component HTTP/1.1\" 200 -\n",
      "[2019-11-05 13:21:53,837] ERROR in app: Exception on /_dash-update-component [POST]\n",
      "Traceback (most recent call last):\n",
      "  File \"Y:\\OD\\conda\\anaconda\\envs\\python3.7\\lib\\site-packages\\flask\\app.py\", line 2292, in wsgi_app\n",
      "    response = self.full_dispatch_request()\n",
      "  File \"Y:\\OD\\conda\\anaconda\\envs\\python3.7\\lib\\site-packages\\flask\\app.py\", line 1815, in full_dispatch_request\n",
      "    rv = self.handle_user_exception(e)\n",
      "  File \"Y:\\OD\\conda\\anaconda\\envs\\python3.7\\lib\\site-packages\\flask\\app.py\", line 1718, in handle_user_exception\n",
      "    reraise(exc_type, exc_value, tb)\n",
      "  File \"Y:\\OD\\conda\\anaconda\\envs\\python3.7\\lib\\site-packages\\flask\\_compat.py\", line 35, in reraise\n",
      "    raise value\n",
      "  File \"Y:\\OD\\conda\\anaconda\\envs\\python3.7\\lib\\site-packages\\flask\\app.py\", line 1813, in full_dispatch_request\n",
      "    rv = self.dispatch_request()\n",
      "  File \"Y:\\OD\\conda\\anaconda\\envs\\python3.7\\lib\\site-packages\\flask\\app.py\", line 1799, in dispatch_request\n",
      "    return self.view_functions[rule.endpoint](**req.view_args)\n",
      "  File \"Y:\\OD\\conda\\anaconda\\envs\\python3.7\\lib\\site-packages\\dash\\dash.py\", line 1404, in dispatch\n",
      "    response.set_data(self.callback_map[output][\"callback\"](*args))\n",
      "  File \"Y:\\OD\\conda\\anaconda\\envs\\python3.7\\lib\\site-packages\\dash\\dash.py\", line 1284, in add_context\n",
      "    output_value = func(*args, **kwargs)  # %% callback invoked %%\n",
      "  File \"Y:\\OD\\projects\\explainerdashboard\\explainerdashboard\\dashboard_tabs\\shap_dependence_tab.py\", line 115, in set_color_col_dropdown\n",
      "    sorted_interact_cols = explainer.shap_top_interactions(col, cats=cats)\n",
      "  File \"Y:\\OD\\projects\\explainerdashboard\\explainerdashboard\\explainers.py\", line 266, in shap_top_interactions\n",
      "    col_name, self.shap_values_cats, self.X_cats)\n",
      "  File \"Y:\\OD\\conda\\anaconda\\envs\\python3.7\\lib\\site-packages\\shap\\common.py\", line 305, in approximate_interactions\n",
      "    val_other = X[inds, i][srt].astype(np.float)\n",
      "ValueError: could not convert string to float: 'male'\n",
      "127.0.0.1 - - [05/Nov/2019 13:21:53] \"POST /_dash-update-component HTTP/1.1\" 500 -\n",
      "127.0.0.1 - - [05/Nov/2019 13:21:56] \"POST /_dash-update-component HTTP/1.1\" 200 -\n"
     ]
    },
    {
     "name": "stdout",
     "output_type": "stream",
     "text": [
      "<class 'pandas.core.series.Series'> 200\n"
     ]
    },
    {
     "name": "stderr",
     "output_type": "stream",
     "text": [
      "127.0.0.1 - - [05/Nov/2019 13:21:57] \"POST /_dash-update-component HTTP/1.1\" 200 -\n",
      "[2019-11-05 13:21:57,089] ERROR in app: Exception on /_dash-update-component [POST]\n",
      "Traceback (most recent call last):\n",
      "  File \"Y:\\OD\\conda\\anaconda\\envs\\python3.7\\lib\\site-packages\\flask\\app.py\", line 2292, in wsgi_app\n",
      "    response = self.full_dispatch_request()\n",
      "  File \"Y:\\OD\\conda\\anaconda\\envs\\python3.7\\lib\\site-packages\\flask\\app.py\", line 1815, in full_dispatch_request\n",
      "    rv = self.handle_user_exception(e)\n",
      "  File \"Y:\\OD\\conda\\anaconda\\envs\\python3.7\\lib\\site-packages\\flask\\app.py\", line 1718, in handle_user_exception\n",
      "    reraise(exc_type, exc_value, tb)\n",
      "  File \"Y:\\OD\\conda\\anaconda\\envs\\python3.7\\lib\\site-packages\\flask\\_compat.py\", line 35, in reraise\n",
      "    raise value\n",
      "  File \"Y:\\OD\\conda\\anaconda\\envs\\python3.7\\lib\\site-packages\\flask\\app.py\", line 1813, in full_dispatch_request\n",
      "    rv = self.dispatch_request()\n",
      "  File \"Y:\\OD\\conda\\anaconda\\envs\\python3.7\\lib\\site-packages\\flask\\app.py\", line 1799, in dispatch_request\n",
      "    return self.view_functions[rule.endpoint](**req.view_args)\n",
      "  File \"Y:\\OD\\conda\\anaconda\\envs\\python3.7\\lib\\site-packages\\dash\\dash.py\", line 1404, in dispatch\n",
      "    response.set_data(self.callback_map[output][\"callback\"](*args))\n",
      "  File \"Y:\\OD\\conda\\anaconda\\envs\\python3.7\\lib\\site-packages\\dash\\dash.py\", line 1284, in add_context\n",
      "    output_value = func(*args, **kwargs)  # %% callback invoked %%\n",
      "  File \"Y:\\OD\\projects\\explainerdashboard\\explainerdashboard\\dashboard_tabs\\shap_dependence_tab.py\", line 115, in set_color_col_dropdown\n",
      "    sorted_interact_cols = explainer.shap_top_interactions(col, cats=cats)\n",
      "  File \"Y:\\OD\\projects\\explainerdashboard\\explainerdashboard\\explainers.py\", line 266, in shap_top_interactions\n",
      "    col_name, self.shap_values_cats, self.X_cats)\n",
      "  File \"Y:\\OD\\conda\\anaconda\\envs\\python3.7\\lib\\site-packages\\shap\\common.py\", line 305, in approximate_interactions\n",
      "    val_other = X[inds, i][srt].astype(np.float)\n",
      "ValueError: could not convert string to float: 'male'\n",
      "127.0.0.1 - - [05/Nov/2019 13:21:57] \"POST /_dash-update-component HTTP/1.1\" 500 -\n",
      "127.0.0.1 - - [05/Nov/2019 13:21:58] \"POST /_dash-update-component HTTP/1.1\" 200 -\n"
     ]
    },
    {
     "name": "stdout",
     "output_type": "stream",
     "text": [
      "<class 'pandas.core.series.Series'> 200\n"
     ]
    },
    {
     "name": "stderr",
     "output_type": "stream",
     "text": [
      "127.0.0.1 - - [05/Nov/2019 13:21:59] \"POST /_dash-update-component HTTP/1.1\" 200 -\n",
      "[2019-11-05 13:21:59,496] ERROR in app: Exception on /_dash-update-component [POST]\n",
      "Traceback (most recent call last):\n",
      "  File \"Y:\\OD\\conda\\anaconda\\envs\\python3.7\\lib\\site-packages\\flask\\app.py\", line 2292, in wsgi_app\n",
      "    response = self.full_dispatch_request()\n",
      "  File \"Y:\\OD\\conda\\anaconda\\envs\\python3.7\\lib\\site-packages\\flask\\app.py\", line 1815, in full_dispatch_request\n",
      "    rv = self.handle_user_exception(e)\n",
      "  File \"Y:\\OD\\conda\\anaconda\\envs\\python3.7\\lib\\site-packages\\flask\\app.py\", line 1718, in handle_user_exception\n",
      "    reraise(exc_type, exc_value, tb)\n",
      "  File \"Y:\\OD\\conda\\anaconda\\envs\\python3.7\\lib\\site-packages\\flask\\_compat.py\", line 35, in reraise\n",
      "    raise value\n",
      "  File \"Y:\\OD\\conda\\anaconda\\envs\\python3.7\\lib\\site-packages\\flask\\app.py\", line 1813, in full_dispatch_request\n",
      "    rv = self.dispatch_request()\n",
      "  File \"Y:\\OD\\conda\\anaconda\\envs\\python3.7\\lib\\site-packages\\flask\\app.py\", line 1799, in dispatch_request\n",
      "    return self.view_functions[rule.endpoint](**req.view_args)\n",
      "  File \"Y:\\OD\\conda\\anaconda\\envs\\python3.7\\lib\\site-packages\\dash\\dash.py\", line 1404, in dispatch\n",
      "    response.set_data(self.callback_map[output][\"callback\"](*args))\n",
      "  File \"Y:\\OD\\conda\\anaconda\\envs\\python3.7\\lib\\site-packages\\dash\\dash.py\", line 1284, in add_context\n",
      "    output_value = func(*args, **kwargs)  # %% callback invoked %%\n",
      "  File \"Y:\\OD\\projects\\explainerdashboard\\explainerdashboard\\dashboard_tabs\\shap_dependence_tab.py\", line 115, in set_color_col_dropdown\n",
      "    sorted_interact_cols = explainer.shap_top_interactions(col, cats=cats)\n",
      "  File \"Y:\\OD\\projects\\explainerdashboard\\explainerdashboard\\explainers.py\", line 266, in shap_top_interactions\n",
      "    col_name, self.shap_values_cats, self.X_cats)\n",
      "  File \"Y:\\OD\\conda\\anaconda\\envs\\python3.7\\lib\\site-packages\\shap\\common.py\", line 305, in approximate_interactions\n",
      "    val_other = X[inds, i][srt].astype(np.float)\n",
      "ValueError: could not convert string to float: 'male'\n",
      "127.0.0.1 - - [05/Nov/2019 13:21:59] \"POST /_dash-update-component HTTP/1.1\" 500 -\n",
      "127.0.0.1 - - [05/Nov/2019 13:22:30] \"POST /_dash-update-component HTTP/1.1\" 200 -\n"
     ]
    },
    {
     "name": "stdout",
     "output_type": "stream",
     "text": [
      "<class 'pandas.core.series.Series'> 200\n"
     ]
    },
    {
     "name": "stderr",
     "output_type": "stream",
     "text": [
      "127.0.0.1 - - [05/Nov/2019 13:22:31] \"POST /_dash-update-component HTTP/1.1\" 200 -\n",
      "[2019-11-05 13:22:31,447] ERROR in app: Exception on /_dash-update-component [POST]\n",
      "Traceback (most recent call last):\n",
      "  File \"Y:\\OD\\conda\\anaconda\\envs\\python3.7\\lib\\site-packages\\flask\\app.py\", line 2292, in wsgi_app\n",
      "    response = self.full_dispatch_request()\n",
      "  File \"Y:\\OD\\conda\\anaconda\\envs\\python3.7\\lib\\site-packages\\flask\\app.py\", line 1815, in full_dispatch_request\n",
      "    rv = self.handle_user_exception(e)\n",
      "  File \"Y:\\OD\\conda\\anaconda\\envs\\python3.7\\lib\\site-packages\\flask\\app.py\", line 1718, in handle_user_exception\n",
      "    reraise(exc_type, exc_value, tb)\n",
      "  File \"Y:\\OD\\conda\\anaconda\\envs\\python3.7\\lib\\site-packages\\flask\\_compat.py\", line 35, in reraise\n",
      "    raise value\n",
      "  File \"Y:\\OD\\conda\\anaconda\\envs\\python3.7\\lib\\site-packages\\flask\\app.py\", line 1813, in full_dispatch_request\n",
      "    rv = self.dispatch_request()\n",
      "  File \"Y:\\OD\\conda\\anaconda\\envs\\python3.7\\lib\\site-packages\\flask\\app.py\", line 1799, in dispatch_request\n",
      "    return self.view_functions[rule.endpoint](**req.view_args)\n",
      "  File \"Y:\\OD\\conda\\anaconda\\envs\\python3.7\\lib\\site-packages\\dash\\dash.py\", line 1404, in dispatch\n",
      "    response.set_data(self.callback_map[output][\"callback\"](*args))\n",
      "  File \"Y:\\OD\\conda\\anaconda\\envs\\python3.7\\lib\\site-packages\\dash\\dash.py\", line 1284, in add_context\n",
      "    output_value = func(*args, **kwargs)  # %% callback invoked %%\n",
      "  File \"Y:\\OD\\projects\\explainerdashboard\\explainerdashboard\\dashboard_tabs\\shap_dependence_tab.py\", line 115, in set_color_col_dropdown\n",
      "    sorted_interact_cols = explainer.shap_top_interactions(col, cats=cats)\n",
      "  File \"Y:\\OD\\projects\\explainerdashboard\\explainerdashboard\\explainers.py\", line 266, in shap_top_interactions\n",
      "    col_name, self.shap_values_cats, self.X_cats)\n",
      "  File \"Y:\\OD\\conda\\anaconda\\envs\\python3.7\\lib\\site-packages\\shap\\common.py\", line 305, in approximate_interactions\n",
      "    val_other = X[inds, i][srt].astype(np.float)\n",
      "ValueError: could not convert string to float: 'female'\n",
      "127.0.0.1 - - [05/Nov/2019 13:22:31] \"POST /_dash-update-component HTTP/1.1\" 500 -\n"
     ]
    },
    {
     "name": "stdout",
     "output_type": "stream",
     "text": [
      "<class 'pandas.core.series.Series'> 200\n"
     ]
    },
    {
     "name": "stderr",
     "output_type": "stream",
     "text": [
      "127.0.0.1 - - [05/Nov/2019 13:22:37] \"POST /_dash-update-component HTTP/1.1\" 200 -\n",
      "127.0.0.1 - - [05/Nov/2019 13:24:53] \"POST /_dash-update-component HTTP/1.1\" 200 -\n",
      "127.0.0.1 - - [05/Nov/2019 13:24:53] \"POST /_dash-update-component HTTP/1.1\" 200 -\n",
      "127.0.0.1 - - [05/Nov/2019 13:25:08] \"POST /_dash-update-component HTTP/1.1\" 200 -\n",
      "127.0.0.1 - - [05/Nov/2019 13:25:11] \"POST /_dash-update-component HTTP/1.1\" 200 -\n",
      "127.0.0.1 - - [05/Nov/2019 13:25:42] \"POST /_dash-update-component HTTP/1.1\" 200 -\n"
     ]
    }
   ],
   "source": [
    "X_train = d_train.drop(['Survived', 'Name'], axis=1)\n",
    "y_train = d_train['Survived']\n",
    "X_test = d_test.drop(['Survived', 'Name'], axis=1)\n",
    "y_test = d_test['Survived']\n",
    "\n",
    "X_train.shape, y_train.shape, X_test.shape, y_test.shape\n",
    "xgb_model = XGBClassifier()\n",
    "xgb_model.fit(X_train, y_train)\n",
    "\n",
    "explainer = TreeModelClassifierBunch(xgb_model, X_test, y_test, roc_auc_score, \n",
    "                                   cats=['Sex', 'Cabin', 'Embarked'],\n",
    "                                   idxs=d_test['Name'].values.tolist(), #names of passengers \n",
    "                                   labels=['Not survived', 'Survived'])\n",
    "\n",
    "db = ExplainerDashboard(explainer,\n",
    "                        model_summary=True,\n",
    "                        contributions=True,\n",
    "                        shap_dependence=True,\n",
    "                        shap_interaction=False)\n",
    "db.run(8052)"
   ]
  },
  {
   "cell_type": "code",
   "execution_count": null,
   "metadata": {},
   "outputs": [],
   "source": []
  }
 ],
 "metadata": {
  "kernelspec": {
   "display_name": "Python 3",
   "language": "python",
   "name": "python3"
  },
  "language_info": {
   "codemirror_mode": {
    "name": "ipython",
    "version": 3
   },
   "file_extension": ".py",
   "mimetype": "text/x-python",
   "name": "python",
   "nbconvert_exporter": "python",
   "pygments_lexer": "ipython3",
   "version": "3.7.3"
  }
 },
 "nbformat": 4,
 "nbformat_minor": 2
}
