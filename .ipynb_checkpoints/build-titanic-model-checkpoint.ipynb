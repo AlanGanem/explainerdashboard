{
 "cells": [
  {
   "cell_type": "markdown",
   "metadata": {},
   "source": [
    "# Imports"
   ]
  },
  {
   "cell_type": "code",
   "execution_count": 127,
   "metadata": {
    "ExecuteTime": {
     "end_time": "2019-10-25T12:29:19.895306Z",
     "start_time": "2019-10-25T12:29:19.884305Z"
    }
   },
   "outputs": [
    {
     "name": "stdout",
     "output_type": "stream",
     "text": [
      "The autoreload extension is already loaded. To reload it, use:\n",
      "  %reload_ext autoreload\n"
     ]
    }
   ],
   "source": [
    "%load_ext autoreload\n",
    "%autoreload 2"
   ]
  },
  {
   "cell_type": "code",
   "execution_count": 2,
   "metadata": {
    "ExecuteTime": {
     "end_time": "2019-10-25T10:30:52.090385Z",
     "start_time": "2019-10-25T10:30:51.781365Z"
    }
   },
   "outputs": [],
   "source": [
    "from IPython.core.interactiveshell import InteractiveShell\n",
    "InteractiveShell.ast_node_interactivity = \"all\""
   ]
  },
  {
   "cell_type": "code",
   "execution_count": 3,
   "metadata": {
    "ExecuteTime": {
     "end_time": "2019-10-25T10:31:08.662452Z",
     "start_time": "2019-10-25T10:30:52.092381Z"
    }
   },
   "outputs": [],
   "source": [
    "import pandas as pd\n",
    "from sklearn.ensemble import RandomForestClassifier\n",
    "from sklearn.metrics import roc_auc_score"
   ]
  },
  {
   "cell_type": "code",
   "execution_count": null,
   "metadata": {
    "ExecuteTime": {
     "start_time": "2019-10-25T13:13:57.570Z"
    }
   },
   "outputs": [],
   "source": [
    "from explainerbunch.explainers import *\n",
    "from explainerbunch.dashboards import *"
   ]
  },
  {
   "cell_type": "markdown",
   "metadata": {},
   "source": [
    "# load data"
   ]
  },
  {
   "cell_type": "code",
   "execution_count": 7,
   "metadata": {
    "ExecuteTime": {
     "end_time": "2019-10-25T11:02:15.221674Z",
     "start_time": "2019-10-25T11:02:05.604070Z"
    }
   },
   "outputs": [],
   "source": [
    "d = pd.read_csv(\"titanic_data.csv\")"
   ]
  },
  {
   "cell_type": "code",
   "execution_count": 8,
   "metadata": {
    "ExecuteTime": {
     "end_time": "2019-10-25T11:02:25.232314Z",
     "start_time": "2019-10-25T11:02:15.223672Z"
    }
   },
   "outputs": [
    {
     "data": {
      "text/plain": [
       "(891, 24)"
      ]
     },
     "execution_count": 8,
     "metadata": {},
     "output_type": "execute_result"
    },
    {
     "data": {
      "text/html": [
       "<div>\n",
       "<style scoped>\n",
       "    .dataframe tbody tr th:only-of-type {\n",
       "        vertical-align: middle;\n",
       "    }\n",
       "\n",
       "    .dataframe tbody tr th {\n",
       "        vertical-align: top;\n",
       "    }\n",
       "\n",
       "    .dataframe thead th {\n",
       "        text-align: right;\n",
       "    }\n",
       "</style>\n",
       "<table border=\"1\" class=\"dataframe\">\n",
       "  <thead>\n",
       "    <tr style=\"text-align: right;\">\n",
       "      <th></th>\n",
       "      <th>0</th>\n",
       "      <th>1</th>\n",
       "      <th>2</th>\n",
       "      <th>3</th>\n",
       "      <th>4</th>\n",
       "    </tr>\n",
       "  </thead>\n",
       "  <tbody>\n",
       "    <tr>\n",
       "      <th>Survived</th>\n",
       "      <td>0</td>\n",
       "      <td>1</td>\n",
       "      <td>1</td>\n",
       "      <td>1</td>\n",
       "      <td>0</td>\n",
       "    </tr>\n",
       "    <tr>\n",
       "      <th>Fare</th>\n",
       "      <td>7.25</td>\n",
       "      <td>71.2833</td>\n",
       "      <td>7.925</td>\n",
       "      <td>53.1</td>\n",
       "      <td>8.05</td>\n",
       "    </tr>\n",
       "    <tr>\n",
       "      <th>Familysize</th>\n",
       "      <td>1</td>\n",
       "      <td>1</td>\n",
       "      <td>0</td>\n",
       "      <td>1</td>\n",
       "      <td>0</td>\n",
       "    </tr>\n",
       "    <tr>\n",
       "      <th>Age</th>\n",
       "      <td>22</td>\n",
       "      <td>38</td>\n",
       "      <td>26</td>\n",
       "      <td>35</td>\n",
       "      <td>35</td>\n",
       "    </tr>\n",
       "    <tr>\n",
       "      <th>Pclass</th>\n",
       "      <td>3</td>\n",
       "      <td>1</td>\n",
       "      <td>3</td>\n",
       "      <td>1</td>\n",
       "      <td>3</td>\n",
       "    </tr>\n",
       "    <tr>\n",
       "      <th>SibSp</th>\n",
       "      <td>1</td>\n",
       "      <td>1</td>\n",
       "      <td>0</td>\n",
       "      <td>1</td>\n",
       "      <td>0</td>\n",
       "    </tr>\n",
       "    <tr>\n",
       "      <th>Parch</th>\n",
       "      <td>0</td>\n",
       "      <td>0</td>\n",
       "      <td>0</td>\n",
       "      <td>0</td>\n",
       "      <td>0</td>\n",
       "    </tr>\n",
       "    <tr>\n",
       "      <th>Sex_female</th>\n",
       "      <td>0</td>\n",
       "      <td>1</td>\n",
       "      <td>1</td>\n",
       "      <td>1</td>\n",
       "      <td>0</td>\n",
       "    </tr>\n",
       "    <tr>\n",
       "      <th>Sex_male</th>\n",
       "      <td>1</td>\n",
       "      <td>0</td>\n",
       "      <td>0</td>\n",
       "      <td>0</td>\n",
       "      <td>1</td>\n",
       "    </tr>\n",
       "    <tr>\n",
       "      <th>Sex_nan</th>\n",
       "      <td>0</td>\n",
       "      <td>0</td>\n",
       "      <td>0</td>\n",
       "      <td>0</td>\n",
       "      <td>0</td>\n",
       "    </tr>\n",
       "    <tr>\n",
       "      <th>Cabin_A</th>\n",
       "      <td>0</td>\n",
       "      <td>0</td>\n",
       "      <td>0</td>\n",
       "      <td>0</td>\n",
       "      <td>0</td>\n",
       "    </tr>\n",
       "    <tr>\n",
       "      <th>Cabin_B</th>\n",
       "      <td>0</td>\n",
       "      <td>0</td>\n",
       "      <td>0</td>\n",
       "      <td>0</td>\n",
       "      <td>0</td>\n",
       "    </tr>\n",
       "    <tr>\n",
       "      <th>Cabin_C</th>\n",
       "      <td>0</td>\n",
       "      <td>1</td>\n",
       "      <td>0</td>\n",
       "      <td>1</td>\n",
       "      <td>0</td>\n",
       "    </tr>\n",
       "    <tr>\n",
       "      <th>Cabin_D</th>\n",
       "      <td>0</td>\n",
       "      <td>0</td>\n",
       "      <td>0</td>\n",
       "      <td>0</td>\n",
       "      <td>0</td>\n",
       "    </tr>\n",
       "    <tr>\n",
       "      <th>Cabin_E</th>\n",
       "      <td>0</td>\n",
       "      <td>0</td>\n",
       "      <td>0</td>\n",
       "      <td>0</td>\n",
       "      <td>0</td>\n",
       "    </tr>\n",
       "    <tr>\n",
       "      <th>Cabin_F</th>\n",
       "      <td>0</td>\n",
       "      <td>0</td>\n",
       "      <td>0</td>\n",
       "      <td>0</td>\n",
       "      <td>0</td>\n",
       "    </tr>\n",
       "    <tr>\n",
       "      <th>Cabin_G</th>\n",
       "      <td>0</td>\n",
       "      <td>0</td>\n",
       "      <td>0</td>\n",
       "      <td>0</td>\n",
       "      <td>0</td>\n",
       "    </tr>\n",
       "    <tr>\n",
       "      <th>Cabin_T</th>\n",
       "      <td>0</td>\n",
       "      <td>0</td>\n",
       "      <td>0</td>\n",
       "      <td>0</td>\n",
       "      <td>0</td>\n",
       "    </tr>\n",
       "    <tr>\n",
       "      <th>Cabin_nan</th>\n",
       "      <td>1</td>\n",
       "      <td>0</td>\n",
       "      <td>1</td>\n",
       "      <td>0</td>\n",
       "      <td>1</td>\n",
       "    </tr>\n",
       "    <tr>\n",
       "      <th>Embarked_C</th>\n",
       "      <td>0</td>\n",
       "      <td>1</td>\n",
       "      <td>0</td>\n",
       "      <td>0</td>\n",
       "      <td>0</td>\n",
       "    </tr>\n",
       "    <tr>\n",
       "      <th>Embarked_Q</th>\n",
       "      <td>0</td>\n",
       "      <td>0</td>\n",
       "      <td>0</td>\n",
       "      <td>0</td>\n",
       "      <td>0</td>\n",
       "    </tr>\n",
       "    <tr>\n",
       "      <th>Embarked_S</th>\n",
       "      <td>1</td>\n",
       "      <td>0</td>\n",
       "      <td>1</td>\n",
       "      <td>1</td>\n",
       "      <td>1</td>\n",
       "    </tr>\n",
       "    <tr>\n",
       "      <th>Embarked_nan</th>\n",
       "      <td>0</td>\n",
       "      <td>0</td>\n",
       "      <td>0</td>\n",
       "      <td>0</td>\n",
       "      <td>0</td>\n",
       "    </tr>\n",
       "    <tr>\n",
       "      <th>Name</th>\n",
       "      <td>Braund, Mr. Owen Harris</td>\n",
       "      <td>Cumings, Mrs. John Bradley (Florence Briggs Th...</td>\n",
       "      <td>Heikkinen, Miss. Laina</td>\n",
       "      <td>Futrelle, Mrs. Jacques Heath (Lily May Peel)</td>\n",
       "      <td>Allen, Mr. William Henry</td>\n",
       "    </tr>\n",
       "  </tbody>\n",
       "</table>\n",
       "</div>"
      ],
      "text/plain": [
       "                                    0  \\\n",
       "Survived                            0   \n",
       "Fare                             7.25   \n",
       "Familysize                          1   \n",
       "Age                                22   \n",
       "Pclass                              3   \n",
       "SibSp                               1   \n",
       "Parch                               0   \n",
       "Sex_female                          0   \n",
       "Sex_male                            1   \n",
       "Sex_nan                             0   \n",
       "Cabin_A                             0   \n",
       "Cabin_B                             0   \n",
       "Cabin_C                             0   \n",
       "Cabin_D                             0   \n",
       "Cabin_E                             0   \n",
       "Cabin_F                             0   \n",
       "Cabin_G                             0   \n",
       "Cabin_T                             0   \n",
       "Cabin_nan                           1   \n",
       "Embarked_C                          0   \n",
       "Embarked_Q                          0   \n",
       "Embarked_S                          1   \n",
       "Embarked_nan                        0   \n",
       "Name          Braund, Mr. Owen Harris   \n",
       "\n",
       "                                                              1  \\\n",
       "Survived                                                      1   \n",
       "Fare                                                    71.2833   \n",
       "Familysize                                                    1   \n",
       "Age                                                          38   \n",
       "Pclass                                                        1   \n",
       "SibSp                                                         1   \n",
       "Parch                                                         0   \n",
       "Sex_female                                                    1   \n",
       "Sex_male                                                      0   \n",
       "Sex_nan                                                       0   \n",
       "Cabin_A                                                       0   \n",
       "Cabin_B                                                       0   \n",
       "Cabin_C                                                       1   \n",
       "Cabin_D                                                       0   \n",
       "Cabin_E                                                       0   \n",
       "Cabin_F                                                       0   \n",
       "Cabin_G                                                       0   \n",
       "Cabin_T                                                       0   \n",
       "Cabin_nan                                                     0   \n",
       "Embarked_C                                                    1   \n",
       "Embarked_Q                                                    0   \n",
       "Embarked_S                                                    0   \n",
       "Embarked_nan                                                  0   \n",
       "Name          Cumings, Mrs. John Bradley (Florence Briggs Th...   \n",
       "\n",
       "                                   2  \\\n",
       "Survived                           1   \n",
       "Fare                           7.925   \n",
       "Familysize                         0   \n",
       "Age                               26   \n",
       "Pclass                             3   \n",
       "SibSp                              0   \n",
       "Parch                              0   \n",
       "Sex_female                         1   \n",
       "Sex_male                           0   \n",
       "Sex_nan                            0   \n",
       "Cabin_A                            0   \n",
       "Cabin_B                            0   \n",
       "Cabin_C                            0   \n",
       "Cabin_D                            0   \n",
       "Cabin_E                            0   \n",
       "Cabin_F                            0   \n",
       "Cabin_G                            0   \n",
       "Cabin_T                            0   \n",
       "Cabin_nan                          1   \n",
       "Embarked_C                         0   \n",
       "Embarked_Q                         0   \n",
       "Embarked_S                         1   \n",
       "Embarked_nan                       0   \n",
       "Name          Heikkinen, Miss. Laina   \n",
       "\n",
       "                                                         3  \\\n",
       "Survived                                                 1   \n",
       "Fare                                                  53.1   \n",
       "Familysize                                               1   \n",
       "Age                                                     35   \n",
       "Pclass                                                   1   \n",
       "SibSp                                                    1   \n",
       "Parch                                                    0   \n",
       "Sex_female                                               1   \n",
       "Sex_male                                                 0   \n",
       "Sex_nan                                                  0   \n",
       "Cabin_A                                                  0   \n",
       "Cabin_B                                                  0   \n",
       "Cabin_C                                                  1   \n",
       "Cabin_D                                                  0   \n",
       "Cabin_E                                                  0   \n",
       "Cabin_F                                                  0   \n",
       "Cabin_G                                                  0   \n",
       "Cabin_T                                                  0   \n",
       "Cabin_nan                                                0   \n",
       "Embarked_C                                               0   \n",
       "Embarked_Q                                               0   \n",
       "Embarked_S                                               1   \n",
       "Embarked_nan                                             0   \n",
       "Name          Futrelle, Mrs. Jacques Heath (Lily May Peel)   \n",
       "\n",
       "                                     4  \n",
       "Survived                             0  \n",
       "Fare                              8.05  \n",
       "Familysize                           0  \n",
       "Age                                 35  \n",
       "Pclass                               3  \n",
       "SibSp                                0  \n",
       "Parch                                0  \n",
       "Sex_female                           0  \n",
       "Sex_male                             1  \n",
       "Sex_nan                              0  \n",
       "Cabin_A                              0  \n",
       "Cabin_B                              0  \n",
       "Cabin_C                              0  \n",
       "Cabin_D                              0  \n",
       "Cabin_E                              0  \n",
       "Cabin_F                              0  \n",
       "Cabin_G                              0  \n",
       "Cabin_T                              0  \n",
       "Cabin_nan                            1  \n",
       "Embarked_C                           0  \n",
       "Embarked_Q                           0  \n",
       "Embarked_S                           1  \n",
       "Embarked_nan                         0  \n",
       "Name          Allen, Mr. William Henry  "
      ]
     },
     "execution_count": 8,
     "metadata": {},
     "output_type": "execute_result"
    }
   ],
   "source": [
    "d.shape\n",
    "d.head().T"
   ]
  },
  {
   "cell_type": "markdown",
   "metadata": {},
   "source": [
    "# Generate train and test set:"
   ]
  },
  {
   "cell_type": "code",
   "execution_count": 9,
   "metadata": {
    "ExecuteTime": {
     "end_time": "2019-10-25T11:02:34.283900Z",
     "start_time": "2019-10-25T11:02:25.234313Z"
    }
   },
   "outputs": [
    {
     "data": {
      "text/plain": [
       "((691, 22), (691,), (200, 22), (200,))"
      ]
     },
     "execution_count": 9,
     "metadata": {},
     "output_type": "execute_result"
    }
   ],
   "source": [
    "test_idxs = d.sample(200).index\n",
    "\n",
    "X_train = d.drop(['Survived', 'Name'], axis=1)[~d.index.isin(test_idxs)]\n",
    "y_train = d['Survived'][~d.index.isin(test_idxs)]\n",
    "X_test = d.drop(['Survived', 'Name'], axis=1)[d.index.isin(test_idxs)]\n",
    "y_test = d['Survived'][d.index.isin(test_idxs)]\n",
    "\n",
    "X_train.shape, y_train.shape, X_test.shape, y_test.shape"
   ]
  },
  {
   "cell_type": "markdown",
   "metadata": {},
   "source": [
    "# Save onehotencoded vars en names:"
   ]
  },
  {
   "cell_type": "code",
   "execution_count": 10,
   "metadata": {
    "ExecuteTime": {
     "end_time": "2019-10-25T11:02:43.431494Z",
     "start_time": "2019-10-25T11:02:34.285897Z"
    }
   },
   "outputs": [],
   "source": [
    "\n",
    "test_names = d['Name'][d.index.isin(test_idxs)]"
   ]
  },
  {
   "cell_type": "markdown",
   "metadata": {
    "ExecuteTime": {
     "end_time": "2019-10-23T12:55:48.546580Z",
     "start_time": "2019-10-23T12:55:48.541576Z"
    }
   },
   "source": [
    "# Fit Random Forest model:"
   ]
  },
  {
   "cell_type": "code",
   "execution_count": 90,
   "metadata": {
    "ExecuteTime": {
     "end_time": "2019-10-25T12:11:20.325778Z",
     "start_time": "2019-10-25T12:11:20.187768Z"
    }
   },
   "outputs": [
    {
     "data": {
      "text/plain": [
       "RandomForestClassifier(bootstrap=True, class_weight=None, criterion='gini',\n",
       "                       max_depth=None, max_features='auto', max_leaf_nodes=None,\n",
       "                       min_impurity_decrease=0.0, min_impurity_split=None,\n",
       "                       min_samples_leaf=1, min_samples_split=2,\n",
       "                       min_weight_fraction_leaf=0.0, n_estimators=100,\n",
       "                       n_jobs=None, oob_score=False, random_state=None,\n",
       "                       verbose=0, warm_start=False)"
      ]
     },
     "execution_count": 90,
     "metadata": {},
     "output_type": "execute_result"
    }
   ],
   "source": [
    "model = RandomForestClassifier(n_estimators=100)\n",
    "model.fit(X_train, y_train)"
   ]
  },
  {
   "cell_type": "markdown",
   "metadata": {},
   "source": [
    "# Build explainer object:"
   ]
  },
  {
   "cell_type": "code",
   "execution_count": 137,
   "metadata": {
    "ExecuteTime": {
     "end_time": "2019-10-25T12:38:24.908407Z",
     "start_time": "2019-10-25T12:38:14.718750Z"
    }
   },
   "outputs": [
    {
     "data": {
      "text/plain": [
       "200"
      ]
     },
     "execution_count": 137,
     "metadata": {},
     "output_type": "execute_result"
    }
   ],
   "source": [
    "len(X_test)"
   ]
  },
  {
   "cell_type": "code",
   "execution_count": 141,
   "metadata": {
    "ExecuteTime": {
     "end_time": "2019-10-25T12:41:36.341747Z",
     "start_time": "2019-10-25T12:41:28.737248Z"
    }
   },
   "outputs": [
    {
     "data": {
      "text/html": [
       "<div>\n",
       "<style scoped>\n",
       "    .dataframe tbody tr th:only-of-type {\n",
       "        vertical-align: middle;\n",
       "    }\n",
       "\n",
       "    .dataframe tbody tr th {\n",
       "        vertical-align: top;\n",
       "    }\n",
       "\n",
       "    .dataframe thead th {\n",
       "        text-align: right;\n",
       "    }\n",
       "</style>\n",
       "<table border=\"1\" class=\"dataframe\">\n",
       "  <thead>\n",
       "    <tr style=\"text-align: right;\">\n",
       "      <th></th>\n",
       "      <th>p_min</th>\n",
       "      <th>p_max</th>\n",
       "      <th>p_avg</th>\n",
       "      <th>bin_width</th>\n",
       "      <th>precision</th>\n",
       "      <th>count</th>\n",
       "    </tr>\n",
       "  </thead>\n",
       "  <tbody>\n",
       "    <tr>\n",
       "      <th>0</th>\n",
       "      <td>0.0</td>\n",
       "      <td>1.0</td>\n",
       "      <td>0.5</td>\n",
       "      <td>1.0</td>\n",
       "      <td>0.345</td>\n",
       "      <td>200</td>\n",
       "    </tr>\n",
       "  </tbody>\n",
       "</table>\n",
       "</div>"
      ],
      "text/plain": [
       "   p_min  p_max  p_avg  bin_width  precision count\n",
       "0    0.0    1.0    0.5        1.0      0.345   200"
      ]
     },
     "execution_count": 141,
     "metadata": {},
     "output_type": "execute_result"
    }
   ],
   "source": [
    "explainer.precision_df(quantiles=1)"
   ]
  },
  {
   "cell_type": "code",
   "execution_count": 143,
   "metadata": {
    "ExecuteTime": {
     "end_time": "2019-10-25T12:47:31.215596Z",
     "start_time": "2019-10-25T12:47:21.519970Z"
    }
   },
   "outputs": [],
   "source": [
    "explainer = RandomForestClassifierBunch(model, X_test, y_test, roc_auc_score, \n",
    "                                                       idxs=d['Name'][d.index.isin(test_idxs)], #names of passengers \n",
    "                                                        cats=['Sex', 'Cabin', 'Embarked'],\n",
    "                                                       labels=['Not survived', 'Survived'])"
   ]
  },
  {
   "cell_type": "markdown",
   "metadata": {},
   "source": [
    "# Build dashboard object:"
   ]
  },
  {
   "cell_type": "code",
   "execution_count": 160,
   "metadata": {
    "ExecuteTime": {
     "end_time": "2019-10-25T12:59:08.171486Z",
     "start_time": "2019-10-25T12:59:02.738133Z"
    }
   },
   "outputs": [
    {
     "data": {
      "text/plain": [
       "True"
      ]
     },
     "execution_count": 160,
     "metadata": {},
     "output_type": "execute_result"
    }
   ],
   "source": [
    "isinstance(explainer.y[0], int) or isinstance(explainer.y[0], np.int64) "
   ]
  },
  {
   "cell_type": "code",
   "execution_count": 167,
   "metadata": {
    "ExecuteTime": {
     "end_time": "2019-10-25T13:13:55.265623Z",
     "start_time": "2019-10-25T13:13:55.095609Z"
    }
   },
   "outputs": [],
   "source": [
    "db = ClassifierDashboard(explainer,\n",
    "                        contributions=True,\n",
    "                        shap_dependence=True,\n",
    "                        shap_interaction=True,\n",
    "                        classifier_summary=True)"
   ]
  },
  {
   "cell_type": "code",
   "execution_count": null,
   "metadata": {
    "ExecuteTime": {
     "start_time": "2019-10-25T13:10:09.172Z"
    }
   },
   "outputs": [
    {
     "name": "stdout",
     "output_type": "stream",
     "text": [
      "Running Model Explainer on http://localhost:8052\n",
      " * Serving Flask app \"explainerbunch.dashboards\" (lazy loading)\n",
      " * Environment: production\n",
      "   WARNING: Do not use the development server in a production environment.\n",
      "   Use a production WSGI server instead.\n",
      " * Debug mode: off\n"
     ]
    },
    {
     "name": "stderr",
     "output_type": "stream",
     "text": [
      " * Running on http://127.0.0.1:8052/ (Press CTRL+C to quit)\n"
     ]
    }
   ],
   "source": [
    "db.run(8052)"
   ]
  },
  {
   "cell_type": "code",
   "execution_count": 14,
   "metadata": {
    "ExecuteTime": {
     "end_time": "2019-10-25T11:03:13.480458Z",
     "start_time": "2019-10-25T11:03:06.617978Z"
    }
   },
   "outputs": [],
   "source": [
    "db2 = RandomForestDashboard(explainer,\n",
    "                        contributions=True,\n",
    "                        shap_dependence=True,\n",
    "                        shap_interaction=True,\n",
    "                        shadow_trees=True)"
   ]
  },
  {
   "cell_type": "code",
   "execution_count": 18,
   "metadata": {
    "ExecuteTime": {
     "end_time": "2019-10-25T11:07:17.748156Z",
     "start_time": "2019-10-25T11:07:09.017591Z"
    }
   },
   "outputs": [
    {
     "name": "stdout",
     "output_type": "stream",
     "text": [
      "Calculating shap values...\n",
      "Generating shap TreeExplainer...\n"
     ]
    }
   ],
   "source": [
    "db3 = RandomForestClassifierDashboard(explainer,\n",
    "                        contributions=True,\n",
    "                        shap_dependence=True,\n",
    "                        shap_interaction=True,\n",
    "                        shadow_trees=True,\n",
    "                        classifier_summary=True)"
   ]
  },
  {
   "cell_type": "markdown",
   "metadata": {},
   "source": [
    "# Run dashboard:"
   ]
  },
  {
   "cell_type": "code",
   "execution_count": null,
   "metadata": {
    "ExecuteTime": {
     "end_time": "2019-10-25T10:31:31.793940Z",
     "start_time": "2019-10-25T10:30:51.442Z"
    }
   },
   "outputs": [],
   "source": [
    "db.run(8052)"
   ]
  },
  {
   "cell_type": "code",
   "execution_count": null,
   "metadata": {},
   "outputs": [],
   "source": []
  }
 ],
 "metadata": {
  "kernelspec": {
   "display_name": "Python 3",
   "language": "python",
   "name": "python3"
  },
  "language_info": {
   "codemirror_mode": {
    "name": "ipython",
    "version": 3
   },
   "file_extension": ".py",
   "mimetype": "text/x-python",
   "name": "python",
   "nbconvert_exporter": "python",
   "pygments_lexer": "ipython3",
   "version": "3.7.3"
  }
 },
 "nbformat": 4,
 "nbformat_minor": 2
}
