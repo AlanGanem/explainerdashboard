{
 "cells": [
  {
   "cell_type": "markdown",
   "metadata": {},
   "source": [
    "# Imports"
   ]
  },
  {
   "cell_type": "code",
   "execution_count": 1,
   "metadata": {
    "ExecuteTime": {
     "end_time": "2019-11-06T13:04:08.094300Z",
     "start_time": "2019-11-06T13:04:07.767281Z"
    }
   },
   "outputs": [],
   "source": [
    "%load_ext autoreload\n",
    "%autoreload 2"
   ]
  },
  {
   "cell_type": "code",
   "execution_count": 2,
   "metadata": {
    "ExecuteTime": {
     "end_time": "2019-11-06T13:04:08.100301Z",
     "start_time": "2019-11-06T13:04:08.097301Z"
    }
   },
   "outputs": [],
   "source": [
    "from IPython.core.interactiveshell import InteractiveShell\n",
    "InteractiveShell.ast_node_interactivity = \"all\""
   ]
  },
  {
   "cell_type": "code",
   "execution_count": 3,
   "metadata": {
    "ExecuteTime": {
     "end_time": "2019-11-06T13:04:25.772439Z",
     "start_time": "2019-11-06T13:04:08.103302Z"
    }
   },
   "outputs": [],
   "source": [
    "import pandas as pd\n",
    "from sklearn.ensemble import RandomForestClassifier, RandomForestRegressor\n",
    "from xgboost import XGBClassifier\n",
    "from sklearn.metrics import roc_auc_score, r2_score"
   ]
  },
  {
   "cell_type": "code",
   "execution_count": 4,
   "metadata": {
    "ExecuteTime": {
     "start_time": "2019-11-06T13:03:59.697Z"
    }
   },
   "outputs": [],
   "source": [
    "from explainerdashboard.explainers import *\n",
    "from explainerdashboard.dashboards import *\n",
    "from explainerdashboard.datasets import *"
   ]
  },
  {
   "cell_type": "markdown",
   "metadata": {},
   "source": [
    "# RandomForestRegressor"
   ]
  },
  {
   "cell_type": "code",
   "execution_count": 7,
   "metadata": {
    "ExecuteTime": {
     "start_time": "2019-11-06T13:04:03.345Z"
    }
   },
   "outputs": [
    {
     "data": {
      "text/plain": [
       "RandomForestRegressor(bootstrap=True, ccp_alpha=0.0, criterion='mse',\n",
       "                      max_depth=5, max_features='auto', max_leaf_nodes=None,\n",
       "                      max_samples=None, min_impurity_decrease=0.0,\n",
       "                      min_impurity_split=None, min_samples_leaf=1,\n",
       "                      min_samples_split=2, min_weight_fraction_leaf=0.0,\n",
       "                      n_estimators=50, n_jobs=None, oob_score=False,\n",
       "                      random_state=None, verbose=0, warm_start=False)"
      ]
     },
     "execution_count": 7,
     "metadata": {},
     "output_type": "execute_result"
    },
    {
     "name": "stdout",
     "output_type": "stream",
     "text": [
      "Calculating shap values...\n",
      "Generating shap TreeExplainer...\n",
      "Calculating predictions...\n",
      "Calculating shap values...\n",
      "Calculating importances...\n",
      "Generating shadow trees...\n",
      "Running Model Explainer on http://localhost:8051\n",
      " * Serving Flask app \"explainerdashboard.dashboards\" (lazy loading)\n",
      " * Environment: production\n",
      "   WARNING: This is a development server. Do not use it in a production deployment.\n",
      "   Use a production WSGI server instead.\n",
      " * Debug mode: off\n"
     ]
    },
    {
     "name": "stderr",
     "output_type": "stream",
     "text": [
      " * Running on http://127.0.0.1:8051/ (Press CTRL+C to quit)\n",
      "127.0.0.1 - - [18/Dec/2019 14:29:08] \"GET / HTTP/1.1\" 200 -\n",
      "127.0.0.1 - - [18/Dec/2019 14:29:08] \"GET /assets/bootstrap.css?m=1573382556.0 HTTP/1.1\" 200 -\n",
      "127.0.0.1 - - [18/Dec/2019 14:29:08] \"GET /assets/stylesheet.css?m=1573382556.0 HTTP/1.1\" 200 -\n",
      "127.0.0.1 - - [18/Dec/2019 14:29:08] \"GET /assets/dash_bootstrap_components.min.js?m=1573382556.0 HTTP/1.1\" 304 -\n",
      "127.0.0.1 - - [18/Dec/2019 14:29:08] \"GET /_dash-dependencies HTTP/1.1\" 200 -\n",
      "127.0.0.1 - - [18/Dec/2019 14:29:08] \"GET /_dash-layout HTTP/1.1\" 200 -\n",
      "127.0.0.1 - - [18/Dec/2019 14:29:08] \"GET /_favicon.ico?v=1.7.0 HTTP/1.1\" 200 -\n",
      "127.0.0.1 - - [18/Dec/2019 14:29:08] \"POST /_dash-update-component HTTP/1.1\" 200 -\n",
      "127.0.0.1 - - [18/Dec/2019 14:29:08] \"POST /_dash-update-component HTTP/1.1\" 200 -\n",
      "127.0.0.1 - - [18/Dec/2019 14:29:09] \"POST /_dash-update-component HTTP/1.1\" 200 -\n",
      "127.0.0.1 - - [18/Dec/2019 14:29:09] \"POST /_dash-update-component HTTP/1.1\" 200 -\n",
      "127.0.0.1 - - [18/Dec/2019 14:29:09] \"POST /_dash-update-component HTTP/1.1\" 200 -\n",
      "127.0.0.1 - - [18/Dec/2019 14:29:09] \"POST /_dash-update-component HTTP/1.1\" 200 -\n",
      "127.0.0.1 - - [18/Dec/2019 14:29:09] \"POST /_dash-update-component HTTP/1.1\" 200 -\n",
      "127.0.0.1 - - [18/Dec/2019 14:29:11] \"POST /_dash-update-component HTTP/1.1\" 200 -\n",
      "127.0.0.1 - - [18/Dec/2019 14:29:11] \"POST /_dash-update-component HTTP/1.1\" 200 -\n",
      "127.0.0.1 - - [18/Dec/2019 14:29:12] \"POST /_dash-update-component HTTP/1.1\" 204 -\n",
      "127.0.0.1 - - [18/Dec/2019 14:29:14] \"POST /_dash-update-component HTTP/1.1\" 200 -\n",
      "127.0.0.1 - - [18/Dec/2019 14:29:14] \"POST /_dash-update-component HTTP/1.1\" 200 -\n",
      "127.0.0.1 - - [18/Dec/2019 14:29:15] \"POST /_dash-update-component HTTP/1.1\" 200 -\n",
      "127.0.0.1 - - [18/Dec/2019 14:29:15] \"POST /_dash-update-component HTTP/1.1\" 204 -\n",
      "127.0.0.1 - - [18/Dec/2019 14:29:15] \"POST /_dash-update-component HTTP/1.1\" 204 -\n",
      "127.0.0.1 - - [18/Dec/2019 14:29:15] \"POST /_dash-update-component HTTP/1.1\" 204 -\n",
      "127.0.0.1 - - [18/Dec/2019 14:29:15] \"POST /_dash-update-component HTTP/1.1\" 200 -\n",
      "127.0.0.1 - - [18/Dec/2019 14:29:16] \"POST /_dash-update-component HTTP/1.1\" 200 -\n",
      "127.0.0.1 - - [18/Dec/2019 14:29:17] \"POST /_dash-update-component HTTP/1.1\" 200 -\n",
      "127.0.0.1 - - [18/Dec/2019 14:29:17] \"POST /_dash-update-component HTTP/1.1\" 200 -\n",
      "127.0.0.1 - - [18/Dec/2019 14:29:17] \"POST /_dash-update-component HTTP/1.1\" 200 -\n",
      "127.0.0.1 - - [18/Dec/2019 14:29:18] \"POST /_dash-update-component HTTP/1.1\" 200 -\n",
      "127.0.0.1 - - [18/Dec/2019 14:29:24] \"POST /_dash-update-component HTTP/1.1\" 200 -\n"
     ]
    }
   ],
   "source": [
    "X_train, y_train, X_test, y_test = titanic_fare()\n",
    "train_names, test_names = titanic_names()\n",
    "\n",
    "model = RandomForestRegressor(n_estimators=50, max_depth=5)\n",
    "model.fit(X_train, y_train)\n",
    "\n",
    "explainer = RandomForestRegressionBunch(model, X_test, y_test, r2_score, \n",
    "                               cats=['Sex', 'Deck', 'Embarked'],\n",
    "                               idxs=test_names)\n",
    "\n",
    "db = ExplainerDashboard(explainer,\n",
    "                        model_summary=True,\n",
    "                        contributions=True,\n",
    "                        shap_dependence=True,\n",
    "                        shap_interaction=False,\n",
    "                        shadow_trees=True)\n",
    "db.run(8051)"
   ]
  },
  {
   "cell_type": "markdown",
   "metadata": {},
   "source": [
    "# RandomForestClassifier:"
   ]
  },
  {
   "cell_type": "code",
   "execution_count": 8,
   "metadata": {
    "ExecuteTime": {
     "end_time": "2019-11-06T13:03:52.617314Z",
     "start_time": "2019-11-06T08:38:37.677784Z"
    }
   },
   "outputs": [
    {
     "data": {
      "text/plain": [
       "RandomForestClassifier(bootstrap=True, ccp_alpha=0.0, class_weight=None,\n",
       "                       criterion='gini', max_depth=5, max_features='auto',\n",
       "                       max_leaf_nodes=None, max_samples=None,\n",
       "                       min_impurity_decrease=0.0, min_impurity_split=None,\n",
       "                       min_samples_leaf=1, min_samples_split=2,\n",
       "                       min_weight_fraction_leaf=0.0, n_estimators=50,\n",
       "                       n_jobs=None, oob_score=False, random_state=None,\n",
       "                       verbose=0, warm_start=False)"
      ]
     },
     "execution_count": 8,
     "metadata": {},
     "output_type": "execute_result"
    },
    {
     "name": "stdout",
     "output_type": "stream",
     "text": [
      "Calculating shap values...\n",
      "Generating shap TreeExplainer...\n",
      "Calculating predictions...\n",
      "Calculating prediction probabilities...\n",
      "Calculating importances...\n",
      "Calculating shap interaction values...\n",
      "Generating shadow trees...\n",
      "Running Model Explainer on http://localhost:8052\n",
      " * Serving Flask app \"explainerdashboard.dashboards\" (lazy loading)\n",
      " * Environment: production\n",
      "   WARNING: This is a development server. Do not use it in a production deployment.\n",
      "   Use a production WSGI server instead.\n",
      " * Debug mode: off\n"
     ]
    },
    {
     "name": "stderr",
     "output_type": "stream",
     "text": [
      " * Running on http://127.0.0.1:8052/ (Press CTRL+C to quit)\n",
      "127.0.0.1 - - [20/Dec/2019 11:56:30] \"GET / HTTP/1.1\" 200 -\n",
      "127.0.0.1 - - [20/Dec/2019 11:56:30] \"GET /_dash-dependencies HTTP/1.1\" 200 -\n",
      "127.0.0.1 - - [20/Dec/2019 11:56:30] \"GET /_dash-layout HTTP/1.1\" 200 -\n",
      "127.0.0.1 - - [20/Dec/2019 11:56:30] \"POST /_dash-update-component HTTP/1.1\" 200 -\n",
      "127.0.0.1 - - [20/Dec/2019 11:56:30] \"POST /_dash-update-component HTTP/1.1\" 200 -\n",
      "127.0.0.1 - - [20/Dec/2019 11:56:30] \"POST /_dash-update-component HTTP/1.1\" 200 -\n",
      "127.0.0.1 - - [20/Dec/2019 11:56:30] \"POST /_dash-update-component HTTP/1.1\" 200 -\n",
      "127.0.0.1 - - [20/Dec/2019 11:56:30] \"POST /_dash-update-component HTTP/1.1\" 200 -\n",
      "127.0.0.1 - - [20/Dec/2019 11:56:30] \"POST /_dash-update-component HTTP/1.1\" 200 -\n",
      "127.0.0.1 - - [20/Dec/2019 11:56:30] \"POST /_dash-update-component HTTP/1.1\" 200 -\n",
      "127.0.0.1 - - [20/Dec/2019 11:56:31] \"POST /_dash-update-component HTTP/1.1\" 200 -\n",
      "127.0.0.1 - - [20/Dec/2019 11:56:31] \"POST /_dash-update-component HTTP/1.1\" 200 -\n",
      "127.0.0.1 - - [20/Dec/2019 11:56:31] \"POST /_dash-update-component HTTP/1.1\" 200 -\n",
      "127.0.0.1 - - [20/Dec/2019 11:56:32] \"POST /_dash-update-component HTTP/1.1\" 200 -\n",
      "127.0.0.1 - - [20/Dec/2019 11:56:34] \"POST /_dash-update-component HTTP/1.1\" 200 -\n",
      "127.0.0.1 - - [20/Dec/2019 11:56:34] \"POST /_dash-update-component HTTP/1.1\" 204 -\n",
      "127.0.0.1 - - [20/Dec/2019 11:56:34] \"POST /_dash-update-component HTTP/1.1\" 204 -\n",
      "127.0.0.1 - - [20/Dec/2019 11:56:34] \"POST /_dash-update-component HTTP/1.1\" 204 -\n",
      "127.0.0.1 - - [20/Dec/2019 11:56:34] \"POST /_dash-update-component HTTP/1.1\" 204 -\n",
      "127.0.0.1 - - [20/Dec/2019 11:56:39] \"POST /_dash-update-component HTTP/1.1\" 200 -\n",
      "127.0.0.1 - - [20/Dec/2019 11:56:39] \"POST /_dash-update-component HTTP/1.1\" 200 -\n",
      "127.0.0.1 - - [20/Dec/2019 11:56:42] \"POST /_dash-update-component HTTP/1.1\" 200 -\n",
      "127.0.0.1 - - [20/Dec/2019 11:56:42] \"POST /_dash-update-component HTTP/1.1\" 200 -\n",
      "127.0.0.1 - - [20/Dec/2019 11:56:42] \"POST /_dash-update-component HTTP/1.1\" 200 -\n",
      "127.0.0.1 - - [20/Dec/2019 11:56:42] \"POST /_dash-update-component HTTP/1.1\" 200 -\n",
      "127.0.0.1 - - [20/Dec/2019 11:56:43] \"POST /_dash-update-component HTTP/1.1\" 200 -\n",
      "127.0.0.1 - - [20/Dec/2019 11:56:44] \"POST /_dash-update-component HTTP/1.1\" 200 -\n",
      "127.0.0.1 - - [20/Dec/2019 11:56:44] \"POST /_dash-update-component HTTP/1.1\" 200 -\n",
      "127.0.0.1 - - [20/Dec/2019 11:56:44] \"POST /_dash-update-component HTTP/1.1\" 200 -\n",
      "127.0.0.1 - - [20/Dec/2019 11:56:45] \"POST /_dash-update-component HTTP/1.1\" 200 -\n",
      "127.0.0.1 - - [20/Dec/2019 11:56:45] \"POST /_dash-update-component HTTP/1.1\" 204 -\n",
      "127.0.0.1 - - [20/Dec/2019 11:56:45] \"POST /_dash-update-component HTTP/1.1\" 200 -\n",
      "127.0.0.1 - - [20/Dec/2019 11:56:45] \"POST /_dash-update-component HTTP/1.1\" 200 -\n",
      "127.0.0.1 - - [20/Dec/2019 11:56:46] \"POST /_dash-update-component HTTP/1.1\" 200 -\n",
      "127.0.0.1 - - [20/Dec/2019 11:56:46] \"POST /_dash-update-component HTTP/1.1\" 200 -\n",
      "127.0.0.1 - - [20/Dec/2019 11:56:47] \"POST /_dash-update-component HTTP/1.1\" 200 -\n",
      "127.0.0.1 - - [20/Dec/2019 11:56:47] \"POST /_dash-update-component HTTP/1.1\" 200 -\n",
      "127.0.0.1 - - [20/Dec/2019 11:56:47] \"POST /_dash-update-component HTTP/1.1\" 200 -\n",
      "127.0.0.1 - - [20/Dec/2019 11:56:48] \"POST /_dash-update-component HTTP/1.1\" 200 -\n"
     ]
    }
   ],
   "source": [
    "X_train, y_train, X_test, y_test = titanic_survive()\n",
    "train_names, test_names = titanic_names()\n",
    "\n",
    "model = RandomForestClassifier(n_estimators=50, max_depth=5)\n",
    "model.fit(X_train, y_train)\n",
    "\n",
    "\n",
    "explainer = RandomForestClassifierBunch(model, X_test, y_test, roc_auc_score, \n",
    "                               cats=['Sex', 'Deck', 'Embarked'],\n",
    "                               idxs=test_names, #names of passengers \n",
    "                               labels=['Not survived', 'Survived'])\n",
    "\n",
    "db = ExplainerDashboard(explainer,\n",
    "                        model_summary=True,\n",
    "                        contributions=True,\n",
    "                        shap_dependence=True,\n",
    "                        shap_interaction=True,\n",
    "                        shadow_trees=True)\n",
    "db.run(8052)\n"
   ]
  },
  {
   "cell_type": "code",
   "execution_count": 10,
   "metadata": {},
   "outputs": [
    {
     "name": "stdout",
     "output_type": "stream",
     "text": [
      "Running Model Explainer on http://localhost:8052\n",
      " * Serving Flask app \"explainerdashboard.dashboards\" (lazy loading)\n",
      " * Environment: production\n",
      "   WARNING: This is a development server. Do not use it in a production deployment.\n",
      "   Use a production WSGI server instead.\n",
      " * Debug mode: off\n"
     ]
    },
    {
     "name": "stderr",
     "output_type": "stream",
     "text": [
      " * Running on http://127.0.0.1:8052/ (Press CTRL+C to quit)\n",
      "127.0.0.1 - - [20/Dec/2019 12:06:52] \"GET / HTTP/1.1\" 200 -\n",
      "127.0.0.1 - - [20/Dec/2019 12:06:53] \"GET /_dash-layout HTTP/1.1\" 200 -\n",
      "127.0.0.1 - - [20/Dec/2019 12:06:53] \"GET /_dash-dependencies HTTP/1.1\" 200 -\n",
      "127.0.0.1 - - [20/Dec/2019 12:06:53] \"POST /_dash-update-component HTTP/1.1\" 200 -\n",
      "127.0.0.1 - - [20/Dec/2019 12:06:53] \"POST /_dash-update-component HTTP/1.1\" 200 -\n",
      "127.0.0.1 - - [20/Dec/2019 12:06:53] \"POST /_dash-update-component HTTP/1.1\" 200 -\n",
      "127.0.0.1 - - [20/Dec/2019 12:06:53] \"POST /_dash-update-component HTTP/1.1\" 200 -\n",
      "127.0.0.1 - - [20/Dec/2019 12:06:53] \"POST /_dash-update-component HTTP/1.1\" 200 -\n",
      "127.0.0.1 - - [20/Dec/2019 12:06:53] \"POST /_dash-update-component HTTP/1.1\" 200 -\n",
      "127.0.0.1 - - [20/Dec/2019 12:06:53] \"POST /_dash-update-component HTTP/1.1\" 200 -\n",
      "127.0.0.1 - - [20/Dec/2019 12:06:53] \"POST /_dash-update-component HTTP/1.1\" 200 -\n",
      "127.0.0.1 - - [20/Dec/2019 12:06:53] \"POST /_dash-update-component HTTP/1.1\" 200 -\n",
      "127.0.0.1 - - [20/Dec/2019 12:06:54] \"POST /_dash-update-component HTTP/1.1\" 200 -\n",
      "127.0.0.1 - - [20/Dec/2019 12:06:55] \"POST /_dash-update-component HTTP/1.1\" 200 -\n",
      "127.0.0.1 - - [20/Dec/2019 12:06:56] \"POST /_dash-update-component HTTP/1.1\" 204 -\n",
      "127.0.0.1 - - [20/Dec/2019 12:06:56] \"POST /_dash-update-component HTTP/1.1\" 204 -\n",
      "127.0.0.1 - - [20/Dec/2019 12:06:56] \"POST /_dash-update-component HTTP/1.1\" 204 -\n",
      "127.0.0.1 - - [20/Dec/2019 12:06:56] \"POST /_dash-update-component HTTP/1.1\" 200 -\n",
      "127.0.0.1 - - [20/Dec/2019 12:06:57] \"POST /_dash-update-component HTTP/1.1\" 200 -\n",
      "127.0.0.1 - - [20/Dec/2019 12:06:59] \"POST /_dash-update-component HTTP/1.1\" 200 -\n",
      "127.0.0.1 - - [20/Dec/2019 12:07:00] \"POST /_dash-update-component HTTP/1.1\" 200 -\n",
      "127.0.0.1 - - [20/Dec/2019 12:07:01] \"POST /_dash-update-component HTTP/1.1\" 200 -\n",
      "127.0.0.1 - - [20/Dec/2019 12:07:02] \"POST /_dash-update-component HTTP/1.1\" 200 -\n",
      "127.0.0.1 - - [20/Dec/2019 12:07:04] \"POST /_dash-update-component HTTP/1.1\" 200 -\n",
      "127.0.0.1 - - [20/Dec/2019 12:07:05] \"POST /_dash-update-component HTTP/1.1\" 200 -\n"
     ]
    }
   ],
   "source": [
    "db = ExplainerDashboard(explainer,\n",
    "                        model_summary=True,\n",
    "                        contributions=True,\n",
    "                        shap_dependence=True,\n",
    "                        shap_interaction=True,\n",
    "                        shadow_trees=True)\n",
    "db.run(8052)"
   ]
  },
  {
   "cell_type": "markdown",
   "metadata": {
    "ExecuteTime": {
     "end_time": "2019-10-23T12:55:48.546580Z",
     "start_time": "2019-10-23T12:55:48.541576Z"
    }
   },
   "source": [
    "# XGBClassifier:"
   ]
  },
  {
   "cell_type": "code",
   "execution_count": 5,
   "metadata": {
    "ExecuteTime": {
     "end_time": "2019-11-05T15:00:25.680557Z",
     "start_time": "2019-11-05T12:20:30.468610Z"
    }
   },
   "outputs": [
    {
     "data": {
      "text/plain": [
       "XGBClassifier(base_score=0.5, booster='gbtree', colsample_bylevel=1,\n",
       "              colsample_bynode=1, colsample_bytree=1, gamma=0,\n",
       "              learning_rate=0.1, max_delta_step=0, max_depth=3,\n",
       "              min_child_weight=1, missing=None, n_estimators=100, n_jobs=1,\n",
       "              nthread=None, objective='binary:logistic', random_state=0,\n",
       "              reg_alpha=0, reg_lambda=1, scale_pos_weight=1, seed=None,\n",
       "              silent=None, subsample=1, verbosity=1)"
      ]
     },
     "execution_count": 5,
     "metadata": {},
     "output_type": "execute_result"
    },
    {
     "name": "stdout",
     "output_type": "stream",
     "text": [
      "Calculating shap values...\n",
      "Generating shap TreeExplainer...\n",
      "Calculating predictions...\n",
      "Calculating prediction probabilities...\n",
      "Calculating importances...\n",
      "Running Model Explainer on http://localhost:8052\n",
      " * Serving Flask app \"explainerdashboard.dashboards\" (lazy loading)\n",
      " * Environment: production\n",
      "   WARNING: This is a development server. Do not use it in a production deployment.\n",
      "   Use a production WSGI server instead.\n",
      " * Debug mode: off\n"
     ]
    },
    {
     "name": "stderr",
     "output_type": "stream",
     "text": [
      " * Running on http://127.0.0.1:8052/ (Press CTRL+C to quit)\n",
      "127.0.0.1 - - [08/Nov/2019 11:52:46] \"GET / HTTP/1.1\" 200 -\n",
      "127.0.0.1 - - [08/Nov/2019 11:52:46] \"GET /_dash-component-suites/dash_renderer/react@16.8.6.min.js?v=1.0.0&m=1566138683 HTTP/1.1\" 200 -\n",
      "127.0.0.1 - - [08/Nov/2019 11:52:47] \"GET /_dash-component-suites/dash_renderer/react-dom@16.8.6.min.js?v=1.0.0&m=1566138683 HTTP/1.1\" 200 -\n",
      "127.0.0.1 - - [08/Nov/2019 11:52:47] \"GET /_dash-component-suites/dash_renderer/prop-types@15.7.2.min.js?v=1.0.0&m=1566138683 HTTP/1.1\" 200 -\n",
      "127.0.0.1 - - [08/Nov/2019 11:52:47] \"GET /_dash-component-suites/dash_html_components/dash_html_components.min.js?v=1.0.0&m=1566138672 HTTP/1.1\" 200 -\n",
      "127.0.0.1 - - [08/Nov/2019 11:52:47] \"GET /_dash-component-suites/dash_bootstrap_components/_components/dash_bootstrap_components.min.js?v=0.7.0&m=1566138674 HTTP/1.1\" 200 -\n",
      "127.0.0.1 - - [08/Nov/2019 11:52:47] \"GET /_dash-component-suites/dash_core_components/highlight.pack.js?v=1.1.1&m=1566138668 HTTP/1.1\" 200 -\n",
      "127.0.0.1 - - [08/Nov/2019 11:52:47] \"GET /_dash-component-suites/dash_renderer/dash_renderer.min.js?v=1.0.0&m=1566138683 HTTP/1.1\" 200 -\n",
      "127.0.0.1 - - [08/Nov/2019 11:52:47] \"GET /_dash-component-suites/dash_core_components/dash_core_components.min.js?v=1.1.1&m=1566138668 HTTP/1.1\" 200 -\n",
      "127.0.0.1 - - [08/Nov/2019 11:52:47] \"GET /_dash-component-suites/dash_table/bundle.js?v=4.1.0&m=1566138672 HTTP/1.1\" 200 -\n",
      "127.0.0.1 - - [08/Nov/2019 11:52:47] \"GET /_dash-component-suites/dash_daq/bundle.js?v=0.1.7&m=1566138674 HTTP/1.1\" 200 -\n",
      "127.0.0.1 - - [08/Nov/2019 11:52:47] \"GET /_dash-component-suites/dash_core_components/plotly-1.49.1.min.js?v=1.1.1&m=1566138668 HTTP/1.1\" 200 -\n",
      "127.0.0.1 - - [08/Nov/2019 11:52:49] \"GET /_dash-dependencies HTTP/1.1\" 200 -\n",
      "127.0.0.1 - - [08/Nov/2019 11:52:49] \"GET /_dash-layout HTTP/1.1\" 200 -\n",
      "127.0.0.1 - - [08/Nov/2019 11:52:49] \"POST /_dash-update-component HTTP/1.1\" 200 -\n",
      "127.0.0.1 - - [08/Nov/2019 11:52:49] \"POST /_dash-update-component HTTP/1.1\" 204 -\n",
      "127.0.0.1 - - [08/Nov/2019 11:52:49] \"POST /_dash-update-component HTTP/1.1\" 200 -\n",
      "127.0.0.1 - - [08/Nov/2019 11:52:50] \"POST /_dash-update-component HTTP/1.1\" 200 -\n",
      "127.0.0.1 - - [08/Nov/2019 11:52:50] \"POST /_dash-update-component HTTP/1.1\" 204 -\n",
      "127.0.0.1 - - [08/Nov/2019 11:52:50] \"POST /_dash-update-component HTTP/1.1\" 200 -\n",
      "127.0.0.1 - - [08/Nov/2019 11:52:51] \"POST /_dash-update-component HTTP/1.1\" 200 -\n",
      "127.0.0.1 - - [08/Nov/2019 11:52:51] \"POST /_dash-update-component HTTP/1.1\" 200 -\n",
      "127.0.0.1 - - [08/Nov/2019 11:52:51] \"POST /_dash-update-component HTTP/1.1\" 200 -\n",
      "127.0.0.1 - - [08/Nov/2019 11:52:51] \"POST /_dash-update-component HTTP/1.1\" 200 -\n",
      "127.0.0.1 - - [08/Nov/2019 11:52:52] \"POST /_dash-update-component HTTP/1.1\" 200 -\n",
      "127.0.0.1 - - [08/Nov/2019 11:52:53] \"POST /_dash-update-component HTTP/1.1\" 200 -\n",
      "127.0.0.1 - - [08/Nov/2019 11:52:53] \"POST /_dash-update-component HTTP/1.1\" 200 -\n",
      "127.0.0.1 - - [08/Nov/2019 11:52:55] \"POST /_dash-update-component HTTP/1.1\" 200 -\n",
      "127.0.0.1 - - [08/Nov/2019 11:53:05] \"POST /_dash-update-component HTTP/1.1\" 200 -\n",
      "127.0.0.1 - - [08/Nov/2019 11:53:06] \"POST /_dash-update-component HTTP/1.1\" 200 -\n",
      "127.0.0.1 - - [08/Nov/2019 11:53:06] \"POST /_dash-update-component HTTP/1.1\" 200 -\n",
      "127.0.0.1 - - [08/Nov/2019 11:53:06] \"POST /_dash-update-component HTTP/1.1\" 200 -\n",
      "127.0.0.1 - - [08/Nov/2019 11:53:08] \"POST /_dash-update-component HTTP/1.1\" 200 -\n",
      "127.0.0.1 - - [08/Nov/2019 11:53:09] \"POST /_dash-update-component HTTP/1.1\" 200 -\n",
      "127.0.0.1 - - [08/Nov/2019 11:53:09] \"POST /_dash-update-component HTTP/1.1\" 200 -\n",
      "127.0.0.1 - - [08/Nov/2019 11:53:09] \"POST /_dash-update-component HTTP/1.1\" 200 -\n",
      "127.0.0.1 - - [08/Nov/2019 11:53:10] \"POST /_dash-update-component HTTP/1.1\" 200 -\n",
      "127.0.0.1 - - [08/Nov/2019 11:53:24] \"POST /_dash-update-component HTTP/1.1\" 204 -\n",
      "127.0.0.1 - - [08/Nov/2019 11:53:30] \"POST /_dash-update-component HTTP/1.1\" 200 -\n",
      "127.0.0.1 - - [08/Nov/2019 11:53:31] \"POST /_dash-update-component HTTP/1.1\" 200 -\n",
      "127.0.0.1 - - [08/Nov/2019 11:53:33] \"POST /_dash-update-component HTTP/1.1\" 200 -\n"
     ]
    }
   ],
   "source": [
    "X_train, y_train, X_test, y_test = titanic_survive()\n",
    "train_names, test_names = titanic_names()\n",
    "\n",
    "xgb_model = XGBClassifier()\n",
    "xgb_model.fit(X_train, y_train)\n",
    "\n",
    "explainer = TreeModelClassifierBunch(xgb_model, X_test, y_test, roc_auc_score, \n",
    "                                   cats=['Sex', 'Cabin', 'Embarked'],\n",
    "                                   idxs=test_names, #names of passengers \n",
    "                                   labels=['Not survived', 'Survived'])\n",
    "\n",
    "db = ExplainerDashboard(explainer,\n",
    "                        model_summary=True,\n",
    "                        contributions=True,\n",
    "                        shap_dependence=True,\n",
    "                        shap_interaction=False)\n",
    "db.run(8052)"
   ]
  },
  {
   "cell_type": "code",
   "execution_count": null,
   "metadata": {
    "collapsed": true
   },
   "outputs": [],
   "source": []
  }
 ],
 "metadata": {
  "kernelspec": {
   "display_name": "Python 3",
   "language": "python",
   "name": "python3"
  },
  "language_info": {
   "codemirror_mode": {
    "name": "ipython",
    "version": 3
   },
   "file_extension": ".py",
   "mimetype": "text/x-python",
   "name": "python",
   "nbconvert_exporter": "python",
   "pygments_lexer": "ipython3",
   "version": "3.7.5"
  }
 },
 "nbformat": 4,
 "nbformat_minor": 2
}
