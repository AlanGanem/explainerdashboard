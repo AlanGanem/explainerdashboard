{
 "cells": [
  {
   "cell_type": "markdown",
   "metadata": {},
   "source": [
    "# Imports"
   ]
  },
  {
   "cell_type": "code",
   "execution_count": 32,
   "metadata": {
    "ExecuteTime": {
     "end_time": "2019-12-03T10:31:39.344719Z",
     "start_time": "2019-12-03T10:31:38.516653Z"
    }
   },
   "outputs": [
    {
     "name": "stdout",
     "output_type": "stream",
     "text": [
      "The autoreload extension is already loaded. To reload it, use:\n",
      "  %reload_ext autoreload\n"
     ]
    }
   ],
   "source": [
    "%load_ext autoreload\n",
    "%autoreload 2"
   ]
  },
  {
   "cell_type": "code",
   "execution_count": 33,
   "metadata": {
    "ExecuteTime": {
     "end_time": "2019-12-03T10:31:39.350724Z",
     "start_time": "2019-12-03T10:31:39.346719Z"
    }
   },
   "outputs": [],
   "source": [
    "from IPython.core.interactiveshell import InteractiveShell\n",
    "InteractiveShell.ast_node_interactivity = \"all\""
   ]
  },
  {
   "cell_type": "code",
   "execution_count": 34,
   "metadata": {
    "ExecuteTime": {
     "end_time": "2019-12-03T10:32:09.496045Z",
     "start_time": "2019-12-03T10:31:39.353718Z"
    }
   },
   "outputs": [],
   "source": [
    "import pandas as pd\n",
    "from sklearn.ensemble import RandomForestClassifier, RandomForestRegressor\n",
    "from xgboost import XGBClassifier\n",
    "from sklearn.metrics import roc_auc_score, r2_score"
   ]
  },
  {
   "cell_type": "code",
   "execution_count": 35,
   "metadata": {
    "ExecuteTime": {
     "end_time": "2019-12-03T10:32:36.863151Z",
     "start_time": "2019-12-03T10:32:09.498045Z"
    }
   },
   "outputs": [],
   "source": [
    "from explainerdashboard.explainers import *\n",
    "from explainerdashboard.dashboards import *\n",
    "from explainerdashboard.datasets import *"
   ]
  },
  {
   "cell_type": "markdown",
   "metadata": {},
   "source": [
    "# RandomForestClassifier:"
   ]
  },
  {
   "cell_type": "code",
   "execution_count": 15,
   "metadata": {
    "ExecuteTime": {
     "end_time": "2019-11-27T14:13:40.467932Z",
     "start_time": "2019-11-27T14:13:40.372923Z"
    }
   },
   "outputs": [
    {
     "data": {
      "text/plain": [
       "RandomForestClassifier(bootstrap=True, ccp_alpha=0.0, class_weight=None,\n",
       "                       criterion='gini', max_depth=5, max_features='auto',\n",
       "                       max_leaf_nodes=None, max_samples=None,\n",
       "                       min_impurity_decrease=0.0, min_impurity_split=None,\n",
       "                       min_samples_leaf=1, min_samples_split=2,\n",
       "                       min_weight_fraction_leaf=0.0, n_estimators=50,\n",
       "                       n_jobs=None, oob_score=False, random_state=None,\n",
       "                       verbose=0, warm_start=False)"
      ]
     },
     "execution_count": 15,
     "metadata": {},
     "output_type": "execute_result"
    }
   ],
   "source": [
    "X_train, y_train, X_test, y_test = titanic_survive()\n",
    "train_names, test_names = titanic_names()\n",
    "\n",
    "model = RandomForestClassifier(n_estimators=50, max_depth=5)\n",
    "model.fit(X_train, y_train)\n",
    "\n",
    "explainer = RandomForestClassifierBunch(model, X_test, y_test, roc_auc_score, \n",
    "                               cats=['Sex', 'Deck', 'Embarked'],\n",
    "                               idxs=test_names, #names of passengers \n",
    "                               labels=['Not survived', 'Survived'])"
   ]
  },
  {
   "cell_type": "markdown",
   "metadata": {},
   "source": [
    "## Starting dashboard from ExplainerDashboard instance:"
   ]
  },
  {
   "cell_type": "code",
   "execution_count": 26,
   "metadata": {
    "ExecuteTime": {
     "end_time": "2019-11-27T15:48:51.241740Z",
     "start_time": "2019-11-27T14:13:47.374376Z"
    }
   },
   "outputs": [
    {
     "name": "stdout",
     "output_type": "stream",
     "text": [
      "Running Model Explainer on http://localhost:8052\n",
      " * Serving Flask app \"explainerdashboard.dashboards\" (lazy loading)\n",
      " * Environment: production\n",
      "   WARNING: This is a development server. Do not use it in a production deployment.\n",
      "   Use a production WSGI server instead.\n",
      " * Debug mode: off\n"
     ]
    },
    {
     "name": "stderr",
     "output_type": "stream",
     "text": [
      " * Running on http://127.0.0.1:8052/ (Press CTRL+C to quit)\n",
      "127.0.0.1 - - [04/Dec/2019 13:19:18] \"GET / HTTP/1.1\" 200 -\n",
      "127.0.0.1 - - [04/Dec/2019 13:19:18] \"GET /assets/stylesheet.css?m=1573382556.0 HTTP/1.1\" 200 -\n",
      "127.0.0.1 - - [04/Dec/2019 13:19:18] \"GET /assets/bootstrap.css?m=1573382556.0 HTTP/1.1\" 200 -\n",
      "127.0.0.1 - - [04/Dec/2019 13:19:18] \"GET /_dash-component-suites/dash_renderer/polyfill@7.v1_2_2m1575455507.7.0.min.js HTTP/1.1\" 200 -\n",
      "127.0.0.1 - - [04/Dec/2019 13:19:19] \"GET /_dash-component-suites/dash_renderer/react@16.v1_2_2m1575455507.8.6.min.js HTTP/1.1\" 200 -\n",
      "127.0.0.1 - - [04/Dec/2019 13:19:19] \"GET /_dash-component-suites/dash_renderer/prop-types@15.v1_2_2m1575455507.7.2.min.js HTTP/1.1\" 200 -\n",
      "127.0.0.1 - - [04/Dec/2019 13:19:19] \"GET /_dash-component-suites/dash_table/bundle.v4_5_1m1575455512.js HTTP/1.1\" 200 -\n",
      "127.0.0.1 - - [04/Dec/2019 13:19:19] \"GET /_dash-component-suites/dash_renderer/react-dom@16.v1_2_2m1575455507.8.6.min.js HTTP/1.1\" 200 -\n",
      "127.0.0.1 - - [04/Dec/2019 13:19:19] \"GET /_dash-component-suites/dash_bootstrap_components/_components/dash_bootstrap_components.v0_7_2m1575455507.min.js HTTP/1.1\" 200 -\n",
      "127.0.0.1 - - [04/Dec/2019 13:19:19] \"GET /_dash-component-suites/dash_core_components/dash_core_components.v1_6_0m1575455508.min.js HTTP/1.1\" 200 -\n",
      "127.0.0.1 - - [04/Dec/2019 13:19:19] \"GET /_dash-component-suites/dash_html_components/dash_html_components.v1_0_2m1575455507.min.js HTTP/1.1\" 200 -\n",
      "127.0.0.1 - - [04/Dec/2019 13:19:19] \"GET /_dash-component-suites/dash_renderer/dash_renderer.v1_2_2m1575455507.min.js HTTP/1.1\" 200 -\n",
      "127.0.0.1 - - [04/Dec/2019 13:19:19] \"GET /assets/dash_bootstrap_components.min.js?m=1573382556.0 HTTP/1.1\" 200 -\n",
      "127.0.0.1 - - [04/Dec/2019 13:19:19] \"GET /_dash-component-suites/dash_core_components/highlight.v1_6_0m1575455508.pack.js HTTP/1.1\" 200 -\n",
      "127.0.0.1 - - [04/Dec/2019 13:19:19] \"GET /_favicon.ico?v=1.7.0 HTTP/1.1\" 200 -\n",
      "127.0.0.1 - - [04/Dec/2019 13:19:20] \"GET /_dash-dependencies HTTP/1.1\" 200 -\n",
      "127.0.0.1 - - [04/Dec/2019 13:19:20] \"GET /_dash-layout HTTP/1.1\" 200 -\n",
      "127.0.0.1 - - [04/Dec/2019 13:19:20] \"POST /_dash-update-component HTTP/1.1\" 200 -\n",
      "127.0.0.1 - - [04/Dec/2019 13:19:20] \"GET /_dash-component-suites/dash_core_components/async~dropdown.v1_6_0m1574883644.js HTTP/1.1\" 200 -\n",
      "127.0.0.1 - - [04/Dec/2019 13:19:20] \"POST /_dash-update-component HTTP/1.1\" 200 -\n",
      "127.0.0.1 - - [04/Dec/2019 13:19:21] \"GET /_dash-component-suites/dash_core_components/async~datepicker.v1_6_0m1574883644.js HTTP/1.1\" 200 -\n",
      "127.0.0.1 - - [04/Dec/2019 13:19:21] \"POST /_dash-update-component HTTP/1.1\" 200 -\n",
      "127.0.0.1 - - [04/Dec/2019 13:19:21] \"POST /_dash-update-component HTTP/1.1\" 200 -\n",
      "127.0.0.1 - - [04/Dec/2019 13:19:21] \"POST /_dash-update-component HTTP/1.1\" 200 -\n",
      "127.0.0.1 - - [04/Dec/2019 13:19:21] \"POST /_dash-update-component HTTP/1.1\" 200 -\n",
      "127.0.0.1 - - [04/Dec/2019 13:19:21] \"POST /_dash-update-component HTTP/1.1\" 200 -\n"
     ]
    },
    {
     "name": "stdout",
     "output_type": "stream",
     "text": [
      "pos label: Survived\n",
      "updated pos label\n"
     ]
    },
    {
     "name": "stderr",
     "output_type": "stream",
     "text": [
      "127.0.0.1 - - [04/Dec/2019 13:19:21] \"POST /_dash-update-component HTTP/1.1\" 200 -\n",
      "127.0.0.1 - - [04/Dec/2019 13:19:21] \"POST /_dash-update-component HTTP/1.1\" 200 -\n",
      "127.0.0.1 - - [04/Dec/2019 13:19:22] \"POST /_dash-update-component HTTP/1.1\" 200 -\n",
      "127.0.0.1 - - [04/Dec/2019 13:19:24] \"POST /_dash-update-component HTTP/1.1\" 200 -\n",
      "127.0.0.1 - - [04/Dec/2019 13:19:24] \"GET /_dash-component-suites/dash_core_components/async~plotlyjs.v1_6_0m1574883644.js HTTP/1.1\" 200 -\n",
      "127.0.0.1 - - [04/Dec/2019 13:19:25] \"GET /_dash-component-suites/dash_core_components/async~graph.v1_6_0m1574883644.js HTTP/1.1\" 200 -\n",
      "127.0.0.1 - - [04/Dec/2019 13:19:26] \"GET /_dash-component-suites/dash_core_components/async~markdown.v1_6_0m1574883644.js HTTP/1.1\" 200 -\n",
      "127.0.0.1 - - [04/Dec/2019 13:19:26] \"GET /_dash-component-suites/dash_table/async~table.v4_5_1m1573762302.js HTTP/1.1\" 200 -\n",
      "127.0.0.1 - - [04/Dec/2019 13:19:28] \"POST /_dash-update-component HTTP/1.1\" 204 -\n",
      "127.0.0.1 - - [04/Dec/2019 13:19:28] \"POST /_dash-update-component HTTP/1.1\" 204 -\n",
      "127.0.0.1 - - [04/Dec/2019 13:19:29] \"POST /_dash-update-component HTTP/1.1\" 204 -\n",
      "127.0.0.1 - - [04/Dec/2019 13:19:31] \"POST /_dash-update-component HTTP/1.1\" 200 -\n",
      "127.0.0.1 - - [04/Dec/2019 13:19:31] \"POST /_dash-update-component HTTP/1.1\" 200 -\n",
      "127.0.0.1 - - [04/Dec/2019 13:19:33] \"POST /_dash-update-component HTTP/1.1\" 200 -\n",
      "127.0.0.1 - - [04/Dec/2019 13:19:33] \"POST /_dash-update-component HTTP/1.1\" 200 -\n",
      "127.0.0.1 - - [04/Dec/2019 13:19:35] \"POST /_dash-update-component HTTP/1.1\" 200 -\n",
      "127.0.0.1 - - [04/Dec/2019 13:19:36] \"POST /_dash-update-component HTTP/1.1\" 200 -\n",
      "127.0.0.1 - - [04/Dec/2019 13:19:36] \"POST /_dash-update-component HTTP/1.1\" 204 -\n",
      "127.0.0.1 - - [04/Dec/2019 13:19:36] \"POST /_dash-update-component HTTP/1.1\" 200 -\n",
      "127.0.0.1 - - [04/Dec/2019 13:19:37] \"POST /_dash-update-component HTTP/1.1\" 200 -\n",
      "127.0.0.1 - - [04/Dec/2019 13:19:37] \"POST /_dash-update-component HTTP/1.1\" 200 -\n",
      "127.0.0.1 - - [04/Dec/2019 13:19:38] \"POST /_dash-update-component HTTP/1.1\" 200 -\n",
      "127.0.0.1 - - [04/Dec/2019 13:19:38] \"POST /_dash-update-component HTTP/1.1\" 200 -\n",
      "127.0.0.1 - - [04/Dec/2019 13:19:40] \"POST /_dash-update-component HTTP/1.1\" 200 -\n",
      "127.0.0.1 - - [04/Dec/2019 13:19:43] \"POST /_dash-update-component HTTP/1.1\" 200 -\n"
     ]
    },
    {
     "name": "stdout",
     "output_type": "stream",
     "text": [
      "pos label: Not survived\n",
      "updated pos label\n"
     ]
    },
    {
     "name": "stderr",
     "output_type": "stream",
     "text": [
      "127.0.0.1 - - [04/Dec/2019 13:19:43] \"POST /_dash-update-component HTTP/1.1\" 204 -\n",
      "127.0.0.1 - - [04/Dec/2019 13:19:44] \"POST /_dash-update-component HTTP/1.1\" 200 -\n",
      "127.0.0.1 - - [04/Dec/2019 13:19:46] \"POST /_dash-update-component HTTP/1.1\" 200 -\n",
      "127.0.0.1 - - [04/Dec/2019 13:19:47] \"POST /_dash-update-component HTTP/1.1\" 200 -\n",
      "127.0.0.1 - - [04/Dec/2019 13:19:47] \"POST /_dash-update-component HTTP/1.1\" 200 -\n",
      "127.0.0.1 - - [04/Dec/2019 13:19:48] \"POST /_dash-update-component HTTP/1.1\" 200 -\n",
      "127.0.0.1 - - [04/Dec/2019 13:19:49] \"POST /_dash-update-component HTTP/1.1\" 200 -\n",
      "127.0.0.1 - - [04/Dec/2019 13:19:49] \"POST /_dash-update-component HTTP/1.1\" 200 -\n",
      "127.0.0.1 - - [04/Dec/2019 13:19:49] \"POST /_dash-update-component HTTP/1.1\" 200 -\n",
      "127.0.0.1 - - [04/Dec/2019 13:19:50] \"POST /_dash-update-component HTTP/1.1\" 200 -\n",
      "127.0.0.1 - - [04/Dec/2019 13:19:50] \"POST /_dash-update-component HTTP/1.1\" 200 -\n",
      "127.0.0.1 - - [04/Dec/2019 13:20:00] \"POST /_dash-update-component HTTP/1.1\" 200 -\n"
     ]
    },
    {
     "name": "stdout",
     "output_type": "stream",
     "text": [
      "pos label: Survived\n",
      "updated pos label\n"
     ]
    },
    {
     "name": "stderr",
     "output_type": "stream",
     "text": [
      "127.0.0.1 - - [04/Dec/2019 13:20:00] \"POST /_dash-update-component HTTP/1.1\" 204 -\n",
      "127.0.0.1 - - [04/Dec/2019 13:20:03] \"POST /_dash-update-component HTTP/1.1\" 200 -\n",
      "127.0.0.1 - - [04/Dec/2019 13:20:03] \"POST /_dash-update-component HTTP/1.1\" 200 -\n",
      "127.0.0.1 - - [04/Dec/2019 13:20:03] \"POST /_dash-update-component HTTP/1.1\" 200 -\n",
      "127.0.0.1 - - [04/Dec/2019 13:20:03] \"POST /_dash-update-component HTTP/1.1\" 200 -\n",
      "127.0.0.1 - - [04/Dec/2019 13:20:03] \"POST /_dash-update-component HTTP/1.1\" 200 -\n",
      "127.0.0.1 - - [04/Dec/2019 13:20:04] \"POST /_dash-update-component HTTP/1.1\" 200 -\n",
      "127.0.0.1 - - [04/Dec/2019 13:20:05] \"POST /_dash-update-component HTTP/1.1\" 200 -\n",
      "127.0.0.1 - - [04/Dec/2019 13:20:05] \"POST /_dash-update-component HTTP/1.1\" 200 -\n",
      "127.0.0.1 - - [04/Dec/2019 13:20:05] \"POST /_dash-update-component HTTP/1.1\" 200 -\n",
      "127.0.0.1 - - [04/Dec/2019 13:20:14] \"POST /_dash-update-component HTTP/1.1\" 200 -\n",
      "127.0.0.1 - - [04/Dec/2019 13:20:29] \"POST /_dash-update-component HTTP/1.1\" 200 -\n",
      "127.0.0.1 - - [04/Dec/2019 13:20:29] \"POST /_dash-update-component HTTP/1.1\" 200 -\n",
      "127.0.0.1 - - [04/Dec/2019 13:20:29] \"POST /_dash-update-component HTTP/1.1\" 204 -\n",
      "127.0.0.1 - - [04/Dec/2019 13:20:29] \"POST /_dash-update-component HTTP/1.1\" 200 -\n"
     ]
    }
   ],
   "source": [
    "db = ExplainerDashboard(explainer,\n",
    "                        model_summary=True,\n",
    "                        contributions=True,\n",
    "                        shap_dependence=True,\n",
    "                        shap_interaction=False,\n",
    "                        shadow_trees=True)\n",
    "db.run(8052)"
   ]
  },
  {
   "cell_type": "markdown",
   "metadata": {},
   "source": [
    "## Building dash/Flask app directly with standalone tab:\n",
    "\n",
    "You can also build the dash/Flask app directly, but you have to pass `standalone=True` parameter.\n",
    "\n",
    "NOTE: You do need to copy the bootstrap css assets to a local `/assets/` folder to get a nice layout!\n",
    "\n",
    "e.g.:\n",
    "```\n",
    "tab = ContributionsTab(explainer, standalone=True)\n",
    "tab = ModelSummaryTab(explainer, standalone=True))\n",
    "tab = ShapDependenceTab(explainer, standalone=True))\n",
    "tab = ShapInteractionsTab(explainer, standalone=True))\n",
    "tab = ShadowTreesTab(explainer, standalone=True))\n",
    "```\n",
    "\n",
    "you get the layout with `tab.layout()`, and register the callbacks with `tab.register_callbacks(app)`\n"
   ]
  },
  {
   "cell_type": "code",
   "execution_count": 28,
   "metadata": {
    "ExecuteTime": {
     "end_time": "2019-11-22T14:47:35.376902Z",
     "start_time": "2019-11-22T14:45:47.279935Z"
    }
   },
   "outputs": [
    {
     "name": "stdout",
     "output_type": "stream",
     "text": [
      " * Serving Flask app \"__main__\" (lazy loading)\n",
      " * Environment: production\n",
      "   WARNING: This is a development server. Do not use it in a production deployment.\n",
      "   Use a production WSGI server instead.\n",
      " * Debug mode: off\n"
     ]
    },
    {
     "name": "stderr",
     "output_type": "stream",
     "text": [
      " * Running on http://127.0.0.1:8052/ (Press CTRL+C to quit)\n",
      "127.0.0.1 - - [04/Dec/2019 13:34:36] \"GET / HTTP/1.1\" 200 -\n",
      "127.0.0.1 - - [04/Dec/2019 13:34:37] \"GET /assets/bootstrap.css?m=1573382556.0 HTTP/1.1\" 200 -\n",
      "127.0.0.1 - - [04/Dec/2019 13:34:38] \"GET /_dash-layout HTTP/1.1\" 200 -\n",
      "127.0.0.1 - - [04/Dec/2019 13:34:38] \"GET /_dash-dependencies HTTP/1.1\" 200 -\n",
      "127.0.0.1 - - [04/Dec/2019 13:34:38] \"GET /_favicon.ico?v=1.7.0 HTTP/1.1\" 200 -\n",
      "127.0.0.1 - - [04/Dec/2019 13:34:38] \"POST /_dash-update-component HTTP/1.1\" 200 -\n",
      "127.0.0.1 - - [04/Dec/2019 13:34:38] \"POST /_dash-update-component HTTP/1.1\" 200 -\n"
     ]
    },
    {
     "name": "stdout",
     "output_type": "stream",
     "text": [
      "pos label: Survived\n",
      "updated pos label\n"
     ]
    },
    {
     "name": "stderr",
     "output_type": "stream",
     "text": [
      "127.0.0.1 - - [04/Dec/2019 13:34:41] \"POST /_dash-update-component HTTP/1.1\" 200 -\n",
      "127.0.0.1 - - [04/Dec/2019 13:34:42] \"POST /_dash-update-component HTTP/1.1\" 200 -\n",
      "127.0.0.1 - - [04/Dec/2019 13:34:42] \"POST /_dash-update-component HTTP/1.1\" 200 -\n",
      "127.0.0.1 - - [04/Dec/2019 13:34:42] \"POST /_dash-update-component HTTP/1.1\" 200 -\n",
      "127.0.0.1 - - [04/Dec/2019 13:34:43] \"POST /_dash-update-component HTTP/1.1\" 200 -\n",
      "127.0.0.1 - - [04/Dec/2019 13:34:43] \"POST /_dash-update-component HTTP/1.1\" 200 -\n",
      "127.0.0.1 - - [04/Dec/2019 13:34:46] \"POST /_dash-update-component HTTP/1.1\" 200 -\n"
     ]
    },
    {
     "name": "stdout",
     "output_type": "stream",
     "text": [
      "pos label: Not survived\n",
      "updated pos label\n"
     ]
    },
    {
     "name": "stderr",
     "output_type": "stream",
     "text": [
      "127.0.0.1 - - [04/Dec/2019 13:34:47] \"POST /_dash-update-component HTTP/1.1\" 200 -\n",
      "127.0.0.1 - - [04/Dec/2019 13:34:48] \"POST /_dash-update-component HTTP/1.1\" 200 -\n",
      "127.0.0.1 - - [04/Dec/2019 13:34:48] \"POST /_dash-update-component HTTP/1.1\" 200 -\n",
      "127.0.0.1 - - [04/Dec/2019 13:34:49] \"POST /_dash-update-component HTTP/1.1\" 200 -\n",
      "127.0.0.1 - - [04/Dec/2019 13:34:49] \"POST /_dash-update-component HTTP/1.1\" 200 -\n",
      "127.0.0.1 - - [04/Dec/2019 13:34:49] \"POST /_dash-update-component HTTP/1.1\" 200 -\n"
     ]
    }
   ],
   "source": [
    "import dash\n",
    "import dash_html_components as html\n",
    "\n",
    "from explainerdashboard.dashboard_tabs.model_summary_tab import ModelSummaryTab\n",
    "\n",
    "app = dash.Dash(__name__) # need to make sure to copy css files to /assets/ folder!\n",
    "app.config['suppress_callback_exceptions']=True\n",
    "app.css.config.serve_locally = True\n",
    "app.scripts.config.serve_locally = True\n",
    "app.title = \"Model Explainer\"\n",
    "\n",
    "tab = ModelSummaryTab(explainer, title = \"Model Explainer\", standalone=True)\n",
    "app.layout = html.Div([\n",
    "    tab.layout()])\n",
    "tab.register_callbacks(app)\n",
    "app.run_server(port=8052)"
   ]
  },
  {
   "cell_type": "markdown",
   "metadata": {},
   "source": [
    "# RandomForestRegressor"
   ]
  },
  {
   "cell_type": "code",
   "execution_count": 36,
   "metadata": {
    "ExecuteTime": {
     "end_time": "2019-12-03T10:32:36.982164Z",
     "start_time": "2019-12-03T10:32:36.869153Z"
    }
   },
   "outputs": [
    {
     "data": {
      "text/plain": [
       "RandomForestRegressor(bootstrap=True, ccp_alpha=0.0, criterion='mse',\n",
       "                      max_depth=5, max_features='auto', max_leaf_nodes=None,\n",
       "                      max_samples=None, min_impurity_decrease=0.0,\n",
       "                      min_impurity_split=None, min_samples_leaf=1,\n",
       "                      min_samples_split=2, min_weight_fraction_leaf=0.0,\n",
       "                      n_estimators=50, n_jobs=None, oob_score=False,\n",
       "                      random_state=None, verbose=0, warm_start=False)"
      ]
     },
     "execution_count": 36,
     "metadata": {},
     "output_type": "execute_result"
    }
   ],
   "source": [
    "X_train, y_train, X_test, y_test = titanic_fare()\n",
    "train_names, test_names = titanic_names()\n",
    "\n",
    "model = RandomForestRegressor(n_estimators=50, max_depth=5)\n",
    "model.fit(X_train, y_train)\n",
    "\n",
    "explainer = RandomForestRegressionBunch(model, X_test, y_test, r2_score, \n",
    "                               cats=['Sex', 'Deck', 'Embarked'],\n",
    "                               idxs=test_names)"
   ]
  },
  {
   "cell_type": "code",
   "execution_count": null,
   "metadata": {
    "ExecuteTime": {
     "end_time": "2019-11-22T10:39:48.597377Z",
     "start_time": "2019-11-22T10:37:36.913898Z"
    }
   },
   "outputs": [
    {
     "name": "stdout",
     "output_type": "stream",
     "text": [
      "Running Model Explainer on http://localhost:8051\n",
      " * Serving Flask app \"explainerdashboard.dashboards\" (lazy loading)\n",
      " * Environment: production\n",
      "   WARNING: This is a development server. Do not use it in a production deployment.\n",
      "   Use a production WSGI server instead.\n",
      " * Debug mode: off\n"
     ]
    },
    {
     "name": "stderr",
     "output_type": "stream",
     "text": [
      " * Running on http://127.0.0.1:8051/ (Press CTRL+C to quit)\n",
      "127.0.0.1 - - [04/Dec/2019 13:39:50] \"GET / HTTP/1.1\" 200 -\n",
      "127.0.0.1 - - [04/Dec/2019 13:39:51] \"GET /_favicon.ico?v=1.7.0 HTTP/1.1\" 200 -\n",
      "127.0.0.1 - - [04/Dec/2019 13:39:51] \"GET /_dash-layout HTTP/1.1\" 200 -\n",
      "127.0.0.1 - - [04/Dec/2019 13:39:51] \"GET /_dash-dependencies HTTP/1.1\" 200 -\n",
      "127.0.0.1 - - [04/Dec/2019 13:39:52] \"POST /_dash-update-component HTTP/1.1\" 200 -\n",
      "127.0.0.1 - - [04/Dec/2019 13:39:52] \"POST /_dash-update-component HTTP/1.1\" 200 -\n",
      "127.0.0.1 - - [04/Dec/2019 13:39:52] \"POST /_dash-update-component HTTP/1.1\" 200 -\n",
      "127.0.0.1 - - [04/Dec/2019 13:39:52] \"POST /_dash-update-component HTTP/1.1\" 200 -\n",
      "127.0.0.1 - - [04/Dec/2019 13:39:52] \"POST /_dash-update-component HTTP/1.1\" 200 -\n",
      "127.0.0.1 - - [04/Dec/2019 13:39:52] \"POST /_dash-update-component HTTP/1.1\" 200 -\n",
      "127.0.0.1 - - [04/Dec/2019 13:39:52] \"POST /_dash-update-component HTTP/1.1\" 200 -\n",
      "127.0.0.1 - - [04/Dec/2019 13:39:53] \"POST /_dash-update-component HTTP/1.1\" 200 -\n",
      "127.0.0.1 - - [04/Dec/2019 13:39:55] \"POST /_dash-update-component HTTP/1.1\" 200 -\n",
      "127.0.0.1 - - [04/Dec/2019 13:39:56] \"POST /_dash-update-component HTTP/1.1\" 204 -\n",
      "127.0.0.1 - - [04/Dec/2019 13:39:56] \"POST /_dash-update-component HTTP/1.1\" 204 -\n",
      "127.0.0.1 - - [04/Dec/2019 13:40:02] \"POST /_dash-update-component HTTP/1.1\" 204 -\n"
     ]
    },
    {
     "name": "stdout",
     "output_type": "stream",
     "text": [
      "Exception on /_dash-update-component [POST]\n",
      "Traceback (most recent call last):\n",
      "  File \"C:\\ProgramData\\Anaconda3\\envs\\ww_env2\\lib\\site-packages\\flask\\app.py\", line 2446, in wsgi_app\n",
      "    response = self.full_dispatch_request()\n",
      "  File \"C:\\ProgramData\\Anaconda3\\envs\\ww_env2\\lib\\site-packages\\flask\\app.py\", line 1951, in full_dispatch_request\n",
      "    rv = self.handle_user_exception(e)\n",
      "  File \"C:\\ProgramData\\Anaconda3\\envs\\ww_env2\\lib\\site-packages\\flask\\app.py\", line 1820, in handle_user_exception\n",
      "    reraise(exc_type, exc_value, tb)\n",
      "  File \"C:\\ProgramData\\Anaconda3\\envs\\ww_env2\\lib\\site-packages\\flask\\_compat.py\", line 39, in reraise\n",
      "    raise value\n",
      "  File \"C:\\ProgramData\\Anaconda3\\envs\\ww_env2\\lib\\site-packages\\flask\\app.py\", line 1949, in full_dispatch_request\n",
      "    rv = self.dispatch_request()\n",
      "  File \"C:\\ProgramData\\Anaconda3\\envs\\ww_env2\\lib\\site-packages\\flask\\app.py\", line 1935, in dispatch_request\n",
      "    return self.view_functions[rule.endpoint](**req.view_args)\n",
      "  File \"C:\\ProgramData\\Anaconda3\\envs\\ww_env2\\lib\\site-packages\\dash\\dash.py\", line 1457, in dispatch\n",
      "    response.set_data(self.callback_map[output][\"callback\"](*args))\n",
      "  File \"C:\\ProgramData\\Anaconda3\\envs\\ww_env2\\lib\\site-packages\\dash\\dash.py\", line 1337, in add_context\n",
      "    output_value = func(*args, **kwargs)  # %% callback invoked %%\n",
      "  File \"C:\\Users\\odi011\\projects\\explainerdashboard\\explainerdashboard\\dashboard_tabs\\shadow_trees_tab.py\", line 129, in update_tree_graph\n",
      "    return explainer.plot_trees(index, round=round)\n",
      "  File \"C:\\Users\\odi011\\projects\\explainerdashboard\\explainerdashboard\\explainers.py\", line 888, in plot_trees\n",
      "    return plotly_tree_predictions(self.model, self.X.iloc[[idx]], round)\n",
      "  File \"C:\\Users\\odi011\\projects\\explainerdashboard\\explainerdashboard\\explainer_plots.py\", line 656, in plotly_tree_predictions\n",
      "    for m in model.estimators_]\n",
      "  File \"C:\\Users\\odi011\\projects\\explainerdashboard\\explainerdashboard\\explainer_plots.py\", line 656, in <listcomp>\n",
      "    for m in model.estimators_]\n",
      "AttributeError: 'DecisionTreeRegressor' object has no attribute 'predict_proba'\n",
      "Exception on /_dash-update-component [POST]\n",
      "Traceback (most recent call last):\n",
      "  File \"C:\\ProgramData\\Anaconda3\\envs\\ww_env2\\lib\\site-packages\\flask\\app.py\", line 2446, in wsgi_app\n",
      "    response = self.full_dispatch_request()\n",
      "  File \"C:\\ProgramData\\Anaconda3\\envs\\ww_env2\\lib\\site-packages\\flask\\app.py\", line 1951, in full_dispatch_request\n",
      "    rv = self.handle_user_exception(e)\n",
      "  File \"C:\\ProgramData\\Anaconda3\\envs\\ww_env2\\lib\\site-packages\\flask\\app.py\", line 1820, in handle_user_exception\n",
      "    reraise(exc_type, exc_value, tb)\n",
      "  File \"C:\\ProgramData\\Anaconda3\\envs\\ww_env2\\lib\\site-packages\\flask\\_compat.py\", line 39, in reraise\n",
      "    raise value\n",
      "  File \"C:\\ProgramData\\Anaconda3\\envs\\ww_env2\\lib\\site-packages\\flask\\app.py\", line 1949, in full_dispatch_request\n",
      "    rv = self.dispatch_request()\n",
      "  File \"C:\\ProgramData\\Anaconda3\\envs\\ww_env2\\lib\\site-packages\\flask\\app.py\", line 1935, in dispatch_request\n",
      "    return self.view_functions[rule.endpoint](**req.view_args)\n",
      "  File \"C:\\ProgramData\\Anaconda3\\envs\\ww_env2\\lib\\site-packages\\dash\\dash.py\", line 1457, in dispatch\n",
      "    response.set_data(self.callback_map[output][\"callback\"](*args))\n",
      "  File \"C:\\ProgramData\\Anaconda3\\envs\\ww_env2\\lib\\site-packages\\dash\\dash.py\", line 1337, in add_context\n",
      "    output_value = func(*args, **kwargs)  # %% callback invoked %%\n",
      "  File \"C:\\Users\\odi011\\projects\\explainerdashboard\\explainerdashboard\\dashboard_tabs\\shadow_trees_tab.py\", line 129, in update_tree_graph\n",
      "    return explainer.plot_trees(index, round=round)\n",
      "  File \"C:\\Users\\odi011\\projects\\explainerdashboard\\explainerdashboard\\explainers.py\", line 888, in plot_trees\n",
      "    return plotly_tree_predictions(self.model, self.X.iloc[[idx]], round)\n",
      "  File \"C:\\Users\\odi011\\projects\\explainerdashboard\\explainerdashboard\\explainer_plots.py\", line 656, in plotly_tree_predictions\n",
      "    for m in model.estimators_]\n",
      "  File \"C:\\Users\\odi011\\projects\\explainerdashboard\\explainerdashboard\\explainer_plots.py\", line 656, in <listcomp>\n",
      "    for m in model.estimators_]\n",
      "AttributeError: 'DecisionTreeRegressor' object has no attribute 'predict_proba'\n",
      "Exception on /_dash-update-component [POST]\n",
      "Traceback (most recent call last):\n",
      "  File \"C:\\ProgramData\\Anaconda3\\envs\\ww_env2\\lib\\site-packages\\flask\\app.py\", line 2446, in wsgi_app\n",
      "    response = self.full_dispatch_request()\n",
      "  File \"C:\\ProgramData\\Anaconda3\\envs\\ww_env2\\lib\\site-packages\\flask\\app.py\", line 1951, in full_dispatch_request\n",
      "    rv = self.handle_user_exception(e)\n",
      "  File \"C:\\ProgramData\\Anaconda3\\envs\\ww_env2\\lib\\site-packages\\flask\\app.py\", line 1820, in handle_user_exception\n",
      "    reraise(exc_type, exc_value, tb)\n",
      "  File \"C:\\ProgramData\\Anaconda3\\envs\\ww_env2\\lib\\site-packages\\flask\\_compat.py\", line 39, in reraise\n",
      "    raise value\n",
      "  File \"C:\\ProgramData\\Anaconda3\\envs\\ww_env2\\lib\\site-packages\\flask\\app.py\", line 1949, in full_dispatch_request\n",
      "    rv = self.dispatch_request()\n",
      "  File \"C:\\ProgramData\\Anaconda3\\envs\\ww_env2\\lib\\site-packages\\flask\\app.py\", line 1935, in dispatch_request\n",
      "    return self.view_functions[rule.endpoint](**req.view_args)\n",
      "  File \"C:\\ProgramData\\Anaconda3\\envs\\ww_env2\\lib\\site-packages\\dash\\dash.py\", line 1457, in dispatch\n",
      "    response.set_data(self.callback_map[output][\"callback\"](*args))\n",
      "  File \"C:\\ProgramData\\Anaconda3\\envs\\ww_env2\\lib\\site-packages\\dash\\dash.py\", line 1337, in add_context\n",
      "    output_value = func(*args, **kwargs)  # %% callback invoked %%\n",
      "  File \"C:\\Users\\odi011\\projects\\explainerdashboard\\explainerdashboard\\dashboard_tabs\\shadow_trees_tab.py\", line 129, in update_tree_graph\n",
      "    return explainer.plot_trees(index, round=round)\n",
      "  File \"C:\\Users\\odi011\\projects\\explainerdashboard\\explainerdashboard\\explainers.py\", line 888, in plot_trees\n",
      "    return plotly_tree_predictions(self.model, self.X.iloc[[idx]], round)\n",
      "  File \"C:\\Users\\odi011\\projects\\explainerdashboard\\explainerdashboard\\explainer_plots.py\", line 656, in plotly_tree_predictions\n",
      "    for m in model.estimators_]\n",
      "  File \"C:\\Users\\odi011\\projects\\explainerdashboard\\explainerdashboard\\explainer_plots.py\", line 656, in <listcomp>\n",
      "    for m in model.estimators_]\n",
      "AttributeError: 'DecisionTreeRegressor' object has no attribute 'predict_proba'\n",
      "Exception on /_dash-update-component [POST]\n",
      "Traceback (most recent call last):\n",
      "  File \"C:\\ProgramData\\Anaconda3\\envs\\ww_env2\\lib\\site-packages\\flask\\app.py\", line 2446, in wsgi_app\n",
      "    response = self.full_dispatch_request()\n",
      "  File \"C:\\ProgramData\\Anaconda3\\envs\\ww_env2\\lib\\site-packages\\flask\\app.py\", line 1951, in full_dispatch_request\n",
      "    rv = self.handle_user_exception(e)\n",
      "  File \"C:\\ProgramData\\Anaconda3\\envs\\ww_env2\\lib\\site-packages\\flask\\app.py\", line 1820, in handle_user_exception\n",
      "    reraise(exc_type, exc_value, tb)\n",
      "  File \"C:\\ProgramData\\Anaconda3\\envs\\ww_env2\\lib\\site-packages\\flask\\_compat.py\", line 39, in reraise\n",
      "    raise value\n",
      "  File \"C:\\ProgramData\\Anaconda3\\envs\\ww_env2\\lib\\site-packages\\flask\\app.py\", line 1949, in full_dispatch_request\n",
      "    rv = self.dispatch_request()\n",
      "  File \"C:\\ProgramData\\Anaconda3\\envs\\ww_env2\\lib\\site-packages\\flask\\app.py\", line 1935, in dispatch_request\n",
      "    return self.view_functions[rule.endpoint](**req.view_args)\n",
      "  File \"C:\\ProgramData\\Anaconda3\\envs\\ww_env2\\lib\\site-packages\\dash\\dash.py\", line 1457, in dispatch\n",
      "    response.set_data(self.callback_map[output][\"callback\"](*args))\n",
      "  File \"C:\\ProgramData\\Anaconda3\\envs\\ww_env2\\lib\\site-packages\\dash\\dash.py\", line 1337, in add_context\n",
      "    output_value = func(*args, **kwargs)  # %% callback invoked %%\n",
      "  File \"C:\\Users\\odi011\\projects\\explainerdashboard\\explainerdashboard\\dashboard_tabs\\shadow_trees_tab.py\", line 129, in update_tree_graph\n",
      "    return explainer.plot_trees(index, round=round)\n",
      "  File \"C:\\Users\\odi011\\projects\\explainerdashboard\\explainerdashboard\\explainers.py\", line 888, in plot_trees\n",
      "    return plotly_tree_predictions(self.model, self.X.iloc[[idx]], round)\n",
      "  File \"C:\\Users\\odi011\\projects\\explainerdashboard\\explainerdashboard\\explainer_plots.py\", line 656, in plotly_tree_predictions\n",
      "    for m in model.estimators_]\n",
      "  File \"C:\\Users\\odi011\\projects\\explainerdashboard\\explainerdashboard\\explainer_plots.py\", line 656, in <listcomp>\n",
      "    for m in model.estimators_]\n",
      "AttributeError: 'DecisionTreeRegressor' object has no attribute 'predict_proba'\n"
     ]
    },
    {
     "name": "stdout",
     "output_type": "stream",
     "text": [
      "Exception on /_dash-update-component [POST]\n",
      "Traceback (most recent call last):\n",
      "  File \"C:\\ProgramData\\Anaconda3\\envs\\ww_env2\\lib\\site-packages\\flask\\app.py\", line 2446, in wsgi_app\n",
      "    response = self.full_dispatch_request()\n",
      "  File \"C:\\ProgramData\\Anaconda3\\envs\\ww_env2\\lib\\site-packages\\flask\\app.py\", line 1951, in full_dispatch_request\n",
      "    rv = self.handle_user_exception(e)\n",
      "  File \"C:\\ProgramData\\Anaconda3\\envs\\ww_env2\\lib\\site-packages\\flask\\app.py\", line 1820, in handle_user_exception\n",
      "    reraise(exc_type, exc_value, tb)\n",
      "  File \"C:\\ProgramData\\Anaconda3\\envs\\ww_env2\\lib\\site-packages\\flask\\_compat.py\", line 39, in reraise\n",
      "    raise value\n",
      "  File \"C:\\ProgramData\\Anaconda3\\envs\\ww_env2\\lib\\site-packages\\flask\\app.py\", line 1949, in full_dispatch_request\n",
      "    rv = self.dispatch_request()\n",
      "  File \"C:\\ProgramData\\Anaconda3\\envs\\ww_env2\\lib\\site-packages\\flask\\app.py\", line 1935, in dispatch_request\n",
      "    return self.view_functions[rule.endpoint](**req.view_args)\n",
      "  File \"C:\\ProgramData\\Anaconda3\\envs\\ww_env2\\lib\\site-packages\\dash\\dash.py\", line 1457, in dispatch\n",
      "    response.set_data(self.callback_map[output][\"callback\"](*args))\n",
      "  File \"C:\\ProgramData\\Anaconda3\\envs\\ww_env2\\lib\\site-packages\\dash\\dash.py\", line 1337, in add_context\n",
      "    output_value = func(*args, **kwargs)  # %% callback invoked %%\n",
      "  File \"C:\\Users\\odi011\\projects\\explainerdashboard\\explainerdashboard\\dashboard_tabs\\shadow_trees_tab.py\", line 129, in update_tree_graph\n",
      "    return explainer.plot_trees(index, round=round)\n",
      "  File \"C:\\Users\\odi011\\projects\\explainerdashboard\\explainerdashboard\\explainers.py\", line 888, in plot_trees\n",
      "    return plotly_tree_predictions(self.model, self.X.iloc[[idx]], round)\n",
      "  File \"C:\\Users\\odi011\\projects\\explainerdashboard\\explainerdashboard\\explainer_plots.py\", line 656, in plotly_tree_predictions\n",
      "    for m in model.estimators_]\n",
      "  File \"C:\\Users\\odi011\\projects\\explainerdashboard\\explainerdashboard\\explainer_plots.py\", line 656, in <listcomp>\n",
      "    for m in model.estimators_]\n",
      "AttributeError: 'DecisionTreeRegressor' object has no attribute 'predict_proba'\n",
      "Exception on /_dash-update-component [POST]\n",
      "Traceback (most recent call last):\n",
      "  File \"C:\\ProgramData\\Anaconda3\\envs\\ww_env2\\lib\\site-packages\\flask\\app.py\", line 2446, in wsgi_app\n",
      "    response = self.full_dispatch_request()\n",
      "  File \"C:\\ProgramData\\Anaconda3\\envs\\ww_env2\\lib\\site-packages\\flask\\app.py\", line 1951, in full_dispatch_request\n",
      "    rv = self.handle_user_exception(e)\n",
      "  File \"C:\\ProgramData\\Anaconda3\\envs\\ww_env2\\lib\\site-packages\\flask\\app.py\", line 1820, in handle_user_exception\n",
      "    reraise(exc_type, exc_value, tb)\n",
      "  File \"C:\\ProgramData\\Anaconda3\\envs\\ww_env2\\lib\\site-packages\\flask\\_compat.py\", line 39, in reraise\n",
      "    raise value\n",
      "  File \"C:\\ProgramData\\Anaconda3\\envs\\ww_env2\\lib\\site-packages\\flask\\app.py\", line 1949, in full_dispatch_request\n",
      "    rv = self.dispatch_request()\n",
      "  File \"C:\\ProgramData\\Anaconda3\\envs\\ww_env2\\lib\\site-packages\\flask\\app.py\", line 1935, in dispatch_request\n",
      "    return self.view_functions[rule.endpoint](**req.view_args)\n",
      "  File \"C:\\ProgramData\\Anaconda3\\envs\\ww_env2\\lib\\site-packages\\dash\\dash.py\", line 1457, in dispatch\n",
      "    response.set_data(self.callback_map[output][\"callback\"](*args))\n",
      "  File \"C:\\ProgramData\\Anaconda3\\envs\\ww_env2\\lib\\site-packages\\dash\\dash.py\", line 1337, in add_context\n",
      "    output_value = func(*args, **kwargs)  # %% callback invoked %%\n",
      "  File \"C:\\Users\\odi011\\projects\\explainerdashboard\\explainerdashboard\\dashboard_tabs\\shadow_trees_tab.py\", line 129, in update_tree_graph\n",
      "    return explainer.plot_trees(index, round=round)\n",
      "  File \"C:\\Users\\odi011\\projects\\explainerdashboard\\explainerdashboard\\explainers.py\", line 888, in plot_trees\n",
      "    return plotly_tree_predictions(self.model, self.X.iloc[[idx]], round)\n",
      "  File \"C:\\Users\\odi011\\projects\\explainerdashboard\\explainerdashboard\\explainer_plots.py\", line 656, in plotly_tree_predictions\n",
      "    for m in model.estimators_]\n",
      "  File \"C:\\Users\\odi011\\projects\\explainerdashboard\\explainerdashboard\\explainer_plots.py\", line 656, in <listcomp>\n",
      "    for m in model.estimators_]\n",
      "AttributeError: 'DecisionTreeRegressor' object has no attribute 'predict_proba'\n",
      "Exception on /_dash-update-component [POST]\n",
      "Traceback (most recent call last):\n",
      "  File \"C:\\ProgramData\\Anaconda3\\envs\\ww_env2\\lib\\site-packages\\flask\\app.py\", line 2446, in wsgi_app\n",
      "    response = self.full_dispatch_request()\n",
      "  File \"C:\\ProgramData\\Anaconda3\\envs\\ww_env2\\lib\\site-packages\\flask\\app.py\", line 1951, in full_dispatch_request\n",
      "    rv = self.handle_user_exception(e)\n",
      "  File \"C:\\ProgramData\\Anaconda3\\envs\\ww_env2\\lib\\site-packages\\flask\\app.py\", line 1820, in handle_user_exception\n",
      "    reraise(exc_type, exc_value, tb)\n",
      "  File \"C:\\ProgramData\\Anaconda3\\envs\\ww_env2\\lib\\site-packages\\flask\\_compat.py\", line 39, in reraise\n",
      "    raise value\n",
      "  File \"C:\\ProgramData\\Anaconda3\\envs\\ww_env2\\lib\\site-packages\\flask\\app.py\", line 1949, in full_dispatch_request\n",
      "    rv = self.dispatch_request()\n",
      "  File \"C:\\ProgramData\\Anaconda3\\envs\\ww_env2\\lib\\site-packages\\flask\\app.py\", line 1935, in dispatch_request\n",
      "    return self.view_functions[rule.endpoint](**req.view_args)\n",
      "  File \"C:\\ProgramData\\Anaconda3\\envs\\ww_env2\\lib\\site-packages\\dash\\dash.py\", line 1457, in dispatch\n",
      "    response.set_data(self.callback_map[output][\"callback\"](*args))\n",
      "  File \"C:\\ProgramData\\Anaconda3\\envs\\ww_env2\\lib\\site-packages\\dash\\dash.py\", line 1337, in add_context\n",
      "    output_value = func(*args, **kwargs)  # %% callback invoked %%\n",
      "  File \"C:\\Users\\odi011\\projects\\explainerdashboard\\explainerdashboard\\dashboard_tabs\\shadow_trees_tab.py\", line 129, in update_tree_graph\n",
      "    return explainer.plot_trees(index, round=round)\n",
      "  File \"C:\\Users\\odi011\\projects\\explainerdashboard\\explainerdashboard\\explainers.py\", line 888, in plot_trees\n",
      "    return plotly_tree_predictions(self.model, self.X.iloc[[idx]], round)\n",
      "  File \"C:\\Users\\odi011\\projects\\explainerdashboard\\explainerdashboard\\explainer_plots.py\", line 656, in plotly_tree_predictions\n",
      "    for m in model.estimators_]\n",
      "  File \"C:\\Users\\odi011\\projects\\explainerdashboard\\explainerdashboard\\explainer_plots.py\", line 656, in <listcomp>\n",
      "    for m in model.estimators_]\n",
      "AttributeError: 'DecisionTreeRegressor' object has no attribute 'predict_proba'\n",
      "Exception on /_dash-update-component [POST]\n",
      "Traceback (most recent call last):\n",
      "  File \"C:\\ProgramData\\Anaconda3\\envs\\ww_env2\\lib\\site-packages\\flask\\app.py\", line 2446, in wsgi_app\n",
      "    response = self.full_dispatch_request()\n",
      "  File \"C:\\ProgramData\\Anaconda3\\envs\\ww_env2\\lib\\site-packages\\flask\\app.py\", line 1951, in full_dispatch_request\n",
      "    rv = self.handle_user_exception(e)\n",
      "  File \"C:\\ProgramData\\Anaconda3\\envs\\ww_env2\\lib\\site-packages\\flask\\app.py\", line 1820, in handle_user_exception\n",
      "    reraise(exc_type, exc_value, tb)\n",
      "  File \"C:\\ProgramData\\Anaconda3\\envs\\ww_env2\\lib\\site-packages\\flask\\_compat.py\", line 39, in reraise\n",
      "    raise value\n",
      "  File \"C:\\ProgramData\\Anaconda3\\envs\\ww_env2\\lib\\site-packages\\flask\\app.py\", line 1949, in full_dispatch_request\n",
      "    rv = self.dispatch_request()\n",
      "  File \"C:\\ProgramData\\Anaconda3\\envs\\ww_env2\\lib\\site-packages\\flask\\app.py\", line 1935, in dispatch_request\n",
      "    return self.view_functions[rule.endpoint](**req.view_args)\n",
      "  File \"C:\\ProgramData\\Anaconda3\\envs\\ww_env2\\lib\\site-packages\\dash\\dash.py\", line 1457, in dispatch\n",
      "    response.set_data(self.callback_map[output][\"callback\"](*args))\n",
      "  File \"C:\\ProgramData\\Anaconda3\\envs\\ww_env2\\lib\\site-packages\\dash\\dash.py\", line 1337, in add_context\n",
      "    output_value = func(*args, **kwargs)  # %% callback invoked %%\n",
      "  File \"C:\\Users\\odi011\\projects\\explainerdashboard\\explainerdashboard\\dashboard_tabs\\shadow_trees_tab.py\", line 129, in update_tree_graph\n",
      "    return explainer.plot_trees(index, round=round)\n",
      "  File \"C:\\Users\\odi011\\projects\\explainerdashboard\\explainerdashboard\\explainers.py\", line 888, in plot_trees\n",
      "    return plotly_tree_predictions(self.model, self.X.iloc[[idx]], round)\n",
      "  File \"C:\\Users\\odi011\\projects\\explainerdashboard\\explainerdashboard\\explainer_plots.py\", line 656, in plotly_tree_predictions\n",
      "    for m in model.estimators_]\n",
      "  File \"C:\\Users\\odi011\\projects\\explainerdashboard\\explainerdashboard\\explainer_plots.py\", line 656, in <listcomp>\n",
      "    for m in model.estimators_]\n",
      "AttributeError: 'DecisionTreeRegressor' object has no attribute 'predict_proba'\n"
     ]
    },
    {
     "name": "stdout",
     "output_type": "stream",
     "text": [
      "Exception on /_dash-update-component [POST]\n",
      "Traceback (most recent call last):\n",
      "  File \"C:\\ProgramData\\Anaconda3\\envs\\ww_env2\\lib\\site-packages\\flask\\app.py\", line 2446, in wsgi_app\n",
      "    response = self.full_dispatch_request()\n",
      "  File \"C:\\ProgramData\\Anaconda3\\envs\\ww_env2\\lib\\site-packages\\flask\\app.py\", line 1951, in full_dispatch_request\n",
      "    rv = self.handle_user_exception(e)\n",
      "  File \"C:\\ProgramData\\Anaconda3\\envs\\ww_env2\\lib\\site-packages\\flask\\app.py\", line 1820, in handle_user_exception\n",
      "    reraise(exc_type, exc_value, tb)\n",
      "  File \"C:\\ProgramData\\Anaconda3\\envs\\ww_env2\\lib\\site-packages\\flask\\_compat.py\", line 39, in reraise\n",
      "    raise value\n",
      "  File \"C:\\ProgramData\\Anaconda3\\envs\\ww_env2\\lib\\site-packages\\flask\\app.py\", line 1949, in full_dispatch_request\n",
      "    rv = self.dispatch_request()\n",
      "  File \"C:\\ProgramData\\Anaconda3\\envs\\ww_env2\\lib\\site-packages\\flask\\app.py\", line 1935, in dispatch_request\n",
      "    return self.view_functions[rule.endpoint](**req.view_args)\n",
      "  File \"C:\\ProgramData\\Anaconda3\\envs\\ww_env2\\lib\\site-packages\\dash\\dash.py\", line 1457, in dispatch\n",
      "    response.set_data(self.callback_map[output][\"callback\"](*args))\n",
      "  File \"C:\\ProgramData\\Anaconda3\\envs\\ww_env2\\lib\\site-packages\\dash\\dash.py\", line 1337, in add_context\n",
      "    output_value = func(*args, **kwargs)  # %% callback invoked %%\n",
      "  File \"C:\\Users\\odi011\\projects\\explainerdashboard\\explainerdashboard\\dashboard_tabs\\shadow_trees_tab.py\", line 129, in update_tree_graph\n",
      "    return explainer.plot_trees(index, round=round)\n",
      "  File \"C:\\Users\\odi011\\projects\\explainerdashboard\\explainerdashboard\\explainers.py\", line 888, in plot_trees\n",
      "    return plotly_tree_predictions(self.model, self.X.iloc[[idx]], round)\n",
      "  File \"C:\\Users\\odi011\\projects\\explainerdashboard\\explainerdashboard\\explainer_plots.py\", line 656, in plotly_tree_predictions\n",
      "    for m in model.estimators_]\n",
      "  File \"C:\\Users\\odi011\\projects\\explainerdashboard\\explainerdashboard\\explainer_plots.py\", line 656, in <listcomp>\n",
      "    for m in model.estimators_]\n",
      "AttributeError: 'DecisionTreeRegressor' object has no attribute 'predict_proba'\n",
      "Exception on /_dash-update-component [POST]\n",
      "Traceback (most recent call last):\n",
      "  File \"C:\\ProgramData\\Anaconda3\\envs\\ww_env2\\lib\\site-packages\\flask\\app.py\", line 2446, in wsgi_app\n",
      "    response = self.full_dispatch_request()\n",
      "  File \"C:\\ProgramData\\Anaconda3\\envs\\ww_env2\\lib\\site-packages\\flask\\app.py\", line 1951, in full_dispatch_request\n",
      "    rv = self.handle_user_exception(e)\n",
      "  File \"C:\\ProgramData\\Anaconda3\\envs\\ww_env2\\lib\\site-packages\\flask\\app.py\", line 1820, in handle_user_exception\n",
      "    reraise(exc_type, exc_value, tb)\n",
      "  File \"C:\\ProgramData\\Anaconda3\\envs\\ww_env2\\lib\\site-packages\\flask\\_compat.py\", line 39, in reraise\n",
      "    raise value\n",
      "  File \"C:\\ProgramData\\Anaconda3\\envs\\ww_env2\\lib\\site-packages\\flask\\app.py\", line 1949, in full_dispatch_request\n",
      "    rv = self.dispatch_request()\n",
      "  File \"C:\\ProgramData\\Anaconda3\\envs\\ww_env2\\lib\\site-packages\\flask\\app.py\", line 1935, in dispatch_request\n",
      "    return self.view_functions[rule.endpoint](**req.view_args)\n",
      "  File \"C:\\ProgramData\\Anaconda3\\envs\\ww_env2\\lib\\site-packages\\dash\\dash.py\", line 1457, in dispatch\n",
      "    response.set_data(self.callback_map[output][\"callback\"](*args))\n",
      "  File \"C:\\ProgramData\\Anaconda3\\envs\\ww_env2\\lib\\site-packages\\dash\\dash.py\", line 1337, in add_context\n",
      "    output_value = func(*args, **kwargs)  # %% callback invoked %%\n",
      "  File \"C:\\Users\\odi011\\projects\\explainerdashboard\\explainerdashboard\\dashboard_tabs\\shadow_trees_tab.py\", line 129, in update_tree_graph\n",
      "    return explainer.plot_trees(index, round=round)\n",
      "  File \"C:\\Users\\odi011\\projects\\explainerdashboard\\explainerdashboard\\explainers.py\", line 888, in plot_trees\n",
      "    return plotly_tree_predictions(self.model, self.X.iloc[[idx]], round)\n",
      "  File \"C:\\Users\\odi011\\projects\\explainerdashboard\\explainerdashboard\\explainer_plots.py\", line 656, in plotly_tree_predictions\n",
      "    for m in model.estimators_]\n",
      "  File \"C:\\Users\\odi011\\projects\\explainerdashboard\\explainerdashboard\\explainer_plots.py\", line 656, in <listcomp>\n",
      "    for m in model.estimators_]\n",
      "AttributeError: 'DecisionTreeRegressor' object has no attribute 'predict_proba'\n",
      "Exception on /_dash-update-component [POST]\n",
      "Traceback (most recent call last):\n",
      "  File \"C:\\ProgramData\\Anaconda3\\envs\\ww_env2\\lib\\site-packages\\flask\\app.py\", line 2446, in wsgi_app\n",
      "    response = self.full_dispatch_request()\n",
      "  File \"C:\\ProgramData\\Anaconda3\\envs\\ww_env2\\lib\\site-packages\\flask\\app.py\", line 1951, in full_dispatch_request\n",
      "    rv = self.handle_user_exception(e)\n",
      "  File \"C:\\ProgramData\\Anaconda3\\envs\\ww_env2\\lib\\site-packages\\flask\\app.py\", line 1820, in handle_user_exception\n",
      "    reraise(exc_type, exc_value, tb)\n",
      "  File \"C:\\ProgramData\\Anaconda3\\envs\\ww_env2\\lib\\site-packages\\flask\\_compat.py\", line 39, in reraise\n",
      "    raise value\n",
      "  File \"C:\\ProgramData\\Anaconda3\\envs\\ww_env2\\lib\\site-packages\\flask\\app.py\", line 1949, in full_dispatch_request\n",
      "    rv = self.dispatch_request()\n",
      "  File \"C:\\ProgramData\\Anaconda3\\envs\\ww_env2\\lib\\site-packages\\flask\\app.py\", line 1935, in dispatch_request\n",
      "    return self.view_functions[rule.endpoint](**req.view_args)\n",
      "  File \"C:\\ProgramData\\Anaconda3\\envs\\ww_env2\\lib\\site-packages\\dash\\dash.py\", line 1457, in dispatch\n",
      "    response.set_data(self.callback_map[output][\"callback\"](*args))\n",
      "  File \"C:\\ProgramData\\Anaconda3\\envs\\ww_env2\\lib\\site-packages\\dash\\dash.py\", line 1337, in add_context\n",
      "    output_value = func(*args, **kwargs)  # %% callback invoked %%\n",
      "  File \"C:\\Users\\odi011\\projects\\explainerdashboard\\explainerdashboard\\dashboard_tabs\\shadow_trees_tab.py\", line 129, in update_tree_graph\n",
      "    return explainer.plot_trees(index, round=round)\n",
      "  File \"C:\\Users\\odi011\\projects\\explainerdashboard\\explainerdashboard\\explainers.py\", line 888, in plot_trees\n",
      "    return plotly_tree_predictions(self.model, self.X.iloc[[idx]], round)\n",
      "  File \"C:\\Users\\odi011\\projects\\explainerdashboard\\explainerdashboard\\explainer_plots.py\", line 656, in plotly_tree_predictions\n",
      "    for m in model.estimators_]\n",
      "  File \"C:\\Users\\odi011\\projects\\explainerdashboard\\explainerdashboard\\explainer_plots.py\", line 656, in <listcomp>\n",
      "    for m in model.estimators_]\n",
      "AttributeError: 'DecisionTreeRegressor' object has no attribute 'predict_proba'\n"
     ]
    },
    {
     "name": "stderr",
     "output_type": "stream",
     "text": [
      "127.0.0.1 - - [04/Dec/2019 13:40:03] \"POST /_dash-update-component HTTP/1.1\" 500 -\n",
      "127.0.0.1 - - [04/Dec/2019 13:40:04] \"POST /_dash-update-component HTTP/1.1\" 200 -\n",
      "127.0.0.1 - - [04/Dec/2019 13:40:05] \"POST /_dash-update-component HTTP/1.1\" 200 -\n",
      "127.0.0.1 - - [04/Dec/2019 13:40:05] \"POST /_dash-update-component HTTP/1.1\" 204 -\n"
     ]
    },
    {
     "name": "stdout",
     "output_type": "stream",
     "text": [
      "Exception on /_dash-update-component [POST]\n",
      "Traceback (most recent call last):\n",
      "  File \"C:\\ProgramData\\Anaconda3\\envs\\ww_env2\\lib\\site-packages\\flask\\app.py\", line 2446, in wsgi_app\n",
      "    response = self.full_dispatch_request()\n",
      "  File \"C:\\ProgramData\\Anaconda3\\envs\\ww_env2\\lib\\site-packages\\flask\\app.py\", line 1951, in full_dispatch_request\n",
      "    rv = self.handle_user_exception(e)\n",
      "  File \"C:\\ProgramData\\Anaconda3\\envs\\ww_env2\\lib\\site-packages\\flask\\app.py\", line 1820, in handle_user_exception\n",
      "    reraise(exc_type, exc_value, tb)\n",
      "  File \"C:\\ProgramData\\Anaconda3\\envs\\ww_env2\\lib\\site-packages\\flask\\_compat.py\", line 39, in reraise\n",
      "    raise value\n",
      "  File \"C:\\ProgramData\\Anaconda3\\envs\\ww_env2\\lib\\site-packages\\flask\\app.py\", line 1949, in full_dispatch_request\n",
      "    rv = self.dispatch_request()\n",
      "  File \"C:\\ProgramData\\Anaconda3\\envs\\ww_env2\\lib\\site-packages\\flask\\app.py\", line 1935, in dispatch_request\n",
      "    return self.view_functions[rule.endpoint](**req.view_args)\n",
      "  File \"C:\\ProgramData\\Anaconda3\\envs\\ww_env2\\lib\\site-packages\\dash\\dash.py\", line 1457, in dispatch\n",
      "    response.set_data(self.callback_map[output][\"callback\"](*args))\n",
      "  File \"C:\\ProgramData\\Anaconda3\\envs\\ww_env2\\lib\\site-packages\\dash\\dash.py\", line 1337, in add_context\n",
      "    output_value = func(*args, **kwargs)  # %% callback invoked %%\n",
      "  File \"C:\\Users\\odi011\\projects\\explainerdashboard\\explainerdashboard\\dashboard_tabs\\shadow_trees_tab.py\", line 129, in update_tree_graph\n",
      "    return explainer.plot_trees(index, round=round)\n",
      "  File \"C:\\Users\\odi011\\projects\\explainerdashboard\\explainerdashboard\\explainers.py\", line 888, in plot_trees\n",
      "    return plotly_tree_predictions(self.model, self.X.iloc[[idx]], round)\n",
      "  File \"C:\\Users\\odi011\\projects\\explainerdashboard\\explainerdashboard\\explainer_plots.py\", line 656, in plotly_tree_predictions\n",
      "    for m in model.estimators_]\n",
      "  File \"C:\\Users\\odi011\\projects\\explainerdashboard\\explainerdashboard\\explainer_plots.py\", line 656, in <listcomp>\n",
      "    for m in model.estimators_]\n",
      "AttributeError: 'DecisionTreeRegressor' object has no attribute 'predict_proba'\n",
      "Exception on /_dash-update-component [POST]\n",
      "Traceback (most recent call last):\n",
      "  File \"C:\\ProgramData\\Anaconda3\\envs\\ww_env2\\lib\\site-packages\\flask\\app.py\", line 2446, in wsgi_app\n",
      "    response = self.full_dispatch_request()\n",
      "  File \"C:\\ProgramData\\Anaconda3\\envs\\ww_env2\\lib\\site-packages\\flask\\app.py\", line 1951, in full_dispatch_request\n",
      "    rv = self.handle_user_exception(e)\n",
      "  File \"C:\\ProgramData\\Anaconda3\\envs\\ww_env2\\lib\\site-packages\\flask\\app.py\", line 1820, in handle_user_exception\n",
      "    reraise(exc_type, exc_value, tb)\n",
      "  File \"C:\\ProgramData\\Anaconda3\\envs\\ww_env2\\lib\\site-packages\\flask\\_compat.py\", line 39, in reraise\n",
      "    raise value\n",
      "  File \"C:\\ProgramData\\Anaconda3\\envs\\ww_env2\\lib\\site-packages\\flask\\app.py\", line 1949, in full_dispatch_request\n",
      "    rv = self.dispatch_request()\n",
      "  File \"C:\\ProgramData\\Anaconda3\\envs\\ww_env2\\lib\\site-packages\\flask\\app.py\", line 1935, in dispatch_request\n",
      "    return self.view_functions[rule.endpoint](**req.view_args)\n",
      "  File \"C:\\ProgramData\\Anaconda3\\envs\\ww_env2\\lib\\site-packages\\dash\\dash.py\", line 1457, in dispatch\n",
      "    response.set_data(self.callback_map[output][\"callback\"](*args))\n",
      "  File \"C:\\ProgramData\\Anaconda3\\envs\\ww_env2\\lib\\site-packages\\dash\\dash.py\", line 1337, in add_context\n",
      "    output_value = func(*args, **kwargs)  # %% callback invoked %%\n",
      "  File \"C:\\Users\\odi011\\projects\\explainerdashboard\\explainerdashboard\\dashboard_tabs\\shadow_trees_tab.py\", line 129, in update_tree_graph\n",
      "    return explainer.plot_trees(index, round=round)\n",
      "  File \"C:\\Users\\odi011\\projects\\explainerdashboard\\explainerdashboard\\explainers.py\", line 888, in plot_trees\n",
      "    return plotly_tree_predictions(self.model, self.X.iloc[[idx]], round)\n",
      "  File \"C:\\Users\\odi011\\projects\\explainerdashboard\\explainerdashboard\\explainer_plots.py\", line 656, in plotly_tree_predictions\n",
      "    for m in model.estimators_]\n",
      "  File \"C:\\Users\\odi011\\projects\\explainerdashboard\\explainerdashboard\\explainer_plots.py\", line 656, in <listcomp>\n",
      "    for m in model.estimators_]\n",
      "AttributeError: 'DecisionTreeRegressor' object has no attribute 'predict_proba'\n",
      "Exception on /_dash-update-component [POST]\n",
      "Traceback (most recent call last):\n",
      "  File \"C:\\ProgramData\\Anaconda3\\envs\\ww_env2\\lib\\site-packages\\flask\\app.py\", line 2446, in wsgi_app\n",
      "    response = self.full_dispatch_request()\n",
      "  File \"C:\\ProgramData\\Anaconda3\\envs\\ww_env2\\lib\\site-packages\\flask\\app.py\", line 1951, in full_dispatch_request\n",
      "    rv = self.handle_user_exception(e)\n",
      "  File \"C:\\ProgramData\\Anaconda3\\envs\\ww_env2\\lib\\site-packages\\flask\\app.py\", line 1820, in handle_user_exception\n",
      "    reraise(exc_type, exc_value, tb)\n",
      "  File \"C:\\ProgramData\\Anaconda3\\envs\\ww_env2\\lib\\site-packages\\flask\\_compat.py\", line 39, in reraise\n",
      "    raise value\n",
      "  File \"C:\\ProgramData\\Anaconda3\\envs\\ww_env2\\lib\\site-packages\\flask\\app.py\", line 1949, in full_dispatch_request\n",
      "    rv = self.dispatch_request()\n",
      "  File \"C:\\ProgramData\\Anaconda3\\envs\\ww_env2\\lib\\site-packages\\flask\\app.py\", line 1935, in dispatch_request\n",
      "    return self.view_functions[rule.endpoint](**req.view_args)\n",
      "  File \"C:\\ProgramData\\Anaconda3\\envs\\ww_env2\\lib\\site-packages\\dash\\dash.py\", line 1457, in dispatch\n",
      "    response.set_data(self.callback_map[output][\"callback\"](*args))\n",
      "  File \"C:\\ProgramData\\Anaconda3\\envs\\ww_env2\\lib\\site-packages\\dash\\dash.py\", line 1337, in add_context\n",
      "    output_value = func(*args, **kwargs)  # %% callback invoked %%\n",
      "  File \"C:\\Users\\odi011\\projects\\explainerdashboard\\explainerdashboard\\dashboard_tabs\\shadow_trees_tab.py\", line 129, in update_tree_graph\n",
      "    return explainer.plot_trees(index, round=round)\n",
      "  File \"C:\\Users\\odi011\\projects\\explainerdashboard\\explainerdashboard\\explainers.py\", line 888, in plot_trees\n",
      "    return plotly_tree_predictions(self.model, self.X.iloc[[idx]], round)\n",
      "  File \"C:\\Users\\odi011\\projects\\explainerdashboard\\explainerdashboard\\explainer_plots.py\", line 656, in plotly_tree_predictions\n",
      "    for m in model.estimators_]\n",
      "  File \"C:\\Users\\odi011\\projects\\explainerdashboard\\explainerdashboard\\explainer_plots.py\", line 656, in <listcomp>\n",
      "    for m in model.estimators_]\n",
      "AttributeError: 'DecisionTreeRegressor' object has no attribute 'predict_proba'\n",
      "Exception on /_dash-update-component [POST]\n",
      "Traceback (most recent call last):\n",
      "  File \"C:\\ProgramData\\Anaconda3\\envs\\ww_env2\\lib\\site-packages\\flask\\app.py\", line 2446, in wsgi_app\n",
      "    response = self.full_dispatch_request()\n",
      "  File \"C:\\ProgramData\\Anaconda3\\envs\\ww_env2\\lib\\site-packages\\flask\\app.py\", line 1951, in full_dispatch_request\n",
      "    rv = self.handle_user_exception(e)\n",
      "  File \"C:\\ProgramData\\Anaconda3\\envs\\ww_env2\\lib\\site-packages\\flask\\app.py\", line 1820, in handle_user_exception\n",
      "    reraise(exc_type, exc_value, tb)\n",
      "  File \"C:\\ProgramData\\Anaconda3\\envs\\ww_env2\\lib\\site-packages\\flask\\_compat.py\", line 39, in reraise\n",
      "    raise value\n",
      "  File \"C:\\ProgramData\\Anaconda3\\envs\\ww_env2\\lib\\site-packages\\flask\\app.py\", line 1949, in full_dispatch_request\n",
      "    rv = self.dispatch_request()\n",
      "  File \"C:\\ProgramData\\Anaconda3\\envs\\ww_env2\\lib\\site-packages\\flask\\app.py\", line 1935, in dispatch_request\n",
      "    return self.view_functions[rule.endpoint](**req.view_args)\n",
      "  File \"C:\\ProgramData\\Anaconda3\\envs\\ww_env2\\lib\\site-packages\\dash\\dash.py\", line 1457, in dispatch\n",
      "    response.set_data(self.callback_map[output][\"callback\"](*args))\n",
      "  File \"C:\\ProgramData\\Anaconda3\\envs\\ww_env2\\lib\\site-packages\\dash\\dash.py\", line 1337, in add_context\n",
      "    output_value = func(*args, **kwargs)  # %% callback invoked %%\n",
      "  File \"C:\\Users\\odi011\\projects\\explainerdashboard\\explainerdashboard\\dashboard_tabs\\shadow_trees_tab.py\", line 129, in update_tree_graph\n",
      "    return explainer.plot_trees(index, round=round)\n",
      "  File \"C:\\Users\\odi011\\projects\\explainerdashboard\\explainerdashboard\\explainers.py\", line 888, in plot_trees\n",
      "    return plotly_tree_predictions(self.model, self.X.iloc[[idx]], round)\n",
      "  File \"C:\\Users\\odi011\\projects\\explainerdashboard\\explainerdashboard\\explainer_plots.py\", line 656, in plotly_tree_predictions\n",
      "    for m in model.estimators_]\n",
      "  File \"C:\\Users\\odi011\\projects\\explainerdashboard\\explainerdashboard\\explainer_plots.py\", line 656, in <listcomp>\n",
      "    for m in model.estimators_]\n",
      "AttributeError: 'DecisionTreeRegressor' object has no attribute 'predict_proba'\n"
     ]
    },
    {
     "name": "stdout",
     "output_type": "stream",
     "text": [
      "Exception on /_dash-update-component [POST]\n",
      "Traceback (most recent call last):\n",
      "  File \"C:\\ProgramData\\Anaconda3\\envs\\ww_env2\\lib\\site-packages\\flask\\app.py\", line 2446, in wsgi_app\n",
      "    response = self.full_dispatch_request()\n",
      "  File \"C:\\ProgramData\\Anaconda3\\envs\\ww_env2\\lib\\site-packages\\flask\\app.py\", line 1951, in full_dispatch_request\n",
      "    rv = self.handle_user_exception(e)\n",
      "  File \"C:\\ProgramData\\Anaconda3\\envs\\ww_env2\\lib\\site-packages\\flask\\app.py\", line 1820, in handle_user_exception\n",
      "    reraise(exc_type, exc_value, tb)\n",
      "  File \"C:\\ProgramData\\Anaconda3\\envs\\ww_env2\\lib\\site-packages\\flask\\_compat.py\", line 39, in reraise\n",
      "    raise value\n",
      "  File \"C:\\ProgramData\\Anaconda3\\envs\\ww_env2\\lib\\site-packages\\flask\\app.py\", line 1949, in full_dispatch_request\n",
      "    rv = self.dispatch_request()\n",
      "  File \"C:\\ProgramData\\Anaconda3\\envs\\ww_env2\\lib\\site-packages\\flask\\app.py\", line 1935, in dispatch_request\n",
      "    return self.view_functions[rule.endpoint](**req.view_args)\n",
      "  File \"C:\\ProgramData\\Anaconda3\\envs\\ww_env2\\lib\\site-packages\\dash\\dash.py\", line 1457, in dispatch\n",
      "    response.set_data(self.callback_map[output][\"callback\"](*args))\n",
      "  File \"C:\\ProgramData\\Anaconda3\\envs\\ww_env2\\lib\\site-packages\\dash\\dash.py\", line 1337, in add_context\n",
      "    output_value = func(*args, **kwargs)  # %% callback invoked %%\n",
      "  File \"C:\\Users\\odi011\\projects\\explainerdashboard\\explainerdashboard\\dashboard_tabs\\shadow_trees_tab.py\", line 129, in update_tree_graph\n",
      "    return explainer.plot_trees(index, round=round)\n",
      "  File \"C:\\Users\\odi011\\projects\\explainerdashboard\\explainerdashboard\\explainers.py\", line 888, in plot_trees\n",
      "    return plotly_tree_predictions(self.model, self.X.iloc[[idx]], round)\n",
      "  File \"C:\\Users\\odi011\\projects\\explainerdashboard\\explainerdashboard\\explainer_plots.py\", line 656, in plotly_tree_predictions\n",
      "    for m in model.estimators_]\n",
      "  File \"C:\\Users\\odi011\\projects\\explainerdashboard\\explainerdashboard\\explainer_plots.py\", line 656, in <listcomp>\n",
      "    for m in model.estimators_]\n",
      "AttributeError: 'DecisionTreeRegressor' object has no attribute 'predict_proba'\n",
      "Exception on /_dash-update-component [POST]\n",
      "Traceback (most recent call last):\n",
      "  File \"C:\\ProgramData\\Anaconda3\\envs\\ww_env2\\lib\\site-packages\\flask\\app.py\", line 2446, in wsgi_app\n",
      "    response = self.full_dispatch_request()\n",
      "  File \"C:\\ProgramData\\Anaconda3\\envs\\ww_env2\\lib\\site-packages\\flask\\app.py\", line 1951, in full_dispatch_request\n",
      "    rv = self.handle_user_exception(e)\n",
      "  File \"C:\\ProgramData\\Anaconda3\\envs\\ww_env2\\lib\\site-packages\\flask\\app.py\", line 1820, in handle_user_exception\n",
      "    reraise(exc_type, exc_value, tb)\n",
      "  File \"C:\\ProgramData\\Anaconda3\\envs\\ww_env2\\lib\\site-packages\\flask\\_compat.py\", line 39, in reraise\n",
      "    raise value\n",
      "  File \"C:\\ProgramData\\Anaconda3\\envs\\ww_env2\\lib\\site-packages\\flask\\app.py\", line 1949, in full_dispatch_request\n",
      "    rv = self.dispatch_request()\n",
      "  File \"C:\\ProgramData\\Anaconda3\\envs\\ww_env2\\lib\\site-packages\\flask\\app.py\", line 1935, in dispatch_request\n",
      "    return self.view_functions[rule.endpoint](**req.view_args)\n",
      "  File \"C:\\ProgramData\\Anaconda3\\envs\\ww_env2\\lib\\site-packages\\dash\\dash.py\", line 1457, in dispatch\n",
      "    response.set_data(self.callback_map[output][\"callback\"](*args))\n",
      "  File \"C:\\ProgramData\\Anaconda3\\envs\\ww_env2\\lib\\site-packages\\dash\\dash.py\", line 1337, in add_context\n",
      "    output_value = func(*args, **kwargs)  # %% callback invoked %%\n",
      "  File \"C:\\Users\\odi011\\projects\\explainerdashboard\\explainerdashboard\\dashboard_tabs\\shadow_trees_tab.py\", line 129, in update_tree_graph\n",
      "    return explainer.plot_trees(index, round=round)\n",
      "  File \"C:\\Users\\odi011\\projects\\explainerdashboard\\explainerdashboard\\explainers.py\", line 888, in plot_trees\n",
      "    return plotly_tree_predictions(self.model, self.X.iloc[[idx]], round)\n",
      "  File \"C:\\Users\\odi011\\projects\\explainerdashboard\\explainerdashboard\\explainer_plots.py\", line 656, in plotly_tree_predictions\n",
      "    for m in model.estimators_]\n",
      "  File \"C:\\Users\\odi011\\projects\\explainerdashboard\\explainerdashboard\\explainer_plots.py\", line 656, in <listcomp>\n",
      "    for m in model.estimators_]\n",
      "AttributeError: 'DecisionTreeRegressor' object has no attribute 'predict_proba'\n",
      "Exception on /_dash-update-component [POST]\n",
      "Traceback (most recent call last):\n",
      "  File \"C:\\ProgramData\\Anaconda3\\envs\\ww_env2\\lib\\site-packages\\flask\\app.py\", line 2446, in wsgi_app\n",
      "    response = self.full_dispatch_request()\n",
      "  File \"C:\\ProgramData\\Anaconda3\\envs\\ww_env2\\lib\\site-packages\\flask\\app.py\", line 1951, in full_dispatch_request\n",
      "    rv = self.handle_user_exception(e)\n",
      "  File \"C:\\ProgramData\\Anaconda3\\envs\\ww_env2\\lib\\site-packages\\flask\\app.py\", line 1820, in handle_user_exception\n",
      "    reraise(exc_type, exc_value, tb)\n",
      "  File \"C:\\ProgramData\\Anaconda3\\envs\\ww_env2\\lib\\site-packages\\flask\\_compat.py\", line 39, in reraise\n",
      "    raise value\n",
      "  File \"C:\\ProgramData\\Anaconda3\\envs\\ww_env2\\lib\\site-packages\\flask\\app.py\", line 1949, in full_dispatch_request\n",
      "    rv = self.dispatch_request()\n",
      "  File \"C:\\ProgramData\\Anaconda3\\envs\\ww_env2\\lib\\site-packages\\flask\\app.py\", line 1935, in dispatch_request\n",
      "    return self.view_functions[rule.endpoint](**req.view_args)\n",
      "  File \"C:\\ProgramData\\Anaconda3\\envs\\ww_env2\\lib\\site-packages\\dash\\dash.py\", line 1457, in dispatch\n",
      "    response.set_data(self.callback_map[output][\"callback\"](*args))\n",
      "  File \"C:\\ProgramData\\Anaconda3\\envs\\ww_env2\\lib\\site-packages\\dash\\dash.py\", line 1337, in add_context\n",
      "    output_value = func(*args, **kwargs)  # %% callback invoked %%\n",
      "  File \"C:\\Users\\odi011\\projects\\explainerdashboard\\explainerdashboard\\dashboard_tabs\\shadow_trees_tab.py\", line 129, in update_tree_graph\n",
      "    return explainer.plot_trees(index, round=round)\n",
      "  File \"C:\\Users\\odi011\\projects\\explainerdashboard\\explainerdashboard\\explainers.py\", line 888, in plot_trees\n",
      "    return plotly_tree_predictions(self.model, self.X.iloc[[idx]], round)\n",
      "  File \"C:\\Users\\odi011\\projects\\explainerdashboard\\explainerdashboard\\explainer_plots.py\", line 656, in plotly_tree_predictions\n",
      "    for m in model.estimators_]\n",
      "  File \"C:\\Users\\odi011\\projects\\explainerdashboard\\explainerdashboard\\explainer_plots.py\", line 656, in <listcomp>\n",
      "    for m in model.estimators_]\n",
      "AttributeError: 'DecisionTreeRegressor' object has no attribute 'predict_proba'\n",
      "Exception on /_dash-update-component [POST]\n",
      "Traceback (most recent call last):\n",
      "  File \"C:\\ProgramData\\Anaconda3\\envs\\ww_env2\\lib\\site-packages\\flask\\app.py\", line 2446, in wsgi_app\n",
      "    response = self.full_dispatch_request()\n",
      "  File \"C:\\ProgramData\\Anaconda3\\envs\\ww_env2\\lib\\site-packages\\flask\\app.py\", line 1951, in full_dispatch_request\n",
      "    rv = self.handle_user_exception(e)\n",
      "  File \"C:\\ProgramData\\Anaconda3\\envs\\ww_env2\\lib\\site-packages\\flask\\app.py\", line 1820, in handle_user_exception\n",
      "    reraise(exc_type, exc_value, tb)\n",
      "  File \"C:\\ProgramData\\Anaconda3\\envs\\ww_env2\\lib\\site-packages\\flask\\_compat.py\", line 39, in reraise\n",
      "    raise value\n",
      "  File \"C:\\ProgramData\\Anaconda3\\envs\\ww_env2\\lib\\site-packages\\flask\\app.py\", line 1949, in full_dispatch_request\n",
      "    rv = self.dispatch_request()\n",
      "  File \"C:\\ProgramData\\Anaconda3\\envs\\ww_env2\\lib\\site-packages\\flask\\app.py\", line 1935, in dispatch_request\n",
      "    return self.view_functions[rule.endpoint](**req.view_args)\n",
      "  File \"C:\\ProgramData\\Anaconda3\\envs\\ww_env2\\lib\\site-packages\\dash\\dash.py\", line 1457, in dispatch\n",
      "    response.set_data(self.callback_map[output][\"callback\"](*args))\n",
      "  File \"C:\\ProgramData\\Anaconda3\\envs\\ww_env2\\lib\\site-packages\\dash\\dash.py\", line 1337, in add_context\n",
      "    output_value = func(*args, **kwargs)  # %% callback invoked %%\n",
      "  File \"C:\\Users\\odi011\\projects\\explainerdashboard\\explainerdashboard\\dashboard_tabs\\shadow_trees_tab.py\", line 129, in update_tree_graph\n",
      "    return explainer.plot_trees(index, round=round)\n",
      "  File \"C:\\Users\\odi011\\projects\\explainerdashboard\\explainerdashboard\\explainers.py\", line 888, in plot_trees\n",
      "    return plotly_tree_predictions(self.model, self.X.iloc[[idx]], round)\n",
      "  File \"C:\\Users\\odi011\\projects\\explainerdashboard\\explainerdashboard\\explainer_plots.py\", line 656, in plotly_tree_predictions\n",
      "    for m in model.estimators_]\n",
      "  File \"C:\\Users\\odi011\\projects\\explainerdashboard\\explainerdashboard\\explainer_plots.py\", line 656, in <listcomp>\n",
      "    for m in model.estimators_]\n",
      "AttributeError: 'DecisionTreeRegressor' object has no attribute 'predict_proba'\n"
     ]
    },
    {
     "name": "stdout",
     "output_type": "stream",
     "text": [
      "Exception on /_dash-update-component [POST]\n",
      "Traceback (most recent call last):\n",
      "  File \"C:\\ProgramData\\Anaconda3\\envs\\ww_env2\\lib\\site-packages\\flask\\app.py\", line 2446, in wsgi_app\n",
      "    response = self.full_dispatch_request()\n",
      "  File \"C:\\ProgramData\\Anaconda3\\envs\\ww_env2\\lib\\site-packages\\flask\\app.py\", line 1951, in full_dispatch_request\n",
      "    rv = self.handle_user_exception(e)\n",
      "  File \"C:\\ProgramData\\Anaconda3\\envs\\ww_env2\\lib\\site-packages\\flask\\app.py\", line 1820, in handle_user_exception\n",
      "    reraise(exc_type, exc_value, tb)\n",
      "  File \"C:\\ProgramData\\Anaconda3\\envs\\ww_env2\\lib\\site-packages\\flask\\_compat.py\", line 39, in reraise\n",
      "    raise value\n",
      "  File \"C:\\ProgramData\\Anaconda3\\envs\\ww_env2\\lib\\site-packages\\flask\\app.py\", line 1949, in full_dispatch_request\n",
      "    rv = self.dispatch_request()\n",
      "  File \"C:\\ProgramData\\Anaconda3\\envs\\ww_env2\\lib\\site-packages\\flask\\app.py\", line 1935, in dispatch_request\n",
      "    return self.view_functions[rule.endpoint](**req.view_args)\n",
      "  File \"C:\\ProgramData\\Anaconda3\\envs\\ww_env2\\lib\\site-packages\\dash\\dash.py\", line 1457, in dispatch\n",
      "    response.set_data(self.callback_map[output][\"callback\"](*args))\n",
      "  File \"C:\\ProgramData\\Anaconda3\\envs\\ww_env2\\lib\\site-packages\\dash\\dash.py\", line 1337, in add_context\n",
      "    output_value = func(*args, **kwargs)  # %% callback invoked %%\n",
      "  File \"C:\\Users\\odi011\\projects\\explainerdashboard\\explainerdashboard\\dashboard_tabs\\shadow_trees_tab.py\", line 129, in update_tree_graph\n",
      "    return explainer.plot_trees(index, round=round)\n",
      "  File \"C:\\Users\\odi011\\projects\\explainerdashboard\\explainerdashboard\\explainers.py\", line 888, in plot_trees\n",
      "    return plotly_tree_predictions(self.model, self.X.iloc[[idx]], round)\n",
      "  File \"C:\\Users\\odi011\\projects\\explainerdashboard\\explainerdashboard\\explainer_plots.py\", line 656, in plotly_tree_predictions\n",
      "    for m in model.estimators_]\n",
      "  File \"C:\\Users\\odi011\\projects\\explainerdashboard\\explainerdashboard\\explainer_plots.py\", line 656, in <listcomp>\n",
      "    for m in model.estimators_]\n",
      "AttributeError: 'DecisionTreeRegressor' object has no attribute 'predict_proba'\n",
      "Exception on /_dash-update-component [POST]\n",
      "Traceback (most recent call last):\n",
      "  File \"C:\\ProgramData\\Anaconda3\\envs\\ww_env2\\lib\\site-packages\\flask\\app.py\", line 2446, in wsgi_app\n",
      "    response = self.full_dispatch_request()\n",
      "  File \"C:\\ProgramData\\Anaconda3\\envs\\ww_env2\\lib\\site-packages\\flask\\app.py\", line 1951, in full_dispatch_request\n",
      "    rv = self.handle_user_exception(e)\n",
      "  File \"C:\\ProgramData\\Anaconda3\\envs\\ww_env2\\lib\\site-packages\\flask\\app.py\", line 1820, in handle_user_exception\n",
      "    reraise(exc_type, exc_value, tb)\n",
      "  File \"C:\\ProgramData\\Anaconda3\\envs\\ww_env2\\lib\\site-packages\\flask\\_compat.py\", line 39, in reraise\n",
      "    raise value\n",
      "  File \"C:\\ProgramData\\Anaconda3\\envs\\ww_env2\\lib\\site-packages\\flask\\app.py\", line 1949, in full_dispatch_request\n",
      "    rv = self.dispatch_request()\n",
      "  File \"C:\\ProgramData\\Anaconda3\\envs\\ww_env2\\lib\\site-packages\\flask\\app.py\", line 1935, in dispatch_request\n",
      "    return self.view_functions[rule.endpoint](**req.view_args)\n",
      "  File \"C:\\ProgramData\\Anaconda3\\envs\\ww_env2\\lib\\site-packages\\dash\\dash.py\", line 1457, in dispatch\n",
      "    response.set_data(self.callback_map[output][\"callback\"](*args))\n",
      "  File \"C:\\ProgramData\\Anaconda3\\envs\\ww_env2\\lib\\site-packages\\dash\\dash.py\", line 1337, in add_context\n",
      "    output_value = func(*args, **kwargs)  # %% callback invoked %%\n",
      "  File \"C:\\Users\\odi011\\projects\\explainerdashboard\\explainerdashboard\\dashboard_tabs\\shadow_trees_tab.py\", line 129, in update_tree_graph\n",
      "    return explainer.plot_trees(index, round=round)\n",
      "  File \"C:\\Users\\odi011\\projects\\explainerdashboard\\explainerdashboard\\explainers.py\", line 888, in plot_trees\n",
      "    return plotly_tree_predictions(self.model, self.X.iloc[[idx]], round)\n",
      "  File \"C:\\Users\\odi011\\projects\\explainerdashboard\\explainerdashboard\\explainer_plots.py\", line 656, in plotly_tree_predictions\n",
      "    for m in model.estimators_]\n",
      "  File \"C:\\Users\\odi011\\projects\\explainerdashboard\\explainerdashboard\\explainer_plots.py\", line 656, in <listcomp>\n",
      "    for m in model.estimators_]\n",
      "AttributeError: 'DecisionTreeRegressor' object has no attribute 'predict_proba'\n",
      "Exception on /_dash-update-component [POST]\n",
      "Traceback (most recent call last):\n",
      "  File \"C:\\ProgramData\\Anaconda3\\envs\\ww_env2\\lib\\site-packages\\flask\\app.py\", line 2446, in wsgi_app\n",
      "    response = self.full_dispatch_request()\n",
      "  File \"C:\\ProgramData\\Anaconda3\\envs\\ww_env2\\lib\\site-packages\\flask\\app.py\", line 1951, in full_dispatch_request\n",
      "    rv = self.handle_user_exception(e)\n",
      "  File \"C:\\ProgramData\\Anaconda3\\envs\\ww_env2\\lib\\site-packages\\flask\\app.py\", line 1820, in handle_user_exception\n",
      "    reraise(exc_type, exc_value, tb)\n",
      "  File \"C:\\ProgramData\\Anaconda3\\envs\\ww_env2\\lib\\site-packages\\flask\\_compat.py\", line 39, in reraise\n",
      "    raise value\n",
      "  File \"C:\\ProgramData\\Anaconda3\\envs\\ww_env2\\lib\\site-packages\\flask\\app.py\", line 1949, in full_dispatch_request\n",
      "    rv = self.dispatch_request()\n",
      "  File \"C:\\ProgramData\\Anaconda3\\envs\\ww_env2\\lib\\site-packages\\flask\\app.py\", line 1935, in dispatch_request\n",
      "    return self.view_functions[rule.endpoint](**req.view_args)\n",
      "  File \"C:\\ProgramData\\Anaconda3\\envs\\ww_env2\\lib\\site-packages\\dash\\dash.py\", line 1457, in dispatch\n",
      "    response.set_data(self.callback_map[output][\"callback\"](*args))\n",
      "  File \"C:\\ProgramData\\Anaconda3\\envs\\ww_env2\\lib\\site-packages\\dash\\dash.py\", line 1337, in add_context\n",
      "    output_value = func(*args, **kwargs)  # %% callback invoked %%\n",
      "  File \"C:\\Users\\odi011\\projects\\explainerdashboard\\explainerdashboard\\dashboard_tabs\\shadow_trees_tab.py\", line 129, in update_tree_graph\n",
      "    return explainer.plot_trees(index, round=round)\n",
      "  File \"C:\\Users\\odi011\\projects\\explainerdashboard\\explainerdashboard\\explainers.py\", line 888, in plot_trees\n",
      "    return plotly_tree_predictions(self.model, self.X.iloc[[idx]], round)\n",
      "  File \"C:\\Users\\odi011\\projects\\explainerdashboard\\explainerdashboard\\explainer_plots.py\", line 656, in plotly_tree_predictions\n",
      "    for m in model.estimators_]\n",
      "  File \"C:\\Users\\odi011\\projects\\explainerdashboard\\explainerdashboard\\explainer_plots.py\", line 656, in <listcomp>\n",
      "    for m in model.estimators_]\n",
      "AttributeError: 'DecisionTreeRegressor' object has no attribute 'predict_proba'\n"
     ]
    },
    {
     "name": "stderr",
     "output_type": "stream",
     "text": [
      "127.0.0.1 - - [04/Dec/2019 13:40:06] \"POST /_dash-update-component HTTP/1.1\" 500 -\n",
      "127.0.0.1 - - [04/Dec/2019 13:40:06] \"POST /_dash-update-component HTTP/1.1\" 200 -\n",
      "127.0.0.1 - - [04/Dec/2019 13:40:06] \"POST /_dash-update-component HTTP/1.1\" 200 -\n",
      "127.0.0.1 - - [04/Dec/2019 13:40:07] \"POST /_dash-update-component HTTP/1.1\" 200 -\n",
      "127.0.0.1 - - [04/Dec/2019 13:40:08] \"POST /_dash-update-component HTTP/1.1\" 200 -\n",
      "127.0.0.1 - - [04/Dec/2019 13:40:09] \"POST /_dash-update-component HTTP/1.1\" 200 -\n"
     ]
    }
   ],
   "source": [
    "db = ExplainerDashboard(explainer,\n",
    "                        model_summary=True,\n",
    "                        contributions=True,\n",
    "                        shap_dependence=True,\n",
    "                        shap_interaction=False,\n",
    "                        shadow_trees=True)\n",
    "db.run(8051)"
   ]
  },
  {
   "cell_type": "markdown",
   "metadata": {
    "ExecuteTime": {
     "end_time": "2019-10-23T12:55:48.546580Z",
     "start_time": "2019-10-23T12:55:48.541576Z"
    }
   },
   "source": [
    "# XGBClassifier:"
   ]
  },
  {
   "cell_type": "code",
   "execution_count": 10,
   "metadata": {
    "ExecuteTime": {
     "end_time": "2019-11-22T10:41:38.586466Z",
     "start_time": "2019-11-22T10:40:24.110664Z"
    }
   },
   "outputs": [
    {
     "data": {
      "text/plain": [
       "XGBClassifier(base_score=0.5, booster='gbtree', colsample_bylevel=1,\n",
       "              colsample_bynode=1, colsample_bytree=1, gamma=0,\n",
       "              learning_rate=0.1, max_delta_step=0, max_depth=3,\n",
       "              min_child_weight=1, missing=None, n_estimators=100, n_jobs=1,\n",
       "              nthread=None, objective='binary:logistic', random_state=0,\n",
       "              reg_alpha=0, reg_lambda=1, scale_pos_weight=1, seed=None,\n",
       "              silent=None, subsample=1, verbosity=1)"
      ]
     },
     "execution_count": 10,
     "metadata": {},
     "output_type": "execute_result"
    },
    {
     "name": "stdout",
     "output_type": "stream",
     "text": [
      "Calculating shap values...\n",
      "Generating shap TreeExplainer...\n",
      "Calculating predictions...\n",
      "Calculating prediction probabilities...\n",
      "Calculating importances...\n",
      "Running Model Explainer on http://localhost:8052\n",
      " * Serving Flask app \"explainerdashboard.dashboards\" (lazy loading)\n",
      " * Environment: production\n",
      "   WARNING: Do not use the development server in a production environment.\n",
      "   Use a production WSGI server instead.\n",
      " * Debug mode: off\n"
     ]
    },
    {
     "name": "stderr",
     "output_type": "stream",
     "text": [
      " * Running on http://127.0.0.1:8052/ (Press CTRL+C to quit)\n",
      "127.0.0.1 - - [22/Nov/2019 11:40:28] \"GET / HTTP/1.1\" 200 -\n",
      "127.0.0.1 - - [22/Nov/2019 11:40:29] \"GET /_dash-dependencies HTTP/1.1\" 200 -\n",
      "127.0.0.1 - - [22/Nov/2019 11:40:29] \"GET /_dash-layout HTTP/1.1\" 200 -\n",
      "127.0.0.1 - - [22/Nov/2019 11:40:55] \"POST /_dash-update-component HTTP/1.1\" 204 -\n",
      "127.0.0.1 - - [22/Nov/2019 11:40:56] \"POST /_dash-update-component HTTP/1.1\" 200 -\n",
      "127.0.0.1 - - [22/Nov/2019 11:40:57] \"POST /_dash-update-component HTTP/1.1\" 200 -\n",
      "127.0.0.1 - - [22/Nov/2019 11:40:57] \"POST /_dash-update-component HTTP/1.1\" 200 -\n",
      "127.0.0.1 - - [22/Nov/2019 11:40:57] \"POST /_dash-update-component HTTP/1.1\" 204 -\n",
      "127.0.0.1 - - [22/Nov/2019 11:40:57] \"POST /_dash-update-component HTTP/1.1\" 200 -\n",
      "127.0.0.1 - - [22/Nov/2019 11:40:57] \"POST /_dash-update-component HTTP/1.1\" 200 -\n",
      "127.0.0.1 - - [22/Nov/2019 11:40:57] \"POST /_dash-update-component HTTP/1.1\" 200 -\n",
      "127.0.0.1 - - [22/Nov/2019 11:40:57] \"POST /_dash-update-component HTTP/1.1\" 204 -\n",
      "127.0.0.1 - - [22/Nov/2019 11:40:57] \"POST /_dash-update-component HTTP/1.1\" 200 -\n",
      "127.0.0.1 - - [22/Nov/2019 11:40:58] \"POST /_dash-update-component HTTP/1.1\" 200 -\n",
      "127.0.0.1 - - [22/Nov/2019 11:40:59] \"POST /_dash-update-component HTTP/1.1\" 200 -\n",
      "127.0.0.1 - - [22/Nov/2019 11:40:59] \"POST /_dash-update-component HTTP/1.1\" 200 -\n",
      "127.0.0.1 - - [22/Nov/2019 11:41:00] \"POST /_dash-update-component HTTP/1.1\" 200 -\n",
      "127.0.0.1 - - [22/Nov/2019 11:41:01] \"POST /_dash-update-component HTTP/1.1\" 200 -\n",
      "127.0.0.1 - - [22/Nov/2019 11:41:02] \"POST /_dash-update-component HTTP/1.1\" 200 -\n",
      "127.0.0.1 - - [22/Nov/2019 11:41:05] \"POST /_dash-update-component HTTP/1.1\" 200 -\n",
      "127.0.0.1 - - [22/Nov/2019 11:41:05] \"POST /_dash-update-component HTTP/1.1\" 200 -\n",
      "127.0.0.1 - - [22/Nov/2019 11:41:08] \"POST /_dash-update-component HTTP/1.1\" 200 -\n",
      "127.0.0.1 - - [22/Nov/2019 11:41:09] \"POST /_dash-update-component HTTP/1.1\" 200 -\n",
      "127.0.0.1 - - [22/Nov/2019 11:41:10] \"POST /_dash-update-component HTTP/1.1\" 200 -\n",
      "127.0.0.1 - - [22/Nov/2019 11:41:10] \"POST /_dash-update-component HTTP/1.1\" 200 -\n",
      "127.0.0.1 - - [22/Nov/2019 11:41:12] \"POST /_dash-update-component HTTP/1.1\" 200 -\n",
      "127.0.0.1 - - [22/Nov/2019 11:41:20] \"POST /_dash-update-component HTTP/1.1\" 200 -\n"
     ]
    }
   ],
   "source": [
    "X_train, y_train, X_test, y_test = titanic_survive()\n",
    "train_names, test_names = titanic_names()\n",
    "\n",
    "xgb_model = XGBClassifier()\n",
    "xgb_model.fit(X_train, y_train)\n",
    "\n",
    "explainer = TreeClassifierBunch(xgb_model, X_test, y_test, roc_auc_score, \n",
    "                                   cats=['Sex', 'Deck', 'Embarked'],\n",
    "                                   idxs=test_names, #names of passengers \n",
    "                                   labels=['Not survived', 'Survived'])\n",
    "\n",
    "db = ExplainerDashboard(explainer,\n",
    "                        model_summary=True,\n",
    "                        contributions=True,\n",
    "                        shap_dependence=True,\n",
    "                        shap_interaction=False)\n",
    "db.run(8052)"
   ]
  },
  {
   "cell_type": "code",
   "execution_count": null,
   "metadata": {
    "collapsed": true
   },
   "outputs": [],
   "source": []
  }
 ],
 "metadata": {
  "kernelspec": {
   "display_name": "Python 3",
   "language": "python",
   "name": "python3"
  },
  "language_info": {
   "codemirror_mode": {
    "name": "ipython",
    "version": 3
   },
   "file_extension": ".py",
   "mimetype": "text/x-python",
   "name": "python",
   "nbconvert_exporter": "python",
   "pygments_lexer": "ipython3",
   "version": "3.7.5"
  }
 },
 "nbformat": 4,
 "nbformat_minor": 2
}
