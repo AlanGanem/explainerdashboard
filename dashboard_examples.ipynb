{
 "cells": [
  {
   "cell_type": "markdown",
   "metadata": {},
   "source": [
    "# Imports"
   ]
  },
  {
   "cell_type": "code",
   "execution_count": 1,
   "metadata": {
    "ExecuteTime": {
     "end_time": "2019-11-06T13:04:08.094300Z",
     "start_time": "2019-11-06T13:04:07.767281Z"
    },
    "collapsed": true
   },
   "outputs": [],
   "source": [
    "%load_ext autoreload\n",
    "%autoreload 0"
   ]
  },
  {
   "cell_type": "code",
   "execution_count": 2,
   "metadata": {
    "ExecuteTime": {
     "end_time": "2019-11-06T13:04:08.100301Z",
     "start_time": "2019-11-06T13:04:08.097301Z"
    },
    "collapsed": true
   },
   "outputs": [],
   "source": [
    "from IPython.core.interactiveshell import InteractiveShell\n",
    "InteractiveShell.ast_node_interactivity = \"all\""
   ]
  },
  {
   "cell_type": "code",
   "execution_count": 3,
   "metadata": {
    "ExecuteTime": {
     "end_time": "2019-11-06T13:04:25.772439Z",
     "start_time": "2019-11-06T13:04:08.103302Z"
    },
    "collapsed": true
   },
   "outputs": [],
   "source": [
    "import pandas as pd\n",
    "from sklearn.ensemble import RandomForestClassifier, RandomForestRegressor\n",
    "from xgboost import XGBClassifier\n",
    "from sklearn.metrics import roc_auc_score, r2_score"
   ]
  },
  {
   "cell_type": "code",
   "execution_count": 4,
   "metadata": {
    "ExecuteTime": {
     "start_time": "2019-11-06T13:03:59.697Z"
    },
    "collapsed": true
   },
   "outputs": [],
   "source": [
    "from explainerdashboard.explainers import *\n",
    "from explainerdashboard.dashboards import *\n",
    "from explainerdashboard.datasets import *"
   ]
  },
  {
   "cell_type": "markdown",
   "metadata": {},
   "source": [
    "# RandomForestRegressor"
   ]
  },
  {
   "cell_type": "code",
   "execution_count": 5,
   "metadata": {
    "ExecuteTime": {
     "start_time": "2019-11-06T13:04:03.345Z"
    },
    "collapsed": false
   },
   "outputs": [
    {
     "data": {
      "text/plain": [
       "RandomForestRegressor(bootstrap=True, criterion='mse', max_depth=5,\n",
       "                      max_features='auto', max_leaf_nodes=None,\n",
       "                      min_impurity_decrease=0.0, min_impurity_split=None,\n",
       "                      min_samples_leaf=1, min_samples_split=2,\n",
       "                      min_weight_fraction_leaf=0.0, n_estimators=50,\n",
       "                      n_jobs=None, oob_score=False, random_state=None,\n",
       "                      verbose=0, warm_start=False)"
      ]
     },
     "execution_count": 5,
     "metadata": {},
     "output_type": "execute_result"
    },
    {
     "name": "stdout",
     "output_type": "stream",
     "text": [
      "Calculating shap values...\n",
      "Generating shap TreeExplainer...\n",
      "Calculating predictions...\n",
      "Calculating shap values...\n",
      "Calculating importances...\n",
      "Running Model Explainer on http://localhost:8051\n",
      " * Serving Flask app \"explainerdashboard.dashboards\" (lazy loading)\n",
      " * Environment: production\n",
      "   WARNING: This is a development server. Do not use it in a production deployment.\n",
      "   Use a production WSGI server instead.\n",
      " * Debug mode: off\n"
     ]
    },
    {
     "name": "stderr",
     "output_type": "stream",
     "text": [
      " * Running on http://127.0.0.1:8051/ (Press CTRL+C to quit)\n",
      "127.0.0.1 - - [08/Nov/2019 11:46:16] \"GET / HTTP/1.1\" 200 -\n",
      "127.0.0.1 - - [08/Nov/2019 11:46:16] \"GET /_dash-component-suites/dash_renderer/prop-types@15.7.2.min.js?v=1.0.0&m=1566138683 HTTP/1.1\" 200 -\n",
      "127.0.0.1 - - [08/Nov/2019 11:46:16] \"GET /assets/stylesheet.css?m=1570631370.0 HTTP/1.1\" 200 -\n",
      "127.0.0.1 - - [08/Nov/2019 11:46:16] \"GET /_dash-component-suites/dash_renderer/react@16.8.6.min.js?v=1.0.0&m=1566138683 HTTP/1.1\" 200 -\n",
      "127.0.0.1 - - [08/Nov/2019 11:46:16] \"GET /_dash-component-suites/dash_renderer/react-dom@16.8.6.min.js?v=1.0.0&m=1566138683 HTTP/1.1\" 200 -\n",
      "127.0.0.1 - - [08/Nov/2019 11:46:16] \"GET /assets/bootstrap.css?m=1570631370.0 HTTP/1.1\" 200 -\n",
      "127.0.0.1 - - [08/Nov/2019 11:46:17] \"GET /_dash-component-suites/dash_core_components/highlight.pack.js?v=1.1.1&m=1566138668 HTTP/1.1\" 200 -\n",
      "127.0.0.1 - - [08/Nov/2019 11:46:17] \"GET /_dash-component-suites/dash_html_components/dash_html_components.min.js?v=1.0.0&m=1566138672 HTTP/1.1\" 200 -\n",
      "127.0.0.1 - - [08/Nov/2019 11:46:17] \"GET /_dash-component-suites/dash_bootstrap_components/_components/dash_bootstrap_components.min.js?v=0.7.0&m=1566138674 HTTP/1.1\" 200 -\n",
      "127.0.0.1 - - [08/Nov/2019 11:46:17] \"GET /_dash-component-suites/dash_core_components/dash_core_components.min.js?v=1.1.1&m=1566138668 HTTP/1.1\" 200 -\n",
      "127.0.0.1 - - [08/Nov/2019 11:46:17] \"GET /assets/dash_bootstrap_components.min.js?m=1570631370.0 HTTP/1.1\" 200 -\n",
      "127.0.0.1 - - [08/Nov/2019 11:46:17] \"GET /_dash-component-suites/dash_renderer/dash_renderer.min.js?v=1.0.0&m=1566138683 HTTP/1.1\" 200 -\n",
      "127.0.0.1 - - [08/Nov/2019 11:46:17] \"GET /_dash-component-suites/dash_table/bundle.js?v=4.1.0&m=1566138672 HTTP/1.1\" 200 -\n",
      "127.0.0.1 - - [08/Nov/2019 11:46:17] \"GET /_dash-component-suites/dash_daq/bundle.js?v=0.1.7&m=1566138674 HTTP/1.1\" 200 -\n",
      "127.0.0.1 - - [08/Nov/2019 11:46:17] \"GET /_dash-component-suites/dash_core_components/plotly-1.49.1.min.js?v=1.1.1&m=1566138668 HTTP/1.1\" 200 -\n",
      "127.0.0.1 - - [08/Nov/2019 11:46:20] \"GET /_dash-layout HTTP/1.1\" 200 -\n",
      "127.0.0.1 - - [08/Nov/2019 11:46:20] \"GET /_dash-dependencies HTTP/1.1\" 200 -\n",
      "127.0.0.1 - - [08/Nov/2019 11:46:20] \"POST /_dash-update-component HTTP/1.1\" 200 -\n",
      "127.0.0.1 - - [08/Nov/2019 11:46:20] \"POST /_dash-update-component HTTP/1.1\" 204 -\n",
      "127.0.0.1 - - [08/Nov/2019 11:46:20] \"POST /_dash-update-component HTTP/1.1\" 204 -\n",
      "127.0.0.1 - - [08/Nov/2019 11:46:20] \"POST /_dash-update-component HTTP/1.1\" 200 -\n",
      "127.0.0.1 - - [08/Nov/2019 11:46:20] \"POST /_dash-update-component HTTP/1.1\" 204 -\n",
      "127.0.0.1 - - [08/Nov/2019 11:46:20] \"POST /_dash-update-component HTTP/1.1\" 200 -\n",
      "127.0.0.1 - - [08/Nov/2019 11:46:20] \"POST /_dash-update-component HTTP/1.1\" 200 -\n",
      "127.0.0.1 - - [08/Nov/2019 11:46:21] \"POST /_dash-update-component HTTP/1.1\" 200 -\n",
      "127.0.0.1 - - [08/Nov/2019 11:46:21] \"GET /_favicon.ico?v=1.1.1 HTTP/1.1\" 200 -\n",
      "127.0.0.1 - - [08/Nov/2019 11:46:22] \"POST /_dash-update-component HTTP/1.1\" 200 -\n",
      "127.0.0.1 - - [08/Nov/2019 11:46:22] \"POST /_dash-update-component HTTP/1.1\" 200 -\n",
      "127.0.0.1 - - [08/Nov/2019 11:46:22] \"POST /_dash-update-component HTTP/1.1\" 200 -\n",
      "127.0.0.1 - - [08/Nov/2019 11:46:23] \"POST /_dash-update-component HTTP/1.1\" 200 -\n",
      "127.0.0.1 - - [08/Nov/2019 11:46:24] \"POST /_dash-update-component HTTP/1.1\" 200 -\n",
      "127.0.0.1 - - [08/Nov/2019 11:46:32] \"POST /_dash-update-component HTTP/1.1\" 200 -\n",
      "127.0.0.1 - - [08/Nov/2019 11:46:33] \"POST /_dash-update-component HTTP/1.1\" 200 -\n",
      "127.0.0.1 - - [08/Nov/2019 11:46:33] \"POST /_dash-update-component HTTP/1.1\" 200 -\n",
      "127.0.0.1 - - [08/Nov/2019 11:46:33] \"POST /_dash-update-component HTTP/1.1\" 200 -\n",
      "127.0.0.1 - - [08/Nov/2019 11:46:35] \"POST /_dash-update-component HTTP/1.1\" 200 -\n",
      "127.0.0.1 - - [08/Nov/2019 11:46:35] \"POST /_dash-update-component HTTP/1.1\" 200 -\n",
      "127.0.0.1 - - [08/Nov/2019 11:46:36] \"POST /_dash-update-component HTTP/1.1\" 200 -\n",
      "127.0.0.1 - - [08/Nov/2019 11:46:36] \"POST /_dash-update-component HTTP/1.1\" 200 -\n",
      "127.0.0.1 - - [08/Nov/2019 11:46:38] \"POST /_dash-update-component HTTP/1.1\" 200 -\n",
      "127.0.0.1 - - [08/Nov/2019 11:46:38] \"POST /_dash-update-component HTTP/1.1\" 200 -\n",
      "127.0.0.1 - - [08/Nov/2019 11:46:39] \"POST /_dash-update-component HTTP/1.1\" 200 -\n",
      "127.0.0.1 - - [08/Nov/2019 11:46:39] \"POST /_dash-update-component HTTP/1.1\" 200 -\n",
      "127.0.0.1 - - [08/Nov/2019 11:46:41] \"POST /_dash-update-component HTTP/1.1\" 200 -\n",
      "127.0.0.1 - - [08/Nov/2019 11:46:48] \"POST /_dash-update-component HTTP/1.1\" 200 -\n"
     ]
    },
    {
     "name": "stdout",
     "output_type": "stream",
     "text": [
      "Exception on /_dash-update-component [POST]\n",
      "Traceback (most recent call last):\n",
      "  File \"/anaconda/lib/python3.6/site-packages/flask/app.py\", line 2446, in wsgi_app\n",
      "    response = self.full_dispatch_request()\n",
      "  File \"/anaconda/lib/python3.6/site-packages/flask/app.py\", line 1951, in full_dispatch_request\n",
      "    rv = self.handle_user_exception(e)\n",
      "  File \"/anaconda/lib/python3.6/site-packages/flask/app.py\", line 1820, in handle_user_exception\n",
      "    reraise(exc_type, exc_value, tb)\n",
      "  File \"/anaconda/lib/python3.6/site-packages/flask/_compat.py\", line 39, in reraise\n",
      "    raise value\n",
      "  File \"/anaconda/lib/python3.6/site-packages/flask/app.py\", line 1949, in full_dispatch_request\n",
      "    rv = self.dispatch_request()\n",
      "  File \"/anaconda/lib/python3.6/site-packages/flask/app.py\", line 1935, in dispatch_request\n",
      "    return self.view_functions[rule.endpoint](**req.view_args)\n",
      "  File \"/anaconda/lib/python3.6/site-packages/dash/dash.py\", line 1287, in dispatch\n",
      "    response.set_data(self.callback_map[output]['callback'](*args))\n",
      "  File \"/anaconda/lib/python3.6/site-packages/dash/dash.py\", line 1171, in add_context\n",
      "    output_value = func(*args, **kwargs)\n",
      "  File \"/Users/oegedijk/Dropbox/DataScience/explainerdashboard/explainerdashboard/dashboard_tabs/shap_dependence_tab.py\", line 139, in update_dependence_graph\n",
      "    col, color_col, highlight_idx=idx, cats=cats)\n",
      "  File \"/Users/oegedijk/Dropbox/DataScience/explainerdashboard/explainerdashboard/explainers.py\", line 649, in plot_shap_dependence\n",
      "    na_fill=self.na_fill)\n",
      "  File \"/Users/oegedijk/Dropbox/DataScience/explainerdashboard/explainerdashboard/explainer_plots.py\", line 185, in plotly_dependence_plot\n",
      "    assert col_name in X.columns.tolist(), f'{col_name} not in X.columns'\n",
      "AssertionError: Embarked_Cherbourg not in X.columns\n"
     ]
    },
    {
     "name": "stderr",
     "output_type": "stream",
     "text": [
      "127.0.0.1 - - [08/Nov/2019 11:46:48] \"POST /_dash-update-component HTTP/1.1\" 500 -\n",
      "127.0.0.1 - - [08/Nov/2019 11:46:48] \"POST /_dash-update-component HTTP/1.1\" 200 -\n",
      "127.0.0.1 - - [08/Nov/2019 11:46:49] \"POST /_dash-update-component HTTP/1.1\" 200 -\n"
     ]
    }
   ],
   "source": [
    "X_train, y_train, X_test, y_test = titanic_fare()\n",
    "train_names, test_names = titanic_names()\n",
    "\n",
    "model = RandomForestRegressor(n_estimators=50, max_depth=5)\n",
    "model.fit(X_train, y_train)\n",
    "\n",
    "explainer = RandomForestBunch(model, X_test, y_test, r2_score, \n",
    "                               cats=['Sex', 'Deck', 'Embarked'],\n",
    "                               idxs=test_names)\n",
    "\n",
    "db = RandomForestDashboard(explainer,\n",
    "                        model_summary=True,\n",
    "                        contributions=True,\n",
    "                        shap_dependence=True,\n",
    "                        shap_interaction=False,\n",
    "                        shadow_trees=True)\n",
    "db.run(8051)"
   ]
  },
  {
   "cell_type": "markdown",
   "metadata": {},
   "source": [
    "# RandomForestClassifier:"
   ]
  },
  {
   "cell_type": "code",
   "execution_count": 6,
   "metadata": {
    "ExecuteTime": {
     "end_time": "2019-11-06T13:03:52.617314Z",
     "start_time": "2019-11-06T08:38:37.677784Z"
    },
    "collapsed": false
   },
   "outputs": [
    {
     "data": {
      "text/plain": [
       "RandomForestClassifier(bootstrap=True, class_weight=None, criterion='gini',\n",
       "                       max_depth=5, max_features='auto', max_leaf_nodes=None,\n",
       "                       min_impurity_decrease=0.0, min_impurity_split=None,\n",
       "                       min_samples_leaf=1, min_samples_split=2,\n",
       "                       min_weight_fraction_leaf=0.0, n_estimators=50,\n",
       "                       n_jobs=None, oob_score=False, random_state=None,\n",
       "                       verbose=0, warm_start=False)"
      ]
     },
     "execution_count": 6,
     "metadata": {},
     "output_type": "execute_result"
    },
    {
     "name": "stdout",
     "output_type": "stream",
     "text": [
      "Calculating shap values...\n",
      "Generating shap TreeExplainer...\n",
      "Calculating predictions...\n",
      "Calculating prediction probabilities...\n",
      "Calculating importances...\n",
      "Calculating shap interaction values...\n",
      "Running Model Explainer on http://localhost:8052\n",
      " * Serving Flask app \"explainerdashboard.dashboards\" (lazy loading)\n",
      " * Environment: production\n",
      "   WARNING: This is a development server. Do not use it in a production deployment.\n",
      "   Use a production WSGI server instead.\n",
      " * Debug mode: off\n"
     ]
    },
    {
     "name": "stderr",
     "output_type": "stream",
     "text": [
      " * Running on http://127.0.0.1:8052/ (Press CTRL+C to quit)\n",
      "127.0.0.1 - - [08/Nov/2019 11:47:33] \"GET / HTTP/1.1\" 200 -\n",
      "127.0.0.1 - - [08/Nov/2019 11:47:34] \"GET /assets/stylesheet.css?m=1570631370.0 HTTP/1.1\" 200 -\n",
      "127.0.0.1 - - [08/Nov/2019 11:47:34] \"GET /_dash-component-suites/dash_renderer/react@16.8.6.min.js?v=1.0.0&m=1566138683 HTTP/1.1\" 200 -\n",
      "127.0.0.1 - - [08/Nov/2019 11:47:34] \"GET /_dash-component-suites/dash_renderer/prop-types@15.7.2.min.js?v=1.0.0&m=1566138683 HTTP/1.1\" 200 -\n",
      "127.0.0.1 - - [08/Nov/2019 11:47:34] \"GET /assets/bootstrap.css?m=1570631370.0 HTTP/1.1\" 200 -\n",
      "127.0.0.1 - - [08/Nov/2019 11:47:34] \"GET /_dash-component-suites/dash_renderer/react-dom@16.8.6.min.js?v=1.0.0&m=1566138683 HTTP/1.1\" 200 -\n",
      "127.0.0.1 - - [08/Nov/2019 11:47:34] \"GET /_dash-component-suites/dash_core_components/highlight.pack.js?v=1.1.1&m=1566138668 HTTP/1.1\" 200 -\n",
      "127.0.0.1 - - [08/Nov/2019 11:47:34] \"GET /_dash-component-suites/dash_html_components/dash_html_components.min.js?v=1.0.0&m=1566138672 HTTP/1.1\" 200 -\n",
      "127.0.0.1 - - [08/Nov/2019 11:47:34] \"GET /_dash-component-suites/dash_bootstrap_components/_components/dash_bootstrap_components.min.js?v=0.7.0&m=1566138674 HTTP/1.1\" 200 -\n",
      "127.0.0.1 - - [08/Nov/2019 11:47:34] \"GET /_dash-component-suites/dash_renderer/dash_renderer.min.js?v=1.0.0&m=1566138683 HTTP/1.1\" 200 -\n",
      "127.0.0.1 - - [08/Nov/2019 11:47:34] \"GET /assets/dash_bootstrap_components.min.js?m=1570631370.0 HTTP/1.1\" 200 -\n",
      "127.0.0.1 - - [08/Nov/2019 11:47:34] \"GET /_dash-component-suites/dash_core_components/dash_core_components.min.js?v=1.1.1&m=1566138668 HTTP/1.1\" 200 -\n",
      "127.0.0.1 - - [08/Nov/2019 11:47:34] \"GET /_dash-component-suites/dash_daq/bundle.js?v=0.1.7&m=1566138674 HTTP/1.1\" 200 -\n",
      "127.0.0.1 - - [08/Nov/2019 11:47:34] \"GET /_dash-component-suites/dash_table/bundle.js?v=4.1.0&m=1566138672 HTTP/1.1\" 200 -\n",
      "127.0.0.1 - - [08/Nov/2019 11:47:34] \"GET /_dash-component-suites/dash_core_components/plotly-1.49.1.min.js?v=1.1.1&m=1566138668 HTTP/1.1\" 200 -\n",
      "127.0.0.1 - - [08/Nov/2019 11:47:36] \"GET /_dash-dependencies HTTP/1.1\" 200 -\n",
      "127.0.0.1 - - [08/Nov/2019 11:47:36] \"GET /_dash-layout HTTP/1.1\" 200 -\n",
      "127.0.0.1 - - [08/Nov/2019 11:47:36] \"POST /_dash-update-component HTTP/1.1\" 200 -\n",
      "127.0.0.1 - - [08/Nov/2019 11:47:36] \"POST /_dash-update-component HTTP/1.1\" 204 -\n",
      "127.0.0.1 - - [08/Nov/2019 11:47:36] \"POST /_dash-update-component HTTP/1.1\" 204 -\n",
      "127.0.0.1 - - [08/Nov/2019 11:47:36] \"POST /_dash-update-component HTTP/1.1\" 200 -\n",
      "127.0.0.1 - - [08/Nov/2019 11:47:38] \"POST /_dash-update-component HTTP/1.1\" 200 -\n",
      "127.0.0.1 - - [08/Nov/2019 11:47:38] \"POST /_dash-update-component HTTP/1.1\" 200 -\n",
      "127.0.0.1 - - [08/Nov/2019 11:47:38] \"POST /_dash-update-component HTTP/1.1\" 204 -\n",
      "127.0.0.1 - - [08/Nov/2019 11:47:38] \"POST /_dash-update-component HTTP/1.1\" 204 -\n",
      "127.0.0.1 - - [08/Nov/2019 11:47:38] \"POST /_dash-update-component HTTP/1.1\" 200 -\n",
      "127.0.0.1 - - [08/Nov/2019 11:47:38] \"POST /_dash-update-component HTTP/1.1\" 200 -\n",
      "127.0.0.1 - - [08/Nov/2019 11:47:38] \"GET /_favicon.ico?v=1.1.1 HTTP/1.1\" 200 -\n",
      "127.0.0.1 - - [08/Nov/2019 11:47:38] \"POST /_dash-update-component HTTP/1.1\" 200 -\n",
      "127.0.0.1 - - [08/Nov/2019 11:47:39] \"POST /_dash-update-component HTTP/1.1\" 200 -\n",
      "127.0.0.1 - - [08/Nov/2019 11:47:40] \"POST /_dash-update-component HTTP/1.1\" 200 -\n",
      "127.0.0.1 - - [08/Nov/2019 11:47:40] \"POST /_dash-update-component HTTP/1.1\" 200 -\n",
      "127.0.0.1 - - [08/Nov/2019 11:47:41] \"POST /_dash-update-component HTTP/1.1\" 200 -\n",
      "127.0.0.1 - - [08/Nov/2019 11:47:41] \"POST /_dash-update-component HTTP/1.1\" 200 -\n",
      "127.0.0.1 - - [08/Nov/2019 11:47:42] \"POST /_dash-update-component HTTP/1.1\" 200 -\n",
      "127.0.0.1 - - [08/Nov/2019 11:47:42] \"POST /_dash-update-component HTTP/1.1\" 200 -\n",
      "127.0.0.1 - - [08/Nov/2019 11:48:11] \"POST /_dash-update-component HTTP/1.1\" 204 -\n",
      "127.0.0.1 - - [08/Nov/2019 11:48:17] \"POST /_dash-update-component HTTP/1.1\" 200 -\n",
      "127.0.0.1 - - [08/Nov/2019 11:48:18] \"POST /_dash-update-component HTTP/1.1\" 200 -\n",
      "127.0.0.1 - - [08/Nov/2019 11:48:20] \"POST /_dash-update-component HTTP/1.1\" 200 -\n",
      "127.0.0.1 - - [08/Nov/2019 11:48:20] \"POST /_dash-update-component HTTP/1.1\" 204 -\n",
      "127.0.0.1 - - [08/Nov/2019 11:48:21] \"POST /_dash-update-component HTTP/1.1\" 200 -\n",
      "127.0.0.1 - - [08/Nov/2019 11:48:21] \"POST /_dash-update-component HTTP/1.1\" 200 -\n"
     ]
    },
    {
     "name": "stdout",
     "output_type": "stream",
     "text": [
      "Generating shadow trees...\n",
      "Generating shadow trees...\n",
      "Generating shadow trees...\n"
     ]
    },
    {
     "name": "stderr",
     "output_type": "stream",
     "text": [
      "127.0.0.1 - - [08/Nov/2019 11:48:29] \"POST /_dash-update-component HTTP/1.1\" 200 -\n",
      "127.0.0.1 - - [08/Nov/2019 11:48:30] \"POST /_dash-update-component HTTP/1.1\" 200 -\n",
      "127.0.0.1 - - [08/Nov/2019 11:48:32] \"POST /_dash-update-component HTTP/1.1\" 200 -\n",
      "127.0.0.1 - - [08/Nov/2019 11:48:33] \"POST /_dash-update-component HTTP/1.1\" 200 -\n",
      "127.0.0.1 - - [08/Nov/2019 11:48:35] \"POST /_dash-update-component HTTP/1.1\" 200 -\n",
      "127.0.0.1 - - [08/Nov/2019 11:48:36] \"POST /_dash-update-component HTTP/1.1\" 200 -\n",
      "127.0.0.1 - - [08/Nov/2019 11:48:36] \"POST /_dash-update-component HTTP/1.1\" 200 -\n",
      "127.0.0.1 - - [08/Nov/2019 11:48:36] \"POST /_dash-update-component HTTP/1.1\" 200 -\n",
      "127.0.0.1 - - [08/Nov/2019 11:48:36] \"POST /_dash-update-component HTTP/1.1\" 200 -\n",
      "127.0.0.1 - - [08/Nov/2019 11:48:42] \"POST /_dash-update-component HTTP/1.1\" 200 -\n",
      "127.0.0.1 - - [08/Nov/2019 11:48:42] \"POST /_dash-update-component HTTP/1.1\" 200 -\n",
      "127.0.0.1 - - [08/Nov/2019 11:48:42] \"POST /_dash-update-component HTTP/1.1\" 200 -\n"
     ]
    }
   ],
   "source": [
    "X_train, y_train, X_test, y_test = titanic_survive()\n",
    "train_names, test_names = titanic_names()\n",
    "\n",
    "model = RandomForestClassifier(n_estimators=50, max_depth=5)\n",
    "model.fit(X_train, y_train)\n",
    "\n",
    "\n",
    "explainer = RandomForestClassifierBunch(model, X_test, y_test, roc_auc_score, \n",
    "                               cats=['Sex', 'Deck', 'Embarked'],\n",
    "                               idxs=test_names, #names of passengers \n",
    "                               labels=['Not survived', 'Survived'])\n",
    "\n",
    "db = RandomForestDashboard(explainer,\n",
    "                        model_summary=True,\n",
    "                        contributions=True,\n",
    "                        shap_dependence=True,\n",
    "                        shap_interaction=True,\n",
    "                        shadow_trees=True)\n",
    "db.run(8052)\n"
   ]
  },
  {
   "cell_type": "markdown",
   "metadata": {
    "ExecuteTime": {
     "end_time": "2019-10-23T12:55:48.546580Z",
     "start_time": "2019-10-23T12:55:48.541576Z"
    }
   },
   "source": [
    "# XGBClassifier:"
   ]
  },
  {
   "cell_type": "code",
   "execution_count": 5,
   "metadata": {
    "ExecuteTime": {
     "end_time": "2019-11-05T15:00:25.680557Z",
     "start_time": "2019-11-05T12:20:30.468610Z"
    },
    "collapsed": false
   },
   "outputs": [
    {
     "data": {
      "text/plain": [
       "XGBClassifier(base_score=0.5, booster='gbtree', colsample_bylevel=1,\n",
       "              colsample_bynode=1, colsample_bytree=1, gamma=0,\n",
       "              learning_rate=0.1, max_delta_step=0, max_depth=3,\n",
       "              min_child_weight=1, missing=None, n_estimators=100, n_jobs=1,\n",
       "              nthread=None, objective='binary:logistic', random_state=0,\n",
       "              reg_alpha=0, reg_lambda=1, scale_pos_weight=1, seed=None,\n",
       "              silent=None, subsample=1, verbosity=1)"
      ]
     },
     "execution_count": 5,
     "metadata": {},
     "output_type": "execute_result"
    },
    {
     "name": "stdout",
     "output_type": "stream",
     "text": [
      "Calculating shap values...\n",
      "Generating shap TreeExplainer...\n",
      "Calculating predictions...\n",
      "Calculating prediction probabilities...\n",
      "Calculating importances...\n",
      "Running Model Explainer on http://localhost:8052\n",
      " * Serving Flask app \"explainerdashboard.dashboards\" (lazy loading)\n",
      " * Environment: production\n",
      "   WARNING: This is a development server. Do not use it in a production deployment.\n",
      "   Use a production WSGI server instead.\n",
      " * Debug mode: off\n"
     ]
    },
    {
     "name": "stderr",
     "output_type": "stream",
     "text": [
      " * Running on http://127.0.0.1:8052/ (Press CTRL+C to quit)\n",
      "127.0.0.1 - - [08/Nov/2019 11:52:46] \"GET / HTTP/1.1\" 200 -\n",
      "127.0.0.1 - - [08/Nov/2019 11:52:46] \"GET /_dash-component-suites/dash_renderer/react@16.8.6.min.js?v=1.0.0&m=1566138683 HTTP/1.1\" 200 -\n",
      "127.0.0.1 - - [08/Nov/2019 11:52:47] \"GET /_dash-component-suites/dash_renderer/react-dom@16.8.6.min.js?v=1.0.0&m=1566138683 HTTP/1.1\" 200 -\n",
      "127.0.0.1 - - [08/Nov/2019 11:52:47] \"GET /_dash-component-suites/dash_renderer/prop-types@15.7.2.min.js?v=1.0.0&m=1566138683 HTTP/1.1\" 200 -\n",
      "127.0.0.1 - - [08/Nov/2019 11:52:47] \"GET /_dash-component-suites/dash_html_components/dash_html_components.min.js?v=1.0.0&m=1566138672 HTTP/1.1\" 200 -\n",
      "127.0.0.1 - - [08/Nov/2019 11:52:47] \"GET /_dash-component-suites/dash_bootstrap_components/_components/dash_bootstrap_components.min.js?v=0.7.0&m=1566138674 HTTP/1.1\" 200 -\n",
      "127.0.0.1 - - [08/Nov/2019 11:52:47] \"GET /_dash-component-suites/dash_core_components/highlight.pack.js?v=1.1.1&m=1566138668 HTTP/1.1\" 200 -\n",
      "127.0.0.1 - - [08/Nov/2019 11:52:47] \"GET /_dash-component-suites/dash_renderer/dash_renderer.min.js?v=1.0.0&m=1566138683 HTTP/1.1\" 200 -\n",
      "127.0.0.1 - - [08/Nov/2019 11:52:47] \"GET /_dash-component-suites/dash_core_components/dash_core_components.min.js?v=1.1.1&m=1566138668 HTTP/1.1\" 200 -\n",
      "127.0.0.1 - - [08/Nov/2019 11:52:47] \"GET /_dash-component-suites/dash_table/bundle.js?v=4.1.0&m=1566138672 HTTP/1.1\" 200 -\n",
      "127.0.0.1 - - [08/Nov/2019 11:52:47] \"GET /_dash-component-suites/dash_daq/bundle.js?v=0.1.7&m=1566138674 HTTP/1.1\" 200 -\n",
      "127.0.0.1 - - [08/Nov/2019 11:52:47] \"GET /_dash-component-suites/dash_core_components/plotly-1.49.1.min.js?v=1.1.1&m=1566138668 HTTP/1.1\" 200 -\n",
      "127.0.0.1 - - [08/Nov/2019 11:52:49] \"GET /_dash-dependencies HTTP/1.1\" 200 -\n",
      "127.0.0.1 - - [08/Nov/2019 11:52:49] \"GET /_dash-layout HTTP/1.1\" 200 -\n",
      "127.0.0.1 - - [08/Nov/2019 11:52:49] \"POST /_dash-update-component HTTP/1.1\" 200 -\n",
      "127.0.0.1 - - [08/Nov/2019 11:52:49] \"POST /_dash-update-component HTTP/1.1\" 204 -\n",
      "127.0.0.1 - - [08/Nov/2019 11:52:49] \"POST /_dash-update-component HTTP/1.1\" 200 -\n",
      "127.0.0.1 - - [08/Nov/2019 11:52:50] \"POST /_dash-update-component HTTP/1.1\" 200 -\n",
      "127.0.0.1 - - [08/Nov/2019 11:52:50] \"POST /_dash-update-component HTTP/1.1\" 204 -\n",
      "127.0.0.1 - - [08/Nov/2019 11:52:50] \"POST /_dash-update-component HTTP/1.1\" 200 -\n",
      "127.0.0.1 - - [08/Nov/2019 11:52:51] \"POST /_dash-update-component HTTP/1.1\" 200 -\n",
      "127.0.0.1 - - [08/Nov/2019 11:52:51] \"POST /_dash-update-component HTTP/1.1\" 200 -\n",
      "127.0.0.1 - - [08/Nov/2019 11:52:51] \"POST /_dash-update-component HTTP/1.1\" 200 -\n",
      "127.0.0.1 - - [08/Nov/2019 11:52:51] \"POST /_dash-update-component HTTP/1.1\" 200 -\n",
      "127.0.0.1 - - [08/Nov/2019 11:52:52] \"POST /_dash-update-component HTTP/1.1\" 200 -\n",
      "127.0.0.1 - - [08/Nov/2019 11:52:53] \"POST /_dash-update-component HTTP/1.1\" 200 -\n",
      "127.0.0.1 - - [08/Nov/2019 11:52:53] \"POST /_dash-update-component HTTP/1.1\" 200 -\n",
      "127.0.0.1 - - [08/Nov/2019 11:52:55] \"POST /_dash-update-component HTTP/1.1\" 200 -\n",
      "127.0.0.1 - - [08/Nov/2019 11:53:05] \"POST /_dash-update-component HTTP/1.1\" 200 -\n",
      "127.0.0.1 - - [08/Nov/2019 11:53:06] \"POST /_dash-update-component HTTP/1.1\" 200 -\n",
      "127.0.0.1 - - [08/Nov/2019 11:53:06] \"POST /_dash-update-component HTTP/1.1\" 200 -\n",
      "127.0.0.1 - - [08/Nov/2019 11:53:06] \"POST /_dash-update-component HTTP/1.1\" 200 -\n",
      "127.0.0.1 - - [08/Nov/2019 11:53:08] \"POST /_dash-update-component HTTP/1.1\" 200 -\n",
      "127.0.0.1 - - [08/Nov/2019 11:53:09] \"POST /_dash-update-component HTTP/1.1\" 200 -\n",
      "127.0.0.1 - - [08/Nov/2019 11:53:09] \"POST /_dash-update-component HTTP/1.1\" 200 -\n",
      "127.0.0.1 - - [08/Nov/2019 11:53:09] \"POST /_dash-update-component HTTP/1.1\" 200 -\n",
      "127.0.0.1 - - [08/Nov/2019 11:53:10] \"POST /_dash-update-component HTTP/1.1\" 200 -\n",
      "127.0.0.1 - - [08/Nov/2019 11:53:24] \"POST /_dash-update-component HTTP/1.1\" 204 -\n",
      "127.0.0.1 - - [08/Nov/2019 11:53:30] \"POST /_dash-update-component HTTP/1.1\" 200 -\n",
      "127.0.0.1 - - [08/Nov/2019 11:53:31] \"POST /_dash-update-component HTTP/1.1\" 200 -\n",
      "127.0.0.1 - - [08/Nov/2019 11:53:33] \"POST /_dash-update-component HTTP/1.1\" 200 -\n"
     ]
    }
   ],
   "source": [
    "X_train, y_train, X_test, y_test = titanic_survive()\n",
    "train_names, test_names = titanic_names()\n",
    "\n",
    "xgb_model = XGBClassifier()\n",
    "xgb_model.fit(X_train, y_train)\n",
    "\n",
    "explainer = TreeModelClassifierBunch(xgb_model, X_test, y_test, roc_auc_score, \n",
    "                                   cats=['Sex', 'Cabin', 'Embarked'],\n",
    "                                   idxs=test_names, #names of passengers \n",
    "                                   labels=['Not survived', 'Survived'])\n",
    "\n",
    "db = ExplainerDashboard(explainer,\n",
    "                        model_summary=True,\n",
    "                        contributions=True,\n",
    "                        shap_dependence=True,\n",
    "                        shap_interaction=False)\n",
    "db.run(8052)"
   ]
  },
  {
   "cell_type": "code",
   "execution_count": null,
   "metadata": {
    "collapsed": true
   },
   "outputs": [],
   "source": []
  }
 ],
 "metadata": {
  "kernelspec": {
   "display_name": "Python 3",
   "language": "python",
   "name": "python3"
  },
  "language_info": {
   "codemirror_mode": {
    "name": "ipython",
    "version": 3
   },
   "file_extension": ".py",
   "mimetype": "text/x-python",
   "name": "python",
   "nbconvert_exporter": "python",
   "pygments_lexer": "ipython3",
   "version": "3.6.9"
  }
 },
 "nbformat": 4,
 "nbformat_minor": 2
}
