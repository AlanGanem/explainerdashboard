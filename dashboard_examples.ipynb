{
 "cells": [
  {
   "cell_type": "markdown",
   "metadata": {},
   "source": [
    "# Imports"
   ]
  },
  {
   "cell_type": "code",
   "execution_count": 1,
   "metadata": {
    "ExecuteTime": {
     "end_time": "2019-12-03T10:31:39.344719Z",
     "start_time": "2019-12-03T10:31:38.516653Z"
    }
   },
   "outputs": [],
   "source": [
    "%load_ext autoreload\n",
    "%autoreload 0"
   ]
  },
  {
   "cell_type": "code",
   "execution_count": 2,
   "metadata": {
    "ExecuteTime": {
     "end_time": "2019-12-03T10:31:39.350724Z",
     "start_time": "2019-12-03T10:31:39.346719Z"
    }
   },
   "outputs": [],
   "source": [
    "from IPython.core.interactiveshell import InteractiveShell\n",
    "InteractiveShell.ast_node_interactivity = \"all\""
   ]
  },
  {
   "cell_type": "code",
   "execution_count": 3,
   "metadata": {
    "ExecuteTime": {
     "end_time": "2019-12-03T10:32:09.496045Z",
     "start_time": "2019-12-03T10:31:39.353718Z"
    }
   },
   "outputs": [],
   "source": [
    "import pandas as pd\n",
    "from sklearn.ensemble import RandomForestClassifier, RandomForestRegressor\n",
    "from xgboost import XGBClassifier\n",
    "from sklearn.metrics import roc_auc_score, r2_score"
   ]
  },
  {
   "cell_type": "code",
   "execution_count": 4,
   "metadata": {
    "ExecuteTime": {
     "end_time": "2019-12-03T10:32:36.863151Z",
     "start_time": "2019-12-03T10:32:09.498045Z"
    }
   },
   "outputs": [],
   "source": [
    "from explainerdashboard.explainers import *\n",
    "from explainerdashboard.dashboards import *\n",
    "from explainerdashboard.datasets import *"
   ]
  },
  {
   "cell_type": "markdown",
   "metadata": {},
   "source": [
    "# RandomForestClassifier:"
   ]
  },
  {
   "cell_type": "code",
   "execution_count": 5,
   "metadata": {
    "ExecuteTime": {
     "end_time": "2019-11-27T14:13:40.467932Z",
     "start_time": "2019-11-27T14:13:40.372923Z"
    }
   },
   "outputs": [
    {
     "data": {
      "text/plain": [
       "RandomForestClassifier(bootstrap=True, class_weight=None, criterion='gini',\n",
       "                       max_depth=5, max_features='auto', max_leaf_nodes=None,\n",
       "                       min_impurity_decrease=0.0, min_impurity_split=None,\n",
       "                       min_samples_leaf=1, min_samples_split=2,\n",
       "                       min_weight_fraction_leaf=0.0, n_estimators=50,\n",
       "                       n_jobs=None, oob_score=False, random_state=None,\n",
       "                       verbose=0, warm_start=False)"
      ]
     },
     "execution_count": 5,
     "metadata": {},
     "output_type": "execute_result"
    }
   ],
   "source": [
    "X_train, y_train, X_test, y_test = titanic_survive()\n",
    "train_names, test_names = titanic_names()\n",
    "\n",
    "model = RandomForestClassifier(n_estimators=50, max_depth=5)\n",
    "model.fit(X_train, y_train)\n",
    "\n",
    "explainer = RandomForestClassifierBunch(model, X_test, y_test, roc_auc_score, \n",
    "                               cats=['Sex', 'Deck', 'Embarked'],\n",
    "                               idxs=test_names, #names of passengers \n",
    "                               labels=['Not survived', 'Survived'])"
   ]
  },
  {
   "cell_type": "code",
   "execution_count": 7,
   "metadata": {
    "ExecuteTime": {
     "end_time": "2019-11-27T14:13:47.372376Z",
     "start_time": "2019-11-27T14:13:46.837341Z"
    }
   },
   "outputs": [
    {
     "data": {
      "application/vnd.plotly.v1+json": {
       "config": {
        "plotlyServerURL": "https://plot.ly"
       },
       "data": [
        {
         "hoverinfo": "text",
         "showlegend": false,
         "text": [
          "percentage sampled = top 0.5%",
          "percentage sampled = top 1.0%",
          "percentage sampled = top 1.5%",
          "percentage sampled = top 2.0%",
          "percentage sampled = top 2.5%",
          "percentage sampled = top 3.0%",
          "percentage sampled = top 3.5%",
          "percentage sampled = top 4.0%",
          "percentage sampled = top 4.5%",
          "percentage sampled = top 5.0%",
          "percentage sampled = top 5.5%",
          "percentage sampled = top 6.0%",
          "percentage sampled = top 6.5%",
          "percentage sampled = top 7.0%",
          "percentage sampled = top 7.5%",
          "percentage sampled = top 8.0%",
          "percentage sampled = top 8.5%",
          "percentage sampled = top 9.0%",
          "percentage sampled = top 9.5%",
          "percentage sampled = top 10.0%",
          "percentage sampled = top 10.5%",
          "percentage sampled = top 11.0%",
          "percentage sampled = top 11.5%",
          "percentage sampled = top 12.0%",
          "percentage sampled = top 12.5%",
          "percentage sampled = top 13.0%",
          "percentage sampled = top 13.5%",
          "percentage sampled = top 14.0%",
          "percentage sampled = top 14.5%",
          "percentage sampled = top 15.0%",
          "percentage sampled = top 15.5%",
          "percentage sampled = top 16.0%",
          "percentage sampled = top 16.5%",
          "percentage sampled = top 17.0%",
          "percentage sampled = top 17.5%",
          "percentage sampled = top 18.0%",
          "percentage sampled = top 18.5%",
          "percentage sampled = top 19.0%",
          "percentage sampled = top 19.5%",
          "percentage sampled = top 20.0%",
          "percentage sampled = top 20.5%",
          "percentage sampled = top 21.0%",
          "percentage sampled = top 21.5%",
          "percentage sampled = top 22.0%",
          "percentage sampled = top 22.5%",
          "percentage sampled = top 23.0%",
          "percentage sampled = top 23.5%",
          "percentage sampled = top 24.0%",
          "percentage sampled = top 24.5%",
          "percentage sampled = top 25.0%",
          "percentage sampled = top 25.5%",
          "percentage sampled = top 26.0%",
          "percentage sampled = top 26.5%",
          "percentage sampled = top 27.0%",
          "percentage sampled = top 27.5%",
          "percentage sampled = top 28.0%",
          "percentage sampled = top 28.5%",
          "percentage sampled = top 29.0%",
          "percentage sampled = top 29.5%",
          "percentage sampled = top 30.0%",
          "percentage sampled = top 30.5%",
          "percentage sampled = top 31.0%",
          "percentage sampled = top 31.5%",
          "percentage sampled = top 32.0%",
          "percentage sampled = top 32.5%",
          "percentage sampled = top 33.0%",
          "percentage sampled = top 33.5%",
          "percentage sampled = top 34.0%",
          "percentage sampled = top 34.5%",
          "percentage sampled = top 35.0%",
          "percentage sampled = top 35.5%",
          "percentage sampled = top 36.0%",
          "percentage sampled = top 36.5%",
          "percentage sampled = top 37.0%",
          "percentage sampled = top 37.5%",
          "percentage sampled = top 38.0%",
          "percentage sampled = top 38.5%",
          "percentage sampled = top 39.0%",
          "percentage sampled = top 39.5%",
          "percentage sampled = top 40.0%",
          "percentage sampled = top 40.5%",
          "percentage sampled = top 41.0%",
          "percentage sampled = top 41.5%",
          "percentage sampled = top 42.0%",
          "percentage sampled = top 42.5%",
          "percentage sampled = top 43.0%",
          "percentage sampled = top 43.5%",
          "percentage sampled = top 44.0%",
          "percentage sampled = top 44.5%",
          "percentage sampled = top 45.0%",
          "percentage sampled = top 45.5%",
          "percentage sampled = top 46.0%",
          "percentage sampled = top 46.5%",
          "percentage sampled = top 47.0%",
          "percentage sampled = top 47.5%",
          "percentage sampled = top 48.0%",
          "percentage sampled = top 48.5%",
          "percentage sampled = top 49.0%",
          "percentage sampled = top 49.5%",
          "percentage sampled = top 50.0%",
          "percentage sampled = top 50.5%",
          "percentage sampled = top 51.0%",
          "percentage sampled = top 51.5%",
          "percentage sampled = top 52.0%",
          "percentage sampled = top 52.5%",
          "percentage sampled = top 53.0%",
          "percentage sampled = top 53.5%",
          "percentage sampled = top 54.0%",
          "percentage sampled = top 54.5%",
          "percentage sampled = top 55.0%",
          "percentage sampled = top 55.5%",
          "percentage sampled = top 56.0%",
          "percentage sampled = top 56.5%",
          "percentage sampled = top 57.0%",
          "percentage sampled = top 57.5%",
          "percentage sampled = top 58.0%",
          "percentage sampled = top 58.5%",
          "percentage sampled = top 59.0%",
          "percentage sampled = top 59.5%",
          "percentage sampled = top 60.0%",
          "percentage sampled = top 60.5%",
          "percentage sampled = top 61.0%",
          "percentage sampled = top 61.5%",
          "percentage sampled = top 62.0%",
          "percentage sampled = top 62.5%",
          "percentage sampled = top 63.0%",
          "percentage sampled = top 63.5%",
          "percentage sampled = top 64.0%",
          "percentage sampled = top 64.5%",
          "percentage sampled = top 65.0%",
          "percentage sampled = top 65.5%",
          "percentage sampled = top 66.0%",
          "percentage sampled = top 66.5%",
          "percentage sampled = top 67.0%",
          "percentage sampled = top 67.5%",
          "percentage sampled = top 68.0%",
          "percentage sampled = top 68.5%",
          "percentage sampled = top 69.0%",
          "percentage sampled = top 69.5%",
          "percentage sampled = top 70.0%",
          "percentage sampled = top 70.5%",
          "percentage sampled = top 71.0%",
          "percentage sampled = top 71.5%",
          "percentage sampled = top 72.0%",
          "percentage sampled = top 72.5%",
          "percentage sampled = top 73.0%",
          "percentage sampled = top 73.5%",
          "percentage sampled = top 74.0%",
          "percentage sampled = top 74.5%",
          "percentage sampled = top 75.0%",
          "percentage sampled = top 75.5%",
          "percentage sampled = top 76.0%",
          "percentage sampled = top 76.5%",
          "percentage sampled = top 77.0%",
          "percentage sampled = top 77.5%",
          "percentage sampled = top 78.0%",
          "percentage sampled = top 78.5%",
          "percentage sampled = top 79.0%",
          "percentage sampled = top 79.5%",
          "percentage sampled = top 80.0%",
          "percentage sampled = top 80.5%",
          "percentage sampled = top 81.0%",
          "percentage sampled = top 81.5%",
          "percentage sampled = top 82.0%",
          "percentage sampled = top 82.5%",
          "percentage sampled = top 83.0%",
          "percentage sampled = top 83.5%",
          "percentage sampled = top 84.0%",
          "percentage sampled = top 84.5%",
          "percentage sampled = top 85.0%",
          "percentage sampled = top 85.5%",
          "percentage sampled = top 86.0%",
          "percentage sampled = top 86.5%",
          "percentage sampled = top 87.0%",
          "percentage sampled = top 87.5%",
          "percentage sampled = top 88.0%",
          "percentage sampled = top 88.5%",
          "percentage sampled = top 89.0%",
          "percentage sampled = top 89.5%",
          "percentage sampled = top 90.0%",
          "percentage sampled = top 90.5%",
          "percentage sampled = top 91.0%",
          "percentage sampled = top 91.5%",
          "percentage sampled = top 92.0%",
          "percentage sampled = top 92.5%",
          "percentage sampled = top 93.0%",
          "percentage sampled = top 93.5%",
          "percentage sampled = top 94.0%",
          "percentage sampled = top 94.5%",
          "percentage sampled = top 95.0%",
          "percentage sampled = top 95.5%",
          "percentage sampled = top 96.0%",
          "percentage sampled = top 96.5%",
          "percentage sampled = top 97.0%",
          "percentage sampled = top 97.5%",
          "percentage sampled = top 98.0%",
          "percentage sampled = top 98.5%",
          "percentage sampled = top 99.0%",
          "percentage sampled = top 99.5%",
          "percentage sampled = top 100.0%"
         ],
         "type": "scatter",
         "x": [
          0.5,
          1,
          1.5,
          2,
          2.5,
          3,
          3.5,
          4,
          4.5,
          5,
          5.5,
          6,
          6.5,
          7,
          7.5,
          8,
          8.5,
          9,
          9.5,
          10,
          10.5,
          11,
          11.5,
          12,
          12.5,
          13,
          13.5,
          14,
          14.5,
          15,
          15.5,
          16,
          16.5,
          17,
          17.5,
          18,
          18.5,
          19,
          19.5,
          20,
          20.5,
          21,
          21.5,
          22,
          22.5,
          23,
          23.5,
          24,
          24.5,
          25,
          25.5,
          26,
          26.5,
          27,
          27.5,
          28,
          28.5,
          29,
          29.5,
          30,
          30.5,
          31,
          31.5,
          32,
          32.5,
          33,
          33.5,
          34,
          34.5,
          35,
          35.5,
          36,
          36.5,
          37,
          37.5,
          38,
          38.5,
          39,
          39.5,
          40,
          40.5,
          41,
          41.5,
          42,
          42.5,
          43,
          43.5,
          44,
          44.5,
          45,
          45.5,
          46,
          46.5,
          47,
          47.5,
          48,
          48.5,
          49,
          49.5,
          50,
          50.5,
          51,
          51.5,
          52,
          52.5,
          53,
          53.5,
          54,
          54.5,
          55,
          55.5,
          56,
          56.5,
          57,
          57.5,
          58,
          58.5,
          59,
          59.5,
          60,
          60.5,
          61,
          61.5,
          62,
          62.5,
          63,
          63.5,
          64,
          64.5,
          65,
          65.5,
          66,
          66.5,
          67,
          67.5,
          68,
          68.5,
          69,
          69.5,
          70,
          70.5,
          71,
          71.5,
          72,
          72.5,
          73,
          73.5,
          74,
          74.5,
          75,
          75.5,
          76,
          76.5,
          77,
          77.5,
          78,
          78.5,
          79,
          79.5,
          80,
          80.5,
          81,
          81.5,
          82,
          82.5,
          83,
          83.5,
          84,
          84.5,
          85,
          85.5,
          86,
          86.5,
          87,
          87.5,
          88,
          88.5,
          89,
          89.5,
          90,
          90.5,
          91,
          91.5,
          92,
          92.5,
          93,
          93.5,
          94,
          94.5,
          95,
          95.5,
          96,
          96.5,
          97,
          97.5,
          98,
          98.5,
          99,
          99.5,
          100
         ],
         "y": [
          0,
          0,
          0,
          0,
          0,
          0,
          0,
          0,
          0,
          0,
          0,
          0,
          0,
          0,
          0,
          0,
          0,
          0,
          0,
          0,
          0,
          0,
          0,
          0,
          0,
          0,
          0,
          0,
          0,
          0,
          0,
          0,
          0,
          0,
          0,
          0,
          0,
          0,
          0,
          0,
          0,
          0,
          0,
          0,
          0,
          0,
          0,
          0,
          0,
          0,
          0,
          0,
          0,
          0,
          0,
          0,
          0,
          0,
          0,
          0,
          0,
          0,
          0,
          0,
          0,
          0,
          0,
          0,
          0,
          0,
          0,
          0,
          0,
          0,
          0,
          0,
          0,
          0,
          0,
          0,
          0,
          0,
          0,
          0,
          0,
          0,
          0,
          0,
          0,
          0,
          0,
          0,
          0,
          0,
          0,
          0,
          0,
          0,
          0,
          0,
          0,
          0,
          0,
          0,
          0,
          0,
          0,
          0,
          0,
          0,
          0,
          0,
          0,
          0,
          0,
          0,
          0,
          0,
          0,
          0,
          0,
          0,
          0,
          0,
          0,
          0,
          0,
          0,
          0,
          0,
          0,
          0,
          0,
          0,
          0,
          0,
          0,
          0,
          0,
          0,
          0,
          0,
          0,
          0,
          0,
          0,
          0,
          0,
          0,
          0,
          0,
          0,
          0,
          0,
          0,
          0,
          0,
          0,
          0,
          0,
          0,
          0,
          0,
          0,
          0,
          0,
          0,
          0,
          0,
          0,
          0,
          0,
          0,
          0,
          0,
          0,
          0,
          0,
          0,
          0,
          0,
          0,
          0,
          0,
          0,
          0,
          0,
          0,
          0,
          0,
          0,
          0,
          0,
          0,
          0,
          0,
          0,
          0,
          0,
          0
         ]
        },
        {
         "fill": "tozeroy",
         "hoverinfo": "text",
         "name": "Survived(positive label)",
         "text": [
          "percentage Survived=100.0%",
          "percentage Survived=100.0%",
          "percentage Survived=100.0%",
          "percentage Survived=100.0%",
          "percentage Survived=100.0%",
          "percentage Survived=100.0%",
          "percentage Survived=100.0%",
          "percentage Survived=100.0%",
          "percentage Survived=100.0%",
          "percentage Survived=100.0%",
          "percentage Survived=100.0%",
          "percentage Survived=100.0%",
          "percentage Survived=100.0%",
          "percentage Survived=100.0%",
          "percentage Survived=100.0%",
          "percentage Survived=100.0%",
          "percentage Survived=100.0%",
          "percentage Survived=100.0%",
          "percentage Survived=100.0%",
          "percentage Survived=100.0%",
          "percentage Survived=100.0%",
          "percentage Survived=100.0%",
          "percentage Survived=100.0%",
          "percentage Survived=100.0%",
          "percentage Survived=100.0%",
          "percentage Survived=100.0%",
          "percentage Survived=100.0%",
          "percentage Survived=100.0%",
          "percentage Survived=100.0%",
          "percentage Survived=100.0%",
          "percentage Survived=100.0%",
          "percentage Survived=100.0%",
          "percentage Survived=96.97%",
          "percentage Survived=97.06%",
          "percentage Survived=97.14%",
          "percentage Survived=97.22%",
          "percentage Survived=97.3%",
          "percentage Survived=97.37%",
          "percentage Survived=97.44%",
          "percentage Survived=95.0%",
          "percentage Survived=95.12%",
          "percentage Survived=95.24%",
          "percentage Survived=93.02%",
          "percentage Survived=90.91%",
          "percentage Survived=91.11%",
          "percentage Survived=89.13%",
          "percentage Survived=87.23%",
          "percentage Survived=85.42%",
          "percentage Survived=85.71%",
          "percentage Survived=86.0%",
          "percentage Survived=84.31%",
          "percentage Survived=84.62%",
          "percentage Survived=84.91%",
          "percentage Survived=85.19%",
          "percentage Survived=83.64%",
          "percentage Survived=82.14%",
          "percentage Survived=80.7%",
          "percentage Survived=79.31%",
          "percentage Survived=79.66%",
          "percentage Survived=80.0%",
          "percentage Survived=80.33%",
          "percentage Survived=80.65%",
          "percentage Survived=79.37%",
          "percentage Survived=79.69%",
          "percentage Survived=78.46%",
          "percentage Survived=77.27%",
          "percentage Survived=77.61%",
          "percentage Survived=76.47%",
          "percentage Survived=75.36%",
          "percentage Survived=75.71%",
          "percentage Survived=74.65%",
          "percentage Survived=75.0%",
          "percentage Survived=73.97%",
          "percentage Survived=72.97%",
          "percentage Survived=72.0%",
          "percentage Survived=72.37%",
          "percentage Survived=71.43%",
          "percentage Survived=70.51%",
          "percentage Survived=70.89%",
          "percentage Survived=71.25%",
          "percentage Survived=70.37%",
          "percentage Survived=69.51%",
          "percentage Survived=69.88%",
          "percentage Survived=69.05%",
          "percentage Survived=69.41%",
          "percentage Survived=68.6%",
          "percentage Survived=68.97%",
          "percentage Survived=68.18%",
          "percentage Survived=68.54%",
          "percentage Survived=67.78%",
          "percentage Survived=67.03%",
          "percentage Survived=67.39%",
          "percentage Survived=66.67%",
          "percentage Survived=65.96%",
          "percentage Survived=65.26%",
          "percentage Survived=64.58%",
          "percentage Survived=64.95%",
          "percentage Survived=64.29%",
          "percentage Survived=64.65%",
          "percentage Survived=64.0%",
          "percentage Survived=64.36%",
          "percentage Survived=63.73%",
          "percentage Survived=63.11%",
          "percentage Survived=62.5%",
          "percentage Survived=61.9%",
          "percentage Survived=62.26%",
          "percentage Survived=61.68%",
          "percentage Survived=61.11%",
          "percentage Survived=60.55%",
          "percentage Survived=60.0%",
          "percentage Survived=60.36%",
          "percentage Survived=59.82%",
          "percentage Survived=59.29%",
          "percentage Survived=58.77%",
          "percentage Survived=58.26%",
          "percentage Survived=57.76%",
          "percentage Survived=57.26%",
          "percentage Survived=56.78%",
          "percentage Survived=56.3%",
          "percentage Survived=55.83%",
          "percentage Survived=55.37%",
          "percentage Survived=54.92%",
          "percentage Survived=54.47%",
          "percentage Survived=54.03%",
          "percentage Survived=53.6%",
          "percentage Survived=53.17%",
          "percentage Survived=52.76%",
          "percentage Survived=52.34%",
          "percentage Survived=51.94%",
          "percentage Survived=51.54%",
          "percentage Survived=51.15%",
          "percentage Survived=50.76%",
          "percentage Survived=50.38%",
          "percentage Survived=50.0%",
          "percentage Survived=50.37%",
          "percentage Survived=50.0%",
          "percentage Survived=49.64%",
          "percentage Survived=49.28%",
          "percentage Survived=48.92%",
          "percentage Survived=48.57%",
          "percentage Survived=48.23%",
          "percentage Survived=47.89%",
          "percentage Survived=47.55%",
          "percentage Survived=47.22%",
          "percentage Survived=46.9%",
          "percentage Survived=46.58%",
          "percentage Survived=46.26%",
          "percentage Survived=45.95%",
          "percentage Survived=45.64%",
          "percentage Survived=45.33%",
          "percentage Survived=45.03%",
          "percentage Survived=44.74%",
          "percentage Survived=44.44%",
          "percentage Survived=44.16%",
          "percentage Survived=43.87%",
          "percentage Survived=43.59%",
          "percentage Survived=43.31%",
          "percentage Survived=43.04%",
          "percentage Survived=42.77%",
          "percentage Survived=42.5%",
          "percentage Survived=42.24%",
          "percentage Survived=41.98%",
          "percentage Survived=41.72%",
          "percentage Survived=41.46%",
          "percentage Survived=41.21%",
          "percentage Survived=40.96%",
          "percentage Survived=40.72%",
          "percentage Survived=41.07%",
          "percentage Survived=40.83%",
          "percentage Survived=40.59%",
          "percentage Survived=40.35%",
          "percentage Survived=40.12%",
          "percentage Survived=40.46%",
          "percentage Survived=40.23%",
          "percentage Survived=40.0%",
          "percentage Survived=39.77%",
          "percentage Survived=39.55%",
          "percentage Survived=39.33%",
          "percentage Survived=39.11%",
          "percentage Survived=38.89%",
          "percentage Survived=38.67%",
          "percentage Survived=38.46%",
          "percentage Survived=38.25%",
          "percentage Survived=38.04%",
          "percentage Survived=38.38%",
          "percentage Survived=38.17%",
          "percentage Survived=37.97%",
          "percentage Survived=38.3%",
          "percentage Survived=38.1%",
          "percentage Survived=37.89%",
          "percentage Survived=37.7%",
          "percentage Survived=37.5%",
          "percentage Survived=37.31%",
          "percentage Survived=37.63%",
          "percentage Survived=37.44%",
          "percentage Survived=37.24%",
          "percentage Survived=37.06%",
          "percentage Survived=36.87%",
          "percentage Survived=36.68%",
          "percentage Survived=36.5%"
         ],
         "type": "scatter",
         "x": [
          0.5,
          1,
          1.5,
          2,
          2.5,
          3,
          3.5,
          4,
          4.5,
          5,
          5.5,
          6,
          6.5,
          7,
          7.5,
          8,
          8.5,
          9,
          9.5,
          10,
          10.5,
          11,
          11.5,
          12,
          12.5,
          13,
          13.5,
          14,
          14.5,
          15,
          15.5,
          16,
          16.5,
          17,
          17.5,
          18,
          18.5,
          19,
          19.5,
          20,
          20.5,
          21,
          21.5,
          22,
          22.5,
          23,
          23.5,
          24,
          24.5,
          25,
          25.5,
          26,
          26.5,
          27,
          27.5,
          28,
          28.5,
          29,
          29.5,
          30,
          30.5,
          31,
          31.5,
          32,
          32.5,
          33,
          33.5,
          34,
          34.5,
          35,
          35.5,
          36,
          36.5,
          37,
          37.5,
          38,
          38.5,
          39,
          39.5,
          40,
          40.5,
          41,
          41.5,
          42,
          42.5,
          43,
          43.5,
          44,
          44.5,
          45,
          45.5,
          46,
          46.5,
          47,
          47.5,
          48,
          48.5,
          49,
          49.5,
          50,
          50.5,
          51,
          51.5,
          52,
          52.5,
          53,
          53.5,
          54,
          54.5,
          55,
          55.5,
          56,
          56.5,
          57,
          57.5,
          58,
          58.5,
          59,
          59.5,
          60,
          60.5,
          61,
          61.5,
          62,
          62.5,
          63,
          63.5,
          64,
          64.5,
          65,
          65.5,
          66,
          66.5,
          67,
          67.5,
          68,
          68.5,
          69,
          69.5,
          70,
          70.5,
          71,
          71.5,
          72,
          72.5,
          73,
          73.5,
          74,
          74.5,
          75,
          75.5,
          76,
          76.5,
          77,
          77.5,
          78,
          78.5,
          79,
          79.5,
          80,
          80.5,
          81,
          81.5,
          82,
          82.5,
          83,
          83.5,
          84,
          84.5,
          85,
          85.5,
          86,
          86.5,
          87,
          87.5,
          88,
          88.5,
          89,
          89.5,
          90,
          90.5,
          91,
          91.5,
          92,
          92.5,
          93,
          93.5,
          94,
          94.5,
          95,
          95.5,
          96,
          96.5,
          97,
          97.5,
          98,
          98.5,
          99,
          99.5,
          100
         ],
         "y": [
          100,
          100,
          100,
          100,
          100,
          100,
          100,
          100,
          100,
          100,
          100,
          100,
          100,
          100,
          100,
          100,
          100,
          100,
          100,
          100,
          100,
          100,
          100,
          100,
          100,
          100,
          100,
          100,
          100,
          100,
          100,
          100,
          96.96969696969697,
          97.05882352941177,
          97.14285714285714,
          97.22222222222223,
          97.29729729729729,
          97.36842105263158,
          97.43589743589743,
          95,
          95.1219512195122,
          95.23809523809524,
          93.02325581395348,
          90.9090909090909,
          91.11111111111111,
          89.1304347826087,
          87.23404255319149,
          85.41666666666667,
          85.71428571428571,
          86,
          84.31372549019608,
          84.61538461538461,
          84.90566037735849,
          85.18518518518519,
          83.63636363636364,
          82.14285714285714,
          80.70175438596492,
          79.3103448275862,
          79.66101694915254,
          80,
          80.32786885245902,
          80.64516129032258,
          79.36507936507937,
          79.6875,
          78.46153846153847,
          77.27272727272727,
          77.61194029850746,
          76.47058823529412,
          75.3623188405797,
          75.71428571428571,
          74.64788732394366,
          75,
          73.97260273972603,
          72.97297297297297,
          72,
          72.36842105263158,
          71.42857142857143,
          70.51282051282051,
          70.88607594936708,
          71.25,
          70.37037037037037,
          69.51219512195122,
          69.87951807228916,
          69.04761904761905,
          69.41176470588235,
          68.6046511627907,
          68.96551724137932,
          68.18181818181819,
          68.53932584269663,
          67.77777777777777,
          67.03296703296704,
          67.3913043478261,
          66.66666666666667,
          65.95744680851064,
          65.26315789473684,
          64.58333333333333,
          64.94845360824742,
          64.28571428571429,
          64.64646464646465,
          64,
          64.35643564356435,
          63.72549019607843,
          63.10679611650485,
          62.5,
          61.904761904761905,
          62.264150943396224,
          61.6822429906542,
          61.111111111111114,
          60.55045871559633,
          60,
          60.36036036036036,
          59.82142857142857,
          59.29203539823009,
          58.771929824561404,
          58.26086956521739,
          57.758620689655174,
          57.26495726495727,
          56.779661016949156,
          56.30252100840336,
          55.833333333333336,
          55.37190082644628,
          54.91803278688525,
          54.47154471544715,
          54.03225806451613,
          53.6,
          53.17460317460318,
          52.75590551181102,
          52.34375,
          51.93798449612403,
          51.53846153846154,
          51.14503816793893,
          50.75757575757576,
          50.37593984962406,
          50,
          50.370370370370374,
          50,
          49.63503649635037,
          49.27536231884058,
          48.92086330935252,
          48.57142857142857,
          48.226950354609926,
          47.88732394366197,
          47.55244755244755,
          47.22222222222222,
          46.89655172413793,
          46.57534246575342,
          46.25850340136054,
          45.945945945945944,
          45.63758389261745,
          45.333333333333336,
          45.033112582781456,
          44.73684210526316,
          44.44444444444444,
          44.15584415584416,
          43.87096774193548,
          43.58974358974359,
          43.31210191082803,
          43.037974683544306,
          42.76729559748428,
          42.5,
          42.2360248447205,
          41.97530864197531,
          41.717791411042946,
          41.46341463414634,
          41.21212121212121,
          40.963855421686745,
          40.7185628742515,
          41.07142857142857,
          40.828402366863905,
          40.588235294117645,
          40.35087719298246,
          40.116279069767444,
          40.46242774566474,
          40.229885057471265,
          40,
          39.77272727272727,
          39.548022598870055,
          39.325842696629216,
          39.10614525139665,
          38.888888888888886,
          38.67403314917127,
          38.46153846153846,
          38.25136612021858,
          38.04347826086956,
          38.37837837837838,
          38.17204301075269,
          37.967914438502675,
          38.297872340425535,
          38.095238095238095,
          37.89473684210526,
          37.696335078534034,
          37.5,
          37.30569948186528,
          37.628865979381445,
          37.43589743589744,
          37.244897959183675,
          37.055837563451774,
          36.86868686868687,
          36.68341708542714,
          36.5
         ]
        },
        {
         "fill": "tonexty",
         "hoverinfo": "text",
         "name": "Not survived",
         "text": [
          "percentage Not survived=0.0%",
          "percentage Not survived=0.0%",
          "percentage Not survived=0.0%",
          "percentage Not survived=0.0%",
          "percentage Not survived=0.0%",
          "percentage Not survived=0.0%",
          "percentage Not survived=0.0%",
          "percentage Not survived=0.0%",
          "percentage Not survived=0.0%",
          "percentage Not survived=0.0%",
          "percentage Not survived=0.0%",
          "percentage Not survived=0.0%",
          "percentage Not survived=0.0%",
          "percentage Not survived=0.0%",
          "percentage Not survived=0.0%",
          "percentage Not survived=0.0%",
          "percentage Not survived=0.0%",
          "percentage Not survived=0.0%",
          "percentage Not survived=0.0%",
          "percentage Not survived=0.0%",
          "percentage Not survived=0.0%",
          "percentage Not survived=0.0%",
          "percentage Not survived=0.0%",
          "percentage Not survived=0.0%",
          "percentage Not survived=0.0%",
          "percentage Not survived=0.0%",
          "percentage Not survived=0.0%",
          "percentage Not survived=0.0%",
          "percentage Not survived=0.0%",
          "percentage Not survived=0.0%",
          "percentage Not survived=0.0%",
          "percentage Not survived=0.0%",
          "percentage Not survived=3.03%",
          "percentage Not survived=2.94%",
          "percentage Not survived=2.86%",
          "percentage Not survived=2.78%",
          "percentage Not survived=2.7%",
          "percentage Not survived=2.63%",
          "percentage Not survived=2.56%",
          "percentage Not survived=5.0%",
          "percentage Not survived=4.88%",
          "percentage Not survived=4.76%",
          "percentage Not survived=6.98%",
          "percentage Not survived=9.09%",
          "percentage Not survived=8.89%",
          "percentage Not survived=10.87%",
          "percentage Not survived=12.77%",
          "percentage Not survived=14.58%",
          "percentage Not survived=14.29%",
          "percentage Not survived=14.0%",
          "percentage Not survived=15.69%",
          "percentage Not survived=15.38%",
          "percentage Not survived=15.09%",
          "percentage Not survived=14.81%",
          "percentage Not survived=16.36%",
          "percentage Not survived=17.86%",
          "percentage Not survived=19.3%",
          "percentage Not survived=20.69%",
          "percentage Not survived=20.34%",
          "percentage Not survived=20.0%",
          "percentage Not survived=19.67%",
          "percentage Not survived=19.35%",
          "percentage Not survived=20.63%",
          "percentage Not survived=20.31%",
          "percentage Not survived=21.54%",
          "percentage Not survived=22.73%",
          "percentage Not survived=22.39%",
          "percentage Not survived=23.53%",
          "percentage Not survived=24.64%",
          "percentage Not survived=24.29%",
          "percentage Not survived=25.35%",
          "percentage Not survived=25.0%",
          "percentage Not survived=26.03%",
          "percentage Not survived=27.03%",
          "percentage Not survived=28.0%",
          "percentage Not survived=27.63%",
          "percentage Not survived=28.57%",
          "percentage Not survived=29.49%",
          "percentage Not survived=29.11%",
          "percentage Not survived=28.75%",
          "percentage Not survived=29.63%",
          "percentage Not survived=30.49%",
          "percentage Not survived=30.12%",
          "percentage Not survived=30.95%",
          "percentage Not survived=30.59%",
          "percentage Not survived=31.4%",
          "percentage Not survived=31.03%",
          "percentage Not survived=31.82%",
          "percentage Not survived=31.46%",
          "percentage Not survived=32.22%",
          "percentage Not survived=32.97%",
          "percentage Not survived=32.61%",
          "percentage Not survived=33.33%",
          "percentage Not survived=34.04%",
          "percentage Not survived=34.74%",
          "percentage Not survived=35.42%",
          "percentage Not survived=35.05%",
          "percentage Not survived=35.71%",
          "percentage Not survived=35.35%",
          "percentage Not survived=36.0%",
          "percentage Not survived=35.64%",
          "percentage Not survived=36.27%",
          "percentage Not survived=36.89%",
          "percentage Not survived=37.5%",
          "percentage Not survived=38.1%",
          "percentage Not survived=37.74%",
          "percentage Not survived=38.32%",
          "percentage Not survived=38.89%",
          "percentage Not survived=39.45%",
          "percentage Not survived=40.0%",
          "percentage Not survived=39.64%",
          "percentage Not survived=40.18%",
          "percentage Not survived=40.71%",
          "percentage Not survived=41.23%",
          "percentage Not survived=41.74%",
          "percentage Not survived=42.24%",
          "percentage Not survived=42.74%",
          "percentage Not survived=43.22%",
          "percentage Not survived=43.7%",
          "percentage Not survived=44.17%",
          "percentage Not survived=44.63%",
          "percentage Not survived=45.08%",
          "percentage Not survived=45.53%",
          "percentage Not survived=45.97%",
          "percentage Not survived=46.4%",
          "percentage Not survived=46.83%",
          "percentage Not survived=47.24%",
          "percentage Not survived=47.66%",
          "percentage Not survived=48.06%",
          "percentage Not survived=48.46%",
          "percentage Not survived=48.85%",
          "percentage Not survived=49.24%",
          "percentage Not survived=49.62%",
          "percentage Not survived=50.0%",
          "percentage Not survived=49.63%",
          "percentage Not survived=50.0%",
          "percentage Not survived=50.36%",
          "percentage Not survived=50.72%",
          "percentage Not survived=51.08%",
          "percentage Not survived=51.43%",
          "percentage Not survived=51.77%",
          "percentage Not survived=52.11%",
          "percentage Not survived=52.45%",
          "percentage Not survived=52.78%",
          "percentage Not survived=53.1%",
          "percentage Not survived=53.42%",
          "percentage Not survived=53.74%",
          "percentage Not survived=54.05%",
          "percentage Not survived=54.36%",
          "percentage Not survived=54.67%",
          "percentage Not survived=54.97%",
          "percentage Not survived=55.26%",
          "percentage Not survived=55.56%",
          "percentage Not survived=55.84%",
          "percentage Not survived=56.13%",
          "percentage Not survived=56.41%",
          "percentage Not survived=56.69%",
          "percentage Not survived=56.96%",
          "percentage Not survived=57.23%",
          "percentage Not survived=57.5%",
          "percentage Not survived=57.76%",
          "percentage Not survived=58.02%",
          "percentage Not survived=58.28%",
          "percentage Not survived=58.54%",
          "percentage Not survived=58.79%",
          "percentage Not survived=59.04%",
          "percentage Not survived=59.28%",
          "percentage Not survived=58.93%",
          "percentage Not survived=59.17%",
          "percentage Not survived=59.41%",
          "percentage Not survived=59.65%",
          "percentage Not survived=59.88%",
          "percentage Not survived=59.54%",
          "percentage Not survived=59.77%",
          "percentage Not survived=60.0%",
          "percentage Not survived=60.23%",
          "percentage Not survived=60.45%",
          "percentage Not survived=60.67%",
          "percentage Not survived=60.89%",
          "percentage Not survived=61.11%",
          "percentage Not survived=61.33%",
          "percentage Not survived=61.54%",
          "percentage Not survived=61.75%",
          "percentage Not survived=61.96%",
          "percentage Not survived=61.62%",
          "percentage Not survived=61.83%",
          "percentage Not survived=62.03%",
          "percentage Not survived=61.7%",
          "percentage Not survived=61.9%",
          "percentage Not survived=62.11%",
          "percentage Not survived=62.3%",
          "percentage Not survived=62.5%",
          "percentage Not survived=62.69%",
          "percentage Not survived=62.37%",
          "percentage Not survived=62.56%",
          "percentage Not survived=62.76%",
          "percentage Not survived=62.94%",
          "percentage Not survived=63.13%",
          "percentage Not survived=63.32%",
          "percentage Not survived=63.5%"
         ],
         "type": "scatter",
         "x": [
          0.5,
          1,
          1.5,
          2,
          2.5,
          3,
          3.5,
          4,
          4.5,
          5,
          5.5,
          6,
          6.5,
          7,
          7.5,
          8,
          8.5,
          9,
          9.5,
          10,
          10.5,
          11,
          11.5,
          12,
          12.5,
          13,
          13.5,
          14,
          14.5,
          15,
          15.5,
          16,
          16.5,
          17,
          17.5,
          18,
          18.5,
          19,
          19.5,
          20,
          20.5,
          21,
          21.5,
          22,
          22.5,
          23,
          23.5,
          24,
          24.5,
          25,
          25.5,
          26,
          26.5,
          27,
          27.5,
          28,
          28.5,
          29,
          29.5,
          30,
          30.5,
          31,
          31.5,
          32,
          32.5,
          33,
          33.5,
          34,
          34.5,
          35,
          35.5,
          36,
          36.5,
          37,
          37.5,
          38,
          38.5,
          39,
          39.5,
          40,
          40.5,
          41,
          41.5,
          42,
          42.5,
          43,
          43.5,
          44,
          44.5,
          45,
          45.5,
          46,
          46.5,
          47,
          47.5,
          48,
          48.5,
          49,
          49.5,
          50,
          50.5,
          51,
          51.5,
          52,
          52.5,
          53,
          53.5,
          54,
          54.5,
          55,
          55.5,
          56,
          56.5,
          57,
          57.5,
          58,
          58.5,
          59,
          59.5,
          60,
          60.5,
          61,
          61.5,
          62,
          62.5,
          63,
          63.5,
          64,
          64.5,
          65,
          65.5,
          66,
          66.5,
          67,
          67.5,
          68,
          68.5,
          69,
          69.5,
          70,
          70.5,
          71,
          71.5,
          72,
          72.5,
          73,
          73.5,
          74,
          74.5,
          75,
          75.5,
          76,
          76.5,
          77,
          77.5,
          78,
          78.5,
          79,
          79.5,
          80,
          80.5,
          81,
          81.5,
          82,
          82.5,
          83,
          83.5,
          84,
          84.5,
          85,
          85.5,
          86,
          86.5,
          87,
          87.5,
          88,
          88.5,
          89,
          89.5,
          90,
          90.5,
          91,
          91.5,
          92,
          92.5,
          93,
          93.5,
          94,
          94.5,
          95,
          95.5,
          96,
          96.5,
          97,
          97.5,
          98,
          98.5,
          99,
          99.5,
          100
         ],
         "y": [
          100,
          100,
          100,
          100,
          100,
          100,
          100,
          100,
          100,
          100,
          100,
          100,
          100,
          100,
          100,
          100,
          100,
          100,
          100,
          100,
          100,
          100,
          100,
          100,
          100,
          100,
          100,
          100,
          100,
          100,
          100,
          100,
          100,
          100,
          100,
          100,
          100,
          100,
          100,
          100,
          100,
          100,
          100,
          100,
          100,
          100,
          100,
          100,
          100,
          100,
          100,
          100,
          100,
          100,
          100,
          100,
          100,
          100,
          100,
          100,
          100,
          100,
          100,
          100,
          100,
          100,
          100,
          100,
          100,
          100,
          100,
          100,
          100,
          100,
          100,
          100,
          100,
          100,
          100,
          100,
          100,
          100,
          100,
          100,
          100,
          100,
          100,
          100,
          100,
          100,
          100,
          100,
          100,
          100,
          100,
          100,
          100,
          100,
          100,
          100,
          100,
          100,
          100,
          100,
          100,
          100,
          100,
          100,
          100,
          100,
          100,
          100,
          100,
          100,
          100,
          100,
          100,
          100,
          100,
          100,
          100,
          100,
          100,
          100,
          100,
          100,
          100,
          100,
          100,
          100,
          100,
          100,
          100,
          100,
          100,
          100,
          100,
          100,
          100,
          100,
          100,
          100,
          100,
          100,
          100,
          100,
          100,
          100,
          100,
          100,
          100,
          100,
          100,
          100,
          100,
          100,
          100,
          100,
          100,
          100,
          100,
          100,
          100,
          100,
          100,
          100,
          100,
          100,
          100,
          100,
          100,
          100,
          100,
          100,
          100,
          100,
          100,
          100,
          100,
          100,
          100,
          100,
          100,
          100,
          100,
          100,
          100,
          100,
          100,
          100,
          100,
          100,
          100,
          100,
          100,
          100,
          100,
          100,
          100,
          100
         ]
        }
       ],
       "layout": {
        "hovermode": "x",
        "plot_bgcolor": "#fff",
        "template": {
         "data": {
          "bar": [
           {
            "error_x": {
             "color": "#2a3f5f"
            },
            "error_y": {
             "color": "#2a3f5f"
            },
            "marker": {
             "line": {
              "color": "#E5ECF6",
              "width": 0.5
             }
            },
            "type": "bar"
           }
          ],
          "barpolar": [
           {
            "marker": {
             "line": {
              "color": "#E5ECF6",
              "width": 0.5
             }
            },
            "type": "barpolar"
           }
          ],
          "carpet": [
           {
            "aaxis": {
             "endlinecolor": "#2a3f5f",
             "gridcolor": "white",
             "linecolor": "white",
             "minorgridcolor": "white",
             "startlinecolor": "#2a3f5f"
            },
            "baxis": {
             "endlinecolor": "#2a3f5f",
             "gridcolor": "white",
             "linecolor": "white",
             "minorgridcolor": "white",
             "startlinecolor": "#2a3f5f"
            },
            "type": "carpet"
           }
          ],
          "choropleth": [
           {
            "colorbar": {
             "outlinewidth": 0,
             "ticks": ""
            },
            "type": "choropleth"
           }
          ],
          "contour": [
           {
            "colorbar": {
             "outlinewidth": 0,
             "ticks": ""
            },
            "colorscale": [
             [
              0,
              "#0d0887"
             ],
             [
              0.1111111111111111,
              "#46039f"
             ],
             [
              0.2222222222222222,
              "#7201a8"
             ],
             [
              0.3333333333333333,
              "#9c179e"
             ],
             [
              0.4444444444444444,
              "#bd3786"
             ],
             [
              0.5555555555555556,
              "#d8576b"
             ],
             [
              0.6666666666666666,
              "#ed7953"
             ],
             [
              0.7777777777777778,
              "#fb9f3a"
             ],
             [
              0.8888888888888888,
              "#fdca26"
             ],
             [
              1,
              "#f0f921"
             ]
            ],
            "type": "contour"
           }
          ],
          "contourcarpet": [
           {
            "colorbar": {
             "outlinewidth": 0,
             "ticks": ""
            },
            "type": "contourcarpet"
           }
          ],
          "heatmap": [
           {
            "colorbar": {
             "outlinewidth": 0,
             "ticks": ""
            },
            "colorscale": [
             [
              0,
              "#0d0887"
             ],
             [
              0.1111111111111111,
              "#46039f"
             ],
             [
              0.2222222222222222,
              "#7201a8"
             ],
             [
              0.3333333333333333,
              "#9c179e"
             ],
             [
              0.4444444444444444,
              "#bd3786"
             ],
             [
              0.5555555555555556,
              "#d8576b"
             ],
             [
              0.6666666666666666,
              "#ed7953"
             ],
             [
              0.7777777777777778,
              "#fb9f3a"
             ],
             [
              0.8888888888888888,
              "#fdca26"
             ],
             [
              1,
              "#f0f921"
             ]
            ],
            "type": "heatmap"
           }
          ],
          "heatmapgl": [
           {
            "colorbar": {
             "outlinewidth": 0,
             "ticks": ""
            },
            "colorscale": [
             [
              0,
              "#0d0887"
             ],
             [
              0.1111111111111111,
              "#46039f"
             ],
             [
              0.2222222222222222,
              "#7201a8"
             ],
             [
              0.3333333333333333,
              "#9c179e"
             ],
             [
              0.4444444444444444,
              "#bd3786"
             ],
             [
              0.5555555555555556,
              "#d8576b"
             ],
             [
              0.6666666666666666,
              "#ed7953"
             ],
             [
              0.7777777777777778,
              "#fb9f3a"
             ],
             [
              0.8888888888888888,
              "#fdca26"
             ],
             [
              1,
              "#f0f921"
             ]
            ],
            "type": "heatmapgl"
           }
          ],
          "histogram": [
           {
            "marker": {
             "colorbar": {
              "outlinewidth": 0,
              "ticks": ""
             }
            },
            "type": "histogram"
           }
          ],
          "histogram2d": [
           {
            "colorbar": {
             "outlinewidth": 0,
             "ticks": ""
            },
            "colorscale": [
             [
              0,
              "#0d0887"
             ],
             [
              0.1111111111111111,
              "#46039f"
             ],
             [
              0.2222222222222222,
              "#7201a8"
             ],
             [
              0.3333333333333333,
              "#9c179e"
             ],
             [
              0.4444444444444444,
              "#bd3786"
             ],
             [
              0.5555555555555556,
              "#d8576b"
             ],
             [
              0.6666666666666666,
              "#ed7953"
             ],
             [
              0.7777777777777778,
              "#fb9f3a"
             ],
             [
              0.8888888888888888,
              "#fdca26"
             ],
             [
              1,
              "#f0f921"
             ]
            ],
            "type": "histogram2d"
           }
          ],
          "histogram2dcontour": [
           {
            "colorbar": {
             "outlinewidth": 0,
             "ticks": ""
            },
            "colorscale": [
             [
              0,
              "#0d0887"
             ],
             [
              0.1111111111111111,
              "#46039f"
             ],
             [
              0.2222222222222222,
              "#7201a8"
             ],
             [
              0.3333333333333333,
              "#9c179e"
             ],
             [
              0.4444444444444444,
              "#bd3786"
             ],
             [
              0.5555555555555556,
              "#d8576b"
             ],
             [
              0.6666666666666666,
              "#ed7953"
             ],
             [
              0.7777777777777778,
              "#fb9f3a"
             ],
             [
              0.8888888888888888,
              "#fdca26"
             ],
             [
              1,
              "#f0f921"
             ]
            ],
            "type": "histogram2dcontour"
           }
          ],
          "mesh3d": [
           {
            "colorbar": {
             "outlinewidth": 0,
             "ticks": ""
            },
            "type": "mesh3d"
           }
          ],
          "parcoords": [
           {
            "line": {
             "colorbar": {
              "outlinewidth": 0,
              "ticks": ""
             }
            },
            "type": "parcoords"
           }
          ],
          "scatter": [
           {
            "marker": {
             "colorbar": {
              "outlinewidth": 0,
              "ticks": ""
             }
            },
            "type": "scatter"
           }
          ],
          "scatter3d": [
           {
            "line": {
             "colorbar": {
              "outlinewidth": 0,
              "ticks": ""
             }
            },
            "marker": {
             "colorbar": {
              "outlinewidth": 0,
              "ticks": ""
             }
            },
            "type": "scatter3d"
           }
          ],
          "scattercarpet": [
           {
            "marker": {
             "colorbar": {
              "outlinewidth": 0,
              "ticks": ""
             }
            },
            "type": "scattercarpet"
           }
          ],
          "scattergeo": [
           {
            "marker": {
             "colorbar": {
              "outlinewidth": 0,
              "ticks": ""
             }
            },
            "type": "scattergeo"
           }
          ],
          "scattergl": [
           {
            "marker": {
             "colorbar": {
              "outlinewidth": 0,
              "ticks": ""
             }
            },
            "type": "scattergl"
           }
          ],
          "scattermapbox": [
           {
            "marker": {
             "colorbar": {
              "outlinewidth": 0,
              "ticks": ""
             }
            },
            "type": "scattermapbox"
           }
          ],
          "scatterpolar": [
           {
            "marker": {
             "colorbar": {
              "outlinewidth": 0,
              "ticks": ""
             }
            },
            "type": "scatterpolar"
           }
          ],
          "scatterpolargl": [
           {
            "marker": {
             "colorbar": {
              "outlinewidth": 0,
              "ticks": ""
             }
            },
            "type": "scatterpolargl"
           }
          ],
          "scatterternary": [
           {
            "marker": {
             "colorbar": {
              "outlinewidth": 0,
              "ticks": ""
             }
            },
            "type": "scatterternary"
           }
          ],
          "surface": [
           {
            "colorbar": {
             "outlinewidth": 0,
             "ticks": ""
            },
            "colorscale": [
             [
              0,
              "#0d0887"
             ],
             [
              0.1111111111111111,
              "#46039f"
             ],
             [
              0.2222222222222222,
              "#7201a8"
             ],
             [
              0.3333333333333333,
              "#9c179e"
             ],
             [
              0.4444444444444444,
              "#bd3786"
             ],
             [
              0.5555555555555556,
              "#d8576b"
             ],
             [
              0.6666666666666666,
              "#ed7953"
             ],
             [
              0.7777777777777778,
              "#fb9f3a"
             ],
             [
              0.8888888888888888,
              "#fdca26"
             ],
             [
              1,
              "#f0f921"
             ]
            ],
            "type": "surface"
           }
          ],
          "table": [
           {
            "cells": {
             "fill": {
              "color": "#EBF0F8"
             },
             "line": {
              "color": "white"
             }
            },
            "header": {
             "fill": {
              "color": "#C8D4E3"
             },
             "line": {
              "color": "white"
             }
            },
            "type": "table"
           }
          ]
         },
         "layout": {
          "annotationdefaults": {
           "arrowcolor": "#2a3f5f",
           "arrowhead": 0,
           "arrowwidth": 1
          },
          "colorscale": {
           "diverging": [
            [
             0,
             "#8e0152"
            ],
            [
             0.1,
             "#c51b7d"
            ],
            [
             0.2,
             "#de77ae"
            ],
            [
             0.3,
             "#f1b6da"
            ],
            [
             0.4,
             "#fde0ef"
            ],
            [
             0.5,
             "#f7f7f7"
            ],
            [
             0.6,
             "#e6f5d0"
            ],
            [
             0.7,
             "#b8e186"
            ],
            [
             0.8,
             "#7fbc41"
            ],
            [
             0.9,
             "#4d9221"
            ],
            [
             1,
             "#276419"
            ]
           ],
           "sequential": [
            [
             0,
             "#0d0887"
            ],
            [
             0.1111111111111111,
             "#46039f"
            ],
            [
             0.2222222222222222,
             "#7201a8"
            ],
            [
             0.3333333333333333,
             "#9c179e"
            ],
            [
             0.4444444444444444,
             "#bd3786"
            ],
            [
             0.5555555555555556,
             "#d8576b"
            ],
            [
             0.6666666666666666,
             "#ed7953"
            ],
            [
             0.7777777777777778,
             "#fb9f3a"
            ],
            [
             0.8888888888888888,
             "#fdca26"
            ],
            [
             1,
             "#f0f921"
            ]
           ],
           "sequentialminus": [
            [
             0,
             "#0d0887"
            ],
            [
             0.1111111111111111,
             "#46039f"
            ],
            [
             0.2222222222222222,
             "#7201a8"
            ],
            [
             0.3333333333333333,
             "#9c179e"
            ],
            [
             0.4444444444444444,
             "#bd3786"
            ],
            [
             0.5555555555555556,
             "#d8576b"
            ],
            [
             0.6666666666666666,
             "#ed7953"
            ],
            [
             0.7777777777777778,
             "#fb9f3a"
            ],
            [
             0.8888888888888888,
             "#fdca26"
            ],
            [
             1,
             "#f0f921"
            ]
           ]
          },
          "colorway": [
           "#636efa",
           "#EF553B",
           "#00cc96",
           "#ab63fa",
           "#FFA15A",
           "#19d3f3",
           "#FF6692",
           "#B6E880",
           "#FF97FF",
           "#FECB52"
          ],
          "font": {
           "color": "#2a3f5f"
          },
          "geo": {
           "bgcolor": "white",
           "lakecolor": "white",
           "landcolor": "#E5ECF6",
           "showlakes": true,
           "showland": true,
           "subunitcolor": "white"
          },
          "hoverlabel": {
           "align": "left"
          },
          "hovermode": "closest",
          "mapbox": {
           "style": "light"
          },
          "paper_bgcolor": "white",
          "plot_bgcolor": "#E5ECF6",
          "polar": {
           "angularaxis": {
            "gridcolor": "white",
            "linecolor": "white",
            "ticks": ""
           },
           "bgcolor": "#E5ECF6",
           "radialaxis": {
            "gridcolor": "white",
            "linecolor": "white",
            "ticks": ""
           }
          },
          "scene": {
           "xaxis": {
            "backgroundcolor": "#E5ECF6",
            "gridcolor": "white",
            "gridwidth": 2,
            "linecolor": "white",
            "showbackground": true,
            "ticks": "",
            "zerolinecolor": "white"
           },
           "yaxis": {
            "backgroundcolor": "#E5ECF6",
            "gridcolor": "white",
            "gridwidth": 2,
            "linecolor": "white",
            "showbackground": true,
            "ticks": "",
            "zerolinecolor": "white"
           },
           "zaxis": {
            "backgroundcolor": "#E5ECF6",
            "gridcolor": "white",
            "gridwidth": 2,
            "linecolor": "white",
            "showbackground": true,
            "ticks": "",
            "zerolinecolor": "white"
           }
          },
          "shapedefaults": {
           "line": {
            "color": "#2a3f5f"
           }
          },
          "ternary": {
           "aaxis": {
            "gridcolor": "white",
            "linecolor": "white",
            "ticks": ""
           },
           "baxis": {
            "gridcolor": "white",
            "linecolor": "white",
            "ticks": ""
           },
           "bgcolor": "#E5ECF6",
           "caxis": {
            "gridcolor": "white",
            "linecolor": "white",
            "ticks": ""
           }
          },
          "title": {
           "x": 0.05
          },
          "xaxis": {
           "automargin": true,
           "gridcolor": "white",
           "linecolor": "white",
           "ticks": "",
           "zerolinecolor": "white",
           "zerolinewidth": 2
          },
          "yaxis": {
           "automargin": true,
           "gridcolor": "white",
           "linecolor": "white",
           "ticks": "",
           "zerolinecolor": "white",
           "zerolinewidth": 2
          }
         }
        },
        "title": {
         "font": {
          "size": 18
         },
         "text": "Cumulative percentage per category when sampling top X%",
         "x": 0.5
        },
        "xaxis": {
         "nticks": 10,
         "spikemode": "across",
         "title": {
          "text": "Top X% model scores"
         }
        },
        "yaxis": {
         "title": {
          "text": "Cumulative precision per category"
         }
        }
       }
      },
      "text/html": [
       "<div>\n",
       "        \n",
       "        \n",
       "            <div id=\"3e2ddf63-287b-4a83-9582-42302b544fd2\" class=\"plotly-graph-div\" style=\"height:525px; width:100%;\"></div>\n",
       "            <script type=\"text/javascript\">\n",
       "                require([\"plotly\"], function(Plotly) {\n",
       "                    window.PLOTLYENV=window.PLOTLYENV || {};\n",
       "                    \n",
       "                if (document.getElementById(\"3e2ddf63-287b-4a83-9582-42302b544fd2\")) {\n",
       "                    Plotly.newPlot(\n",
       "                        '3e2ddf63-287b-4a83-9582-42302b544fd2',\n",
       "                        [{\"hoverinfo\": \"text\", \"showlegend\": false, \"text\": [\"percentage sampled = top 0.5%\", \"percentage sampled = top 1.0%\", \"percentage sampled = top 1.5%\", \"percentage sampled = top 2.0%\", \"percentage sampled = top 2.5%\", \"percentage sampled = top 3.0%\", \"percentage sampled = top 3.5%\", \"percentage sampled = top 4.0%\", \"percentage sampled = top 4.5%\", \"percentage sampled = top 5.0%\", \"percentage sampled = top 5.5%\", \"percentage sampled = top 6.0%\", \"percentage sampled = top 6.5%\", \"percentage sampled = top 7.0%\", \"percentage sampled = top 7.5%\", \"percentage sampled = top 8.0%\", \"percentage sampled = top 8.5%\", \"percentage sampled = top 9.0%\", \"percentage sampled = top 9.5%\", \"percentage sampled = top 10.0%\", \"percentage sampled = top 10.5%\", \"percentage sampled = top 11.0%\", \"percentage sampled = top 11.5%\", \"percentage sampled = top 12.0%\", \"percentage sampled = top 12.5%\", \"percentage sampled = top 13.0%\", \"percentage sampled = top 13.5%\", \"percentage sampled = top 14.0%\", \"percentage sampled = top 14.5%\", \"percentage sampled = top 15.0%\", \"percentage sampled = top 15.5%\", \"percentage sampled = top 16.0%\", \"percentage sampled = top 16.5%\", \"percentage sampled = top 17.0%\", \"percentage sampled = top 17.5%\", \"percentage sampled = top 18.0%\", \"percentage sampled = top 18.5%\", \"percentage sampled = top 19.0%\", \"percentage sampled = top 19.5%\", \"percentage sampled = top 20.0%\", \"percentage sampled = top 20.5%\", \"percentage sampled = top 21.0%\", \"percentage sampled = top 21.5%\", \"percentage sampled = top 22.0%\", \"percentage sampled = top 22.5%\", \"percentage sampled = top 23.0%\", \"percentage sampled = top 23.5%\", \"percentage sampled = top 24.0%\", \"percentage sampled = top 24.5%\", \"percentage sampled = top 25.0%\", \"percentage sampled = top 25.5%\", \"percentage sampled = top 26.0%\", \"percentage sampled = top 26.5%\", \"percentage sampled = top 27.0%\", \"percentage sampled = top 27.5%\", \"percentage sampled = top 28.0%\", \"percentage sampled = top 28.5%\", \"percentage sampled = top 29.0%\", \"percentage sampled = top 29.5%\", \"percentage sampled = top 30.0%\", \"percentage sampled = top 30.5%\", \"percentage sampled = top 31.0%\", \"percentage sampled = top 31.5%\", \"percentage sampled = top 32.0%\", \"percentage sampled = top 32.5%\", \"percentage sampled = top 33.0%\", \"percentage sampled = top 33.5%\", \"percentage sampled = top 34.0%\", \"percentage sampled = top 34.5%\", \"percentage sampled = top 35.0%\", \"percentage sampled = top 35.5%\", \"percentage sampled = top 36.0%\", \"percentage sampled = top 36.5%\", \"percentage sampled = top 37.0%\", \"percentage sampled = top 37.5%\", \"percentage sampled = top 38.0%\", \"percentage sampled = top 38.5%\", \"percentage sampled = top 39.0%\", \"percentage sampled = top 39.5%\", \"percentage sampled = top 40.0%\", \"percentage sampled = top 40.5%\", \"percentage sampled = top 41.0%\", \"percentage sampled = top 41.5%\", \"percentage sampled = top 42.0%\", \"percentage sampled = top 42.5%\", \"percentage sampled = top 43.0%\", \"percentage sampled = top 43.5%\", \"percentage sampled = top 44.0%\", \"percentage sampled = top 44.5%\", \"percentage sampled = top 45.0%\", \"percentage sampled = top 45.5%\", \"percentage sampled = top 46.0%\", \"percentage sampled = top 46.5%\", \"percentage sampled = top 47.0%\", \"percentage sampled = top 47.5%\", \"percentage sampled = top 48.0%\", \"percentage sampled = top 48.5%\", \"percentage sampled = top 49.0%\", \"percentage sampled = top 49.5%\", \"percentage sampled = top 50.0%\", \"percentage sampled = top 50.5%\", \"percentage sampled = top 51.0%\", \"percentage sampled = top 51.5%\", \"percentage sampled = top 52.0%\", \"percentage sampled = top 52.5%\", \"percentage sampled = top 53.0%\", \"percentage sampled = top 53.5%\", \"percentage sampled = top 54.0%\", \"percentage sampled = top 54.5%\", \"percentage sampled = top 55.0%\", \"percentage sampled = top 55.5%\", \"percentage sampled = top 56.0%\", \"percentage sampled = top 56.5%\", \"percentage sampled = top 57.0%\", \"percentage sampled = top 57.5%\", \"percentage sampled = top 58.0%\", \"percentage sampled = top 58.5%\", \"percentage sampled = top 59.0%\", \"percentage sampled = top 59.5%\", \"percentage sampled = top 60.0%\", \"percentage sampled = top 60.5%\", \"percentage sampled = top 61.0%\", \"percentage sampled = top 61.5%\", \"percentage sampled = top 62.0%\", \"percentage sampled = top 62.5%\", \"percentage sampled = top 63.0%\", \"percentage sampled = top 63.5%\", \"percentage sampled = top 64.0%\", \"percentage sampled = top 64.5%\", \"percentage sampled = top 65.0%\", \"percentage sampled = top 65.5%\", \"percentage sampled = top 66.0%\", \"percentage sampled = top 66.5%\", \"percentage sampled = top 67.0%\", \"percentage sampled = top 67.5%\", \"percentage sampled = top 68.0%\", \"percentage sampled = top 68.5%\", \"percentage sampled = top 69.0%\", \"percentage sampled = top 69.5%\", \"percentage sampled = top 70.0%\", \"percentage sampled = top 70.5%\", \"percentage sampled = top 71.0%\", \"percentage sampled = top 71.5%\", \"percentage sampled = top 72.0%\", \"percentage sampled = top 72.5%\", \"percentage sampled = top 73.0%\", \"percentage sampled = top 73.5%\", \"percentage sampled = top 74.0%\", \"percentage sampled = top 74.5%\", \"percentage sampled = top 75.0%\", \"percentage sampled = top 75.5%\", \"percentage sampled = top 76.0%\", \"percentage sampled = top 76.5%\", \"percentage sampled = top 77.0%\", \"percentage sampled = top 77.5%\", \"percentage sampled = top 78.0%\", \"percentage sampled = top 78.5%\", \"percentage sampled = top 79.0%\", \"percentage sampled = top 79.5%\", \"percentage sampled = top 80.0%\", \"percentage sampled = top 80.5%\", \"percentage sampled = top 81.0%\", \"percentage sampled = top 81.5%\", \"percentage sampled = top 82.0%\", \"percentage sampled = top 82.5%\", \"percentage sampled = top 83.0%\", \"percentage sampled = top 83.5%\", \"percentage sampled = top 84.0%\", \"percentage sampled = top 84.5%\", \"percentage sampled = top 85.0%\", \"percentage sampled = top 85.5%\", \"percentage sampled = top 86.0%\", \"percentage sampled = top 86.5%\", \"percentage sampled = top 87.0%\", \"percentage sampled = top 87.5%\", \"percentage sampled = top 88.0%\", \"percentage sampled = top 88.5%\", \"percentage sampled = top 89.0%\", \"percentage sampled = top 89.5%\", \"percentage sampled = top 90.0%\", \"percentage sampled = top 90.5%\", \"percentage sampled = top 91.0%\", \"percentage sampled = top 91.5%\", \"percentage sampled = top 92.0%\", \"percentage sampled = top 92.5%\", \"percentage sampled = top 93.0%\", \"percentage sampled = top 93.5%\", \"percentage sampled = top 94.0%\", \"percentage sampled = top 94.5%\", \"percentage sampled = top 95.0%\", \"percentage sampled = top 95.5%\", \"percentage sampled = top 96.0%\", \"percentage sampled = top 96.5%\", \"percentage sampled = top 97.0%\", \"percentage sampled = top 97.5%\", \"percentage sampled = top 98.0%\", \"percentage sampled = top 98.5%\", \"percentage sampled = top 99.0%\", \"percentage sampled = top 99.5%\", \"percentage sampled = top 100.0%\"], \"type\": \"scatter\", \"x\": [0.5, 1.0, 1.5, 2.0, 2.5, 3.0, 3.5, 4.0, 4.5, 5.0, 5.5, 6.0, 6.5, 7.0, 7.5, 8.0, 8.5, 9.0, 9.5, 10.0, 10.5, 11.0, 11.5, 12.0, 12.5, 13.0, 13.5, 14.0, 14.5, 15.0, 15.5, 16.0, 16.5, 17.0, 17.5, 18.0, 18.5, 19.0, 19.5, 20.0, 20.5, 21.0, 21.5, 22.0, 22.5, 23.0, 23.5, 24.0, 24.5, 25.0, 25.5, 26.0, 26.5, 27.0, 27.5, 28.0, 28.5, 29.0, 29.5, 30.0, 30.5, 31.0, 31.5, 32.0, 32.5, 33.0, 33.5, 34.0, 34.5, 35.0, 35.5, 36.0, 36.5, 37.0, 37.5, 38.0, 38.5, 39.0, 39.5, 40.0, 40.5, 41.0, 41.5, 42.0, 42.5, 43.0, 43.5, 44.0, 44.5, 45.0, 45.5, 46.0, 46.5, 47.0, 47.5, 48.0, 48.5, 49.0, 49.5, 50.0, 50.5, 51.0, 51.5, 52.0, 52.5, 53.0, 53.5, 54.0, 54.5, 55.0, 55.5, 56.0, 56.5, 57.0, 57.5, 58.0, 58.5, 59.0, 59.5, 60.0, 60.5, 61.0, 61.5, 62.0, 62.5, 63.0, 63.5, 64.0, 64.5, 65.0, 65.5, 66.0, 66.5, 67.0, 67.5, 68.0, 68.5, 69.0, 69.5, 70.0, 70.5, 71.0, 71.5, 72.0, 72.5, 73.0, 73.5, 74.0, 74.5, 75.0, 75.5, 76.0, 76.5, 77.0, 77.5, 78.0, 78.5, 79.0, 79.5, 80.0, 80.5, 81.0, 81.5, 82.0, 82.5, 83.0, 83.5, 84.0, 84.5, 85.0, 85.5, 86.0, 86.5, 87.0, 87.5, 88.0, 88.5, 89.0, 89.5, 90.0, 90.5, 91.0, 91.5, 92.0, 92.5, 93.0, 93.5, 94.0, 94.5, 95.0, 95.5, 96.0, 96.5, 97.0, 97.5, 98.0, 98.5, 99.0, 99.5, 100.0], \"y\": [0.0, 0.0, 0.0, 0.0, 0.0, 0.0, 0.0, 0.0, 0.0, 0.0, 0.0, 0.0, 0.0, 0.0, 0.0, 0.0, 0.0, 0.0, 0.0, 0.0, 0.0, 0.0, 0.0, 0.0, 0.0, 0.0, 0.0, 0.0, 0.0, 0.0, 0.0, 0.0, 0.0, 0.0, 0.0, 0.0, 0.0, 0.0, 0.0, 0.0, 0.0, 0.0, 0.0, 0.0, 0.0, 0.0, 0.0, 0.0, 0.0, 0.0, 0.0, 0.0, 0.0, 0.0, 0.0, 0.0, 0.0, 0.0, 0.0, 0.0, 0.0, 0.0, 0.0, 0.0, 0.0, 0.0, 0.0, 0.0, 0.0, 0.0, 0.0, 0.0, 0.0, 0.0, 0.0, 0.0, 0.0, 0.0, 0.0, 0.0, 0.0, 0.0, 0.0, 0.0, 0.0, 0.0, 0.0, 0.0, 0.0, 0.0, 0.0, 0.0, 0.0, 0.0, 0.0, 0.0, 0.0, 0.0, 0.0, 0.0, 0.0, 0.0, 0.0, 0.0, 0.0, 0.0, 0.0, 0.0, 0.0, 0.0, 0.0, 0.0, 0.0, 0.0, 0.0, 0.0, 0.0, 0.0, 0.0, 0.0, 0.0, 0.0, 0.0, 0.0, 0.0, 0.0, 0.0, 0.0, 0.0, 0.0, 0.0, 0.0, 0.0, 0.0, 0.0, 0.0, 0.0, 0.0, 0.0, 0.0, 0.0, 0.0, 0.0, 0.0, 0.0, 0.0, 0.0, 0.0, 0.0, 0.0, 0.0, 0.0, 0.0, 0.0, 0.0, 0.0, 0.0, 0.0, 0.0, 0.0, 0.0, 0.0, 0.0, 0.0, 0.0, 0.0, 0.0, 0.0, 0.0, 0.0, 0.0, 0.0, 0.0, 0.0, 0.0, 0.0, 0.0, 0.0, 0.0, 0.0, 0.0, 0.0, 0.0, 0.0, 0.0, 0.0, 0.0, 0.0, 0.0, 0.0, 0.0, 0.0, 0.0, 0.0, 0.0, 0.0, 0.0, 0.0, 0.0, 0.0]}, {\"fill\": \"tozeroy\", \"hoverinfo\": \"text\", \"name\": \"Survived(positive label)\", \"text\": [\"percentage Survived=100.0%\", \"percentage Survived=100.0%\", \"percentage Survived=100.0%\", \"percentage Survived=100.0%\", \"percentage Survived=100.0%\", \"percentage Survived=100.0%\", \"percentage Survived=100.0%\", \"percentage Survived=100.0%\", \"percentage Survived=100.0%\", \"percentage Survived=100.0%\", \"percentage Survived=100.0%\", \"percentage Survived=100.0%\", \"percentage Survived=100.0%\", \"percentage Survived=100.0%\", \"percentage Survived=100.0%\", \"percentage Survived=100.0%\", \"percentage Survived=100.0%\", \"percentage Survived=100.0%\", \"percentage Survived=100.0%\", \"percentage Survived=100.0%\", \"percentage Survived=100.0%\", \"percentage Survived=100.0%\", \"percentage Survived=100.0%\", \"percentage Survived=100.0%\", \"percentage Survived=100.0%\", \"percentage Survived=100.0%\", \"percentage Survived=100.0%\", \"percentage Survived=100.0%\", \"percentage Survived=100.0%\", \"percentage Survived=100.0%\", \"percentage Survived=100.0%\", \"percentage Survived=100.0%\", \"percentage Survived=96.97%\", \"percentage Survived=97.06%\", \"percentage Survived=97.14%\", \"percentage Survived=97.22%\", \"percentage Survived=97.3%\", \"percentage Survived=97.37%\", \"percentage Survived=97.44%\", \"percentage Survived=95.0%\", \"percentage Survived=95.12%\", \"percentage Survived=95.24%\", \"percentage Survived=93.02%\", \"percentage Survived=90.91%\", \"percentage Survived=91.11%\", \"percentage Survived=89.13%\", \"percentage Survived=87.23%\", \"percentage Survived=85.42%\", \"percentage Survived=85.71%\", \"percentage Survived=86.0%\", \"percentage Survived=84.31%\", \"percentage Survived=84.62%\", \"percentage Survived=84.91%\", \"percentage Survived=85.19%\", \"percentage Survived=83.64%\", \"percentage Survived=82.14%\", \"percentage Survived=80.7%\", \"percentage Survived=79.31%\", \"percentage Survived=79.66%\", \"percentage Survived=80.0%\", \"percentage Survived=80.33%\", \"percentage Survived=80.65%\", \"percentage Survived=79.37%\", \"percentage Survived=79.69%\", \"percentage Survived=78.46%\", \"percentage Survived=77.27%\", \"percentage Survived=77.61%\", \"percentage Survived=76.47%\", \"percentage Survived=75.36%\", \"percentage Survived=75.71%\", \"percentage Survived=74.65%\", \"percentage Survived=75.0%\", \"percentage Survived=73.97%\", \"percentage Survived=72.97%\", \"percentage Survived=72.0%\", \"percentage Survived=72.37%\", \"percentage Survived=71.43%\", \"percentage Survived=70.51%\", \"percentage Survived=70.89%\", \"percentage Survived=71.25%\", \"percentage Survived=70.37%\", \"percentage Survived=69.51%\", \"percentage Survived=69.88%\", \"percentage Survived=69.05%\", \"percentage Survived=69.41%\", \"percentage Survived=68.6%\", \"percentage Survived=68.97%\", \"percentage Survived=68.18%\", \"percentage Survived=68.54%\", \"percentage Survived=67.78%\", \"percentage Survived=67.03%\", \"percentage Survived=67.39%\", \"percentage Survived=66.67%\", \"percentage Survived=65.96%\", \"percentage Survived=65.26%\", \"percentage Survived=64.58%\", \"percentage Survived=64.95%\", \"percentage Survived=64.29%\", \"percentage Survived=64.65%\", \"percentage Survived=64.0%\", \"percentage Survived=64.36%\", \"percentage Survived=63.73%\", \"percentage Survived=63.11%\", \"percentage Survived=62.5%\", \"percentage Survived=61.9%\", \"percentage Survived=62.26%\", \"percentage Survived=61.68%\", \"percentage Survived=61.11%\", \"percentage Survived=60.55%\", \"percentage Survived=60.0%\", \"percentage Survived=60.36%\", \"percentage Survived=59.82%\", \"percentage Survived=59.29%\", \"percentage Survived=58.77%\", \"percentage Survived=58.26%\", \"percentage Survived=57.76%\", \"percentage Survived=57.26%\", \"percentage Survived=56.78%\", \"percentage Survived=56.3%\", \"percentage Survived=55.83%\", \"percentage Survived=55.37%\", \"percentage Survived=54.92%\", \"percentage Survived=54.47%\", \"percentage Survived=54.03%\", \"percentage Survived=53.6%\", \"percentage Survived=53.17%\", \"percentage Survived=52.76%\", \"percentage Survived=52.34%\", \"percentage Survived=51.94%\", \"percentage Survived=51.54%\", \"percentage Survived=51.15%\", \"percentage Survived=50.76%\", \"percentage Survived=50.38%\", \"percentage Survived=50.0%\", \"percentage Survived=50.37%\", \"percentage Survived=50.0%\", \"percentage Survived=49.64%\", \"percentage Survived=49.28%\", \"percentage Survived=48.92%\", \"percentage Survived=48.57%\", \"percentage Survived=48.23%\", \"percentage Survived=47.89%\", \"percentage Survived=47.55%\", \"percentage Survived=47.22%\", \"percentage Survived=46.9%\", \"percentage Survived=46.58%\", \"percentage Survived=46.26%\", \"percentage Survived=45.95%\", \"percentage Survived=45.64%\", \"percentage Survived=45.33%\", \"percentage Survived=45.03%\", \"percentage Survived=44.74%\", \"percentage Survived=44.44%\", \"percentage Survived=44.16%\", \"percentage Survived=43.87%\", \"percentage Survived=43.59%\", \"percentage Survived=43.31%\", \"percentage Survived=43.04%\", \"percentage Survived=42.77%\", \"percentage Survived=42.5%\", \"percentage Survived=42.24%\", \"percentage Survived=41.98%\", \"percentage Survived=41.72%\", \"percentage Survived=41.46%\", \"percentage Survived=41.21%\", \"percentage Survived=40.96%\", \"percentage Survived=40.72%\", \"percentage Survived=41.07%\", \"percentage Survived=40.83%\", \"percentage Survived=40.59%\", \"percentage Survived=40.35%\", \"percentage Survived=40.12%\", \"percentage Survived=40.46%\", \"percentage Survived=40.23%\", \"percentage Survived=40.0%\", \"percentage Survived=39.77%\", \"percentage Survived=39.55%\", \"percentage Survived=39.33%\", \"percentage Survived=39.11%\", \"percentage Survived=38.89%\", \"percentage Survived=38.67%\", \"percentage Survived=38.46%\", \"percentage Survived=38.25%\", \"percentage Survived=38.04%\", \"percentage Survived=38.38%\", \"percentage Survived=38.17%\", \"percentage Survived=37.97%\", \"percentage Survived=38.3%\", \"percentage Survived=38.1%\", \"percentage Survived=37.89%\", \"percentage Survived=37.7%\", \"percentage Survived=37.5%\", \"percentage Survived=37.31%\", \"percentage Survived=37.63%\", \"percentage Survived=37.44%\", \"percentage Survived=37.24%\", \"percentage Survived=37.06%\", \"percentage Survived=36.87%\", \"percentage Survived=36.68%\", \"percentage Survived=36.5%\"], \"type\": \"scatter\", \"x\": [0.5, 1.0, 1.5, 2.0, 2.5, 3.0, 3.5, 4.0, 4.5, 5.0, 5.5, 6.0, 6.5, 7.0, 7.5, 8.0, 8.5, 9.0, 9.5, 10.0, 10.5, 11.0, 11.5, 12.0, 12.5, 13.0, 13.5, 14.0, 14.5, 15.0, 15.5, 16.0, 16.5, 17.0, 17.5, 18.0, 18.5, 19.0, 19.5, 20.0, 20.5, 21.0, 21.5, 22.0, 22.5, 23.0, 23.5, 24.0, 24.5, 25.0, 25.5, 26.0, 26.5, 27.0, 27.5, 28.0, 28.5, 29.0, 29.5, 30.0, 30.5, 31.0, 31.5, 32.0, 32.5, 33.0, 33.5, 34.0, 34.5, 35.0, 35.5, 36.0, 36.5, 37.0, 37.5, 38.0, 38.5, 39.0, 39.5, 40.0, 40.5, 41.0, 41.5, 42.0, 42.5, 43.0, 43.5, 44.0, 44.5, 45.0, 45.5, 46.0, 46.5, 47.0, 47.5, 48.0, 48.5, 49.0, 49.5, 50.0, 50.5, 51.0, 51.5, 52.0, 52.5, 53.0, 53.5, 54.0, 54.5, 55.0, 55.5, 56.0, 56.5, 57.0, 57.5, 58.0, 58.5, 59.0, 59.5, 60.0, 60.5, 61.0, 61.5, 62.0, 62.5, 63.0, 63.5, 64.0, 64.5, 65.0, 65.5, 66.0, 66.5, 67.0, 67.5, 68.0, 68.5, 69.0, 69.5, 70.0, 70.5, 71.0, 71.5, 72.0, 72.5, 73.0, 73.5, 74.0, 74.5, 75.0, 75.5, 76.0, 76.5, 77.0, 77.5, 78.0, 78.5, 79.0, 79.5, 80.0, 80.5, 81.0, 81.5, 82.0, 82.5, 83.0, 83.5, 84.0, 84.5, 85.0, 85.5, 86.0, 86.5, 87.0, 87.5, 88.0, 88.5, 89.0, 89.5, 90.0, 90.5, 91.0, 91.5, 92.0, 92.5, 93.0, 93.5, 94.0, 94.5, 95.0, 95.5, 96.0, 96.5, 97.0, 97.5, 98.0, 98.5, 99.0, 99.5, 100.0], \"y\": [100.0, 100.0, 100.0, 100.0, 100.0, 100.0, 100.0, 100.0, 100.0, 100.0, 100.0, 100.0, 100.0, 100.0, 100.0, 100.0, 100.0, 100.0, 100.0, 100.0, 100.0, 100.0, 100.0, 100.0, 100.0, 100.0, 100.0, 100.0, 100.0, 100.0, 100.0, 100.0, 96.96969696969697, 97.05882352941177, 97.14285714285714, 97.22222222222223, 97.29729729729729, 97.36842105263158, 97.43589743589743, 95.0, 95.1219512195122, 95.23809523809524, 93.02325581395348, 90.9090909090909, 91.11111111111111, 89.1304347826087, 87.23404255319149, 85.41666666666667, 85.71428571428571, 86.0, 84.31372549019608, 84.61538461538461, 84.90566037735849, 85.18518518518519, 83.63636363636364, 82.14285714285714, 80.70175438596492, 79.3103448275862, 79.66101694915254, 80.0, 80.32786885245902, 80.64516129032258, 79.36507936507937, 79.6875, 78.46153846153847, 77.27272727272727, 77.61194029850746, 76.47058823529412, 75.3623188405797, 75.71428571428571, 74.64788732394366, 75.0, 73.97260273972603, 72.97297297297297, 72.0, 72.36842105263158, 71.42857142857143, 70.51282051282051, 70.88607594936708, 71.25, 70.37037037037037, 69.51219512195122, 69.87951807228916, 69.04761904761905, 69.41176470588235, 68.6046511627907, 68.96551724137932, 68.18181818181819, 68.53932584269663, 67.77777777777777, 67.03296703296704, 67.3913043478261, 66.66666666666667, 65.95744680851064, 65.26315789473684, 64.58333333333333, 64.94845360824742, 64.28571428571429, 64.64646464646465, 64.0, 64.35643564356435, 63.72549019607843, 63.10679611650485, 62.5, 61.904761904761905, 62.264150943396224, 61.6822429906542, 61.111111111111114, 60.55045871559633, 60.0, 60.36036036036036, 59.82142857142857, 59.29203539823009, 58.771929824561404, 58.26086956521739, 57.758620689655174, 57.26495726495727, 56.779661016949156, 56.30252100840336, 55.833333333333336, 55.37190082644628, 54.91803278688525, 54.47154471544715, 54.03225806451613, 53.6, 53.17460317460318, 52.75590551181102, 52.34375, 51.93798449612403, 51.53846153846154, 51.14503816793893, 50.75757575757576, 50.37593984962406, 50.0, 50.370370370370374, 50.0, 49.63503649635037, 49.27536231884058, 48.92086330935252, 48.57142857142857, 48.226950354609926, 47.88732394366197, 47.55244755244755, 47.22222222222222, 46.89655172413793, 46.57534246575342, 46.25850340136054, 45.945945945945944, 45.63758389261745, 45.333333333333336, 45.033112582781456, 44.73684210526316, 44.44444444444444, 44.15584415584416, 43.87096774193548, 43.58974358974359, 43.31210191082803, 43.037974683544306, 42.76729559748428, 42.5, 42.2360248447205, 41.97530864197531, 41.717791411042946, 41.46341463414634, 41.21212121212121, 40.963855421686745, 40.7185628742515, 41.07142857142857, 40.828402366863905, 40.588235294117645, 40.35087719298246, 40.116279069767444, 40.46242774566474, 40.229885057471265, 40.0, 39.77272727272727, 39.548022598870055, 39.325842696629216, 39.10614525139665, 38.888888888888886, 38.67403314917127, 38.46153846153846, 38.25136612021858, 38.04347826086956, 38.37837837837838, 38.17204301075269, 37.967914438502675, 38.297872340425535, 38.095238095238095, 37.89473684210526, 37.696335078534034, 37.5, 37.30569948186528, 37.628865979381445, 37.43589743589744, 37.244897959183675, 37.055837563451774, 36.86868686868687, 36.68341708542714, 36.5]}, {\"fill\": \"tonexty\", \"hoverinfo\": \"text\", \"name\": \"Not survived\", \"text\": [\"percentage Not survived=0.0%\", \"percentage Not survived=0.0%\", \"percentage Not survived=0.0%\", \"percentage Not survived=0.0%\", \"percentage Not survived=0.0%\", \"percentage Not survived=0.0%\", \"percentage Not survived=0.0%\", \"percentage Not survived=0.0%\", \"percentage Not survived=0.0%\", \"percentage Not survived=0.0%\", \"percentage Not survived=0.0%\", \"percentage Not survived=0.0%\", \"percentage Not survived=0.0%\", \"percentage Not survived=0.0%\", \"percentage Not survived=0.0%\", \"percentage Not survived=0.0%\", \"percentage Not survived=0.0%\", \"percentage Not survived=0.0%\", \"percentage Not survived=0.0%\", \"percentage Not survived=0.0%\", \"percentage Not survived=0.0%\", \"percentage Not survived=0.0%\", \"percentage Not survived=0.0%\", \"percentage Not survived=0.0%\", \"percentage Not survived=0.0%\", \"percentage Not survived=0.0%\", \"percentage Not survived=0.0%\", \"percentage Not survived=0.0%\", \"percentage Not survived=0.0%\", \"percentage Not survived=0.0%\", \"percentage Not survived=0.0%\", \"percentage Not survived=0.0%\", \"percentage Not survived=3.03%\", \"percentage Not survived=2.94%\", \"percentage Not survived=2.86%\", \"percentage Not survived=2.78%\", \"percentage Not survived=2.7%\", \"percentage Not survived=2.63%\", \"percentage Not survived=2.56%\", \"percentage Not survived=5.0%\", \"percentage Not survived=4.88%\", \"percentage Not survived=4.76%\", \"percentage Not survived=6.98%\", \"percentage Not survived=9.09%\", \"percentage Not survived=8.89%\", \"percentage Not survived=10.87%\", \"percentage Not survived=12.77%\", \"percentage Not survived=14.58%\", \"percentage Not survived=14.29%\", \"percentage Not survived=14.0%\", \"percentage Not survived=15.69%\", \"percentage Not survived=15.38%\", \"percentage Not survived=15.09%\", \"percentage Not survived=14.81%\", \"percentage Not survived=16.36%\", \"percentage Not survived=17.86%\", \"percentage Not survived=19.3%\", \"percentage Not survived=20.69%\", \"percentage Not survived=20.34%\", \"percentage Not survived=20.0%\", \"percentage Not survived=19.67%\", \"percentage Not survived=19.35%\", \"percentage Not survived=20.63%\", \"percentage Not survived=20.31%\", \"percentage Not survived=21.54%\", \"percentage Not survived=22.73%\", \"percentage Not survived=22.39%\", \"percentage Not survived=23.53%\", \"percentage Not survived=24.64%\", \"percentage Not survived=24.29%\", \"percentage Not survived=25.35%\", \"percentage Not survived=25.0%\", \"percentage Not survived=26.03%\", \"percentage Not survived=27.03%\", \"percentage Not survived=28.0%\", \"percentage Not survived=27.63%\", \"percentage Not survived=28.57%\", \"percentage Not survived=29.49%\", \"percentage Not survived=29.11%\", \"percentage Not survived=28.75%\", \"percentage Not survived=29.63%\", \"percentage Not survived=30.49%\", \"percentage Not survived=30.12%\", \"percentage Not survived=30.95%\", \"percentage Not survived=30.59%\", \"percentage Not survived=31.4%\", \"percentage Not survived=31.03%\", \"percentage Not survived=31.82%\", \"percentage Not survived=31.46%\", \"percentage Not survived=32.22%\", \"percentage Not survived=32.97%\", \"percentage Not survived=32.61%\", \"percentage Not survived=33.33%\", \"percentage Not survived=34.04%\", \"percentage Not survived=34.74%\", \"percentage Not survived=35.42%\", \"percentage Not survived=35.05%\", \"percentage Not survived=35.71%\", \"percentage Not survived=35.35%\", \"percentage Not survived=36.0%\", \"percentage Not survived=35.64%\", \"percentage Not survived=36.27%\", \"percentage Not survived=36.89%\", \"percentage Not survived=37.5%\", \"percentage Not survived=38.1%\", \"percentage Not survived=37.74%\", \"percentage Not survived=38.32%\", \"percentage Not survived=38.89%\", \"percentage Not survived=39.45%\", \"percentage Not survived=40.0%\", \"percentage Not survived=39.64%\", \"percentage Not survived=40.18%\", \"percentage Not survived=40.71%\", \"percentage Not survived=41.23%\", \"percentage Not survived=41.74%\", \"percentage Not survived=42.24%\", \"percentage Not survived=42.74%\", \"percentage Not survived=43.22%\", \"percentage Not survived=43.7%\", \"percentage Not survived=44.17%\", \"percentage Not survived=44.63%\", \"percentage Not survived=45.08%\", \"percentage Not survived=45.53%\", \"percentage Not survived=45.97%\", \"percentage Not survived=46.4%\", \"percentage Not survived=46.83%\", \"percentage Not survived=47.24%\", \"percentage Not survived=47.66%\", \"percentage Not survived=48.06%\", \"percentage Not survived=48.46%\", \"percentage Not survived=48.85%\", \"percentage Not survived=49.24%\", \"percentage Not survived=49.62%\", \"percentage Not survived=50.0%\", \"percentage Not survived=49.63%\", \"percentage Not survived=50.0%\", \"percentage Not survived=50.36%\", \"percentage Not survived=50.72%\", \"percentage Not survived=51.08%\", \"percentage Not survived=51.43%\", \"percentage Not survived=51.77%\", \"percentage Not survived=52.11%\", \"percentage Not survived=52.45%\", \"percentage Not survived=52.78%\", \"percentage Not survived=53.1%\", \"percentage Not survived=53.42%\", \"percentage Not survived=53.74%\", \"percentage Not survived=54.05%\", \"percentage Not survived=54.36%\", \"percentage Not survived=54.67%\", \"percentage Not survived=54.97%\", \"percentage Not survived=55.26%\", \"percentage Not survived=55.56%\", \"percentage Not survived=55.84%\", \"percentage Not survived=56.13%\", \"percentage Not survived=56.41%\", \"percentage Not survived=56.69%\", \"percentage Not survived=56.96%\", \"percentage Not survived=57.23%\", \"percentage Not survived=57.5%\", \"percentage Not survived=57.76%\", \"percentage Not survived=58.02%\", \"percentage Not survived=58.28%\", \"percentage Not survived=58.54%\", \"percentage Not survived=58.79%\", \"percentage Not survived=59.04%\", \"percentage Not survived=59.28%\", \"percentage Not survived=58.93%\", \"percentage Not survived=59.17%\", \"percentage Not survived=59.41%\", \"percentage Not survived=59.65%\", \"percentage Not survived=59.88%\", \"percentage Not survived=59.54%\", \"percentage Not survived=59.77%\", \"percentage Not survived=60.0%\", \"percentage Not survived=60.23%\", \"percentage Not survived=60.45%\", \"percentage Not survived=60.67%\", \"percentage Not survived=60.89%\", \"percentage Not survived=61.11%\", \"percentage Not survived=61.33%\", \"percentage Not survived=61.54%\", \"percentage Not survived=61.75%\", \"percentage Not survived=61.96%\", \"percentage Not survived=61.62%\", \"percentage Not survived=61.83%\", \"percentage Not survived=62.03%\", \"percentage Not survived=61.7%\", \"percentage Not survived=61.9%\", \"percentage Not survived=62.11%\", \"percentage Not survived=62.3%\", \"percentage Not survived=62.5%\", \"percentage Not survived=62.69%\", \"percentage Not survived=62.37%\", \"percentage Not survived=62.56%\", \"percentage Not survived=62.76%\", \"percentage Not survived=62.94%\", \"percentage Not survived=63.13%\", \"percentage Not survived=63.32%\", \"percentage Not survived=63.5%\"], \"type\": \"scatter\", \"x\": [0.5, 1.0, 1.5, 2.0, 2.5, 3.0, 3.5, 4.0, 4.5, 5.0, 5.5, 6.0, 6.5, 7.0, 7.5, 8.0, 8.5, 9.0, 9.5, 10.0, 10.5, 11.0, 11.5, 12.0, 12.5, 13.0, 13.5, 14.0, 14.5, 15.0, 15.5, 16.0, 16.5, 17.0, 17.5, 18.0, 18.5, 19.0, 19.5, 20.0, 20.5, 21.0, 21.5, 22.0, 22.5, 23.0, 23.5, 24.0, 24.5, 25.0, 25.5, 26.0, 26.5, 27.0, 27.5, 28.0, 28.5, 29.0, 29.5, 30.0, 30.5, 31.0, 31.5, 32.0, 32.5, 33.0, 33.5, 34.0, 34.5, 35.0, 35.5, 36.0, 36.5, 37.0, 37.5, 38.0, 38.5, 39.0, 39.5, 40.0, 40.5, 41.0, 41.5, 42.0, 42.5, 43.0, 43.5, 44.0, 44.5, 45.0, 45.5, 46.0, 46.5, 47.0, 47.5, 48.0, 48.5, 49.0, 49.5, 50.0, 50.5, 51.0, 51.5, 52.0, 52.5, 53.0, 53.5, 54.0, 54.5, 55.0, 55.5, 56.0, 56.5, 57.0, 57.5, 58.0, 58.5, 59.0, 59.5, 60.0, 60.5, 61.0, 61.5, 62.0, 62.5, 63.0, 63.5, 64.0, 64.5, 65.0, 65.5, 66.0, 66.5, 67.0, 67.5, 68.0, 68.5, 69.0, 69.5, 70.0, 70.5, 71.0, 71.5, 72.0, 72.5, 73.0, 73.5, 74.0, 74.5, 75.0, 75.5, 76.0, 76.5, 77.0, 77.5, 78.0, 78.5, 79.0, 79.5, 80.0, 80.5, 81.0, 81.5, 82.0, 82.5, 83.0, 83.5, 84.0, 84.5, 85.0, 85.5, 86.0, 86.5, 87.0, 87.5, 88.0, 88.5, 89.0, 89.5, 90.0, 90.5, 91.0, 91.5, 92.0, 92.5, 93.0, 93.5, 94.0, 94.5, 95.0, 95.5, 96.0, 96.5, 97.0, 97.5, 98.0, 98.5, 99.0, 99.5, 100.0], \"y\": [100.0, 100.0, 100.0, 100.0, 100.0, 100.0, 100.0, 100.0, 100.0, 100.0, 100.0, 100.0, 100.0, 100.0, 100.0, 100.0, 100.0, 100.0, 100.0, 100.0, 100.0, 100.0, 100.0, 100.0, 100.0, 100.0, 100.0, 100.0, 100.0, 100.0, 100.0, 100.0, 100.0, 100.0, 100.0, 100.0, 100.0, 100.0, 100.0, 100.0, 100.0, 100.0, 100.0, 100.0, 100.0, 100.0, 100.0, 100.0, 100.0, 100.0, 100.0, 100.0, 100.0, 100.0, 100.0, 100.0, 100.0, 100.0, 100.0, 100.0, 100.0, 100.0, 100.0, 100.0, 100.0, 100.0, 100.0, 100.0, 100.0, 100.0, 100.0, 100.0, 100.0, 100.0, 100.0, 100.0, 100.0, 100.0, 100.0, 100.0, 100.0, 100.0, 100.0, 100.0, 100.0, 100.0, 100.0, 100.0, 100.0, 100.0, 100.0, 100.0, 100.0, 100.0, 100.0, 100.0, 100.0, 100.0, 100.0, 100.0, 100.0, 100.0, 100.0, 100.0, 100.0, 100.0, 100.0, 100.0, 100.0, 100.0, 100.0, 100.0, 100.0, 100.0, 100.0, 100.0, 100.0, 100.0, 100.0, 100.0, 100.0, 100.0, 100.0, 100.0, 100.0, 100.0, 100.0, 100.0, 100.0, 100.0, 100.0, 100.0, 100.0, 100.0, 100.0, 100.0, 100.0, 100.0, 100.0, 100.0, 100.0, 100.0, 100.0, 100.0, 100.0, 100.0, 100.0, 100.0, 100.0, 100.0, 100.0, 100.0, 100.0, 100.0, 100.0, 100.0, 100.0, 100.0, 100.0, 100.0, 100.0, 100.0, 100.0, 100.0, 100.0, 100.0, 100.0, 100.0, 100.0, 100.0, 100.0, 100.0, 100.0, 100.0, 100.0, 100.0, 100.0, 100.0, 100.0, 100.0, 100.0, 100.0, 100.0, 100.0, 100.0, 100.0, 100.0, 100.0, 100.0, 100.0, 100.0, 100.0, 100.0, 100.0, 100.0, 100.0, 100.0, 100.0, 100.0, 100.0]}],\n",
       "                        {\"hovermode\": \"x\", \"plot_bgcolor\": \"#fff\", \"template\": {\"data\": {\"bar\": [{\"error_x\": {\"color\": \"#2a3f5f\"}, \"error_y\": {\"color\": \"#2a3f5f\"}, \"marker\": {\"line\": {\"color\": \"#E5ECF6\", \"width\": 0.5}}, \"type\": \"bar\"}], \"barpolar\": [{\"marker\": {\"line\": {\"color\": \"#E5ECF6\", \"width\": 0.5}}, \"type\": \"barpolar\"}], \"carpet\": [{\"aaxis\": {\"endlinecolor\": \"#2a3f5f\", \"gridcolor\": \"white\", \"linecolor\": \"white\", \"minorgridcolor\": \"white\", \"startlinecolor\": \"#2a3f5f\"}, \"baxis\": {\"endlinecolor\": \"#2a3f5f\", \"gridcolor\": \"white\", \"linecolor\": \"white\", \"minorgridcolor\": \"white\", \"startlinecolor\": \"#2a3f5f\"}, \"type\": \"carpet\"}], \"choropleth\": [{\"colorbar\": {\"outlinewidth\": 0, \"ticks\": \"\"}, \"type\": \"choropleth\"}], \"contour\": [{\"colorbar\": {\"outlinewidth\": 0, \"ticks\": \"\"}, \"colorscale\": [[0.0, \"#0d0887\"], [0.1111111111111111, \"#46039f\"], [0.2222222222222222, \"#7201a8\"], [0.3333333333333333, \"#9c179e\"], [0.4444444444444444, \"#bd3786\"], [0.5555555555555556, \"#d8576b\"], [0.6666666666666666, \"#ed7953\"], [0.7777777777777778, \"#fb9f3a\"], [0.8888888888888888, \"#fdca26\"], [1.0, \"#f0f921\"]], \"type\": \"contour\"}], \"contourcarpet\": [{\"colorbar\": {\"outlinewidth\": 0, \"ticks\": \"\"}, \"type\": \"contourcarpet\"}], \"heatmap\": [{\"colorbar\": {\"outlinewidth\": 0, \"ticks\": \"\"}, \"colorscale\": [[0.0, \"#0d0887\"], [0.1111111111111111, \"#46039f\"], [0.2222222222222222, \"#7201a8\"], [0.3333333333333333, \"#9c179e\"], [0.4444444444444444, \"#bd3786\"], [0.5555555555555556, \"#d8576b\"], [0.6666666666666666, \"#ed7953\"], [0.7777777777777778, \"#fb9f3a\"], [0.8888888888888888, \"#fdca26\"], [1.0, \"#f0f921\"]], \"type\": \"heatmap\"}], \"heatmapgl\": [{\"colorbar\": {\"outlinewidth\": 0, \"ticks\": \"\"}, \"colorscale\": [[0.0, \"#0d0887\"], [0.1111111111111111, \"#46039f\"], [0.2222222222222222, \"#7201a8\"], [0.3333333333333333, \"#9c179e\"], [0.4444444444444444, \"#bd3786\"], [0.5555555555555556, \"#d8576b\"], [0.6666666666666666, \"#ed7953\"], [0.7777777777777778, \"#fb9f3a\"], [0.8888888888888888, \"#fdca26\"], [1.0, \"#f0f921\"]], \"type\": \"heatmapgl\"}], \"histogram\": [{\"marker\": {\"colorbar\": {\"outlinewidth\": 0, \"ticks\": \"\"}}, \"type\": \"histogram\"}], \"histogram2d\": [{\"colorbar\": {\"outlinewidth\": 0, \"ticks\": \"\"}, \"colorscale\": [[0.0, \"#0d0887\"], [0.1111111111111111, \"#46039f\"], [0.2222222222222222, \"#7201a8\"], [0.3333333333333333, \"#9c179e\"], [0.4444444444444444, \"#bd3786\"], [0.5555555555555556, \"#d8576b\"], [0.6666666666666666, \"#ed7953\"], [0.7777777777777778, \"#fb9f3a\"], [0.8888888888888888, \"#fdca26\"], [1.0, \"#f0f921\"]], \"type\": \"histogram2d\"}], \"histogram2dcontour\": [{\"colorbar\": {\"outlinewidth\": 0, \"ticks\": \"\"}, \"colorscale\": [[0.0, \"#0d0887\"], [0.1111111111111111, \"#46039f\"], [0.2222222222222222, \"#7201a8\"], [0.3333333333333333, \"#9c179e\"], [0.4444444444444444, \"#bd3786\"], [0.5555555555555556, \"#d8576b\"], [0.6666666666666666, \"#ed7953\"], [0.7777777777777778, \"#fb9f3a\"], [0.8888888888888888, \"#fdca26\"], [1.0, \"#f0f921\"]], \"type\": \"histogram2dcontour\"}], \"mesh3d\": [{\"colorbar\": {\"outlinewidth\": 0, \"ticks\": \"\"}, \"type\": \"mesh3d\"}], \"parcoords\": [{\"line\": {\"colorbar\": {\"outlinewidth\": 0, \"ticks\": \"\"}}, \"type\": \"parcoords\"}], \"scatter\": [{\"marker\": {\"colorbar\": {\"outlinewidth\": 0, \"ticks\": \"\"}}, \"type\": \"scatter\"}], \"scatter3d\": [{\"line\": {\"colorbar\": {\"outlinewidth\": 0, \"ticks\": \"\"}}, \"marker\": {\"colorbar\": {\"outlinewidth\": 0, \"ticks\": \"\"}}, \"type\": \"scatter3d\"}], \"scattercarpet\": [{\"marker\": {\"colorbar\": {\"outlinewidth\": 0, \"ticks\": \"\"}}, \"type\": \"scattercarpet\"}], \"scattergeo\": [{\"marker\": {\"colorbar\": {\"outlinewidth\": 0, \"ticks\": \"\"}}, \"type\": \"scattergeo\"}], \"scattergl\": [{\"marker\": {\"colorbar\": {\"outlinewidth\": 0, \"ticks\": \"\"}}, \"type\": \"scattergl\"}], \"scattermapbox\": [{\"marker\": {\"colorbar\": {\"outlinewidth\": 0, \"ticks\": \"\"}}, \"type\": \"scattermapbox\"}], \"scatterpolar\": [{\"marker\": {\"colorbar\": {\"outlinewidth\": 0, \"ticks\": \"\"}}, \"type\": \"scatterpolar\"}], \"scatterpolargl\": [{\"marker\": {\"colorbar\": {\"outlinewidth\": 0, \"ticks\": \"\"}}, \"type\": \"scatterpolargl\"}], \"scatterternary\": [{\"marker\": {\"colorbar\": {\"outlinewidth\": 0, \"ticks\": \"\"}}, \"type\": \"scatterternary\"}], \"surface\": [{\"colorbar\": {\"outlinewidth\": 0, \"ticks\": \"\"}, \"colorscale\": [[0.0, \"#0d0887\"], [0.1111111111111111, \"#46039f\"], [0.2222222222222222, \"#7201a8\"], [0.3333333333333333, \"#9c179e\"], [0.4444444444444444, \"#bd3786\"], [0.5555555555555556, \"#d8576b\"], [0.6666666666666666, \"#ed7953\"], [0.7777777777777778, \"#fb9f3a\"], [0.8888888888888888, \"#fdca26\"], [1.0, \"#f0f921\"]], \"type\": \"surface\"}], \"table\": [{\"cells\": {\"fill\": {\"color\": \"#EBF0F8\"}, \"line\": {\"color\": \"white\"}}, \"header\": {\"fill\": {\"color\": \"#C8D4E3\"}, \"line\": {\"color\": \"white\"}}, \"type\": \"table\"}]}, \"layout\": {\"annotationdefaults\": {\"arrowcolor\": \"#2a3f5f\", \"arrowhead\": 0, \"arrowwidth\": 1}, \"colorscale\": {\"diverging\": [[0, \"#8e0152\"], [0.1, \"#c51b7d\"], [0.2, \"#de77ae\"], [0.3, \"#f1b6da\"], [0.4, \"#fde0ef\"], [0.5, \"#f7f7f7\"], [0.6, \"#e6f5d0\"], [0.7, \"#b8e186\"], [0.8, \"#7fbc41\"], [0.9, \"#4d9221\"], [1, \"#276419\"]], \"sequential\": [[0.0, \"#0d0887\"], [0.1111111111111111, \"#46039f\"], [0.2222222222222222, \"#7201a8\"], [0.3333333333333333, \"#9c179e\"], [0.4444444444444444, \"#bd3786\"], [0.5555555555555556, \"#d8576b\"], [0.6666666666666666, \"#ed7953\"], [0.7777777777777778, \"#fb9f3a\"], [0.8888888888888888, \"#fdca26\"], [1.0, \"#f0f921\"]], \"sequentialminus\": [[0.0, \"#0d0887\"], [0.1111111111111111, \"#46039f\"], [0.2222222222222222, \"#7201a8\"], [0.3333333333333333, \"#9c179e\"], [0.4444444444444444, \"#bd3786\"], [0.5555555555555556, \"#d8576b\"], [0.6666666666666666, \"#ed7953\"], [0.7777777777777778, \"#fb9f3a\"], [0.8888888888888888, \"#fdca26\"], [1.0, \"#f0f921\"]]}, \"colorway\": [\"#636efa\", \"#EF553B\", \"#00cc96\", \"#ab63fa\", \"#FFA15A\", \"#19d3f3\", \"#FF6692\", \"#B6E880\", \"#FF97FF\", \"#FECB52\"], \"font\": {\"color\": \"#2a3f5f\"}, \"geo\": {\"bgcolor\": \"white\", \"lakecolor\": \"white\", \"landcolor\": \"#E5ECF6\", \"showlakes\": true, \"showland\": true, \"subunitcolor\": \"white\"}, \"hoverlabel\": {\"align\": \"left\"}, \"hovermode\": \"closest\", \"mapbox\": {\"style\": \"light\"}, \"paper_bgcolor\": \"white\", \"plot_bgcolor\": \"#E5ECF6\", \"polar\": {\"angularaxis\": {\"gridcolor\": \"white\", \"linecolor\": \"white\", \"ticks\": \"\"}, \"bgcolor\": \"#E5ECF6\", \"radialaxis\": {\"gridcolor\": \"white\", \"linecolor\": \"white\", \"ticks\": \"\"}}, \"scene\": {\"xaxis\": {\"backgroundcolor\": \"#E5ECF6\", \"gridcolor\": \"white\", \"gridwidth\": 2, \"linecolor\": \"white\", \"showbackground\": true, \"ticks\": \"\", \"zerolinecolor\": \"white\"}, \"yaxis\": {\"backgroundcolor\": \"#E5ECF6\", \"gridcolor\": \"white\", \"gridwidth\": 2, \"linecolor\": \"white\", \"showbackground\": true, \"ticks\": \"\", \"zerolinecolor\": \"white\"}, \"zaxis\": {\"backgroundcolor\": \"#E5ECF6\", \"gridcolor\": \"white\", \"gridwidth\": 2, \"linecolor\": \"white\", \"showbackground\": true, \"ticks\": \"\", \"zerolinecolor\": \"white\"}}, \"shapedefaults\": {\"line\": {\"color\": \"#2a3f5f\"}}, \"ternary\": {\"aaxis\": {\"gridcolor\": \"white\", \"linecolor\": \"white\", \"ticks\": \"\"}, \"baxis\": {\"gridcolor\": \"white\", \"linecolor\": \"white\", \"ticks\": \"\"}, \"bgcolor\": \"#E5ECF6\", \"caxis\": {\"gridcolor\": \"white\", \"linecolor\": \"white\", \"ticks\": \"\"}}, \"title\": {\"x\": 0.05}, \"xaxis\": {\"automargin\": true, \"gridcolor\": \"white\", \"linecolor\": \"white\", \"ticks\": \"\", \"zerolinecolor\": \"white\", \"zerolinewidth\": 2}, \"yaxis\": {\"automargin\": true, \"gridcolor\": \"white\", \"linecolor\": \"white\", \"ticks\": \"\", \"zerolinecolor\": \"white\", \"zerolinewidth\": 2}}}, \"title\": {\"font\": {\"size\": 18}, \"text\": \"Cumulative percentage per category when sampling top X%\", \"x\": 0.5}, \"xaxis\": {\"nticks\": 10, \"spikemode\": \"across\", \"title\": {\"text\": \"Top X% model scores\"}}, \"yaxis\": {\"title\": {\"text\": \"Cumulative precision per category\"}}},\n",
       "                        {\"responsive\": true}\n",
       "                    ).then(function(){\n",
       "                            \n",
       "var gd = document.getElementById('3e2ddf63-287b-4a83-9582-42302b544fd2');\n",
       "var x = new MutationObserver(function (mutations, observer) {{\n",
       "        var display = window.getComputedStyle(gd).display;\n",
       "        if (!display || display === 'none') {{\n",
       "            console.log([gd, 'removed!']);\n",
       "            Plotly.purge(gd);\n",
       "            observer.disconnect();\n",
       "        }}\n",
       "}});\n",
       "\n",
       "// Listen for the removal of the full notebook cells\n",
       "var notebookContainer = gd.closest('#notebook-container');\n",
       "if (notebookContainer) {{\n",
       "    x.observe(notebookContainer, {childList: true});\n",
       "}}\n",
       "\n",
       "// Listen for the clearing of the current output cell\n",
       "var outputEl = gd.closest('.output');\n",
       "if (outputEl) {{\n",
       "    x.observe(outputEl, {childList: true});\n",
       "}}\n",
       "\n",
       "                        })\n",
       "                };\n",
       "                });\n",
       "            </script>\n",
       "        </div>"
      ]
     },
     "metadata": {},
     "output_type": "display_data"
    }
   ],
   "source": [
    "explainer.plot_cumulative_precision()"
   ]
  },
  {
   "cell_type": "markdown",
   "metadata": {},
   "source": [
    "## Starting dashboard from ExplainerDashboard instance:"
   ]
  },
  {
   "cell_type": "code",
   "execution_count": 8,
   "metadata": {
    "ExecuteTime": {
     "end_time": "2019-11-27T15:48:51.241740Z",
     "start_time": "2019-11-27T14:13:47.374376Z"
    }
   },
   "outputs": [
    {
     "name": "stdout",
     "output_type": "stream",
     "text": [
      "Calculating shap values...\n",
      "Generating shap TreeExplainer...\n",
      "Calculating predictions...\n",
      "Calculating importances...\n",
      "Calculating shap interaction values...\n",
      "Running Model Explainer on http://localhost:8052\n",
      " * Serving Flask app \"explainerdashboard.dashboards\" (lazy loading)\n",
      " * Environment: production\n",
      "   WARNING: Do not use the development server in a production environment.\n",
      "   Use a production WSGI server instead.\n",
      " * Debug mode: off\n"
     ]
    },
    {
     "name": "stderr",
     "output_type": "stream",
     "text": [
      " * Running on http://127.0.0.1:8052/ (Press CTRL+C to quit)\n",
      "127.0.0.1 - - [27/Nov/2019 15:13:57] \"GET / HTTP/1.1\" 200 -\n",
      "127.0.0.1 - - [27/Nov/2019 15:13:57] \"GET /_dash-dependencies HTTP/1.1\" 200 -\n",
      "127.0.0.1 - - [27/Nov/2019 15:13:57] \"GET /_dash-layout HTTP/1.1\" 200 -\n",
      "127.0.0.1 - - [27/Nov/2019 15:14:09] \"POST /_dash-update-component HTTP/1.1\" 200 -\n",
      "127.0.0.1 - - [27/Nov/2019 15:14:09] \"POST /_dash-update-component HTTP/1.1\" 200 -\n",
      "127.0.0.1 - - [27/Nov/2019 15:14:09] \"POST /_dash-update-component HTTP/1.1\" 200 -\n",
      "127.0.0.1 - - [27/Nov/2019 15:14:09] \"POST /_dash-update-component HTTP/1.1\" 204 -\n",
      "127.0.0.1 - - [27/Nov/2019 15:14:09] \"POST /_dash-update-component HTTP/1.1\" 200 -\n",
      "127.0.0.1 - - [27/Nov/2019 15:14:09] \"POST /_dash-update-component HTTP/1.1\" 204 -\n",
      "127.0.0.1 - - [27/Nov/2019 15:14:10] \"POST /_dash-update-component HTTP/1.1\" 200 -\n",
      "127.0.0.1 - - [27/Nov/2019 15:14:10] \"POST /_dash-update-component HTTP/1.1\" 200 -\n",
      "127.0.0.1 - - [27/Nov/2019 15:14:10] \"POST /_dash-update-component HTTP/1.1\" 204 -\n",
      "127.0.0.1 - - [27/Nov/2019 15:14:10] \"POST /_dash-update-component HTTP/1.1\" 200 -\n",
      "127.0.0.1 - - [27/Nov/2019 15:14:10] \"POST /_dash-update-component HTTP/1.1\" 204 -\n",
      "127.0.0.1 - - [27/Nov/2019 15:14:10] \"POST /_dash-update-component HTTP/1.1\" 204 -\n",
      "127.0.0.1 - - [27/Nov/2019 15:14:10] \"POST /_dash-update-component HTTP/1.1\" 204 -\n",
      "127.0.0.1 - - [27/Nov/2019 15:14:12] \"POST /_dash-update-component HTTP/1.1\" 200 -\n",
      "127.0.0.1 - - [27/Nov/2019 15:14:12] \"POST /_dash-update-component HTTP/1.1\" 200 -\n",
      "127.0.0.1 - - [27/Nov/2019 15:14:13] \"POST /_dash-update-component HTTP/1.1\" 200 -\n",
      "127.0.0.1 - - [27/Nov/2019 15:14:14] \"POST /_dash-update-component HTTP/1.1\" 200 -\n",
      "127.0.0.1 - - [27/Nov/2019 15:14:15] \"POST /_dash-update-component HTTP/1.1\" 200 -\n",
      "127.0.0.1 - - [27/Nov/2019 15:14:17] \"POST /_dash-update-component HTTP/1.1\" 200 -\n",
      "127.0.0.1 - - [27/Nov/2019 15:14:17] \"POST /_dash-update-component HTTP/1.1\" 200 -\n",
      "127.0.0.1 - - [27/Nov/2019 15:14:17] \"POST /_dash-update-component HTTP/1.1\" 200 -\n",
      "127.0.0.1 - - [27/Nov/2019 15:14:17] \"POST /_dash-update-component HTTP/1.1\" 200 -\n",
      "127.0.0.1 - - [27/Nov/2019 15:14:17] \"POST /_dash-update-component HTTP/1.1\" 200 -\n",
      "127.0.0.1 - - [27/Nov/2019 15:14:17] \"POST /_dash-update-component HTTP/1.1\" 204 -\n",
      "127.0.0.1 - - [27/Nov/2019 15:14:19] \"POST /_dash-update-component HTTP/1.1\" 200 -\n",
      "127.0.0.1 - - [27/Nov/2019 15:14:19] \"POST /_dash-update-component HTTP/1.1\" 200 -\n",
      "127.0.0.1 - - [27/Nov/2019 15:14:21] \"POST /_dash-update-component HTTP/1.1\" 200 -\n",
      "127.0.0.1 - - [27/Nov/2019 15:14:23] \"POST /_dash-update-component HTTP/1.1\" 200 -\n",
      "127.0.0.1 - - [27/Nov/2019 15:14:24] \"POST /_dash-update-component HTTP/1.1\" 200 -\n",
      "127.0.0.1 - - [27/Nov/2019 15:14:26] \"POST /_dash-update-component HTTP/1.1\" 200 -\n",
      "127.0.0.1 - - [27/Nov/2019 15:14:26] \"POST /_dash-update-component HTTP/1.1\" 200 -\n",
      "127.0.0.1 - - [27/Nov/2019 15:14:26] \"POST /_dash-update-component HTTP/1.1\" 200 -\n",
      "127.0.0.1 - - [27/Nov/2019 15:14:28] \"POST /_dash-update-component HTTP/1.1\" 200 -\n",
      "127.0.0.1 - - [27/Nov/2019 15:14:28] \"POST /_dash-update-component HTTP/1.1\" 204 -\n",
      "127.0.0.1 - - [27/Nov/2019 15:14:31] \"POST /_dash-update-component HTTP/1.1\" 200 -\n",
      "127.0.0.1 - - [27/Nov/2019 15:14:31] \"POST /_dash-update-component HTTP/1.1\" 200 -\n",
      "127.0.0.1 - - [27/Nov/2019 15:14:32] \"POST /_dash-update-component HTTP/1.1\" 200 -\n",
      "127.0.0.1 - - [27/Nov/2019 15:14:33] \"POST /_dash-update-component HTTP/1.1\" 200 -\n",
      "127.0.0.1 - - [27/Nov/2019 15:14:33] \"POST /_dash-update-component HTTP/1.1\" 200 -\n",
      "127.0.0.1 - - [27/Nov/2019 15:14:35] \"POST /_dash-update-component HTTP/1.1\" 200 -\n",
      "127.0.0.1 - - [27/Nov/2019 15:14:35] \"POST /_dash-update-component HTTP/1.1\" 200 -\n",
      "127.0.0.1 - - [27/Nov/2019 15:14:36] \"POST /_dash-update-component HTTP/1.1\" 200 -\n",
      "127.0.0.1 - - [27/Nov/2019 15:14:37] \"POST /_dash-update-component HTTP/1.1\" 200 -\n",
      "127.0.0.1 - - [27/Nov/2019 15:14:37] \"POST /_dash-update-component HTTP/1.1\" 200 -\n",
      "127.0.0.1 - - [27/Nov/2019 15:14:41] \"POST /_dash-update-component HTTP/1.1\" 200 -\n",
      "127.0.0.1 - - [27/Nov/2019 15:14:41] \"POST /_dash-update-component HTTP/1.1\" 200 -\n",
      "127.0.0.1 - - [27/Nov/2019 15:14:41] \"POST /_dash-update-component HTTP/1.1\" 200 -\n"
     ]
    }
   ],
   "source": [
    "db = RandomForestDashboard(explainer,\n",
    "                        model_summary=True,\n",
    "                        contributions=True,\n",
    "                        shap_dependence=True,\n",
    "                        shap_interaction=True,\n",
    "                        shadow_trees=True)\n",
    "db.run(8052)"
   ]
  },
  {
   "cell_type": "markdown",
   "metadata": {},
   "source": [
    "## Building dash/Flask app directly with standalone tab:\n",
    "\n",
    "You can also build the dash/Flask app directly, but you have to pass standalone=True parameter to the layout and register_callbacks function.\n",
    "\n",
    "NOTE: You do need to copy the bootstrap css assets to a local /assets/ folder to get a nice layout!\n",
    "\n",
    "\n",
    "The available tab layouts and callbacks are:\n",
    "\n",
    "- **contributions_tab**:\n",
    "    + explainerdashboard.dashboard_tabs.contributions_tab.contributions_tab(explainer)\n",
    "    + explainerdashboard.dashboard_tabs.contributions_tab.contributions_tab_register_callbacks(explainer, app)\n",
    "    \n",
    "- **model_summary_tab**:\n",
    "    + explainerdashboard.dashboard_tabs.model_summary_tab.model_summary_tab(explainer)\n",
    "    + explainerdashboard.dashboard_tabs.model_summary_tab.model_summary_tab_register_callbacks(explainer, app)\n",
    "    \n",
    "- **shap_dependence_tab**:\n",
    "    + explainerdashboard.dashboard_tabs.shap_dependence_tab.shap_dependence_tab(explainer)\n",
    "    + explainerdashboard.dashboard_tabs.shap_dependence_tab.shap_dependence_tab_register_callbacks(explainer, app)\n",
    "    \n",
    "- **shap_interactions_tab**:\n",
    "    + explainerdashboard.dashboard_tabs.shap_interactions_tab.shap_interactions_tab(explainer)\n",
    "    + explainerdashboard.dashboard_tabs.shap_interactions_tab.shap_interactions_tab_register_callbacks(explainer, app)\n",
    "    \n",
    "- **shadow_trees_tab**:\n",
    "    + explainerdashboard.dashboard_tabs.shadow_trees_tab.shadow_trees_tab(explainer)\n",
    "    + explainerdashboard.dashboard_tabs.shadow_trees_tab.shadow_trees_tab_register_callbacks(explainer, app)\n",
    "\n"
   ]
  },
  {
   "cell_type": "code",
   "execution_count": 15,
   "metadata": {
    "ExecuteTime": {
     "end_time": "2019-11-22T14:47:35.376902Z",
     "start_time": "2019-11-22T14:45:47.279935Z"
    }
   },
   "outputs": [
    {
     "name": "stdout",
     "output_type": "stream",
     "text": [
      " * Serving Flask app \"__main__\" (lazy loading)\n",
      " * Environment: production\n",
      "   WARNING: Do not use the development server in a production environment.\n",
      "   Use a production WSGI server instead.\n",
      " * Debug mode: off\n"
     ]
    },
    {
     "name": "stderr",
     "output_type": "stream",
     "text": [
      " * Running on http://127.0.0.1:8052/ (Press CTRL+C to quit)\n",
      "127.0.0.1 - - [22/Nov/2019 15:45:56] \"GET / HTTP/1.1\" 200 -\n",
      "127.0.0.1 - - [22/Nov/2019 15:45:56] \"GET /_dash-layout HTTP/1.1\" 200 -\n",
      "127.0.0.1 - - [22/Nov/2019 15:45:56] \"GET /_dash-dependencies HTTP/1.1\" 200 -\n",
      "127.0.0.1 - - [22/Nov/2019 15:45:58] \"POST /_dash-update-component HTTP/1.1\" 200 -\n",
      "127.0.0.1 - - [22/Nov/2019 15:45:58] \"POST /_dash-update-component HTTP/1.1\" 200 -\n",
      "127.0.0.1 - - [22/Nov/2019 15:46:00] \"POST /_dash-update-component HTTP/1.1\" 200 -\n",
      "127.0.0.1 - - [22/Nov/2019 15:46:01] \"POST /_dash-update-component HTTP/1.1\" 200 -\n",
      "127.0.0.1 - - [22/Nov/2019 15:46:01] \"POST /_dash-update-component HTTP/1.1\" 200 -\n",
      "127.0.0.1 - - [22/Nov/2019 15:46:01] \"POST /_dash-update-component HTTP/1.1\" 200 -\n",
      "127.0.0.1 - - [22/Nov/2019 15:46:02] \"POST /_dash-update-component HTTP/1.1\" 200 -\n",
      "127.0.0.1 - - [22/Nov/2019 15:46:03] \"POST /_dash-update-component HTTP/1.1\" 200 -\n",
      "127.0.0.1 - - [22/Nov/2019 15:46:04] \"POST /_dash-update-component HTTP/1.1\" 200 -\n",
      "127.0.0.1 - - [22/Nov/2019 15:46:04] \"POST /_dash-update-component HTTP/1.1\" 200 -\n",
      "127.0.0.1 - - [22/Nov/2019 15:46:15] \"POST /_dash-update-component HTTP/1.1\" 200 -\n",
      "127.0.0.1 - - [22/Nov/2019 15:46:16] \"POST /_dash-update-component HTTP/1.1\" 200 -\n",
      "127.0.0.1 - - [22/Nov/2019 15:46:16] \"POST /_dash-update-component HTTP/1.1\" 200 -\n",
      "127.0.0.1 - - [22/Nov/2019 15:46:18] \"POST /_dash-update-component HTTP/1.1\" 200 -\n",
      "127.0.0.1 - - [22/Nov/2019 15:46:22] \"POST /_dash-update-component HTTP/1.1\" 200 -\n",
      "127.0.0.1 - - [22/Nov/2019 15:46:24] \"POST /_dash-update-component HTTP/1.1\" 200 -\n",
      "127.0.0.1 - - [22/Nov/2019 15:46:25] \"POST /_dash-update-component HTTP/1.1\" 200 -\n",
      "127.0.0.1 - - [22/Nov/2019 15:46:25] \"POST /_dash-update-component HTTP/1.1\" 200 -\n",
      "127.0.0.1 - - [22/Nov/2019 15:46:26] \"POST /_dash-update-component HTTP/1.1\" 200 -\n"
     ]
    }
   ],
   "source": [
    "import dash\n",
    "import dash_html_components as html\n",
    "\n",
    "from explainerdashboard.dashboard_tabs.model_summary_tab import *\n",
    "\n",
    "app = dash.Dash(__name__) # need to make sure to copy css files to /assets/ folder!\n",
    "app.config['suppress_callback_exceptions']=True\n",
    "app.css.config.serve_locally = True\n",
    "app.scripts.config.serve_locally = True\n",
    "app.title = \"Model Explainer\"\n",
    "app.layout = html.Div([\n",
    "    model_summary_tab(explainer, title = \"Model Explainer\", standalone=True)])\n",
    "model_summary_tab_register_callbacks(explainer, app, standalone=True)\n",
    "app.run_server(port=8052)"
   ]
  },
  {
   "cell_type": "markdown",
   "metadata": {},
   "source": [
    "# RandomForestRegressor"
   ]
  },
  {
   "cell_type": "code",
   "execution_count": 5,
   "metadata": {
    "ExecuteTime": {
     "end_time": "2019-12-03T10:32:36.982164Z",
     "start_time": "2019-12-03T10:32:36.869153Z"
    }
   },
   "outputs": [
    {
     "data": {
      "text/plain": [
       "RandomForestRegressor(bootstrap=True, criterion='mse', max_depth=5,\n",
       "                      max_features='auto', max_leaf_nodes=None,\n",
       "                      min_impurity_decrease=0.0, min_impurity_split=None,\n",
       "                      min_samples_leaf=1, min_samples_split=2,\n",
       "                      min_weight_fraction_leaf=0.0, n_estimators=50,\n",
       "                      n_jobs=None, oob_score=False, random_state=None,\n",
       "                      verbose=0, warm_start=False)"
      ]
     },
     "execution_count": 5,
     "metadata": {},
     "output_type": "execute_result"
    }
   ],
   "source": [
    "X_train, y_train, X_test, y_test = titanic_fare()\n",
    "train_names, test_names = titanic_names()\n",
    "\n",
    "model = RandomForestRegressor(n_estimators=50, max_depth=5)\n",
    "model.fit(X_train, y_train)\n",
    "\n",
    "explainer = RandomForestExplainerBunch(model, X_test, y_test, r2_score, \n",
    "                               cats=['Sex', 'Deck', 'Embarked'],\n",
    "                               idxs=test_names)"
   ]
  },
  {
   "cell_type": "code",
   "execution_count": 9,
   "metadata": {
    "ExecuteTime": {
     "end_time": "2019-11-22T10:39:48.597377Z",
     "start_time": "2019-11-22T10:37:36.913898Z"
    }
   },
   "outputs": [
    {
     "name": "stdout",
     "output_type": "stream",
     "text": [
      "Calculating shap values...\n",
      "Generating shap TreeExplainer...\n",
      "Calculating predictions...\n",
      "Calculating shap values...\n",
      "Calculating importances...\n",
      "Running Model Explainer on http://localhost:8051\n",
      " * Serving Flask app \"explainerdashboard.dashboards\" (lazy loading)\n",
      " * Environment: production\n",
      "   WARNING: Do not use the development server in a production environment.\n",
      "   Use a production WSGI server instead.\n",
      " * Debug mode: off\n"
     ]
    },
    {
     "name": "stderr",
     "output_type": "stream",
     "text": [
      " * Running on http://127.0.0.1:8051/ (Press CTRL+C to quit)\n",
      "127.0.0.1 - - [22/Nov/2019 11:38:08] \"GET / HTTP/1.1\" 200 -\n",
      "127.0.0.1 - - [22/Nov/2019 11:38:08] \"GET /assets/bootstrap.css?m=1573382556.0 HTTP/1.1\" 200 -\n",
      "127.0.0.1 - - [22/Nov/2019 11:38:08] \"GET /assets/stylesheet.css?m=1573382556.0 HTTP/1.1\" 200 -\n",
      "127.0.0.1 - - [22/Nov/2019 11:38:08] \"GET /_dash-component-suites/dash_renderer/react@16.v1_2_0m1572872601.8.6.min.js HTTP/1.1\" 200 -\n",
      "127.0.0.1 - - [22/Nov/2019 11:38:08] \"GET /_dash-component-suites/dash_renderer/react-dom@16.v1_2_0m1572872601.8.6.min.js HTTP/1.1\" 200 -\n",
      "127.0.0.1 - - [22/Nov/2019 11:38:09] \"GET /_dash-component-suites/dash_renderer/prop-types@15.v1_2_0m1572872601.7.2.min.js HTTP/1.1\" 200 -\n",
      "127.0.0.1 - - [22/Nov/2019 11:38:09] \"GET /_dash-component-suites/dash_table/bundle.v4_5_0m1572872657.js HTTP/1.1\" 200 -\n",
      "127.0.0.1 - - [22/Nov/2019 11:38:09] \"GET /_dash-component-suites/dash_html_components/dash_html_components.v1_0_1m1572872639.min.js HTTP/1.1\" 200 -\n",
      "127.0.0.1 - - [22/Nov/2019 11:38:09] \"GET /_dash-component-suites/dash_daq/bundle.v0_1_7m1564144129.js HTTP/1.1\" 200 -\n",
      "127.0.0.1 - - [22/Nov/2019 11:38:09] \"GET /_dash-component-suites/dash_core_components/highlight.v1_5_0m1573028952.pack.js HTTP/1.1\" 200 -\n",
      "127.0.0.1 - - [22/Nov/2019 11:38:09] \"GET /_dash-component-suites/dash_core_components/dash_core_components.v1_5_0m1573028952.min.js HTTP/1.1\" 200 -\n",
      "127.0.0.1 - - [22/Nov/2019 11:38:09] \"GET /_dash-component-suites/dash_bootstrap_components/_components/dash_bootstrap_components.v0_7_2m1573634533.min.js HTTP/1.1\" 200 -\n",
      "127.0.0.1 - - [22/Nov/2019 11:38:09] \"GET /_dash-component-suites/dash_renderer/dash_renderer.v1_2_0m1572872601.min.js HTTP/1.1\" 200 -\n",
      "127.0.0.1 - - [22/Nov/2019 11:38:09] \"GET /assets/dash_bootstrap_components.min.js?m=1573382556.0 HTTP/1.1\" 200 -\n",
      "127.0.0.1 - - [22/Nov/2019 11:38:10] \"GET /_dash-layout HTTP/1.1\" 200 -\n",
      "127.0.0.1 - - [22/Nov/2019 11:38:10] \"GET /_dash-dependencies HTTP/1.1\" 200 -\n",
      "127.0.0.1 - - [22/Nov/2019 11:38:10] \"GET /_favicon.ico?v=1.6.0 HTTP/1.1\" 200 -\n",
      "127.0.0.1 - - [22/Nov/2019 11:38:11] \"GET /_dash-component-suites/dash_core_components/async~dropdown.v1_5_0m1572898222.js HTTP/1.1\" 200 -\n",
      "127.0.0.1 - - [22/Nov/2019 11:38:12] \"GET /_dash-component-suites/dash_core_components/async~plotlyjs.v1_5_0m1572898222.js HTTP/1.1\" 200 -\n",
      "127.0.0.1 - - [22/Nov/2019 11:38:12] \"GET /_dash-component-suites/dash_core_components/async~graph.v1_5_0m1572898222.js HTTP/1.1\" 200 -\n",
      "127.0.0.1 - - [22/Nov/2019 11:38:15] \"GET /_dash-component-suites/dash_core_components/async~markdown.v1_5_0m1572898222.js HTTP/1.1\" 200 -\n",
      "127.0.0.1 - - [22/Nov/2019 11:38:15] \"GET /_dash-component-suites/dash_table/async~table.v4_5_0m1572365765.js HTTP/1.1\" 200 -\n",
      "127.0.0.1 - - [22/Nov/2019 11:38:16] \"POST /_dash-update-component HTTP/1.1\" 204 -\n",
      "127.0.0.1 - - [22/Nov/2019 11:38:16] \"POST /_dash-update-component HTTP/1.1\" 204 -\n",
      "127.0.0.1 - - [22/Nov/2019 11:38:16] \"POST /_dash-update-component HTTP/1.1\" 204 -\n",
      "127.0.0.1 - - [22/Nov/2019 11:38:16] \"POST /_dash-update-component HTTP/1.1\" 200 -\n",
      "127.0.0.1 - - [22/Nov/2019 11:38:16] \"POST /_dash-update-component HTTP/1.1\" 200 -\n",
      "127.0.0.1 - - [22/Nov/2019 11:38:16] \"POST /_dash-update-component HTTP/1.1\" 204 -\n",
      "127.0.0.1 - - [22/Nov/2019 11:38:16] \"POST /_dash-update-component HTTP/1.1\" 200 -\n",
      "127.0.0.1 - - [22/Nov/2019 11:38:16] \"POST /_dash-update-component HTTP/1.1\" 200 -\n",
      "127.0.0.1 - - [22/Nov/2019 11:38:17] \"POST /_dash-update-component HTTP/1.1\" 204 -\n",
      "127.0.0.1 - - [22/Nov/2019 11:38:17] \"POST /_dash-update-component HTTP/1.1\" 200 -\n",
      "127.0.0.1 - - [22/Nov/2019 11:38:17] \"POST /_dash-update-component HTTP/1.1\" 200 -\n",
      "127.0.0.1 - - [22/Nov/2019 11:38:17] \"POST /_dash-update-component HTTP/1.1\" 200 -\n",
      "127.0.0.1 - - [22/Nov/2019 11:38:17] \"POST /_dash-update-component HTTP/1.1\" 204 -\n",
      "127.0.0.1 - - [22/Nov/2019 11:38:17] \"POST /_dash-update-component HTTP/1.1\" 200 -\n",
      "127.0.0.1 - - [22/Nov/2019 11:38:19] \"POST /_dash-update-component HTTP/1.1\" 200 -\n",
      "127.0.0.1 - - [22/Nov/2019 11:38:19] \"POST /_dash-update-component HTTP/1.1\" 200 -\n",
      "127.0.0.1 - - [22/Nov/2019 11:38:19] \"POST /_dash-update-component HTTP/1.1\" 200 -\n",
      "127.0.0.1 - - [22/Nov/2019 11:38:25] \"POST /_dash-update-component HTTP/1.1\" 200 -\n",
      "127.0.0.1 - - [22/Nov/2019 11:38:25] \"POST /_dash-update-component HTTP/1.1\" 200 -\n",
      "127.0.0.1 - - [22/Nov/2019 11:38:25] \"POST /_dash-update-component HTTP/1.1\" 200 -\n",
      "127.0.0.1 - - [22/Nov/2019 11:38:26] \"POST /_dash-update-component HTTP/1.1\" 200 -\n",
      "127.0.0.1 - - [22/Nov/2019 11:38:58] \"POST /_dash-update-component HTTP/1.1\" 200 -\n",
      "127.0.0.1 - - [22/Nov/2019 11:38:58] \"POST /_dash-update-component HTTP/1.1\" 200 -\n",
      "127.0.0.1 - - [22/Nov/2019 11:38:59] \"POST /_dash-update-component HTTP/1.1\" 200 -\n",
      "127.0.0.1 - - [22/Nov/2019 11:39:00] \"POST /_dash-update-component HTTP/1.1\" 200 -\n",
      "127.0.0.1 - - [22/Nov/2019 11:39:05] \"POST /_dash-update-component HTTP/1.1\" 200 -\n",
      "127.0.0.1 - - [22/Nov/2019 11:39:05] \"POST /_dash-update-component HTTP/1.1\" 200 -\n",
      "127.0.0.1 - - [22/Nov/2019 11:39:06] \"POST /_dash-update-component HTTP/1.1\" 200 -\n",
      "127.0.0.1 - - [22/Nov/2019 11:39:07] \"POST /_dash-update-component HTTP/1.1\" 200 -\n",
      "127.0.0.1 - - [22/Nov/2019 11:39:09] \"POST /_dash-update-component HTTP/1.1\" 200 -\n",
      "127.0.0.1 - - [22/Nov/2019 11:39:09] \"POST /_dash-update-component HTTP/1.1\" 200 -\n",
      "127.0.0.1 - - [22/Nov/2019 11:39:10] \"POST /_dash-update-component HTTP/1.1\" 200 -\n",
      "127.0.0.1 - - [22/Nov/2019 11:39:11] \"POST /_dash-update-component HTTP/1.1\" 200 -\n",
      "127.0.0.1 - - [22/Nov/2019 11:39:17] \"POST /_dash-update-component HTTP/1.1\" 200 -\n",
      "127.0.0.1 - - [22/Nov/2019 11:39:21] \"POST /_dash-update-component HTTP/1.1\" 200 -\n",
      "127.0.0.1 - - [22/Nov/2019 11:39:22] \"POST /_dash-update-component HTTP/1.1\" 200 -\n",
      "127.0.0.1 - - [22/Nov/2019 11:39:22] \"POST /_dash-update-component HTTP/1.1\" 200 -\n",
      "127.0.0.1 - - [22/Nov/2019 11:39:22] \"POST /_dash-update-component HTTP/1.1\" 200 -\n"
     ]
    }
   ],
   "source": [
    "db = RandomForestDashboard(explainer,\n",
    "                        model_summary=True,\n",
    "                        contributions=True,\n",
    "                        shap_dependence=True,\n",
    "                        shap_interaction=False,\n",
    "                        shadow_trees=True)\n",
    "db.run(8051)"
   ]
  },
  {
   "cell_type": "markdown",
   "metadata": {
    "ExecuteTime": {
     "end_time": "2019-10-23T12:55:48.546580Z",
     "start_time": "2019-10-23T12:55:48.541576Z"
    }
   },
   "source": [
    "# XGBClassifier:"
   ]
  },
  {
   "cell_type": "code",
   "execution_count": 10,
   "metadata": {
    "ExecuteTime": {
     "end_time": "2019-11-22T10:41:38.586466Z",
     "start_time": "2019-11-22T10:40:24.110664Z"
    }
   },
   "outputs": [
    {
     "data": {
      "text/plain": [
       "XGBClassifier(base_score=0.5, booster='gbtree', colsample_bylevel=1,\n",
       "              colsample_bynode=1, colsample_bytree=1, gamma=0,\n",
       "              learning_rate=0.1, max_delta_step=0, max_depth=3,\n",
       "              min_child_weight=1, missing=None, n_estimators=100, n_jobs=1,\n",
       "              nthread=None, objective='binary:logistic', random_state=0,\n",
       "              reg_alpha=0, reg_lambda=1, scale_pos_weight=1, seed=None,\n",
       "              silent=None, subsample=1, verbosity=1)"
      ]
     },
     "execution_count": 10,
     "metadata": {},
     "output_type": "execute_result"
    },
    {
     "name": "stdout",
     "output_type": "stream",
     "text": [
      "Calculating shap values...\n",
      "Generating shap TreeExplainer...\n",
      "Calculating predictions...\n",
      "Calculating prediction probabilities...\n",
      "Calculating importances...\n",
      "Running Model Explainer on http://localhost:8052\n",
      " * Serving Flask app \"explainerdashboard.dashboards\" (lazy loading)\n",
      " * Environment: production\n",
      "   WARNING: Do not use the development server in a production environment.\n",
      "   Use a production WSGI server instead.\n",
      " * Debug mode: off\n"
     ]
    },
    {
     "name": "stderr",
     "output_type": "stream",
     "text": [
      " * Running on http://127.0.0.1:8052/ (Press CTRL+C to quit)\n",
      "127.0.0.1 - - [22/Nov/2019 11:40:28] \"GET / HTTP/1.1\" 200 -\n",
      "127.0.0.1 - - [22/Nov/2019 11:40:29] \"GET /_dash-dependencies HTTP/1.1\" 200 -\n",
      "127.0.0.1 - - [22/Nov/2019 11:40:29] \"GET /_dash-layout HTTP/1.1\" 200 -\n",
      "127.0.0.1 - - [22/Nov/2019 11:40:55] \"POST /_dash-update-component HTTP/1.1\" 204 -\n",
      "127.0.0.1 - - [22/Nov/2019 11:40:56] \"POST /_dash-update-component HTTP/1.1\" 200 -\n",
      "127.0.0.1 - - [22/Nov/2019 11:40:57] \"POST /_dash-update-component HTTP/1.1\" 200 -\n",
      "127.0.0.1 - - [22/Nov/2019 11:40:57] \"POST /_dash-update-component HTTP/1.1\" 200 -\n",
      "127.0.0.1 - - [22/Nov/2019 11:40:57] \"POST /_dash-update-component HTTP/1.1\" 204 -\n",
      "127.0.0.1 - - [22/Nov/2019 11:40:57] \"POST /_dash-update-component HTTP/1.1\" 200 -\n",
      "127.0.0.1 - - [22/Nov/2019 11:40:57] \"POST /_dash-update-component HTTP/1.1\" 200 -\n",
      "127.0.0.1 - - [22/Nov/2019 11:40:57] \"POST /_dash-update-component HTTP/1.1\" 200 -\n",
      "127.0.0.1 - - [22/Nov/2019 11:40:57] \"POST /_dash-update-component HTTP/1.1\" 204 -\n",
      "127.0.0.1 - - [22/Nov/2019 11:40:57] \"POST /_dash-update-component HTTP/1.1\" 200 -\n",
      "127.0.0.1 - - [22/Nov/2019 11:40:58] \"POST /_dash-update-component HTTP/1.1\" 200 -\n",
      "127.0.0.1 - - [22/Nov/2019 11:40:59] \"POST /_dash-update-component HTTP/1.1\" 200 -\n",
      "127.0.0.1 - - [22/Nov/2019 11:40:59] \"POST /_dash-update-component HTTP/1.1\" 200 -\n",
      "127.0.0.1 - - [22/Nov/2019 11:41:00] \"POST /_dash-update-component HTTP/1.1\" 200 -\n",
      "127.0.0.1 - - [22/Nov/2019 11:41:01] \"POST /_dash-update-component HTTP/1.1\" 200 -\n",
      "127.0.0.1 - - [22/Nov/2019 11:41:02] \"POST /_dash-update-component HTTP/1.1\" 200 -\n",
      "127.0.0.1 - - [22/Nov/2019 11:41:05] \"POST /_dash-update-component HTTP/1.1\" 200 -\n",
      "127.0.0.1 - - [22/Nov/2019 11:41:05] \"POST /_dash-update-component HTTP/1.1\" 200 -\n",
      "127.0.0.1 - - [22/Nov/2019 11:41:08] \"POST /_dash-update-component HTTP/1.1\" 200 -\n",
      "127.0.0.1 - - [22/Nov/2019 11:41:09] \"POST /_dash-update-component HTTP/1.1\" 200 -\n",
      "127.0.0.1 - - [22/Nov/2019 11:41:10] \"POST /_dash-update-component HTTP/1.1\" 200 -\n",
      "127.0.0.1 - - [22/Nov/2019 11:41:10] \"POST /_dash-update-component HTTP/1.1\" 200 -\n",
      "127.0.0.1 - - [22/Nov/2019 11:41:12] \"POST /_dash-update-component HTTP/1.1\" 200 -\n",
      "127.0.0.1 - - [22/Nov/2019 11:41:20] \"POST /_dash-update-component HTTP/1.1\" 200 -\n"
     ]
    }
   ],
   "source": [
    "X_train, y_train, X_test, y_test = titanic_survive()\n",
    "train_names, test_names = titanic_names()\n",
    "\n",
    "xgb_model = XGBClassifier()\n",
    "xgb_model.fit(X_train, y_train)\n",
    "\n",
    "explainer = TreeClassifierBunch(xgb_model, X_test, y_test, roc_auc_score, \n",
    "                                   cats=['Sex', 'Deck', 'Embarked'],\n",
    "                                   idxs=test_names, #names of passengers \n",
    "                                   labels=['Not survived', 'Survived'])\n",
    "\n",
    "db = ExplainerDashboard(explainer,\n",
    "                        model_summary=True,\n",
    "                        contributions=True,\n",
    "                        shap_dependence=True,\n",
    "                        shap_interaction=False)\n",
    "db.run(8052)"
   ]
  },
  {
   "cell_type": "code",
   "execution_count": null,
   "metadata": {
    "collapsed": true
   },
   "outputs": [],
   "source": []
  }
 ],
 "metadata": {
  "kernelspec": {
   "display_name": "Python 3",
   "language": "python",
   "name": "python3"
  },
  "language_info": {
   "codemirror_mode": {
    "name": "ipython",
    "version": 3
   },
   "file_extension": ".py",
   "mimetype": "text/x-python",
   "name": "python",
   "nbconvert_exporter": "python",
   "pygments_lexer": "ipython3",
   "version": "3.7.3"
  }
 },
 "nbformat": 4,
 "nbformat_minor": 2
}
