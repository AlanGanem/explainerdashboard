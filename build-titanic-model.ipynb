{
 "cells": [
  {
   "cell_type": "markdown",
   "metadata": {},
   "source": [
    "# Imports"
   ]
  },
  {
   "cell_type": "code",
   "execution_count": 6,
   "metadata": {
    "ExecuteTime": {
     "end_time": "2019-10-23T13:06:59.275041Z",
     "start_time": "2019-10-23T13:06:59.256041Z"
    }
   },
   "outputs": [
    {
     "name": "stdout",
     "output_type": "stream",
     "text": [
      "The autoreload extension is already loaded. To reload it, use:\n",
      "  %reload_ext autoreload\n"
     ]
    }
   ],
   "source": [
    "%load_ext autoreload\n",
    "%autoreload 0"
   ]
  },
  {
   "cell_type": "code",
   "execution_count": 7,
   "metadata": {
    "ExecuteTime": {
     "end_time": "2019-10-23T13:06:59.689082Z",
     "start_time": "2019-10-23T13:06:59.685066Z"
    }
   },
   "outputs": [],
   "source": [
    "from IPython.core.interactiveshell import InteractiveShell\n",
    "InteractiveShell.ast_node_interactivity = \"all\""
   ]
  },
  {
   "cell_type": "code",
   "execution_count": 19,
   "metadata": {
    "ExecuteTime": {
     "end_time": "2019-10-23T13:08:10.667093Z",
     "start_time": "2019-10-23T13:08:10.663088Z"
    }
   },
   "outputs": [],
   "source": [
    "import pandas as pd\n",
    "from sklearn.ensemble import RandomForestClassifier\n",
    "from sklearn.metrics import roc_auc_score"
   ]
  },
  {
   "cell_type": "code",
   "execution_count": 12,
   "metadata": {
    "ExecuteTime": {
     "end_time": "2019-10-23T13:07:13.065013Z",
     "start_time": "2019-10-23T13:07:13.060013Z"
    }
   },
   "outputs": [],
   "source": [
    "from explainerbunch.explainer import RandomForestBinaryClassifierExplainerBunch\n",
    "from explainerbunch.dashboard.dashboard import ExplainerDashboard"
   ]
  },
  {
   "cell_type": "markdown",
   "metadata": {},
   "source": [
    "# load data"
   ]
  },
  {
   "cell_type": "code",
   "execution_count": 13,
   "metadata": {
    "ExecuteTime": {
     "end_time": "2019-10-23T13:07:14.462261Z",
     "start_time": "2019-10-23T13:07:14.437107Z"
    }
   },
   "outputs": [],
   "source": [
    "d = pd.read_csv(\"titanic_data.csv\")"
   ]
  },
  {
   "cell_type": "code",
   "execution_count": 14,
   "metadata": {
    "ExecuteTime": {
     "end_time": "2019-10-23T13:07:15.385181Z",
     "start_time": "2019-10-23T13:07:15.348179Z"
    }
   },
   "outputs": [
    {
     "data": {
      "text/plain": [
       "(891, 24)"
      ]
     },
     "execution_count": 14,
     "metadata": {},
     "output_type": "execute_result"
    },
    {
     "data": {
      "text/html": [
       "<div>\n",
       "<style scoped>\n",
       "    .dataframe tbody tr th:only-of-type {\n",
       "        vertical-align: middle;\n",
       "    }\n",
       "\n",
       "    .dataframe tbody tr th {\n",
       "        vertical-align: top;\n",
       "    }\n",
       "\n",
       "    .dataframe thead th {\n",
       "        text-align: right;\n",
       "    }\n",
       "</style>\n",
       "<table border=\"1\" class=\"dataframe\">\n",
       "  <thead>\n",
       "    <tr style=\"text-align: right;\">\n",
       "      <th></th>\n",
       "      <th>0</th>\n",
       "      <th>1</th>\n",
       "      <th>2</th>\n",
       "      <th>3</th>\n",
       "      <th>4</th>\n",
       "    </tr>\n",
       "  </thead>\n",
       "  <tbody>\n",
       "    <tr>\n",
       "      <th>Survived</th>\n",
       "      <td>0</td>\n",
       "      <td>1</td>\n",
       "      <td>1</td>\n",
       "      <td>1</td>\n",
       "      <td>0</td>\n",
       "    </tr>\n",
       "    <tr>\n",
       "      <th>Fare</th>\n",
       "      <td>7.25</td>\n",
       "      <td>71.2833</td>\n",
       "      <td>7.925</td>\n",
       "      <td>53.1</td>\n",
       "      <td>8.05</td>\n",
       "    </tr>\n",
       "    <tr>\n",
       "      <th>Familysize</th>\n",
       "      <td>1</td>\n",
       "      <td>1</td>\n",
       "      <td>0</td>\n",
       "      <td>1</td>\n",
       "      <td>0</td>\n",
       "    </tr>\n",
       "    <tr>\n",
       "      <th>Age</th>\n",
       "      <td>22</td>\n",
       "      <td>38</td>\n",
       "      <td>26</td>\n",
       "      <td>35</td>\n",
       "      <td>35</td>\n",
       "    </tr>\n",
       "    <tr>\n",
       "      <th>Pclass</th>\n",
       "      <td>3</td>\n",
       "      <td>1</td>\n",
       "      <td>3</td>\n",
       "      <td>1</td>\n",
       "      <td>3</td>\n",
       "    </tr>\n",
       "    <tr>\n",
       "      <th>SibSp</th>\n",
       "      <td>1</td>\n",
       "      <td>1</td>\n",
       "      <td>0</td>\n",
       "      <td>1</td>\n",
       "      <td>0</td>\n",
       "    </tr>\n",
       "    <tr>\n",
       "      <th>Parch</th>\n",
       "      <td>0</td>\n",
       "      <td>0</td>\n",
       "      <td>0</td>\n",
       "      <td>0</td>\n",
       "      <td>0</td>\n",
       "    </tr>\n",
       "    <tr>\n",
       "      <th>Sex_female</th>\n",
       "      <td>0</td>\n",
       "      <td>1</td>\n",
       "      <td>1</td>\n",
       "      <td>1</td>\n",
       "      <td>0</td>\n",
       "    </tr>\n",
       "    <tr>\n",
       "      <th>Sex_male</th>\n",
       "      <td>1</td>\n",
       "      <td>0</td>\n",
       "      <td>0</td>\n",
       "      <td>0</td>\n",
       "      <td>1</td>\n",
       "    </tr>\n",
       "    <tr>\n",
       "      <th>Sex_nan</th>\n",
       "      <td>0</td>\n",
       "      <td>0</td>\n",
       "      <td>0</td>\n",
       "      <td>0</td>\n",
       "      <td>0</td>\n",
       "    </tr>\n",
       "    <tr>\n",
       "      <th>Cabin_A</th>\n",
       "      <td>0</td>\n",
       "      <td>0</td>\n",
       "      <td>0</td>\n",
       "      <td>0</td>\n",
       "      <td>0</td>\n",
       "    </tr>\n",
       "    <tr>\n",
       "      <th>Cabin_B</th>\n",
       "      <td>0</td>\n",
       "      <td>0</td>\n",
       "      <td>0</td>\n",
       "      <td>0</td>\n",
       "      <td>0</td>\n",
       "    </tr>\n",
       "    <tr>\n",
       "      <th>Cabin_C</th>\n",
       "      <td>0</td>\n",
       "      <td>1</td>\n",
       "      <td>0</td>\n",
       "      <td>1</td>\n",
       "      <td>0</td>\n",
       "    </tr>\n",
       "    <tr>\n",
       "      <th>Cabin_D</th>\n",
       "      <td>0</td>\n",
       "      <td>0</td>\n",
       "      <td>0</td>\n",
       "      <td>0</td>\n",
       "      <td>0</td>\n",
       "    </tr>\n",
       "    <tr>\n",
       "      <th>Cabin_E</th>\n",
       "      <td>0</td>\n",
       "      <td>0</td>\n",
       "      <td>0</td>\n",
       "      <td>0</td>\n",
       "      <td>0</td>\n",
       "    </tr>\n",
       "    <tr>\n",
       "      <th>Cabin_F</th>\n",
       "      <td>0</td>\n",
       "      <td>0</td>\n",
       "      <td>0</td>\n",
       "      <td>0</td>\n",
       "      <td>0</td>\n",
       "    </tr>\n",
       "    <tr>\n",
       "      <th>Cabin_G</th>\n",
       "      <td>0</td>\n",
       "      <td>0</td>\n",
       "      <td>0</td>\n",
       "      <td>0</td>\n",
       "      <td>0</td>\n",
       "    </tr>\n",
       "    <tr>\n",
       "      <th>Cabin_T</th>\n",
       "      <td>0</td>\n",
       "      <td>0</td>\n",
       "      <td>0</td>\n",
       "      <td>0</td>\n",
       "      <td>0</td>\n",
       "    </tr>\n",
       "    <tr>\n",
       "      <th>Cabin_nan</th>\n",
       "      <td>1</td>\n",
       "      <td>0</td>\n",
       "      <td>1</td>\n",
       "      <td>0</td>\n",
       "      <td>1</td>\n",
       "    </tr>\n",
       "    <tr>\n",
       "      <th>Embarked_C</th>\n",
       "      <td>0</td>\n",
       "      <td>1</td>\n",
       "      <td>0</td>\n",
       "      <td>0</td>\n",
       "      <td>0</td>\n",
       "    </tr>\n",
       "    <tr>\n",
       "      <th>Embarked_Q</th>\n",
       "      <td>0</td>\n",
       "      <td>0</td>\n",
       "      <td>0</td>\n",
       "      <td>0</td>\n",
       "      <td>0</td>\n",
       "    </tr>\n",
       "    <tr>\n",
       "      <th>Embarked_S</th>\n",
       "      <td>1</td>\n",
       "      <td>0</td>\n",
       "      <td>1</td>\n",
       "      <td>1</td>\n",
       "      <td>1</td>\n",
       "    </tr>\n",
       "    <tr>\n",
       "      <th>Embarked_nan</th>\n",
       "      <td>0</td>\n",
       "      <td>0</td>\n",
       "      <td>0</td>\n",
       "      <td>0</td>\n",
       "      <td>0</td>\n",
       "    </tr>\n",
       "    <tr>\n",
       "      <th>Name</th>\n",
       "      <td>Braund, Mr. Owen Harris</td>\n",
       "      <td>Cumings, Mrs. John Bradley (Florence Briggs Th...</td>\n",
       "      <td>Heikkinen, Miss. Laina</td>\n",
       "      <td>Futrelle, Mrs. Jacques Heath (Lily May Peel)</td>\n",
       "      <td>Allen, Mr. William Henry</td>\n",
       "    </tr>\n",
       "  </tbody>\n",
       "</table>\n",
       "</div>"
      ],
      "text/plain": [
       "                                    0  \\\n",
       "Survived                            0   \n",
       "Fare                             7.25   \n",
       "Familysize                          1   \n",
       "Age                                22   \n",
       "Pclass                              3   \n",
       "SibSp                               1   \n",
       "Parch                               0   \n",
       "Sex_female                          0   \n",
       "Sex_male                            1   \n",
       "Sex_nan                             0   \n",
       "Cabin_A                             0   \n",
       "Cabin_B                             0   \n",
       "Cabin_C                             0   \n",
       "Cabin_D                             0   \n",
       "Cabin_E                             0   \n",
       "Cabin_F                             0   \n",
       "Cabin_G                             0   \n",
       "Cabin_T                             0   \n",
       "Cabin_nan                           1   \n",
       "Embarked_C                          0   \n",
       "Embarked_Q                          0   \n",
       "Embarked_S                          1   \n",
       "Embarked_nan                        0   \n",
       "Name          Braund, Mr. Owen Harris   \n",
       "\n",
       "                                                              1  \\\n",
       "Survived                                                      1   \n",
       "Fare                                                    71.2833   \n",
       "Familysize                                                    1   \n",
       "Age                                                          38   \n",
       "Pclass                                                        1   \n",
       "SibSp                                                         1   \n",
       "Parch                                                         0   \n",
       "Sex_female                                                    1   \n",
       "Sex_male                                                      0   \n",
       "Sex_nan                                                       0   \n",
       "Cabin_A                                                       0   \n",
       "Cabin_B                                                       0   \n",
       "Cabin_C                                                       1   \n",
       "Cabin_D                                                       0   \n",
       "Cabin_E                                                       0   \n",
       "Cabin_F                                                       0   \n",
       "Cabin_G                                                       0   \n",
       "Cabin_T                                                       0   \n",
       "Cabin_nan                                                     0   \n",
       "Embarked_C                                                    1   \n",
       "Embarked_Q                                                    0   \n",
       "Embarked_S                                                    0   \n",
       "Embarked_nan                                                  0   \n",
       "Name          Cumings, Mrs. John Bradley (Florence Briggs Th...   \n",
       "\n",
       "                                   2  \\\n",
       "Survived                           1   \n",
       "Fare                           7.925   \n",
       "Familysize                         0   \n",
       "Age                               26   \n",
       "Pclass                             3   \n",
       "SibSp                              0   \n",
       "Parch                              0   \n",
       "Sex_female                         1   \n",
       "Sex_male                           0   \n",
       "Sex_nan                            0   \n",
       "Cabin_A                            0   \n",
       "Cabin_B                            0   \n",
       "Cabin_C                            0   \n",
       "Cabin_D                            0   \n",
       "Cabin_E                            0   \n",
       "Cabin_F                            0   \n",
       "Cabin_G                            0   \n",
       "Cabin_T                            0   \n",
       "Cabin_nan                          1   \n",
       "Embarked_C                         0   \n",
       "Embarked_Q                         0   \n",
       "Embarked_S                         1   \n",
       "Embarked_nan                       0   \n",
       "Name          Heikkinen, Miss. Laina   \n",
       "\n",
       "                                                         3  \\\n",
       "Survived                                                 1   \n",
       "Fare                                                  53.1   \n",
       "Familysize                                               1   \n",
       "Age                                                     35   \n",
       "Pclass                                                   1   \n",
       "SibSp                                                    1   \n",
       "Parch                                                    0   \n",
       "Sex_female                                               1   \n",
       "Sex_male                                                 0   \n",
       "Sex_nan                                                  0   \n",
       "Cabin_A                                                  0   \n",
       "Cabin_B                                                  0   \n",
       "Cabin_C                                                  1   \n",
       "Cabin_D                                                  0   \n",
       "Cabin_E                                                  0   \n",
       "Cabin_F                                                  0   \n",
       "Cabin_G                                                  0   \n",
       "Cabin_T                                                  0   \n",
       "Cabin_nan                                                0   \n",
       "Embarked_C                                               0   \n",
       "Embarked_Q                                               0   \n",
       "Embarked_S                                               1   \n",
       "Embarked_nan                                             0   \n",
       "Name          Futrelle, Mrs. Jacques Heath (Lily May Peel)   \n",
       "\n",
       "                                     4  \n",
       "Survived                             0  \n",
       "Fare                              8.05  \n",
       "Familysize                           0  \n",
       "Age                                 35  \n",
       "Pclass                               3  \n",
       "SibSp                                0  \n",
       "Parch                                0  \n",
       "Sex_female                           0  \n",
       "Sex_male                             1  \n",
       "Sex_nan                              0  \n",
       "Cabin_A                              0  \n",
       "Cabin_B                              0  \n",
       "Cabin_C                              0  \n",
       "Cabin_D                              0  \n",
       "Cabin_E                              0  \n",
       "Cabin_F                              0  \n",
       "Cabin_G                              0  \n",
       "Cabin_T                              0  \n",
       "Cabin_nan                            1  \n",
       "Embarked_C                           0  \n",
       "Embarked_Q                           0  \n",
       "Embarked_S                           1  \n",
       "Embarked_nan                         0  \n",
       "Name          Allen, Mr. William Henry  "
      ]
     },
     "execution_count": 14,
     "metadata": {},
     "output_type": "execute_result"
    }
   ],
   "source": [
    "d.shape\n",
    "d.head().T"
   ]
  },
  {
   "cell_type": "markdown",
   "metadata": {},
   "source": [
    "# Generate train and test set:"
   ]
  },
  {
   "cell_type": "code",
   "execution_count": 15,
   "metadata": {
    "ExecuteTime": {
     "end_time": "2019-10-23T13:07:18.249380Z",
     "start_time": "2019-10-23T13:07:18.228379Z"
    }
   },
   "outputs": [
    {
     "data": {
      "text/plain": [
       "((691, 22), (691,), (200, 22), (200,))"
      ]
     },
     "execution_count": 15,
     "metadata": {},
     "output_type": "execute_result"
    }
   ],
   "source": [
    "test_idxs = d.sample(200).index\n",
    "\n",
    "X_train = d.drop(['Survived', 'Name'], axis=1)[~d.index.isin(test_idxs)]\n",
    "y_train = d['Survived'][~d.index.isin(test_idxs)]\n",
    "X_test = d.drop(['Survived', 'Name'], axis=1)[d.index.isin(test_idxs)]\n",
    "y_test = d['Survived'][d.index.isin(test_idxs)]\n",
    "\n",
    "X_train.shape, y_train.shape, X_test.shape, y_test.shape"
   ]
  },
  {
   "cell_type": "markdown",
   "metadata": {},
   "source": [
    "# Save onehotencoded vars en names:"
   ]
  },
  {
   "cell_type": "code",
   "execution_count": 16,
   "metadata": {
    "ExecuteTime": {
     "end_time": "2019-10-23T13:07:19.836493Z",
     "start_time": "2019-10-23T13:07:19.828493Z"
    }
   },
   "outputs": [],
   "source": [
    "onehotencoded_vars = ['Sex', 'Cabin', 'Embarked']\n",
    "test_names = d['Name'][d.index.isin(test_idxs)]"
   ]
  },
  {
   "cell_type": "markdown",
   "metadata": {
    "ExecuteTime": {
     "end_time": "2019-10-23T12:55:48.546580Z",
     "start_time": "2019-10-23T12:55:48.541576Z"
    }
   },
   "source": [
    "# Fit Random Forest model:"
   ]
  },
  {
   "cell_type": "code",
   "execution_count": 17,
   "metadata": {
    "ExecuteTime": {
     "end_time": "2019-10-23T13:07:20.901570Z",
     "start_time": "2019-10-23T13:07:20.852565Z"
    }
   },
   "outputs": [
    {
     "data": {
      "text/plain": [
       "RandomForestClassifier(bootstrap=True, class_weight=None, criterion='gini',\n",
       "                       max_depth=None, max_features='auto', max_leaf_nodes=None,\n",
       "                       min_impurity_decrease=0.0, min_impurity_split=None,\n",
       "                       min_samples_leaf=1, min_samples_split=2,\n",
       "                       min_weight_fraction_leaf=0.0, n_estimators=10,\n",
       "                       n_jobs=None, oob_score=False, random_state=None,\n",
       "                       verbose=0, warm_start=False)"
      ]
     },
     "execution_count": 17,
     "metadata": {},
     "output_type": "execute_result"
    }
   ],
   "source": [
    "model = RandomForestClassifier()\n",
    "model.fit(X_train, y_train)"
   ]
  },
  {
   "cell_type": "markdown",
   "metadata": {},
   "source": [
    "# Build explainer object:"
   ]
  },
  {
   "cell_type": "code",
   "execution_count": 20,
   "metadata": {
    "ExecuteTime": {
     "end_time": "2019-10-23T13:08:16.554508Z",
     "start_time": "2019-10-23T13:08:16.548506Z"
    }
   },
   "outputs": [],
   "source": [
    "explainer = RandomForestBinaryClassifierExplainerBunch(model, X_test, y_test, roc_auc_score, \n",
    "                                                       idxs=test_names, \n",
    "                                                       cats=onehotencoded_vars,\n",
    "                                                       labels=['Not survived', 'Survived'])"
   ]
  },
  {
   "cell_type": "markdown",
   "metadata": {},
   "source": [
    "# Build dashboard object:"
   ]
  },
  {
   "cell_type": "code",
   "execution_count": 21,
   "metadata": {
    "ExecuteTime": {
     "end_time": "2019-10-23T13:08:18.700660Z",
     "start_time": "2019-10-23T13:08:18.499646Z"
    }
   },
   "outputs": [
    {
     "name": "stdout",
     "output_type": "stream",
     "text": [
      "Calculating shap values...\n",
      "Generating shap TreeExplainer...\n"
     ]
    }
   ],
   "source": [
    "db = ExplainerDashboard(explainer,\n",
    "                        include_model_summary=True,\n",
    "                        include_contributions=True,\n",
    "                        include_shap_dependence=True,\n",
    "                        include_shap_interaction=True,\n",
    "                        include_shadow_trees=True)"
   ]
  },
  {
   "cell_type": "markdown",
   "metadata": {},
   "source": [
    "# Run dashboard:"
   ]
  },
  {
   "cell_type": "code",
   "execution_count": 23,
   "metadata": {
    "ExecuteTime": {
     "end_time": "2019-10-23T13:13:39.271341Z",
     "start_time": "2019-10-23T13:09:02.259743Z"
    }
   },
   "outputs": [
    {
     "name": "stdout",
     "output_type": "stream",
     "text": [
      "Running Model Explainer on http://localhost:8052\n",
      " * Serving Flask app \"explainerbunch.dashboard.dashboard\" (lazy loading)\n",
      " * Environment: production\n",
      "   WARNING: Do not use the development server in a production environment.\n",
      "   Use a production WSGI server instead.\n",
      " * Debug mode: off\n"
     ]
    },
    {
     "name": "stderr",
     "output_type": "stream",
     "text": [
      " * Running on http://127.0.0.1:8052/ (Press CTRL+C to quit)\n",
      "127.0.0.1 - - [23/Oct/2019 15:09:04] \"GET / HTTP/1.1\" 200 -\n",
      "127.0.0.1 - - [23/Oct/2019 15:09:04] \"GET /assets/bootstrap.css?m=1570631369.3376923 HTTP/1.1\" 200 -\n",
      "127.0.0.1 - - [23/Oct/2019 15:09:04] \"GET /assets/stylesheet.css?m=1570631369.7917376 HTTP/1.1\" 200 -\n",
      "127.0.0.1 - - [23/Oct/2019 15:09:04] \"GET /_dash-component-suites/dash_renderer/react@16.8.6.min.js?v=1.0.0&m=1564145200 HTTP/1.1\" 200 -\n",
      "127.0.0.1 - - [23/Oct/2019 15:09:04] \"GET /_dash-component-suites/dash_renderer/react-dom@16.8.6.min.js?v=1.0.0&m=1564145200 HTTP/1.1\" 200 -\n",
      "127.0.0.1 - - [23/Oct/2019 15:09:04] \"GET /_dash-component-suites/dash_renderer/prop-types@15.7.2.min.js?v=1.0.0&m=1564145200 HTTP/1.1\" 200 -\n",
      "127.0.0.1 - - [23/Oct/2019 15:09:04] \"GET /_dash-component-suites/dash_table/bundle.js?v=4.0.2&m=1564145200 HTTP/1.1\" 200 -\n",
      "127.0.0.1 - - [23/Oct/2019 15:09:05] \"GET /_dash-component-suites/dash_core_components/highlight.pack.js?v=1.0.0&m=1564145200 HTTP/1.1\" 200 -\n",
      "127.0.0.1 - - [23/Oct/2019 15:09:05] \"GET /_dash-component-suites/dash_core_components/plotly-1.48.3.min.js?v=1.0.0&m=1564145200 HTTP/1.1\" 200 -\n",
      "127.0.0.1 - - [23/Oct/2019 15:09:05] \"GET /_dash-component-suites/dash_bootstrap_components/_components/dash_bootstrap_components.min.js?v=0.4.0&m=1555408131 HTTP/1.1\" 200 -\n",
      "127.0.0.1 - - [23/Oct/2019 15:09:05] \"GET /_dash-component-suites/dash_core_components/dash_core_components.min.js?v=1.0.0&m=1564145200 HTTP/1.1\" 200 -\n",
      "127.0.0.1 - - [23/Oct/2019 15:09:05] \"GET /_dash-component-suites/dash_html_components/dash_html_components.min.js?v=1.0.0&m=1564145200 HTTP/1.1\" 200 -\n",
      "127.0.0.1 - - [23/Oct/2019 15:09:05] \"GET /_dash-component-suites/dash_daq/bundle.js?v=0.1.7&m=1564144129 HTTP/1.1\" 200 -\n",
      "127.0.0.1 - - [23/Oct/2019 15:09:05] \"GET /assets/dash_bootstrap_components.min.js?m=1570631369.3716955 HTTP/1.1\" 200 -\n",
      "127.0.0.1 - - [23/Oct/2019 15:09:05] \"GET /_dash-component-suites/dash_renderer/dash_renderer.min.js?v=1.0.0&m=1564145200 HTTP/1.1\" 200 -\n",
      "127.0.0.1 - - [23/Oct/2019 15:09:06] \"GET /_dash-layout HTTP/1.1\" 200 -\n",
      "127.0.0.1 - - [23/Oct/2019 15:09:06] \"GET /_dash-dependencies HTTP/1.1\" 200 -\n",
      "127.0.0.1 - - [23/Oct/2019 15:09:06] \"GET /_favicon.ico?v=1.0.2 HTTP/1.1\" 200 -\n"
     ]
    },
    {
     "name": "stdout",
     "output_type": "stream",
     "text": [
      "Calculating prediction probabilities...\n"
     ]
    },
    {
     "name": "stderr",
     "output_type": "stream",
     "text": [
      "127.0.0.1 - - [23/Oct/2019 15:09:06] \"POST /_dash-update-component HTTP/1.1\" 200 -\n",
      "127.0.0.1 - - [23/Oct/2019 15:09:06] \"POST /_dash-update-component HTTP/1.1"
     ]
    },
    {
     "name": "stdout",
     "output_type": "stream",
     "text": [
      "Calculating shap interaction values..."
     ]
    },
    {
     "name": "stderr",
     "output_type": "stream",
     "text": [
      "\" 204 -\n"
     ]
    },
    {
     "name": "stdout",
     "output_type": "stream",
     "text": [
      "\n",
      "Generating shap TreeExplainer...\n"
     ]
    },
    {
     "name": "stderr",
     "output_type": "stream",
     "text": [
      "127.0.0.1 - - [23/Oct/2019 15:09:06] \"POST /_dash-update-component HTTP/1.1\" 204 -\n",
      "127.0.0.1 - - [23/Oct/2019 15:09:06] \"POST /_dash-update-component HTTP/1.1\" 200 -\n",
      "127.0.0.1 - - [23/Oct/2019 15:09:11] \"POST /_dash-update-component HTTP/1.1\" 204 -\n",
      "127.0.0.1 - - [23/Oct/2019 15:09:12] \"POST /_dash-update-component HTTP/1.1\" 200 -\n",
      "127.0.0.1 - - [23/Oct/2019 15:09:12] \"POST /_dash-update-component HTTP/1.1\" 204 -\n",
      "127.0.0.1 - - [23/Oct/2019 15:09:14] \"POST /_dash-update-component HTTP/1.1\" 200 -\n",
      "127.0.0.1 - - [23/Oct/2019 15:09:15] \"POST /_dash-update-component HTTP/1.1\" 200 -\n",
      "127.0.0.1 - - [23/Oct/2019 15:09:15] \"POST /_dash-update-component HTTP/1.1\" 200 -\n",
      "127.0.0.1 - - [23/Oct/2019 15:09:15] \"POST /_dash-update-component HTTP/1.1\" 200 -\n",
      "127.0.0.1 - - [23/Oct/2019 15:09:16] \"POST /_dash-update-component HTTP/1.1\" 200 -\n"
     ]
    },
    {
     "name": "stdout",
     "output_type": "stream",
     "text": [
      "Generating shap TreeExplainer...\n"
     ]
    },
    {
     "name": "stderr",
     "output_type": "stream",
     "text": [
      "127.0.0.1 - - [23/Oct/2019 15:09:17] \"POST /_dash-update-component HTTP/1.1\" 200 -\n",
      "127.0.0.1 - - [23/Oct/2019 15:09:17] \"POST /_dash-update-component HTTP/1.1\" 200 -\n",
      "127.0.0.1 - - [23/Oct/2019 15:09:18] \"POST /_dash-update-component HTTP/1.1\" 200 -\n",
      "127.0.0.1 - - [23/Oct/2019 15:09:24] \"POST /_dash-update-component HTTP/1.1\" 200 -\n",
      "127.0.0.1 - - [23/Oct/2019 15:09:24] \"POST /_dash-update-component HTTP/1.1\" 200 -\n",
      "127.0.0.1 - - [23/Oct/2019 15:09:24] \"POST /_dash-update-component HTTP/1.1\" 200 -\n",
      "127.0.0.1 - - [23/Oct/2019 15:09:24] \"POST /_dash-update-component HTTP/1.1\" 200 -\n",
      "127.0.0.1 - - [23/Oct/2019 15:09:34] \"POST /_dash-update-component HTTP/1.1\" 200 -\n",
      "127.0.0.1 - - [23/Oct/2019 15:09:38] \"POST /_dash-update-component HTTP/1.1\" 200 -\n",
      "127.0.0.1 - - [23/Oct/2019 15:09:45] \"POST /_dash-update-component HTTP/1.1\" 200 -\n",
      "127.0.0.1 - - [23/Oct/2019 15:09:50] \"POST /_dash-update-component HTTP/1.1\" 200 -\n",
      "127.0.0.1 - - [23/Oct/2019 15:09:50] \"POST /_dash-update-component HTTP/1.1\" 200 -\n",
      "127.0.0.1 - - [23/Oct/2019 15:10:12] \"POST /_dash-update-component HTTP/1.1\" 200 -\n",
      "127.0.0.1 - - [23/Oct/2019 15:10:12] \""
     ]
    },
    {
     "name": "stdout",
     "output_type": "stream",
     "text": [
      "<class 'pandas.core.series.Series'>"
     ]
    },
    {
     "name": "stderr",
     "output_type": "stream",
     "text": [
      "POST /_dash-update-component HTTP/1.1"
     ]
    },
    {
     "name": "stdout",
     "output_type": "stream",
     "text": [
      " "
     ]
    },
    {
     "name": "stderr",
     "output_type": "stream",
     "text": [
      "\" 200 -\n"
     ]
    },
    {
     "name": "stdout",
     "output_type": "stream",
     "text": [
      "200\n"
     ]
    },
    {
     "name": "stderr",
     "output_type": "stream",
     "text": [
      "127.0.0.1 - - [23/Oct/2019 15:10:12] \"POST /_dash-update-component HTTP/1.1"
     ]
    },
    {
     "name": "stdout",
     "output_type": "stream",
     "text": [
      "<class 'pandas.core.series.Series'>"
     ]
    },
    {
     "name": "stderr",
     "output_type": "stream",
     "text": [
      "\" 200 -\n"
     ]
    },
    {
     "name": "stdout",
     "output_type": "stream",
     "text": [
      " 200\n"
     ]
    },
    {
     "name": "stderr",
     "output_type": "stream",
     "text": [
      "127.0.0.1 - - [23/Oct/2019 15:10:12] \"POST /_dash-update-component HTTP/1.1\" 200 -\n",
      "127.0.0.1 - - [23/Oct/2019 15:10:20] \"POST /_dash-update-component HTTP/1.1\" 200 -\n",
      "127.0.0.1 - - [23/Oct/2019 15:10:21] \"POST /_dash-update-component HTTP/1.1\" 200 -\n",
      "127.0.0.1 - - [23/Oct/2019 15:10:22] \"POST /_dash-update-component HTTP/1.1\" 200 -\n",
      "127.0.0.1 - - [23/Oct/2019 15:10:23] \"POST /_dash-update-component HTTP/1.1\" 200 -\n",
      "127.0.0.1 - - [23/Oct/2019 15:10:23] \"POST /_dash-update-component HTTP/1.1\" 204 -\n",
      "127.0.0.1 - - [23/Oct/2019 15:10:23] \"POST /_dash-update-component HTTP/1.1\" 200 -\n",
      "127.0.0.1 - - [23/Oct/2019 15:10:31] \"POST /_dash-update-component HTTP/1.1\" 200 -\n",
      "127.0.0.1 - - [23/Oct/2019 15:10:31] \"POST /_dash-update-component HTTP/1.1\" 204 -\n",
      "127.0.0.1 - - [23/Oct/2019 15:10:31] \"POST /_dash-update-component HTTP/1.1\" 200 -\n",
      "127.0.0.1 - - [23/Oct/2019 15:10:36] \"POST /_dash-update-component HTTP/1.1\" 200 -\n",
      "127.0.0.1 - - [23/Oct/2019 15:10:36] \"POST /_dash-update-component HTTP/1.1\" 204 -\n",
      "127.0.0.1 - - [23/Oct/2019 15:10:36] \"POST /_dash-update-component HTTP/1.1\" 200 -\n"
     ]
    },
    {
     "name": "stdout",
     "output_type": "stream",
     "text": [
      "Generating shadow trees...\n"
     ]
    },
    {
     "name": "stderr",
     "output_type": "stream",
     "text": [
      "127.0.0.1 - - [23/Oct/2019 15:10:53] \"POST /_dash-update-component HTTP/1.1\" 200 -\n",
      "127.0.0.1 - - [23/Oct/2019 15:10:55] \"POST /_dash-update-component HTTP/1.1\" 200 -\n",
      "127.0.0.1 - - [23/Oct/2019 15:10:57] \"POST /_dash-update-component HTTP/1.1\" 200 -\n",
      "127.0.0.1 - - [23/Oct/2019 15:10:58] \"POST /_dash-update-component HTTP/1.1\" 200 -\n",
      "127.0.0.1 - - [23/Oct/2019 15:11:01] \"POST /_dash-update-component HTTP/1.1\" 200 -\n",
      "127.0.0.1 - - [23/Oct/2019 15:11:01] \"POST /_dash-update-component HTTP/1.1\" 200 -\n",
      "127.0.0.1 - - [23/Oct/2019 15:11:01] \"POST /_dash-update-component HTTP/1.1\" 200 -\n",
      "127.0.0.1 - - [23/Oct/2019 15:11:05] \"POST /_dash-update-component HTTP/1.1\" 200 -\n",
      "127.0.0.1 - - [23/Oct/2019 15:11:05] \"POST /_dash-update-component HTTP/1.1\" 200 -\n",
      "127.0.0.1 - - [23/Oct/2019 15:11:07] \"POST /_dash-update-component HTTP/1.1\" 200 -\n",
      "127.0.0.1 - - [23/Oct/2019 15:11:08] \"POST /_dash-update-component HTTP/1.1\" 200 -\n",
      "127.0.0.1 - - [23/Oct/2019 15:11:11] \"POST /_dash-update-component HTTP/1.1\" 200 -\n",
      "127.0.0.1 - - [23/Oct/2019 15:11:11] \"POST /_dash-update-component HTTP/1.1\" 200 -\n",
      "127.0.0.1 - - [23/Oct/2019 15:11:13] \"POST /_dash-update-component HTTP/1.1\" 200 -\n",
      "127.0.0.1 - - [23/Oct/2019 15:11:14] \"POST /_dash-update-component HTTP/1.1\" 200 -\n",
      "127.0.0.1 - - [23/Oct/2019 15:11:14] \"POST /_dash-update-component HTTP/1.1\" 200 -\n",
      "127.0.0.1 - - [23/Oct/2019 15:11:14] \"POST /_dash-update-component HTTP/1.1\" 200 -\n",
      "127.0.0.1 - - [23/Oct/2019 15:11:19] \"POST /_dash-update-component HTTP/1.1\" 200 -\n",
      "127.0.0.1 - - [23/Oct/2019 15:11:20] \"POST /_dash-update-component HTTP/1.1\" 200 -\n",
      "127.0.0.1 - - [23/Oct/2019 15:11:20] \"POST /_dash-update-component HTTP/1.1\" 200 -\n",
      "127.0.0.1 - - [23/Oct/2019 15:11:21] \"POST /_dash-update-component HTTP/1.1\" 200 -\n",
      "127.0.0.1 - - [23/Oct/2019 15:11:21] \"POST /_dash-update-component HTTP/1.1\" 200 -\n",
      "127.0.0.1 - - [23/Oct/2019 15:11:21] \"POST /_dash-update-component HTTP/1.1\" 200 -\n",
      "127.0.0.1 - - [23/Oct/2019 15:11:23] \"POST /_dash-update-component HTTP/1.1\" 200 -\n",
      "127.0.0.1 - - [23/Oct/2019 15:11:24] \"POST /_dash-update-component HTTP/1.1\" 200 -\n",
      "127.0.0.1 - - [23/Oct/2019 15:11:24] \"POST /_dash-update-component HTTP/1.1\" 200 -\n",
      "127.0.0.1 - - [23/Oct/2019 15:11:37] \"POST /_dash-update-component HTTP/1.1\" 200 -\n",
      "127.0.0.1 - - [23/Oct/2019 15:11:38] \"POST /_dash-update-component HTTP/1.1\" 200 -\n",
      "127.0.0.1 - - [23/Oct/2019 15:11:38] \"POST /_dash-update-component HTTP/1.1\" 200 -\n",
      "127.0.0.1 - - [23/Oct/2019 15:11:43] \"POST /_dash-update-component HTTP/1.1\" 200 -\n",
      "127.0.0.1 - - [23/Oct/2019 15:11:43] \"POST /_dash-update-component HTTP/1.1\" 200 -\n",
      "127.0.0.1 - - [23/Oct/2019 15:11:44] \"POST /_dash-update-component HTTP/1.1\" 200 -\n",
      "127.0.0.1 - - [23/Oct/2019 15:11:45] \"POST /_dash-update-component HTTP/1.1\" 200 -\n",
      "127.0.0.1 - - [23/Oct/2019 15:11:46] \"POST /_dash-update-component HTTP/1.1\" 200 -\n",
      "127.0.0.1 - - [23/Oct/2019 15:11:47] \"POST /_dash-update-component HTTP/1.1\" 200 -\n",
      "127.0.0.1 - - [23/Oct/2019 15:11:48] \"POST /_dash-update-component HTTP/1.1\" 200 -\n",
      "127.0.0.1 - - [23/Oct/2019 15:11:50] \"POST /_dash-update-component HTTP/1.1\" 200 -\n",
      "127.0.0.1 - - [23/Oct/2019 15:11:51] \"POST /_dash-update-component HTTP/1.1\" 200 -\n",
      "127.0.0.1 - - [23/Oct/2019 15:11:51] \"POST /_dash-update-component HTTP/1.1\" 200 -\n",
      "127.0.0.1 - - [23/Oct/2019 15:12:04] \"POST /_dash-update-component HTTP/1.1\" 200 -\n",
      "127.0.0.1 - - [23/Oct/2019 15:12:05] \"POST /_dash-update-component HTTP/1.1\" 200 -\n",
      "127.0.0.1 - - [23/Oct/2019 15:12:05] \"POST /_dash-update-component HTTP/1.1\" 200 -\n",
      "127.0.0.1 - - [23/Oct/2019 15:12:11] \"POST /_dash-update-component HTTP/1.1\" 200 -\n",
      "127.0.0.1 - - [23/Oct/2019 15:12:12] \"POST /_dash-update-component HTTP/1.1"
     ]
    },
    {
     "name": "stdout",
     "output_type": "stream",
     "text": [
      "<class 'pandas.core.series.Series'> "
     ]
    },
    {
     "name": "stderr",
     "output_type": "stream",
     "text": [
      "\" 200 -\n"
     ]
    },
    {
     "name": "stdout",
     "output_type": "stream",
     "text": [
      "200\n"
     ]
    },
    {
     "name": "stderr",
     "output_type": "stream",
     "text": [
      "127.0.0.1 - - [23/Oct/2019 15:12:12] \"POST /_dash-update-component HTTP/1.1\" 200 -\n"
     ]
    },
    {
     "name": "stdout",
     "output_type": "stream",
     "text": [
      "<class 'pandas.core.series.Series'> 200\n"
     ]
    },
    {
     "name": "stderr",
     "output_type": "stream",
     "text": [
      "127.0.0.1 - - [23/Oct/2019 15:12:12] \"POST /_dash-update-component HTTP/1.1\" 200 -\n",
      "127.0.0.1 - - [23/Oct/2019 15:12:14] \"POST /_dash-update-component HTTP/1.1\" 200 -\n",
      "127.0.0.1 - - [23/Oct/2019 15:12:18] \"POST /_dash-update-component HTTP/1.1\" 200 -\n"
     ]
    },
    {
     "name": "stdout",
     "output_type": "stream",
     "text": [
      "Calculating categorical shap interaction values...\n"
     ]
    },
    {
     "name": "stderr",
     "output_type": "stream",
     "text": [
      "127.0.0.1 - - [23/Oct/2019 15:12:18] \"POST /_dash-update-component HTTP/1.1\" 200 -\n",
      "[2019-10-23 15:12:18,712] ERROR in app: Exception on /_dash-update-component [POST]\n",
      "Traceback (most recent call last):\n",
      "  File \"Y:\\OD\\conda\\anaconda\\envs\\python3.7\\lib\\site-packages\\flask\\app.py\", line 2292, in wsgi_app\n",
      "    response = self.full_dispatch_request()\n",
      "  File \"Y:\\OD\\conda\\anaconda\\envs\\python3.7\\lib\\site-packages\\flask\\app.py\", line 1815, in full_dispatch_request\n",
      "    rv = self.handle_user_exception(e)\n",
      "  File \"Y:\\OD\\conda\\anaconda\\envs\\python3.7\\lib\\site-packages\\flask\\app.py\", line 1718, in handle_user_exception\n",
      "    reraise(exc_type, exc_value, tb)\n",
      "  File \"Y:\\OD\\conda\\anaconda\\envs\\python3.7\\lib\\site-packages\\flask\\_compat.py\", line 35, in reraise\n",
      "    raise value\n",
      "  File \"Y:\\OD\\conda\\anaconda\\envs\\python3.7\\lib\\site-packages\\flask\\app.py\", line 1813, in full_dispatch_request\n",
      "    rv = self.dispatch_request()\n",
      "  File \"Y:\\OD\\conda\\anaconda\\envs\\python3.7\\lib\\site-packages\\flask\\app.py\", line 1799, in dispatch_request\n",
      "    return self.view_functions[rule.endpoint](**req.view_args)\n",
      "  File \"Y:\\OD\\conda\\anaconda\\envs\\python3.7\\lib\\site-packages\\dash\\dash.py\", line 1287, in dispatch\n",
      "    response.set_data(self.callback_map[output]['callback'](*args))\n",
      "  File \"Y:\\OD\\conda\\anaconda\\envs\\python3.7\\lib\\site-packages\\dash\\dash.py\", line 1171, in add_context\n",
      "    output_value = func(*args, **kwargs)\n",
      "  File \"Y:\\OD\\projects\\explainerbunch\\explainerbunch\\dashboard\\shap_dependence_tab.py\", line 132, in update_dependence_graph\n",
      "    col, color_col, highlight_idx=idx, cats=cats)\n",
      "  File \"Y:\\OD\\projects\\explainerbunch\\explainerbunch\\explainer.py\", line 447, in plot_shap_dependence\n",
      "    highlight_idx=highlight_idx)\n",
      "  File \"Y:\\OD\\projects\\explainerbunch\\explainerbunch\\explainer_plots.py\", line 175, in plotly_dependence_plot\n",
      "    assert col_name in X.columns.tolist(), f'{col_name} not in X.columns'\n",
      "AssertionError: Sex_female not in X.columns\n",
      "127.0.0.1 - - [23/Oct/2019 15:12:18] \"POST /_dash-update-component HTTP/1.1\" 500 -\n"
     ]
    },
    {
     "name": "stdout",
     "output_type": "stream",
     "text": [
      "<class 'pandas.core.series.Series'> 200\n"
     ]
    },
    {
     "name": "stderr",
     "output_type": "stream",
     "text": [
      "127.0.0.1 - - [23/Oct/2019 15:12:19] \"POST /_dash-update-component HTTP/1.1\" 200 -\n",
      "127.0.0.1 - - [23/Oct/2019 15:12:22] \"POST /_dash-update-component HTTP/1.1\" 200 -\n",
      "127.0.0.1 - - [23/Oct/2019 15:12:22] \"POST /_dash-update-component HTTP/1.1\" 200 -\n"
     ]
    },
    {
     "name": "stdout",
     "output_type": "stream",
     "text": [
      "<class 'pandas.core.series.Series'> 200\n"
     ]
    },
    {
     "name": "stderr",
     "output_type": "stream",
     "text": [
      "127.0.0.1 - - [23/Oct/2019 15:12:23] \"POST /_dash-update-component HTTP/1.1\" 200 -\n"
     ]
    },
    {
     "name": "stdout",
     "output_type": "stream",
     "text": [
      "<class 'pandas.core.series.Series'> 200\n"
     ]
    },
    {
     "name": "stderr",
     "output_type": "stream",
     "text": [
      "127.0.0.1 - - [23/Oct/2019 15:12:23] \"POST /_dash-update-component HTTP/1.1\" 200 -\n",
      "127.0.0.1 - - [23/Oct/2019 15:12:57] \"POST /_dash-update-component HTTP/1.1\" 200 -\n",
      "127.0.0.1 - - [23/Oct/2019 15:13:01] \"POST /_dash-update-component HTTP/1.1\" 200 -\n"
     ]
    },
    {
     "name": "stdout",
     "output_type": "stream",
     "text": [
      "<class 'pandas.core.series.Series'><class 'pandas.core.series.Series'> 200 \n",
      "200\n"
     ]
    },
    {
     "name": "stderr",
     "output_type": "stream",
     "text": [
      "127.0.0.1 - - [23/Oct/2019 15:13:02] \"POST /_dash-update-component HTTP/1.1\" 200 -\n",
      "127.0.0.1 - - [23/Oct/2019 15:13:02] \"POST /_dash-update-component HTTP/1.1\" 200 -\n",
      "127.0.0.1 - - [23/Oct/2019 15:13:17] \"POST /_dash-update-component HTTP/1.1\" 200 -\n"
     ]
    },
    {
     "name": "stdout",
     "output_type": "stream",
     "text": [
      "<class 'pandas.core.series.Series'> 200<class 'pandas.core.series.Series'>\n",
      " 200\n"
     ]
    },
    {
     "name": "stderr",
     "output_type": "stream",
     "text": [
      "127.0.0.1 - - [23/Oct/2019 15:13:18] \"POST /_dash-update-component HTTP/1.1\" 200 -\n",
      "127.0.0.1 - - [23/Oct/2019 15:13:18] \"POST /_dash-update-component HTTP/1.1\" 200 -\n",
      "127.0.0.1 - - [23/Oct/2019 15:13:20] \"POST /_dash-update-component HTTP/1.1\" 200 -\n"
     ]
    },
    {
     "name": "stdout",
     "output_type": "stream",
     "text": [
      "<class 'pandas.core.series.Series'> 200<class 'pandas.core.series.Series'>\n",
      " 200\n"
     ]
    },
    {
     "name": "stderr",
     "output_type": "stream",
     "text": [
      "127.0.0.1 - - [23/Oct/2019 15:13:21] \"POST /_dash-update-component HTTP/1.1\" 200 -\n",
      "127.0.0.1 - - [23/Oct/2019 15:13:21] \"POST /_dash-update-component HTTP/1.1\" 200 -\n",
      "127.0.0.1 - - [23/Oct/2019 15:13:25] \"POST /_dash-update-component HTTP/1.1\" 200 -\n"
     ]
    },
    {
     "name": "stdout",
     "output_type": "stream",
     "text": [
      "<class 'pandas.core.series.Series'><class 'pandas.core.series.Series'> 200 \n",
      "200\n"
     ]
    },
    {
     "name": "stderr",
     "output_type": "stream",
     "text": [
      "127.0.0.1 - - [23/Oct/2019 15:13:26] \"POST /_dash-update-component HTTP/1.1\" 200 -\n",
      "127.0.0.1 - - [23/Oct/2019 15:13:26] \"POST /_dash-update-component HTTP/1.1\" 200 -\n"
     ]
    }
   ],
   "source": [
    "db.run(8052)"
   ]
  },
  {
   "cell_type": "code",
   "execution_count": null,
   "metadata": {},
   "outputs": [],
   "source": []
  }
 ],
 "metadata": {
  "kernelspec": {
   "display_name": "Python 3",
   "language": "python",
   "name": "python3"
  }
 },
 "nbformat": 4,
 "nbformat_minor": 2
}
